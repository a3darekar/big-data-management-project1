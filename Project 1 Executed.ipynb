{
 "cells": [
  {
   "cell_type": "markdown",
   "metadata": {
    "application/vnd.databricks.v1+cell": {
     "inputWidgets": {},
     "nuid": "e7a1c0b6-7832-4d9f-8b38-b4efcdf6f9c8",
     "showTitle": false,
     "title": ""
    }
   },
   "source": [
    "### Fetching The 7z archive\n",
    "\n",
    "**Skip this Section if you already have performed the extraction process and jump to checkpoint for pulling data from split json files.**"
   ]
  },
  {
   "cell_type": "code",
   "execution_count": 0,
   "metadata": {
    "application/vnd.databricks.v1+cell": {
     "inputWidgets": {},
     "nuid": "209e2881-3ee4-42bd-a7f9-5770d551f82a",
     "showTitle": false,
     "title": ""
    }
   },
   "outputs": [],
   "source": [
    "# Checking if archive is downloaded in memory.\n",
    "try:\n",
    "    dbutils.fs.ls(\"file:/databricks/driver/dblp.v13.7z\")\n",
    "    print(\"Archive in filesystem (file:/databricks/driver/dblp.v13.7z)\")\n",
    "except:\n",
    "    # If archive is not in memory, Checking databricks store for cached version and pulling into memory.\n",
    "    try:\n",
    "        dbutils.fs.ls(\"dbfs:/FileStore/data/dblp.v13.7z\")\n",
    "        print(\"Archive located in FileStore. Copying into local store..\")\n",
    "        dbutils.fs.cp(\"dbfs:/FileStore/data/dblp.v13.7z\", \"file:/databricks/driver/dblp.v13.7z\")\n",
    "        print(\"Completed\")\n",
    "    except:\n",
    "        # If archive is not cached, downloading and storing in databricks store.\n",
    "        print(\"7z archive not found. Fetching from URL...\")\n",
    "        !wget https://originalstatic.aminer.cn/misc/dblp.v13.7z\n",
    "        print(\"7z archive Downloaded. Moving archive to FileStore..\")\n",
    "        dbutils.fs.mkdirs(\"dbfs:/FileStore/data\")\n",
    "        dbutils.fs.cp(\"file:/databricks/driver/dblp.v13.7z\", \"dbfs:/FileStore/data/dblp.v13.7z\")\n",
    "        print(\"Completed.\")"
   ]
  },
  {
   "cell_type": "code",
   "execution_count": 0,
   "metadata": {
    "application/vnd.databricks.v1+cell": {
     "inputWidgets": {},
     "nuid": "8651e6a8-f236-486a-87bb-4d97b0fdb151",
     "showTitle": false,
     "title": ""
    }
   },
   "outputs": [],
   "source": [
    "# The returned array should have one object of FileInfo with size =2568255035\n",
    "\n",
    "dbutils.fs.ls(\"file:/databricks/driver/dblp.v13.7z\")"
   ]
  },
  {
   "cell_type": "markdown",
   "metadata": {
    "application/vnd.databricks.v1+cell": {
     "inputWidgets": {},
     "nuid": "f06f2189-223f-4267-9d22-ae64722c6fc6",
     "showTitle": false,
     "title": ""
    }
   },
   "source": [
    "### Extracting Archive into json\n",
    "\n",
    "#### 1. Extracting 7zip file into 16 GB json."
   ]
  },
  {
   "cell_type": "code",
   "execution_count": 0,
   "metadata": {
    "application/vnd.databricks.v1+cell": {
     "inputWidgets": {},
     "nuid": "ad2f9d88-78a5-40de-8ef6-6bb19c52ecd0",
     "showTitle": false,
     "title": ""
    },
    "id": "6rihFnHHC36O"
   },
   "outputs": [],
   "source": [
    "!pip install py7zr -q"
   ]
  },
  {
   "cell_type": "code",
   "execution_count": 0,
   "metadata": {
    "application/vnd.databricks.v1+cell": {
     "inputWidgets": {},
     "nuid": "5ac74aa7-da2a-40af-918a-f6e5e3b7a545",
     "showTitle": false,
     "title": ""
    },
    "id": "xaE3ZCOyyQd6"
   },
   "outputs": [],
   "source": [
    "import py7zr\n",
    "\n",
    "archive = py7zr.SevenZipFile('dblp.v13.7z', mode='r')\n",
    "archive.extractall()\n",
    "archive.close()"
   ]
  },
  {
   "cell_type": "code",
   "execution_count": 0,
   "metadata": {
    "application/vnd.databricks.v1+cell": {
     "inputWidgets": {},
     "nuid": "db87c2a2-2100-4620-b777-6c0ef4418461",
     "showTitle": false,
     "title": ""
    },
    "id": "6O-F875qxq7o"
   },
   "outputs": [],
   "source": [
    "dbutils.fs.ls(\"file:/databricks/driver/dblpv13.json\")"
   ]
  },
  {
   "cell_type": "markdown",
   "metadata": {
    "application/vnd.databricks.v1+cell": {
     "inputWidgets": {},
     "nuid": "e806a652-8fcb-4de7-a022-8c05edaeab37",
     "showTitle": false,
     "title": ""
    }
   },
   "source": [
    "#### 2. Cleaning NumberInt(#) tags\n",
    "\n",
    "The json data contains non-confirming tags, and so cannot be parsed as it is. We will read each line and substitute the tag. (This should take about 25 minutes)"
   ]
  },
  {
   "cell_type": "code",
   "execution_count": 0,
   "metadata": {
    "application/vnd.databricks.v1+cell": {
     "inputWidgets": {},
     "nuid": "e278afc1-eae9-49a1-86f0-1a791561cfa2",
     "showTitle": false,
     "title": ""
    },
    "id": "Wud9Kr2_bd4A"
   },
   "outputs": [],
   "source": [
    "import re\n",
    "\n",
    "# Cleaning the `NumberInt` tag\n",
    "fin = open(f\"dblpv13.json\")\n",
    "fout = open(f\"dblpv13_clean.json\", \"wt\")\n",
    "for line in fin:\n",
    "    fout.write(re.sub(r\"NumberInt\\([\\d]*\\)\", lambda x: \"\".join(re.findall(r\"\\d\", x.group(0))), line))\n",
    "fin.close()\n",
    "fout.close()"
   ]
  },
  {
   "cell_type": "markdown",
   "metadata": {
    "application/vnd.databricks.v1+cell": {
     "inputWidgets": {},
     "nuid": "60c2947a-fc81-404c-be15-fe9d8cd0d002",
     "showTitle": false,
     "title": ""
    }
   },
   "source": [
    "#### 3. Partitioning Dataset into JSON files\n",
    "Since the whopping 16 GB of json data cannot be loaded into memory directly, we need to partition the data into smaller chunks (300k objects per chunk) for processing.  \n",
    "We also parse data encoded as Decimal data with DecimalEncoder."
   ]
  },
  {
   "cell_type": "code",
   "execution_count": 0,
   "metadata": {
    "application/vnd.databricks.v1+cell": {
     "inputWidgets": {},
     "nuid": "2e5bafdf-1fa6-4e11-92b6-63fc4cfd23df",
     "showTitle": false,
     "title": ""
    },
    "id": "PqBCNju720aq"
   },
   "outputs": [],
   "source": [
    "%mkdir data"
   ]
  },
  {
   "cell_type": "code",
   "execution_count": 0,
   "metadata": {
    "application/vnd.databricks.v1+cell": {
     "inputWidgets": {},
     "nuid": "a33aec68-5fbe-4029-8d0e-defb4b409a42",
     "showTitle": false,
     "title": ""
    },
    "id": "uiAqyHl-TGfI"
   },
   "outputs": [],
   "source": [
    "import ijson\n",
    "import json\n",
    "import decimal\n",
    "\n",
    "class DecimalEncoder(json.JSONEncoder):\n",
    "    def default(self, o):\n",
    "        if isinstance(o, decimal.Decimal):\n",
    "            return str(o)\n",
    "        return super(DecimalEncoder, self).default(o)\n",
    "\n",
    "data_dir = 'data/'\n",
    "with open('dblpv13_clean.json', 'r') as f:\n",
    "    counter, file_id = 0, 0\n",
    "    file_buffer = []\n",
    "    for obj_data in ijson.items(f, 'item'):\n",
    "        file_buffer.append(obj_data)\n",
    "        counter += 1\n",
    "        if counter % 300000 == 0:\n",
    "            print(f\" Saving, data_PART_{file_id}.json in {data_dir}\")\n",
    "            f = open(f'{data_dir}data_PART_{file_id}.json', 'w')\n",
    "            dump = json.dumps(file_buffer, cls=DecimalEncoder)\n",
    "            f.write(dump)\n",
    "            f.close()\n",
    "            file_id += 1\n",
    "            file_buffer = []\n",
    "f = open(f'{data_dir}data_PART_{file_id}.json', 'w')\n",
    "dump = json.dumps(file_buffer, cls=DecimalEncoder)\n",
    "print(f\" Saving, data_PART_{file_id}.json in {data_dir}\")\n",
    "f.write(dump)\n",
    "f.close()\n",
    "file_id += 1\n",
    "file_buffer = []"
   ]
  },
  {
   "cell_type": "markdown",
   "metadata": {
    "application/vnd.databricks.v1+cell": {
     "inputWidgets": {},
     "nuid": "38b56dde-5178-4dd3-931f-d6955577b8ea",
     "showTitle": false,
     "title": ""
    }
   },
   "source": [
    "#### 4. Moving files to dbfs FileStore from instance storage, to make it available for later."
   ]
  },
  {
   "cell_type": "code",
   "execution_count": 0,
   "metadata": {
    "application/vnd.databricks.v1+cell": {
     "inputWidgets": {},
     "nuid": "7857b3ee-940d-4f3b-ae81-35268e1a7178",
     "showTitle": false,
     "title": ""
    }
   },
   "outputs": [],
   "source": [
    "# removing old json stored in filestore.\n",
    "dbutils.fs.rm(\"dbfs:/FileStore/data/split_data/\", recurse = True)\n",
    "# Creating dir to store json in filestore..\n",
    "dbutils.fs.mkdirs(\"dbfs:/FileStore/data/split_data\")\n",
    "# confirming dir is empty\n",
    "dbutils.fs.ls(\"dbfs:/FileStore/data/split_data\")"
   ]
  },
  {
   "cell_type": "code",
   "execution_count": 0,
   "metadata": {
    "application/vnd.databricks.v1+cell": {
     "inputWidgets": {},
     "nuid": "6231b89d-9180-4597-888f-33f89b4469c6",
     "showTitle": false,
     "title": ""
    }
   },
   "outputs": [],
   "source": [
    "# Copying all json parts into filestore.\n",
    "dbutils.fs.cp(\"file:/databricks/driver/data/\", \"dbfs:/FileStore/data/split_data\", recurse = True)"
   ]
  },
  {
   "cell_type": "markdown",
   "metadata": {
    "application/vnd.databricks.v1+cell": {
     "inputWidgets": {},
     "nuid": "4a08e500-0a30-4c03-a776-58f12706a511",
     "showTitle": false,
     "title": ""
    }
   },
   "source": [
    "### Transform\n",
    "\n",
    "#### Reading data from databricks Filestore into dataframes (Checkpoint after data load)"
   ]
  },
  {
   "cell_type": "code",
   "execution_count": 0,
   "metadata": {
    "application/vnd.databricks.v1+cell": {
     "inputWidgets": {},
     "nuid": "d4483af4-3011-4b5b-bc35-6bea560fdba0",
     "showTitle": false,
     "title": ""
    }
   },
   "outputs": [],
   "source": [
    "from functools import reduce\n",
    "import pyspark.sql.functions as F\n",
    "from pyspark.sql.types import StructType, ArrayType, StringType, LongType, StructField, IntegerType\n",
    "from pyspark.sql.functions import udf\n",
    "\n",
    "path = \"dbfs:/FileStore/data/split_data/\"\n",
    "parquet_dir = \"/tmp/out\"\n",
    "\n",
    "# There should be 18 files each with 300 k records. This would change if you change split value.\n",
    "file_count = len(dbutils.fs.ls(path))\n",
    "assert file_count == 18, \"Data not found. You may want to check the path or run the notebook from start again. If you updated the split value, ignore this assertion error\""
   ]
  },
  {
   "cell_type": "code",
   "execution_count": 0,
   "metadata": {
    "application/vnd.databricks.v1+cell": {
     "inputWidgets": {},
     "nuid": "0f774643-8974-4f92-953a-9e735689d61d",
     "showTitle": false,
     "title": ""
    }
   },
   "outputs": [
    {
     "data": {
      "text/plain": [
       "root\n",
       " |-- _id: string (nullable = true)\n",
       " |-- abstract: string (nullable = true)\n",
       " |-- authors: array (nullable = true)\n",
       " |    |-- element: struct (containsNull = true)\n",
       " |    |    |-- _id: string (nullable = true)\n",
       " |    |    |-- bio: string (nullable = true)\n",
       " |    |    |-- email: string (nullable = true)\n",
       " |    |    |-- gid: string (nullable = true)\n",
       " |    |    |-- name: string (nullable = true)\n",
       " |    |    |-- name_zh: string (nullable = true)\n",
       " |    |    |-- oid: string (nullable = true)\n",
       " |    |    |-- oid_zh: string (nullable = true)\n",
       " |    |    |-- orcid: string (nullable = true)\n",
       " |    |    |-- org: string (nullable = true)\n",
       " |    |    |-- org_zh: string (nullable = true)\n",
       " |    |    |-- orgid: string (nullable = true)\n",
       " |    |    |-- orgs: array (nullable = true)\n",
       " |    |    |    |-- element: string (containsNull = true)\n",
       " |    |    |-- orgs_zh: array (nullable = true)\n",
       " |    |    |    |-- element: string (containsNull = true)\n",
       " |    |    |-- sid: string (nullable = true)\n",
       " |    |    |-- position: string (nullable = true)\n",
       " |    |    |-- avatar: string (nullable = true)\n",
       " |    |    |-- homepage: string (nullable = true)\n",
       " |-- doi: string (nullable = true)\n",
       " |-- fos: array (nullable = true)\n",
       " |    |-- element: string (containsNull = true)\n",
       " |-- isbn: string (nullable = true)\n",
       " |-- issn: string (nullable = true)\n",
       " |-- issue: string (nullable = true)\n",
       " |-- keywords: array (nullable = true)\n",
       " |    |-- element: string (containsNull = true)\n",
       " |-- lang: string (nullable = true)\n",
       " |-- n_citation: string (nullable = true)\n",
       " |-- page_end: string (nullable = true)\n",
       " |-- page_start: string (nullable = true)\n",
       " |-- pdf: string (nullable = true)\n",
       " |-- references: array (nullable = true)\n",
       " |    |-- element: string (containsNull = true)\n",
       " |-- title: string (nullable = true)\n",
       " |-- url: array (nullable = true)\n",
       " |    |-- element: string (containsNull = true)\n",
       " |-- venue: struct (nullable = true)\n",
       " |    |-- _id: string (nullable = true)\n",
       " |    |-- issn: string (nullable = true)\n",
       " |    |-- name: string (nullable = true)\n",
       " |    |-- name_d: string (nullable = true)\n",
       " |    |-- name_s: string (nullable = true)\n",
       " |    |-- online_issn: string (nullable = true)\n",
       " |    |-- publisher: string (nullable = true)\n",
       " |    |-- raw: string (nullable = true)\n",
       " |    |-- raw_zh: string (nullable = true)\n",
       " |    |-- sid: string (nullable = true)\n",
       " |    |-- src: string (nullable = true)\n",
       " |    |-- t: string (nullable = true)\n",
       " |    |-- type: long (nullable = true)\n",
       " |-- volume: string (nullable = true)\n",
       " |-- year: string (nullable = true)\n",
       "\n"
      ]
     },
     "metadata": {
      "application/vnd.databricks.v1+output": {
       "addedWidgets": {},
       "arguments": {},
       "data": "root\n |-- _id: string (nullable = true)\n |-- abstract: string (nullable = true)\n |-- authors: array (nullable = true)\n |    |-- element: struct (containsNull = true)\n |    |    |-- _id: string (nullable = true)\n |    |    |-- bio: string (nullable = true)\n |    |    |-- email: string (nullable = true)\n |    |    |-- gid: string (nullable = true)\n |    |    |-- name: string (nullable = true)\n |    |    |-- name_zh: string (nullable = true)\n |    |    |-- oid: string (nullable = true)\n |    |    |-- oid_zh: string (nullable = true)\n |    |    |-- orcid: string (nullable = true)\n |    |    |-- org: string (nullable = true)\n |    |    |-- org_zh: string (nullable = true)\n |    |    |-- orgid: string (nullable = true)\n |    |    |-- orgs: array (nullable = true)\n |    |    |    |-- element: string (containsNull = true)\n |    |    |-- orgs_zh: array (nullable = true)\n |    |    |    |-- element: string (containsNull = true)\n |    |    |-- sid: string (nullable = true)\n |    |    |-- position: string (nullable = true)\n |    |    |-- avatar: string (nullable = true)\n |    |    |-- homepage: string (nullable = true)\n |-- doi: string (nullable = true)\n |-- fos: array (nullable = true)\n |    |-- element: string (containsNull = true)\n |-- isbn: string (nullable = true)\n |-- issn: string (nullable = true)\n |-- issue: string (nullable = true)\n |-- keywords: array (nullable = true)\n |    |-- element: string (containsNull = true)\n |-- lang: string (nullable = true)\n |-- n_citation: string (nullable = true)\n |-- page_end: string (nullable = true)\n |-- page_start: string (nullable = true)\n |-- pdf: string (nullable = true)\n |-- references: array (nullable = true)\n |    |-- element: string (containsNull = true)\n |-- title: string (nullable = true)\n |-- url: array (nullable = true)\n |    |-- element: string (containsNull = true)\n |-- venue: struct (nullable = true)\n |    |-- _id: string (nullable = true)\n |    |-- issn: string (nullable = true)\n |    |-- name: string (nullable = true)\n |    |-- name_d: string (nullable = true)\n |    |-- name_s: string (nullable = true)\n |    |-- online_issn: string (nullable = true)\n |    |-- publisher: string (nullable = true)\n |    |-- raw: string (nullable = true)\n |    |-- raw_zh: string (nullable = true)\n |    |-- sid: string (nullable = true)\n |    |-- src: string (nullable = true)\n |    |-- t: string (nullable = true)\n |    |-- type: long (nullable = true)\n |-- volume: string (nullable = true)\n |-- year: string (nullable = true)\n\n",
       "datasetInfos": [],
       "metadata": {},
       "removedWidgets": [],
       "type": "ansi"
      }
     },
     "output_type": "display_data"
    }
   ],
   "source": [
    "# Build map of spark dataframes by reading json partition chunk files\n",
    "dataframes_map = map(lambda r: spark.read.option(\"inferSchema\", True).json(r), [f\"{path}data_PART_{num}.json\" for num in range(file_count)])\n",
    "# reduce the dataframes into single dataframe by performing union over the mapped frames.\n",
    "union = reduce(lambda df1, df2: df1.unionByName(df2, allowMissingColumns=True), dataframes_map)\n",
    "union = union.na.drop(subset=[\"authors\"])\n",
    "union = union.filter(union.lang == 'en')\n",
    "union.printSchema()"
   ]
  },
  {
   "cell_type": "code",
   "execution_count": 0,
   "metadata": {
    "application/vnd.databricks.v1+cell": {
     "inputWidgets": {},
     "nuid": "1de93512-60bb-4f58-bc94-f6fbbc254992",
     "showTitle": false,
     "title": ""
    }
   },
   "outputs": [
    {
     "data": {
      "text/plain": [
       "+--------------------+--------------------+--------------------+--------------------+--------------------+-------------+----+-----+--------------------+----+----------+---------+----------+--------------------+--------------------+--------------------+--------------------+--------------------+------+----+\n",
       "|                 _id|            abstract|             authors|                 doi|                 fos|         isbn|issn|issue|            keywords|lang|n_citation| page_end|page_start|                 pdf|          references|               title|                 url|               venue|volume|year|\n",
       "+--------------------+--------------------+--------------------+--------------------+--------------------+-------------+----+-----+--------------------+----+----------+---------+----------+--------------------+--------------------+--------------------+--------------------+--------------------+------+----+\n",
       "|53e99784b7602d970...|Drought is the fi...|[{53f45728dabfaec...|10.1109/IGARSS.20...|[Agronomy, Moistu...|             |    | null|[canopy parameter...|  en|         0|     1933|      1930|                null|                null|The relationship ...|[http://dx.doi.or...|{53a7297d20f7420b...|  null|2011|\n",
       "|53e99784b7602d970...|                    |[{53f46797dabfaeb...|10.1109/ICDAR.199...|[Intelligent char...|             |    |     |[handwriting reco...|  en|        17|      605|       602|                null|[53e99cf5b7602d97...|A solution to the...|[http://dx.doi.or...|{53a72a4920f7420b...|      |1993|\n",
       "|53e99784b7602d970...|As process variat...|[{53f43b03dabfaed...|10.1109/ISCAS.200...|[Delay calculatio...|0-7803-8834-8|    |     |[sequential circu...|  en|        28|2464Vol.3|      2461|//static.aminer.o...|[53e9a8a9b7602d97...|Timing yield esti...|[http://dx.doi.or...|{53a72e2020f7420b...|      |2005|\n",
       "|53e99784b7602d970...|                    |[{53f39e3edabfae4...|10.1109/NEMS.2009...|                null|         null|null|     |                  []|  en|         1|     1057|      1054|//static.aminer.o...|                null|International Con...|[http://doi.ieeec...|{53a72dfb20f7420b...|      |2009|\n",
       "|53e99784b7602d970...|The eXtensible Ma...|[{548a2e3ddabfae9...|10.1109/CMPSAC.20...|[XML Base, World ...|0-7695-1727-7|    |     |[Internet, hyperm...|  en|        28|      172|       167|                null|[53e9adbdb7602d97...|Using XML to Inte...|[http://dx.doi.or...|{53a72e9920f7420b...|      |2002|\n",
       "+--------------------+--------------------+--------------------+--------------------+--------------------+-------------+----+-----+--------------------+----+----------+---------+----------+--------------------+--------------------+--------------------+--------------------+--------------------+------+----+\n",
       "only showing top 5 rows\n",
       "\n"
      ]
     },
     "metadata": {
      "application/vnd.databricks.v1+output": {
       "addedWidgets": {},
       "arguments": {},
       "data": "+--------------------+--------------------+--------------------+--------------------+--------------------+-------------+----+-----+--------------------+----+----------+---------+----------+--------------------+--------------------+--------------------+--------------------+--------------------+------+----+\n|                 _id|            abstract|             authors|                 doi|                 fos|         isbn|issn|issue|            keywords|lang|n_citation| page_end|page_start|                 pdf|          references|               title|                 url|               venue|volume|year|\n+--------------------+--------------------+--------------------+--------------------+--------------------+-------------+----+-----+--------------------+----+----------+---------+----------+--------------------+--------------------+--------------------+--------------------+--------------------+------+----+\n|53e99784b7602d970...|Drought is the fi...|[{53f45728dabfaec...|10.1109/IGARSS.20...|[Agronomy, Moistu...|             |    | null|[canopy parameter...|  en|         0|     1933|      1930|                null|                null|The relationship ...|[http://dx.doi.or...|{53a7297d20f7420b...|  null|2011|\n|53e99784b7602d970...|                    |[{53f46797dabfaeb...|10.1109/ICDAR.199...|[Intelligent char...|             |    |     |[handwriting reco...|  en|        17|      605|       602|                null|[53e99cf5b7602d97...|A solution to the...|[http://dx.doi.or...|{53a72a4920f7420b...|      |1993|\n|53e99784b7602d970...|As process variat...|[{53f43b03dabfaed...|10.1109/ISCAS.200...|[Delay calculatio...|0-7803-8834-8|    |     |[sequential circu...|  en|        28|2464Vol.3|      2461|//static.aminer.o...|[53e9a8a9b7602d97...|Timing yield esti...|[http://dx.doi.or...|{53a72e2020f7420b...|      |2005|\n|53e99784b7602d970...|                    |[{53f39e3edabfae4...|10.1109/NEMS.2009...|                null|         null|null|     |                  []|  en|         1|     1057|      1054|//static.aminer.o...|                null|International Con...|[http://doi.ieeec...|{53a72dfb20f7420b...|      |2009|\n|53e99784b7602d970...|The eXtensible Ma...|[{548a2e3ddabfae9...|10.1109/CMPSAC.20...|[XML Base, World ...|0-7695-1727-7|    |     |[Internet, hyperm...|  en|        28|      172|       167|                null|[53e9adbdb7602d97...|Using XML to Inte...|[http://dx.doi.or...|{53a72e9920f7420b...|      |2002|\n+--------------------+--------------------+--------------------+--------------------+--------------------+-------------+----+-----+--------------------+----+----------+---------+----------+--------------------+--------------------+--------------------+--------------------+--------------------+------+----+\nonly showing top 5 rows\n\n",
       "datasetInfos": [],
       "metadata": {},
       "removedWidgets": [],
       "type": "ansi"
      }
     },
     "output_type": "display_data"
    }
   ],
   "source": [
    "# Deleting entries with small Titles (less than 3 words) and empty author list\n",
    "size_ = udf(lambda s: len(s.split()), IntegerType())\n",
    "\n",
    "union = union.na.drop(subset=[\"Title\", \"authors\"])\n",
    "union = union.filter(size_(F.col(\"Title\")) > 3)\n",
    "union.show(5)"
   ]
  },
  {
   "cell_type": "code",
   "execution_count": 0,
   "metadata": {
    "application/vnd.databricks.v1+cell": {
     "inputWidgets": {},
     "nuid": "eae675b0-6dc9-481a-9459-d2facb3d2a97",
     "showTitle": false,
     "title": ""
    }
   },
   "outputs": [],
   "source": [
    "def save_parquet_frame(frame, alias, clean = False):\n",
    "    # pull required Fields\n",
    "    parquet_path=f\"{parquet_dir}{alias}.parquet\"\n",
    "       \n",
    "    # Clean (delete dups, Fill NaN values?, ...)\n",
    "    if clean:\n",
    "        frame = frame.distinct()\n",
    "       \n",
    "    # Save parquet Frame\n",
    "    frame.write.mode('overwrite').parquet(parquet_path)\n",
    "    \n",
    "    # pull appeneded parquet file and return\n",
    "    # frame = spark.read.parquet(parquet_path)\n",
    "    return frame\n",
    "\n",
    "def distinct_frame_from_cols(frame, columns):\n",
    "    # get distinct records for col\n",
    "    print(*columns)\n",
    "    frame = frame.select(*columns).distinct()\n",
    "    frame = frame.select(\"*\").withColumn(\"id\", F.monotonically_increasing_id())\n",
    "    # return the indexed Table\n",
    "    return frame.select(\"id\", *columns)"
   ]
  },
  {
   "cell_type": "markdown",
   "metadata": {
    "application/vnd.databricks.v1+cell": {
     "inputWidgets": {},
     "nuid": "df6875e8-8fed-4efa-af2e-836ed3ba9b99",
     "showTitle": false,
     "title": ""
    }
   },
   "source": [
    "#### Publication Table\n",
    "\n",
    "- Counting number of citations.\n",
    "- Building new table for Title, abstract, volume, Number of citations, references and more.\n",
    "- Saving Table to parquet file"
   ]
  },
  {
   "cell_type": "code",
   "execution_count": 0,
   "metadata": {
    "application/vnd.databricks.v1+cell": {
     "inputWidgets": {},
     "nuid": "cf0c36be-cbb4-4aa1-933d-3c089635b185",
     "showTitle": false,
     "title": ""
    }
   },
   "outputs": [
    {
     "data": {
      "text/plain": [
       "lang\n",
       "Out[5]: {0: 'en'}"
      ]
     },
     "metadata": {
      "application/vnd.databricks.v1+output": {
       "addedWidgets": {},
       "arguments": {},
       "data": "lang\nOut[5]: {0: 'en'}",
       "datasetInfos": [],
       "metadata": {},
       "removedWidgets": [],
       "type": "ansi"
      }
     },
     "output_type": "display_data"
    }
   ],
   "source": [
    "lang_frame = distinct_frame_from_cols(union, ['lang']).withColumnRenamed(\"lang\", \"Text\")\n",
    "lang_frame = save_parquet_frame(lang_frame, \"Language\")\n",
    "\n",
    "lang_rdd = lang_frame.rdd.collectAsMap()\n",
    "lang_rdd"
   ]
  },
  {
   "cell_type": "code",
   "execution_count": 0,
   "metadata": {
    "application/vnd.databricks.v1+cell": {
     "inputWidgets": {},
     "nuid": "26b1d7ce-7524-48b9-b614-5d31de2e6dc5",
     "showTitle": false,
     "title": ""
    }
   },
   "outputs": [
    {
     "data": {
      "text/plain": [
       "+--------------------+--------------------+--------------------+--------------------+--------------------+-------------+---------+-----+--------------------+----------+---------+----------+--------------------+--------------------+--------------------+--------------------+--------------------+------+----+-------+\n",
       "|                 _id|            abstract|             authors|                 doi|                 fos|         isbn|     issn|issue|            keywords|n_citation| page_end|page_start|                 pdf|          references|               title|                 url|               venue|volume|year|Lang_ID|\n",
       "+--------------------+--------------------+--------------------+--------------------+--------------------+-------------+---------+-----+--------------------+----------+---------+----------+--------------------+--------------------+--------------------+--------------------+--------------------+------+----+-------+\n",
       "|53e99784b7602d970...|Drought is the fi...|[{53f45728dabfaec...|10.1109/IGARSS.20...|[Agronomy, Moistu...|             |         | null|[canopy parameter...|         0|     1933|      1930|                null|                null|The relationship ...|[http://dx.doi.or...|{53a7297d20f7420b...|  null|2011|      0|\n",
       "|53e99784b7602d970...|                    |[{53f46797dabfaeb...|10.1109/ICDAR.199...|[Intelligent char...|             |         |     |[handwriting reco...|        17|      605|       602|                null|[53e99cf5b7602d97...|A solution to the...|[http://dx.doi.or...|{53a72a4920f7420b...|      |1993|      0|\n",
       "|53e99784b7602d970...|As process variat...|[{53f43b03dabfaed...|10.1109/ISCAS.200...|[Delay calculatio...|0-7803-8834-8|         |     |[sequential circu...|        28|2464Vol.3|      2461|//static.aminer.o...|[53e9a8a9b7602d97...|Timing yield esti...|[http://dx.doi.or...|{53a72e2020f7420b...|      |2005|      0|\n",
       "|53e99784b7602d970...|                    |[{53f39e3edabfae4...|10.1109/NEMS.2009...|                null|         null|     null|     |                  []|         1|     1057|      1054|//static.aminer.o...|                null|International Con...|[http://doi.ieeec...|{53a72dfb20f7420b...|      |2009|      0|\n",
       "|53e99784b7602d970...|The eXtensible Ma...|[{548a2e3ddabfae9...|10.1109/CMPSAC.20...|[XML Base, World ...|0-7695-1727-7|         |     |[Internet, hyperm...|        28|      172|       167|                null|[53e9adbdb7602d97...|Using XML to Inte...|[http://dx.doi.or...|{53a72e9920f7420b...|      |2002|      0|\n",
       "|53e99784b7602d970...|Resource allocati...|[{53f46a22dabfaee...|10.1007/s11704-01...|[Virtualization, ...|             |1673-7350|    4|[resource allocat...|         2|      512|       506|                null|[53e9a073b7602d97...|Research on resou...|[http://dx.doi.or...|{572de199d39c4f49...|     5|2011|      0|\n",
       "|53e99784b7602d970...|In this paper, we...|[{560175ed45cedb3...|10.1007/978-3-540...|[Changeover, Tran...|3-540-24076-4|         |     |[city road, local...|         0|      537|       537|                null|                null|BUSTRAP – an effi...|[http://dx.doi.or...|{53a72aff20f7420b...|      |2004|      0|\n",
       "|53e99792b7602d970...|                    |[{5631df8845cedb3...|10.1109/COGINF.20...|[Syma, Computer s...|             |         |     |[cognition, multi...|         4|      630|       625|                null|[53e9b3dab7602d97...|The design of awa...|[http://dx.doi.or...|{53a72bad20f7420b...|      |2010|      0|\n",
       "|53e99792b7602d970...|A promising traff...|[{53f46e66dabfaee...|10.1109/FSKD.2008...|[Spline (mathemat...|             |         |     |[considerable acc...|        11|      675|       669|                null|[53e9b95bb7602d97...|Short-Term Traffi...|[http://dx.doi.or...|{53a72cfa20f7420b...|      |2008|      0|\n",
       "|53e99792b7602d970...|This paper descri...|[{53f43a51dabfaec...|10.1016/j.jss.200...|[Data mining, Cau...|             |0164-1212|    1|[Feature location...|        62|       68|        57|//static.aminer.o...|[53e9b6eeb7602d97...|An approach to fe...|[http://dx.doi.or...|{54825226582fc50b...|    79|2006|      0|\n",
       "|53e99792b7602d970...|This paper descri...|[{53f45e2adabfaeb...|  10.1007/BFb0056317|[Adjacency matrix...|3-540-64990-5|0302-9743|     |[nested graph-str...|        20|       12|         1|                null|[53e9b049b7602d97...|Nested Graph-Stru...|[http://dx.doi.or...|{53a7271520f7420b...|  1488|1998|      0|\n",
       "|53e99792b7602d970...|Yalut is a novel ...|[{53f4357bdabfaee...|10.1145/2594368.2...|[World Wide Web, ...|             |         |     |[cellular data tr...|         2|      361|       360|                null|[53e9b04eb7602d97...|Demo: Yalut -- us...|[http://dx.doi.or...|{53a72cf620f7420b...|      |2014|      0|\n",
       "|53e99792b7602d970...|The traffic chara...|[{53f43415dabfaee...|10.1007/978-1-461...|[Multiprocessor a...|             |         |     |                  []|         9|       88|        75|//static.aminer.o...|[53e9aacab7602d97...|Design of a Hyper...|[http://dx.doi.or...|{53a72ac520f7420b...|      |1987|      0|\n",
       "|53e99792b7602d970...|                    |[{53f431addabfaed...|                    |[Lease, Computer ...|             |         |     |[balanced scorecard]|         1|         |          |                null|[53e9bdceb7602d97...|A Model for Evalu...|[http://aisel.ais...|{555037d37cea80f9...|      |2004|      0|\n",
       "|53e99792b7602d970...|Although differen...|[{null, null, nul...|10.1007/s11432-01...|[Discrete mathema...|             |1869-1919|    9|[behavioural equi...|         0|      123|       111|                null|[53e9bb93b7602d97...|Behavioural equiv...|[http://dx.doi.or...|{555036b77cea80f9...|    55|2012|      0|\n",
       "|53e99792b7602d970...|                    |[{null, null, nul...|10.1109/VRAIS.199...|[World Wide Web, ...|0-8186-8362-7|         |     |[registration roo...|         0|      213|       213|                null|                null|Registration Room...|[http://doi.ieeec...|{53a7266220f7420b...|      |1998|      0|\n",
       "|53e99792b7602d970...|Grid is a new sol...|[{542a6734dabfae6...|10.1007/978-3-540...|[Data mining, Dat...|             |0302-9743|     |[knowledge discov...|         4|      312|       306|                null|[53e99cbbb7602d97...|A Uniform Paralle...|[http://dx.doi.or...|{53a727f720f7420b...|  5178|2008|      0|\n",
       "|53e99792b7602d970...|Because digital i...|[{53f432d2dabfaee...|10.1109/ICIP.2010...|[Computer vision,...|             |         |     |[mathematical mod...|        45|     1740|      1737|                null|[53e9b550b7602d97...|WAVELET-BASED IMA...|[http://dx.doi.or...|{53a72dad20f7420b...|      |2010|      0|\n",
       "|53e99792b7602d970...|                    |[{53f468e9dabfaeb...|10.1109/TCSI.2008...|[Control theory, ...|             |         |   10|[feedback, feedfo...|        11|     3305|      3293|                null|[558ac153e4b037c0...|Positive Feedback...|[http://dx.doi.or...|{555036c77cea80f9...|    55|2008|      0|\n",
       "|53e99792b7602d970...|Location of fire ...|[{5630ff9645cedb3...|10.1016/j.ejor.20...|[Objective progra...|             |0377-2217|    2|[Location, Fire s...|       140|      915|       903|                null|[53e9bd50b7602d97...|A fuzzy multi-obj...|[http://dx.doi.or...|{null, 0377-2217,...|   181|2007|      0|\n",
       "+--------------------+--------------------+--------------------+--------------------+--------------------+-------------+---------+-----+--------------------+----------+---------+----------+--------------------+--------------------+--------------------+--------------------+--------------------+------+----+-------+\n",
       "only showing top 20 rows\n",
       "\n"
      ]
     },
     "metadata": {
      "application/vnd.databricks.v1+output": {
       "addedWidgets": {},
       "arguments": {},
       "data": "+--------------------+--------------------+--------------------+--------------------+--------------------+-------------+---------+-----+--------------------+----------+---------+----------+--------------------+--------------------+--------------------+--------------------+--------------------+------+----+-------+\n|                 _id|            abstract|             authors|                 doi|                 fos|         isbn|     issn|issue|            keywords|n_citation| page_end|page_start|                 pdf|          references|               title|                 url|               venue|volume|year|Lang_ID|\n+--------------------+--------------------+--------------------+--------------------+--------------------+-------------+---------+-----+--------------------+----------+---------+----------+--------------------+--------------------+--------------------+--------------------+--------------------+------+----+-------+\n|53e99784b7602d970...|Drought is the fi...|[{53f45728dabfaec...|10.1109/IGARSS.20...|[Agronomy, Moistu...|             |         | null|[canopy parameter...|         0|     1933|      1930|                null|                null|The relationship ...|[http://dx.doi.or...|{53a7297d20f7420b...|  null|2011|      0|\n|53e99784b7602d970...|                    |[{53f46797dabfaeb...|10.1109/ICDAR.199...|[Intelligent char...|             |         |     |[handwriting reco...|        17|      605|       602|                null|[53e99cf5b7602d97...|A solution to the...|[http://dx.doi.or...|{53a72a4920f7420b...|      |1993|      0|\n|53e99784b7602d970...|As process variat...|[{53f43b03dabfaed...|10.1109/ISCAS.200...|[Delay calculatio...|0-7803-8834-8|         |     |[sequential circu...|        28|2464Vol.3|      2461|//static.aminer.o...|[53e9a8a9b7602d97...|Timing yield esti...|[http://dx.doi.or...|{53a72e2020f7420b...|      |2005|      0|\n|53e99784b7602d970...|                    |[{53f39e3edabfae4...|10.1109/NEMS.2009...|                null|         null|     null|     |                  []|         1|     1057|      1054|//static.aminer.o...|                null|International Con...|[http://doi.ieeec...|{53a72dfb20f7420b...|      |2009|      0|\n|53e99784b7602d970...|The eXtensible Ma...|[{548a2e3ddabfae9...|10.1109/CMPSAC.20...|[XML Base, World ...|0-7695-1727-7|         |     |[Internet, hyperm...|        28|      172|       167|                null|[53e9adbdb7602d97...|Using XML to Inte...|[http://dx.doi.or...|{53a72e9920f7420b...|      |2002|      0|\n|53e99784b7602d970...|Resource allocati...|[{53f46a22dabfaee...|10.1007/s11704-01...|[Virtualization, ...|             |1673-7350|    4|[resource allocat...|         2|      512|       506|                null|[53e9a073b7602d97...|Research on resou...|[http://dx.doi.or...|{572de199d39c4f49...|     5|2011|      0|\n|53e99784b7602d970...|In this paper, we...|[{560175ed45cedb3...|10.1007/978-3-540...|[Changeover, Tran...|3-540-24076-4|         |     |[city road, local...|         0|      537|       537|                null|                null|BUSTRAP – an effi...|[http://dx.doi.or...|{53a72aff20f7420b...|      |2004|      0|\n|53e99792b7602d970...|                    |[{5631df8845cedb3...|10.1109/COGINF.20...|[Syma, Computer s...|             |         |     |[cognition, multi...|         4|      630|       625|                null|[53e9b3dab7602d97...|The design of awa...|[http://dx.doi.or...|{53a72bad20f7420b...|      |2010|      0|\n|53e99792b7602d970...|A promising traff...|[{53f46e66dabfaee...|10.1109/FSKD.2008...|[Spline (mathemat...|             |         |     |[considerable acc...|        11|      675|       669|                null|[53e9b95bb7602d97...|Short-Term Traffi...|[http://dx.doi.or...|{53a72cfa20f7420b...|      |2008|      0|\n|53e99792b7602d970...|This paper descri...|[{53f43a51dabfaec...|10.1016/j.jss.200...|[Data mining, Cau...|             |0164-1212|    1|[Feature location...|        62|       68|        57|//static.aminer.o...|[53e9b6eeb7602d97...|An approach to fe...|[http://dx.doi.or...|{54825226582fc50b...|    79|2006|      0|\n|53e99792b7602d970...|This paper descri...|[{53f45e2adabfaeb...|  10.1007/BFb0056317|[Adjacency matrix...|3-540-64990-5|0302-9743|     |[nested graph-str...|        20|       12|         1|                null|[53e9b049b7602d97...|Nested Graph-Stru...|[http://dx.doi.or...|{53a7271520f7420b...|  1488|1998|      0|\n|53e99792b7602d970...|Yalut is a novel ...|[{53f4357bdabfaee...|10.1145/2594368.2...|[World Wide Web, ...|             |         |     |[cellular data tr...|         2|      361|       360|                null|[53e9b04eb7602d97...|Demo: Yalut -- us...|[http://dx.doi.or...|{53a72cf620f7420b...|      |2014|      0|\n|53e99792b7602d970...|The traffic chara...|[{53f43415dabfaee...|10.1007/978-1-461...|[Multiprocessor a...|             |         |     |                  []|         9|       88|        75|//static.aminer.o...|[53e9aacab7602d97...|Design of a Hyper...|[http://dx.doi.or...|{53a72ac520f7420b...|      |1987|      0|\n|53e99792b7602d970...|                    |[{53f431addabfaed...|                    |[Lease, Computer ...|             |         |     |[balanced scorecard]|         1|         |          |                null|[53e9bdceb7602d97...|A Model for Evalu...|[http://aisel.ais...|{555037d37cea80f9...|      |2004|      0|\n|53e99792b7602d970...|Although differen...|[{null, null, nul...|10.1007/s11432-01...|[Discrete mathema...|             |1869-1919|    9|[behavioural equi...|         0|      123|       111|                null|[53e9bb93b7602d97...|Behavioural equiv...|[http://dx.doi.or...|{555036b77cea80f9...|    55|2012|      0|\n|53e99792b7602d970...|                    |[{null, null, nul...|10.1109/VRAIS.199...|[World Wide Web, ...|0-8186-8362-7|         |     |[registration roo...|         0|      213|       213|                null|                null|Registration Room...|[http://doi.ieeec...|{53a7266220f7420b...|      |1998|      0|\n|53e99792b7602d970...|Grid is a new sol...|[{542a6734dabfae6...|10.1007/978-3-540...|[Data mining, Dat...|             |0302-9743|     |[knowledge discov...|         4|      312|       306|                null|[53e99cbbb7602d97...|A Uniform Paralle...|[http://dx.doi.or...|{53a727f720f7420b...|  5178|2008|      0|\n|53e99792b7602d970...|Because digital i...|[{53f432d2dabfaee...|10.1109/ICIP.2010...|[Computer vision,...|             |         |     |[mathematical mod...|        45|     1740|      1737|                null|[53e9b550b7602d97...|WAVELET-BASED IMA...|[http://dx.doi.or...|{53a72dad20f7420b...|      |2010|      0|\n|53e99792b7602d970...|                    |[{53f468e9dabfaeb...|10.1109/TCSI.2008...|[Control theory, ...|             |         |   10|[feedback, feedfo...|        11|     3305|      3293|                null|[558ac153e4b037c0...|Positive Feedback...|[http://dx.doi.or...|{555036c77cea80f9...|    55|2008|      0|\n|53e99792b7602d970...|Location of fire ...|[{5630ff9645cedb3...|10.1016/j.ejor.20...|[Objective progra...|             |0377-2217|    2|[Location, Fire s...|       140|      915|       903|                null|[53e9bd50b7602d97...|A fuzzy multi-obj...|[http://dx.doi.or...|{null, 0377-2217,...|   181|2007|      0|\n+--------------------+--------------------+--------------------+--------------------+--------------------+-------------+---------+-----+--------------------+----------+---------+----------+--------------------+--------------------+--------------------+--------------------+--------------------+------+----+-------+\nonly showing top 20 rows\n\n",
       "datasetInfos": [],
       "metadata": {},
       "removedWidgets": [],
       "type": "ansi"
      }
     },
     "output_type": "display_data"
    }
   ],
   "source": [
    "def map_lang_id(rdd):\n",
    "    def map_fos_id_(col):\n",
    "        if col == \"null\" or col == \"\" or not col:\n",
    "            return None\n",
    "        try:\n",
    "            return [fosTuple[0] for fosTuple in list(rdd.items()) if fosTuple[1] == col][0]\n",
    "        except ValueError:\n",
    "            return None\n",
    "    return udf(map_fos_id_, LongType())\n",
    "\n",
    "union = union.select(\"*\", map_lang_id(lang_rdd)(\"lang\").alias(\"Lang_ID\")).drop(\"lang\")\n",
    "union.show()"
   ]
  },
  {
   "cell_type": "code",
   "execution_count": 0,
   "metadata": {
    "application/vnd.databricks.v1+cell": {
     "inputWidgets": {},
     "nuid": "a40dfe1c-58c9-460d-ada7-ef8fd7d0aa68",
     "showTitle": false,
     "title": ""
    }
   },
   "outputs": [],
   "source": [
    "# UDF to get relevant publication's citation counts\n",
    "def cite_count(countMapper):\n",
    "    def cite_count_(col):\n",
    "        if col == \"null\" or col == \"\" or not col:\n",
    "            return \"Unknown\"\n",
    "        return countMapper.get(col)\n",
    "    return udf(cite_count_, StringType())"
   ]
  },
  {
   "cell_type": "code",
   "execution_count": 0,
   "metadata": {
    "application/vnd.databricks.v1+cell": {
     "inputWidgets": {},
     "nuid": "a147a42a-17a4-41f6-9ca2-0ae68ffd6cfb",
     "showTitle": false,
     "title": ""
    }
   },
   "outputs": [],
   "source": [
    "# building a Citation counter dictionary\n",
    "citation_frame = union.select(F.explode_outer(\"references\").alias(\"reference_countmap\"))\n",
    "citation_frame = citation_frame.groupBy(\"reference_countmap\").count()\n",
    "citation_frame = citation_frame.rdd.map(lambda row: row.asDict(True))\n",
    "citation_counts = citation_frame.collect()\n",
    "citation_counter = {}\n",
    "for citation_count in citation_counts:\n",
    "    citation_counter[citation_count['reference_countmap']] = citation_count['count']"
   ]
  },
  {
   "cell_type": "code",
   "execution_count": 0,
   "metadata": {
    "application/vnd.databricks.v1+cell": {
     "inputWidgets": {},
     "nuid": "df3e4406-4f68-4a71-8621-8eee5f7aa50d",
     "showTitle": false,
     "title": ""
    }
   },
   "outputs": [
    {
     "data": {
      "text/html": [
       "<style scoped>\n",
       "  .ansiout {\n",
       "    display: block;\n",
       "    unicode-bidi: embed;\n",
       "    white-space: pre-wrap;\n",
       "    word-wrap: break-word;\n",
       "    word-break: break-all;\n",
       "    font-family: \"Source Code Pro\", \"Menlo\", monospace;;\n",
       "    font-size: 13px;\n",
       "    color: #555;\n",
       "    margin-left: 4px;\n",
       "    line-height: 19px;\n",
       "  }\n",
       "</style>"
      ]
     },
     "metadata": {
      "application/vnd.databricks.v1+output": {
       "arguments": {},
       "data": "",
       "errorSummary": "",
       "errorTraceType": null,
       "metadata": {},
       "type": "ipynbError"
      }
     },
     "output_type": "display_data"
    }
   ],
   "source": [
    "# Building Publication Frame\n",
    "publication_frame = union.select(\"_id\", \"Title\", \"volume\", \"issue\", \"abstract\", \"pdf\", \"isbn\", \"issn\", \"doi\", \"url\", cite_count(citation_counter)(\"_id\").alias(\"NumberOfCitations\"))\n",
    "\n",
    "# Removing extracted fields from the main schema \n",
    "union = union.drop(\"Title\", \"volume\", \"abstract\", \"pdf\", \"isbn\", \"issn\", \"doi\", \"url\", \"references\", \"page_start\", \"page_end\", \"n_citation\")\n",
    "\n",
    "# Saving the table into parquet file\n",
    "publication_parquet = f\"{parquet_dir}publication.parquet\"\n",
    "save_parquet_frame(publication_frame, \"Publication\", clean=True)\n",
    "\n",
    "publication_frame.show(10)"
   ]
  },
  {
   "cell_type": "code",
   "execution_count": 0,
   "metadata": {
    "application/vnd.databricks.v1+cell": {
     "inputWidgets": {},
     "nuid": "4ffd9fd7-9bad-4560-bb4c-a62897ffb0f6",
     "showTitle": false,
     "title": ""
    }
   },
   "outputs": [
    {
     "data": {
      "text/html": [
       "<style scoped>\n",
       "  .ansiout {\n",
       "    display: block;\n",
       "    unicode-bidi: embed;\n",
       "    white-space: pre-wrap;\n",
       "    word-wrap: break-word;\n",
       "    word-break: break-all;\n",
       "    font-family: \"Source Code Pro\", \"Menlo\", monospace;;\n",
       "    font-size: 13px;\n",
       "    color: #555;\n",
       "    margin-left: 4px;\n",
       "    line-height: 19px;\n",
       "  }\n",
       "</style>"
      ]
     },
     "metadata": {
      "application/vnd.databricks.v1+output": {
       "arguments": {},
       "data": "",
       "errorSummary": "",
       "errorTraceType": null,
       "metadata": {},
       "type": "ipynbError"
      }
     },
     "output_type": "display_data"
    }
   ],
   "source": [
    "### Future Steps:\n",
    "# 1. API lookup to fill in missing data in issn, isbn, pdf, volume columns"
   ]
  },
  {
   "cell_type": "code",
   "execution_count": 0,
   "metadata": {
    "application/vnd.databricks.v1+cell": {
     "inputWidgets": {},
     "nuid": "28d58845-d7b0-4ba4-a156-6ec47ad24efe",
     "showTitle": false,
     "title": ""
    }
   },
   "outputs": [
    {
     "data": {
      "text/html": [
       "<style scoped>\n",
       "  .ansiout {\n",
       "    display: block;\n",
       "    unicode-bidi: embed;\n",
       "    white-space: pre-wrap;\n",
       "    word-wrap: break-word;\n",
       "    word-break: break-all;\n",
       "    font-family: \"Source Code Pro\", \"Menlo\", monospace;;\n",
       "    font-size: 13px;\n",
       "    color: #555;\n",
       "    margin-left: 4px;\n",
       "    line-height: 19px;\n",
       "  }\n",
       "</style>"
      ]
     },
     "metadata": {
      "application/vnd.databricks.v1+output": {
       "arguments": {},
       "data": "",
       "errorSummary": "",
       "errorTraceType": null,
       "metadata": {},
       "type": "ipynbError"
      }
     },
     "output_type": "display_data"
    }
   ],
   "source": [
    "union.select(union.columns).show(2)"
   ]
  },
  {
   "cell_type": "markdown",
   "metadata": {
    "application/vnd.databricks.v1+cell": {
     "inputWidgets": {},
     "nuid": "32cddc8a-4c19-4084-ac25-7c3d08389dfd",
     "showTitle": false,
     "title": ""
    }
   },
   "source": [
    "#### Extracting Unique Field_of_Study values. \n",
    "\n",
    "First we built a mapper to generalize desciplines. Secondly, we count `Field of study` topics to determine significance and importance of each. If the decipline is found in the generalized mapper, we use that item to map the Field of Study list. Otherwise we use counts of occurances of each item from the list in the whole database, and pick the one with most frequent occurance as a suitable discipline.\n",
    "\n",
    "Use [This](https://confluence.egi.eu/display/EGIG/Scientific+Disciplines) link to build a map to replace the specific field to generalized descipline."
   ]
  },
  {
   "cell_type": "code",
   "execution_count": 0,
   "metadata": {
    "application/vnd.databricks.v1+cell": {
     "inputWidgets": {},
     "nuid": "1294fe6a-de77-4455-a0b3-a8c5578c5bbd",
     "showTitle": false,
     "title": ""
    }
   },
   "outputs": [
    {
     "data": {
      "text/html": [
       "<style scoped>\n",
       "  .ansiout {\n",
       "    display: block;\n",
       "    unicode-bidi: embed;\n",
       "    white-space: pre-wrap;\n",
       "    word-wrap: break-word;\n",
       "    word-break: break-all;\n",
       "    font-family: \"Source Code Pro\", \"Menlo\", monospace;;\n",
       "    font-size: 13px;\n",
       "    color: #555;\n",
       "    margin-left: 4px;\n",
       "    line-height: 19px;\n",
       "  }\n",
       "</style>"
      ]
     },
     "metadata": {
      "application/vnd.databricks.v1+output": {
       "arguments": {},
       "data": "",
       "errorSummary": "",
       "errorTraceType": null,
       "metadata": {},
       "type": "ipynbError"
      }
     },
     "output_type": "display_data"
    }
   ],
   "source": [
    "# Building countmap structure\n",
    "countMapFos = union.select(F.explode(\"fos\").alias(\"fos2\"))\n",
    "countMapFos = countMapFos.groupBy(\"fos2\").count()\n",
    "countMapperRdd = countMapFos.rdd.map(lambda row: row.asDict(True))\n",
    "\n",
    "countMapperList = countMapperRdd.collect()\n",
    "\n",
    "count_mapper = {}\n",
    "for countMapperItem in countMapperList:\n",
    "    count_mapper[countMapperItem['fos2']] = countMapperItem['count']\n",
    "\n",
    "decipline_mapper = {\n",
    "\t# 1 Natural Sciences\n",
    "\t\"Mathematics\": \"Mathematics\", \"Applied mathematics\": \"Mathematics\", \"Pure mathematics\": \"Mathematics\", \"Statistics and probability\": \"Mathematics\",\n",
    "\t\"Computer Science\": \"Computer Sciences\", \"Computer Sciences\": \"Computer Sciences\", \"Algorithms\": \"Computer Sciences\", \"Artificial Intelligence (expert systems, machine learning, robotics)\": \"Computer Sciences\", \"Computer architecture\": \"Computer Sciences\", \"Computer communications\": \"Computer Sciences\", \"Computer graphics\": \"Computer Sciences\", \"Computer security and reliability\": \"Computer Sciences\", \"Data structures\": \"Computer Sciences\", \"Distributed computing\": \"Computer Sciences\", \"Human-computer interaction\": \"Computer Sciences\", \"Operating systems\": \"Computer Sciences\", \"Parallel computing\": \"Computer Sciences\", \"Programming languages\": \"Computer Sciences\", \"Quantum computing\": \"Computer Sciences\", \"Software engineering\": \"Computer Sciences\", \"Theory of computation\": \"Computer Sciences\",\n",
    "\t\"Information sciences\": \"Information sciences\", \"Information science\": \"Information sciences\", \"Data management\": \"Information sciences\", \"Data mining\": \"Information sciences\", \"Information retrieval\": \"Information sciences\", \"Information management\": \"Information sciences\", \"Knowledge management\": \"Information sciences\", \"Multimedia, hypermedia\": \"Information sciences\",\n",
    "\t\"Earth Sciences\": \"Earth Sciences\", \"Earth Science\": \"Earth Sciences\", \"Atmospheric science\": \"Earth Sciences\", \"Climate research\": \"Earth Sciences\", \"Geochemistry\": \"Earth Sciences\", \"Geology\": \"Earth Sciences\", \"Geophysics\": \"Earth Sciences\", \"Hydrology\": \"Earth Sciences\", \"Mineralogy\": \"Earth Sciences\", \"Oceanography\": \"Earth Sciences\", \"Palaeontology\": \"Earth Sciences\", \"Physical geography\": \"Earth Sciences\", \"Seismology\": \"Earth Sciences\", \"Volcanology\": \"Earth Sciences\", \n",
    "\t\"Biology Science\": \"Biology Science\", \"Aerobiology\": \"Biology Science\", \"Bacteriology\": \"Biology Science\", \"Behavioural biology\": \"Biology Science\", \"Biochemistry and molecular biology\": \"Biology Science\", \"Biodiversity conservation\": \"Biology Science\", \"Bioinformatics\": \"Biology Science\", \"Biological rhythm\": \"Biology Science\", \"Biology\": \"Biology Science\", \"Biophysics\": \"Biology Science\", \"Botany\": \"Biology Science\", \"Cell biology\": \"Biology Science\", \"Computational biology\": \"Biology Science\", \"Cryobiology\": \"Biology Science\", \"Developmental biology\": \"Biology Science\", \"Ecology\": \"Biology Science\", \"Evolutionary biology\": \"Biology Science\", \"Genetics and heredity\": \"Biology Science\", \"Marine and Freshwater biology\": \"Biology Science\", \"Mathematical biology\": \"Biology Science\", \"Microbiology\": \"Biology Science\", \"Mycology\": \"Biology Science\", \"Plant science\": \"Biology Science\", \"Reproductive biology\": \"Biology Science\", \"Structural biology\": \"Biology Science\", \"Taxonomy\": \"Biology Science\", \"Theoretical biology\": \"Biology Science\", \"Thermal biology\": \"Biology Science\", \"Virology\": \"Biology Science\", \"Zoology\": \"Biology Science\", \n",
    "\t\"Physical sciences\": \"Physical sciences\", \"Physical science\": \"Physical sciences\", \"Accelerator physics\": \"Physical sciences\", \"Acoustics\": \"Physical sciences\", \"Aerosol physics\": \"Physical sciences\", \"Astrobiology\": \"Physical sciences\", \"Astronomy\": \"Physical sciences\", \"Astroparticle physics\": \"Physical sciences\", \"Astrophysics\": \"Physical sciences\", \"Atomic\": \"Physical sciences\", \"Chemical physics\": \"Physical sciences\", \"Computational physics\": \"Physical sciences\", \"Condensed matter physics\": \"Physical sciences\", \"Cryogenics\": \"Physical sciences\", \"Fluid Mechanics\": \"Physical sciences\", \"Fusion\": \"Physical sciences\", \"High energy physics\": \"Physical sciences\", \"Mathematical physics\": \"Physical sciences\", \"Medical physics\": \"Physical sciences\", \"Molecular physics\": \"Physical sciences\", \"Nuclear physics\": \"Physical sciences\", \"Optics\": \"Physical sciences\", \"Particle physics\": \"Physical sciences\", \"Physics\": \"Physical sciences\", \"Planetary science\": \"Physical sciences\", \"Plasma physics\": \"Physical sciences\", \"Space science\": \"Physical sciences\", \"Quantum physics\": \"Physical sciences\",\n",
    "\t\"Chemical science\": \"Chemical sciences\", \"Chemical sciences\": \"Chemical sciences\", \"Analytical chemistry\": \"Chemical sciences\", \"Chemistry\": \"Chemical sciences\", \"Colloid chemistry\": \"Chemical sciences\", \"Computational chemistry\": \"Chemical sciences\", \"Electrochemistry\": \"Chemical sciences\", \"Inorganic and nuclear chemistry\": \"Chemical sciences\", \"Mathematical chemistry\": \"Chemical sciences\", \"Organic chemistry\": \"Chemical sciences\", \"Physical chemistry\": \"Chemical sciences\", \"Polymer science\": \"Chemical sciences\", \n",
    "\n",
    "\t# 2 Engineering and Technology\n",
    "\t\"Civil engineering\": \"Civil engineering\", \"Architecture engineering\": \"Civil engineering\", \"Civil engineering\": \"Civil engineering\", \"Civil Protection\": \"Civil engineering\", \"Construction/Structural engineering\": \"Civil engineering\", \"Transport engineering\": \"Civil engineering\",\n",
    "\t\"Electrical, electronic and information engineering\": \"Electrical, electronic and information engineering\", \"Communication engineering and systems\": \"Electrical, electronic and information engineering\", \"Computer hardware and architecture\": \"Electrical, electronic and information engineering\", \"Electrical and electronic engineering\": \"Electrical, electronic and information engineering\", \"Robotics, Automation and Control Systems\": \"Electrical, electronic and information engineering\",\n",
    "\t\"Mechanical engineering\": \"Mechanical engineering\", \"Applied mechanics\": \"Mechanical engineering\", \"Audio engineering\": \"Mechanical engineering\", \"Nuclear related engineering\": \"Mechanical engineering\", \"Reliability analysis\": \"Mechanical engineering\", \"Thermodynamics\": \"Mechanical engineering\",\n",
    "\t\"Aerospace engineering\": \"Aerospace engineering\", \"Aeronautical engineering\": \"Aerospace engineering\", \"Astronautical engineering\": \"Aerospace engineering\",\n",
    "\t\"Chemical engineering\": \"Chemical engineering\", \"Chemical engineering (plants, products)\": \"Chemical engineering\", \"Chemical process engineering\": \"Chemical engineering\",\n",
    "\t\"Materials engineering\": \"Materials engineering\", \"Ceramics\": \"Materials engineering\", \"Coating and films\": \"Materials engineering\", \"Composites\": \"Materials engineering\", \"Paper and wood\": \"Materials engineering\", \"Textiles\": \"Materials engineering\",\n",
    "\t\"Bioengineering and Biomedical engineering\": \"Bioengineering and Biomedical engineering\", \"Bioengineering\": \"Bioengineering and Biomedical engineering\", \"Biomedical engineering\": \"Bioengineering and Biomedical engineering\",\n",
    "\t\"Environmental engineering\": \"Environmental engineering\", \"Energy and fuels\": \"Environmental engineering\", \"Geological engineering\": \"Environmental engineering\", \"Geotechnics\": \"Environmental engineering\", \"Ocean engineering\": \"Environmental engineering\", \"Mining and mineral processing\": \"Environmental engineering\", \"Petroleum engineering\": \"Environmental engineering\", \"Remote sensing\": \"Environmental engineering\", \"Sea vessels\": \"Environmental engineering\",\n",
    "\t\"Environmental biotechnology\": \"Environmental biotechnology\", \"Bioremediation\": \"Environmental biotechnology\", \"Diagnostic biotechnologies\": \"Environmental biotechnology\",\n",
    "\t \"Industrial biotechnology\":  \"Industrial biotechnology\", \"Bio-derived novel materials\": \"Industrial biotechnology\", \"Biocatalysis\": \"Industrial biotechnology\", \"Bioderived bulk and fine chemicals\": \"Industrial biotechnology\", \"Biofuels\": \"Industrial biotechnology\", \"Biomaterials\": \"Industrial biotechnology\", \"Bioprocessing technologies\": \"Industrial biotechnology\", \"Bioproducts\": \"Industrial biotechnology\", \"Fermentation\": \"Industrial biotechnology\",\n",
    "\t \"Nano-technology\":  \"Nano-technology\", \"Nano-materials\": \"Nano-technology\", \"Nano-processes\": \"Nano-technology\",\n",
    "\n",
    "\t# 3 Medical and Health Sciences\n",
    "\t\"Basic medicine\": \"Basic medicine\", \"Anatomy and morphology\": \"Basic medicine\", \"Human genetics\": \"Basic medicine\", \"Immunology\": \"Basic medicine\", \"Medicinal chemistry\": \"Basic medicine\", \"Neuroscience\": \"Basic medicine\", \"Pathology\": \"Basic medicine\", \"Pharmacology and pharmacy\": \"Basic medicine\", \"Physiology\": \"Basic medicine\", \"Toxicology\": \"Basic medicine\",\n",
    "\t\"Clinical medicine\": \"Clinical medicine\", \"Allergy\": \"Clinical medicine\", \"Anaesthesiology\": \"Clinical medicine\", \"Andrology\": \"Clinical medicine\", \"Cardiac and Cardiovascular systems\": \"Clinical medicine\", \"Critical care/Emergency medicine\": \"Clinical medicine\", \"Dentistry, oral surgery/medicine\": \"Clinical medicine\", \"Dermatology and venereal diseases\": \"Clinical medicine\", \"Gastroenterology and hepatology\": \"Clinical medicine\", \"General and internal medicine\": \"Clinical medicine\", \"Geriatrics and gerontology\": \"Clinical medicine\", \"Hematology\": \"Clinical medicine\", \"Integrative and Complementary medicine\": \"Clinical medicine\", \"Medical imaging\": \"Clinical medicine\", \"Nuclear medicine\": \"Clinical medicine\", \"Obstetrics and gynaecology\": \"Clinical medicine\", \"Oncology\": \"Clinical medicine\", \"Ophthalmology\": \"Clinical medicine\", \"Optometry\": \"Clinical medicine\", \"Orthopaedics\": \"Clinical medicine\", \"Otorhinolaryngolog\": \"Clinical medicine\", \"Paediatrics\": \"Clinical medicine\", \"Peripheral vascular disease\": \"Clinical medicine\", \"Psychiatry\": \"Clinical medicine\", \"Radiology\": \"Clinical medicine\", \"Respiratory systems\": \"Clinical medicine\", \"Rheumatology\": \"Clinical medicine\", \"Surgery\": \"Clinical medicine\", \"Transplantation\": \"Clinical medicine\", \"Urology and nephrology\": \"Clinical medicine\",\n",
    "\t\"Health science\": \"Health sciences\", \"Health sciences\": \"Health sciences\", \"Epidemiology\": \"Health sciences\", \"Health care science and services\": \"Health sciences\", \"Health policy and services\": \"Health sciences\", \"Infectious diseases\": \"Health sciences\", \"Medical ethics\": \"Health sciences\", \"Nursing\": \"Health sciences\", \"Nutrition and Dietetics\": \"Health sciences\", \"Occupational health\": \"Health sciences\", \"Parasitology\": \"Health sciences\", \"Public and environmental health\": \"Health sciences\", \"Social biomedical science\": \"Health sciences\", \"Sport and fitness science\": \"Health sciences\", \"Substance abuse\": \"Health sciences\", \"Tropical medicine\": \"Health sciences\",\n",
    "\t\"Medical biotechnology\": \"Medical biotechnology\", \"Biomedical devices\": \"Medical biotechnology\", \"Health-related biotechnology\": \"Medical biotechnology\", \"Pharmaceutical biotechnology\": \"Medical biotechnology\", \"Biotechnology and medical ethics\": \"Medical biotechnology\", \"Molecular diagnostics\": \"Medical biotechnology\", \"Biophysical manipulation\": \"Medical biotechnology\", \"Agricultural Sciences\": \"Medical biotechnology\",\n",
    "\n",
    "\t# 4 Agricultural Sciences\n",
    "\t\"Agriculture, forestry, and fisheries\": \"Agriculture, forestry, and fisheries\", \"Agriculture\": \"Agriculture, forestry, and fisheries\", \"Agronomy, plant breeding, plant protection\": \"Agriculture, forestry, and fisheries\", \"Fishery\": \"Agriculture, forestry, and fisheries\", \"Forestry\": \"Agriculture, forestry, and fisheries\", \"Horticulture and viticulture\": \"Agriculture, forestry, and fisheries\", \"Soil science\": \"Agriculture, forestry, and fisheries\",\n",
    "\t\"Animal and dairy sciences\": \"Animal and dairy sciences\", \"Animal science\": \"Animal and dairy sciences\", \"Dairy science\": \"Animal and dairy sciences\", \"Husbandry\": \"Animal and dairy sciences\", \"Pets\": \"Animal and dairy sciences\",\n",
    "\t\"Veterinary sciences\": \"Veterinary sciences\", \"Veterinary anaesthesiology\": \"Veterinary sciences\", \"Veterinary medicine\": \"Veterinary sciences\", \"Veterinary ophthalmology\": \"Veterinary sciences\", \"Veterinary pathobiology\": \"Veterinary sciences\", \"Veterinary radiology\": \"Veterinary sciences\", \"Veterinary reproduction\": \"Veterinary sciences\", \"Veterinary surgery\": \"Veterinary sciences\",\n",
    "\t\"Agricultural biotechnology\": \"Agricultural biotechnology\", \"Biomass feedstock production tech\": \"Agricultural biotechnology\", \"Biopharming\": \"Agricultural biotechnology\", \"Diagnostics\": \"Agricultural biotechnology\", \"Food biotechnology\": \"Agricultural biotechnology\", \"GM technology (crops, livestock)\": \"Agricultural biotechnology\", \"Livestock cloning\": \"Agricultural biotechnology\", \"Marker assisted selection\": \"Agricultural biotechnology\",\n",
    "\n",
    "\t# 5 Social Sciences\n",
    "\t\"Psychology\": \"Psychology\", \"Biological Psychology\": \"Psychology\", \"Clinical Psychology\": \"Psychology\", \"Cognitive Psychology\": \"Psychology\", \"Comparative Psychology\": \"Psychology\", \"Developmental Psychology\": \"Psychology\", \"Educational and School Psychology\": \"Psychology\", \"Evolutionary Psychology\": \"Psychology\", \"Industrial–organisational Psychology\": \"Psychology\", \"Personality Psychology\": \"Psychology\", \"Positive Psychology\": \"Psychology\", \"Social Psychology\": \"Psychology\",\n",
    "\t\"Economics, finance and business\": \"Economics, finance and business\", \"Business and Management\": \"Economics, finance and business\", \"Economics and Econometrics\": \"Economics, finance and business\", \"Finance\": \"Economics, finance and business\", \"Industrial relations\": \"Economics, finance and business\",\n",
    "\t\"Educational sciences\": \"Educational sciences\", \"Educational science\": \"Educational sciences\", \"General Education\": \"Educational sciences\",  \"Special Education (learning disabilities)\": \"Educational sciences\",\n",
    "\t\"Sociology\": \"Sociology\", \"Anthropology\": \"Sociology\", \"Demography\": \"Sociology\", \"Ethnology\": \"Sociology\", \"Family studies\": \"Sociology\", \"Social issues\": \"Sociology\", \"Social work\": \"Sociology\", \"Sociology\": \"Sociology\", \"Women's and gender studie\": \"Sociology\",\n",
    "\t\"Law\": \"Law\", \"Canon Law\": \"Law\", \"Civil Law\": \"Law\", \"Comparative Law\": \"Law\", \"Competition Law\": \"Law\", \"Constitutional Law\": \"Law\", \"Criminal Law\": \"Law\", \"Islamic Law\": \"Law\", \"Jewish Law\": \"Law\", \"Jurisprudence (Philosophy of Law)\": \"Law\",\n",
    "\t\"Political sciences\": \"Political sciences\", \"Political science\": \"Political sciences\", \"Comparative politics\": \"Political sciences\", \"Empirical pata analysis\": \"Political sciences\", \"International relations\": \"Political sciences\", \"Organisation theory\": \"Political sciences\", \"Political economy\": \"Political sciences\", \"Political philosophy\": \"Political sciences\", \"Public administration\": \"Political sciences\", \"Theories of the state\": \"Political sciences\",\n",
    "\t\"Social and economic geography\": \"Social and economic geography\", \"Cultural and economic geography\": \"Social and economic geography\", \"Transport planning\": \"Social and economic geography\", \"Urban studies\": \"Social and economic geography\",\n",
    "\t\"Media and communications\": \"Media and communications\", \"Information science - social\": \"Media and communications\", \"Journalism\": \"Media and communications\", \"Library science\": \"Media and communications\", \"Media and socio-cultural communication\": \"Media and communications\",\n",
    "\n",
    "\t# 6 \"Humanities\",\n",
    "\t\"History and Archaeology\": \"History and Archaeology\", \"Archaeology\": \"History and Archaeology\", \"History (Prehistory; Ancient; Modern world)\": \"History and Archaeology\",\n",
    "\t\"Languages and literature\": \"Languages and literature\", \"General language studies\": \"Languages and literature\", \"General literature studies\": \"Languages and literature\", \"Linguistics\": \"Languages and literature\", \"Literary theory\": \"Languages and literature\", \"Specific languages\": \"Languages and literature\", \"Specific literatures\": \"Languages and literature\",\n",
    "\t\"Philosophy, ethics and religion\": \"Philosophy, ethics and religion\", \"Ethics\": \"Philosophy, ethics and religion\", \"Philosophy of science/technology\": \"Philosophy, ethics and religion\", \"Philosophy\": \"Philosophy, ethics and religion\", \"Religious studies\": \"Philosophy, ethics and religion\", \"Theology\": \"Philosophy, ethics and religion\",\n",
    "\t\"Arts\": \"Arts\", \"Architectural design\": \"Arts\", \"Folklore studies\": \"Arts\", \"Media Studies (Film, Radio, TV)\": \"Arts\", \"Musicology\": \"Arts\", \"Performing arts studies\": \"Arts\",\n",
    "\n",
    "\t# 7 \"Support Activities\"\n",
    "\t\"Archives\": \"Support Activities\", \"Development\": \"Support Activities\", \"Urban planning\": \"Support Activities\"\n",
    "} \n",
    "\n",
    "def translate(mapper, count_mapper):\n",
    "    def translate_(col):\n",
    "        if col == \"\" or not col:\n",
    "            return None\n",
    "        fields = list(filter(None, [mapper.get(t) for t in col]))\n",
    "        if len(fields):\n",
    "            return fields[0]\n",
    "        else:\n",
    "            col_count = [count_mapper[x] for x in col]\n",
    "            return col[col_count.index(max(col_count))]\n",
    "    return udf(translate_, StringType())"
   ]
  },
  {
   "cell_type": "code",
   "execution_count": 0,
   "metadata": {
    "application/vnd.databricks.v1+cell": {
     "inputWidgets": {},
     "nuid": "bb688248-acab-40ca-a1a9-59e5c4d108e6",
     "showTitle": false,
     "title": ""
    }
   },
   "outputs": [
    {
     "data": {
      "text/html": [
       "<style scoped>\n",
       "  .ansiout {\n",
       "    display: block;\n",
       "    unicode-bidi: embed;\n",
       "    white-space: pre-wrap;\n",
       "    word-wrap: break-word;\n",
       "    word-break: break-all;\n",
       "    font-family: \"Source Code Pro\", \"Menlo\", monospace;;\n",
       "    font-size: 13px;\n",
       "    color: #555;\n",
       "    margin-left: 4px;\n",
       "    line-height: 19px;\n",
       "  }\n",
       "</style>"
      ]
     },
     "metadata": {
      "application/vnd.databricks.v1+output": {
       "arguments": {},
       "data": "",
       "errorSummary": "",
       "errorTraceType": null,
       "metadata": {},
       "type": "ipynbError"
      }
     },
     "output_type": "display_data"
    }
   ],
   "source": [
    "# Finding relevant `Field_of_Study` from `fos` list with mapped value with `translate` udf into \"Field_of_Study\" column.\n",
    "union = union.select(\"*\", F.col(\"fos\"), translate(decipline_mapper, count_mapper)(\"fos\").alias(\"Text\"))\n",
    "# Dropping `fos` column\n",
    "union = union.drop(\"fos\")\n",
    "\n",
    "# Building Frame of distinct disciplines out of \"Field_of_Study\" column.\n",
    "FoS_frame = distinct_frame_from_cols(union, [\"Text\"])\n",
    "save_parquet_frame(FoS_frame, \"FieldOfStudy\")\n",
    "FoS_frame.show()"
   ]
  },
  {
   "cell_type": "code",
   "execution_count": 0,
   "metadata": {
    "application/vnd.databricks.v1+cell": {
     "inputWidgets": {},
     "nuid": "69564320-6648-489a-a153-e21c3eba409b",
     "showTitle": false,
     "title": ""
    }
   },
   "outputs": [
    {
     "data": {
      "text/html": [
       "<style scoped>\n",
       "  .ansiout {\n",
       "    display: block;\n",
       "    unicode-bidi: embed;\n",
       "    white-space: pre-wrap;\n",
       "    word-wrap: break-word;\n",
       "    word-break: break-all;\n",
       "    font-family: \"Source Code Pro\", \"Menlo\", monospace;;\n",
       "    font-size: 13px;\n",
       "    color: #555;\n",
       "    margin-left: 4px;\n",
       "    line-height: 19px;\n",
       "  }\n",
       "</style>"
      ]
     },
     "metadata": {
      "application/vnd.databricks.v1+output": {
       "arguments": {},
       "data": "",
       "errorSummary": "",
       "errorTraceType": null,
       "metadata": {},
       "type": "ipynbError"
      }
     },
     "output_type": "display_data"
    }
   ],
   "source": [
    "# Reading Mapping field of study to id, wuth RDD map for replacing \"Field_of_Study\" to relevant ID in the union table.\n",
    "FoSrdd = FoS_frame.rdd.collectAsMap()\n",
    "\n",
    "def map_fos_id(rdd):\n",
    "    def map_fos_id_(col):\n",
    "        if col == \"null\" or col == \"\" or not col:\n",
    "            return None\n",
    "        try:\n",
    "            matches = [fosTuple[0] for fosTuple in list(rdd.items()) if fosTuple[1] == col]\n",
    "            if len(matches):\n",
    "                return matches[0]\n",
    "            else:\n",
    "                return None\n",
    "        except ValueError:\n",
    "            return None\n",
    "    return udf(map_fos_id_, LongType())"
   ]
  },
  {
   "cell_type": "code",
   "execution_count": 0,
   "metadata": {
    "application/vnd.databricks.v1+cell": {
     "inputWidgets": {},
     "nuid": "05fbe646-e158-4efe-9eb9-a4d836b6ccc2",
     "showTitle": false,
     "title": ""
    }
   },
   "outputs": [
    {
     "data": {
      "text/html": [
       "<style scoped>\n",
       "  .ansiout {\n",
       "    display: block;\n",
       "    unicode-bidi: embed;\n",
       "    white-space: pre-wrap;\n",
       "    word-wrap: break-word;\n",
       "    word-break: break-all;\n",
       "    font-family: \"Source Code Pro\", \"Menlo\", monospace;;\n",
       "    font-size: 13px;\n",
       "    color: #555;\n",
       "    margin-left: 4px;\n",
       "    line-height: 19px;\n",
       "  }\n",
       "</style>"
      ]
     },
     "metadata": {
      "application/vnd.databricks.v1+output": {
       "arguments": {},
       "data": "",
       "errorSummary": "",
       "errorTraceType": null,
       "metadata": {},
       "type": "ipynbError"
      }
     },
     "output_type": "display_data"
    }
   ],
   "source": [
    "union = union.withColumn(\"FOS_ID\", map_fos_id(FoSrdd)(\"Text\")).drop(\"Text\")\n",
    "union.show()"
   ]
  },
  {
   "cell_type": "code",
   "execution_count": 0,
   "metadata": {
    "application/vnd.databricks.v1+cell": {
     "inputWidgets": {},
     "nuid": "2190b5a1-8cb7-4dbe-a852-ef19f9305934",
     "showTitle": false,
     "title": ""
    }
   },
   "outputs": [
    {
     "data": {
      "text/html": [
       "<style scoped>\n",
       "  .ansiout {\n",
       "    display: block;\n",
       "    unicode-bidi: embed;\n",
       "    white-space: pre-wrap;\n",
       "    word-wrap: break-word;\n",
       "    word-break: break-all;\n",
       "    font-family: \"Source Code Pro\", \"Menlo\", monospace;;\n",
       "    font-size: 13px;\n",
       "    color: #555;\n",
       "    margin-left: 4px;\n",
       "    line-height: 19px;\n",
       "  }\n",
       "</style>"
      ]
     },
     "metadata": {
      "application/vnd.databricks.v1+output": {
       "arguments": {},
       "data": "",
       "errorSummary": "",
       "errorTraceType": null,
       "metadata": {},
       "type": "ipynbError"
      }
     },
     "output_type": "display_data"
    }
   ],
   "source": [
    "joined = union.join(FoS_frame, union.FOS_ID == FoS_frame.id, how=\"left\")\n",
    "joined.show(10)"
   ]
  },
  {
   "cell_type": "markdown",
   "metadata": {
    "application/vnd.databricks.v1+cell": {
     "inputWidgets": {},
     "nuid": "3a625b76-62b2-4a67-bb00-2cb17246dd2f",
     "showTitle": false,
     "title": ""
    }
   },
   "source": [
    "### Author schema"
   ]
  },
  {
   "cell_type": "code",
   "execution_count": 0,
   "metadata": {
    "application/vnd.databricks.v1+cell": {
     "inputWidgets": {},
     "nuid": "32a34b07-f881-4e4e-9a9e-e4b100f63944",
     "showTitle": false,
     "title": ""
    }
   },
   "outputs": [
    {
     "data": {
      "text/html": [
       "<style scoped>\n",
       "  .ansiout {\n",
       "    display: block;\n",
       "    unicode-bidi: embed;\n",
       "    white-space: pre-wrap;\n",
       "    word-wrap: break-word;\n",
       "    word-break: break-all;\n",
       "    font-family: \"Source Code Pro\", \"Menlo\", monospace;;\n",
       "    font-size: 13px;\n",
       "    color: #555;\n",
       "    margin-left: 4px;\n",
       "    line-height: 19px;\n",
       "  }\n",
       "</style>"
      ]
     },
     "metadata": {
      "application/vnd.databricks.v1+output": {
       "arguments": {},
       "data": "",
       "errorSummary": "",
       "errorTraceType": null,
       "metadata": {},
       "type": "ipynbError"
      }
     },
     "output_type": "display_data"
    }
   ],
   "source": [
    "# !pip install geograpy3 nltk -q"
   ]
  },
  {
   "cell_type": "code",
   "execution_count": 0,
   "metadata": {
    "application/vnd.databricks.v1+cell": {
     "inputWidgets": {},
     "nuid": "88a9a139-3dfb-4e38-a950-cfbac1fd694f",
     "showTitle": false,
     "title": ""
    }
   },
   "outputs": [
    {
     "data": {
      "text/html": [
       "<style scoped>\n",
       "  .ansiout {\n",
       "    display: block;\n",
       "    unicode-bidi: embed;\n",
       "    white-space: pre-wrap;\n",
       "    word-wrap: break-word;\n",
       "    word-break: break-all;\n",
       "    font-family: \"Source Code Pro\", \"Menlo\", monospace;;\n",
       "    font-size: 13px;\n",
       "    color: #555;\n",
       "    margin-left: 4px;\n",
       "    line-height: 19px;\n",
       "  }\n",
       "</style>"
      ]
     },
     "metadata": {
      "application/vnd.databricks.v1+output": {
       "arguments": {},
       "data": "",
       "errorSummary": "",
       "errorTraceType": null,
       "metadata": {},
       "type": "ipynbError"
      }
     },
     "output_type": "display_data"
    }
   ],
   "source": [
    "#import geograpy\n",
    "#import nltk\n",
    "#nltk.download('punkt')\n",
    "#nltk.download('averaged_perceptron_tagger')\n",
    "#nltk.download('maxent_ne_chunker')\n",
    "#nltk.download('words')"
   ]
  },
  {
   "cell_type": "code",
   "execution_count": 0,
   "metadata": {
    "application/vnd.databricks.v1+cell": {
     "inputWidgets": {},
     "nuid": "ade1b8dc-9a75-41e4-abd1-fc0accf72db6",
     "showTitle": false,
     "title": ""
    }
   },
   "outputs": [
    {
     "data": {
      "text/html": [
       "<style scoped>\n",
       "  .ansiout {\n",
       "    display: block;\n",
       "    unicode-bidi: embed;\n",
       "    white-space: pre-wrap;\n",
       "    word-wrap: break-word;\n",
       "    word-break: break-all;\n",
       "    font-family: \"Source Code Pro\", \"Menlo\", monospace;;\n",
       "    font-size: 13px;\n",
       "    color: #555;\n",
       "    margin-left: 4px;\n",
       "    line-height: 19px;\n",
       "  }\n",
       "</style>"
      ]
     },
     "metadata": {
      "application/vnd.databricks.v1+output": {
       "arguments": {},
       "data": "",
       "errorSummary": "",
       "errorTraceType": null,
       "metadata": {},
       "type": "ipynbError"
      }
     },
     "output_type": "display_data"
    }
   ],
   "source": [
    "#str(geograpy.locateCity(\"Michigan\"))\n",
    "#geograpy.get_place_context(text=\"University of Michigan, USA\")"
   ]
  },
  {
   "cell_type": "code",
   "execution_count": 0,
   "metadata": {
    "application/vnd.databricks.v1+cell": {
     "inputWidgets": {},
     "nuid": "412af790-32d9-4663-a23a-0386d13861dc",
     "showTitle": false,
     "title": ""
    }
   },
   "outputs": [
    {
     "data": {
      "text/html": [
       "<style scoped>\n",
       "  .ansiout {\n",
       "    display: block;\n",
       "    unicode-bidi: embed;\n",
       "    white-space: pre-wrap;\n",
       "    word-wrap: break-word;\n",
       "    word-break: break-all;\n",
       "    font-family: \"Source Code Pro\", \"Menlo\", monospace;;\n",
       "    font-size: 13px;\n",
       "    color: #555;\n",
       "    margin-left: 4px;\n",
       "    line-height: 19px;\n",
       "  }\n",
       "</style>"
      ]
     },
     "metadata": {
      "application/vnd.databricks.v1+output": {
       "arguments": {},
       "data": "",
       "errorSummary": "",
       "errorTraceType": null,
       "metadata": {},
       "type": "ipynbError"
      }
     },
     "output_type": "display_data"
    }
   ],
   "source": [
    "#print(geograpy.get_place_context(text=\"Pune, India\"))"
   ]
  },
  {
   "cell_type": "code",
   "execution_count": 0,
   "metadata": {
    "application/vnd.databricks.v1+cell": {
     "inputWidgets": {},
     "nuid": "ec183be6-80b5-458e-806a-8623c52af7fd",
     "showTitle": false,
     "title": ""
    }
   },
   "outputs": [
    {
     "data": {
      "text/html": [
       "<style scoped>\n",
       "  .ansiout {\n",
       "    display: block;\n",
       "    unicode-bidi: embed;\n",
       "    white-space: pre-wrap;\n",
       "    word-wrap: break-word;\n",
       "    word-break: break-all;\n",
       "    font-family: \"Source Code Pro\", \"Menlo\", monospace;;\n",
       "    font-size: 13px;\n",
       "    color: #555;\n",
       "    margin-left: 4px;\n",
       "    line-height: 19px;\n",
       "  }\n",
       "</style>"
      ]
     },
     "metadata": {
      "application/vnd.databricks.v1+output": {
       "arguments": {},
       "data": "",
       "errorSummary": "",
       "errorTraceType": null,
       "metadata": {},
       "type": "ipynbError"
      }
     },
     "output_type": "display_data"
    }
   ],
   "source": [
    "# Data path:\n",
    "# path = \"dbfs:/FileStore/data/split_data/\"\n",
    "\n",
    "# Reading first chunk for Testing\n",
    "\n",
    "# union = spark.read.option(\"inferSchema\", True).json(f\"{path}data_PART_0.json\")\n",
    "# union.show(5)"
   ]
  },
  {
   "cell_type": "code",
   "execution_count": 0,
   "metadata": {
    "application/vnd.databricks.v1+cell": {
     "inputWidgets": {},
     "nuid": "be77b338-09c4-4f19-afce-e8f7f0d2038d",
     "showTitle": false,
     "title": ""
    }
   },
   "outputs": [
    {
     "data": {
      "text/html": [
       "<style scoped>\n",
       "  .ansiout {\n",
       "    display: block;\n",
       "    unicode-bidi: embed;\n",
       "    white-space: pre-wrap;\n",
       "    word-wrap: break-word;\n",
       "    word-break: break-all;\n",
       "    font-family: \"Source Code Pro\", \"Menlo\", monospace;;\n",
       "    font-size: 13px;\n",
       "    color: #555;\n",
       "    margin-left: 4px;\n",
       "    line-height: 19px;\n",
       "  }\n",
       "</style>"
      ]
     },
     "metadata": {
      "application/vnd.databricks.v1+output": {
       "arguments": {},
       "data": "",
       "errorSummary": "",
       "errorTraceType": null,
       "metadata": {},
       "type": "ipynbError"
      }
     },
     "output_type": "display_data"
    }
   ],
   "source": [
    "# Extracting Authors from the dataset\n",
    "\n",
    "# Exploding a column returns a new row for each element in the given array or map type. \n",
    "# For each item in the map/array of data it creates a copy of the row and with that element in new column.\n",
    "# Here, We only select the exploded column, and so we only get row with author object in the generated frame.\n",
    "authors_frame = union.select(F.explode_outer(\"authors\").alias(\"authors\"))\n",
    "\n",
    "\n",
    "# selectExpr Projects a set of SQL expressions and returns a new DataFrame. e.g. (authors['name', 'email'] => [authors.name, authors.email])\n",
    "\n",
    "authors_frame = authors_frame.selectExpr(\"authors.*\")\n",
    "authors_frame = authors_frame.drop(\"org_zh\", \"orgs_zh\")\n",
    "authors_frame.printSchema()"
   ]
  },
  {
   "cell_type": "code",
   "execution_count": 0,
   "metadata": {
    "application/vnd.databricks.v1+cell": {
     "inputWidgets": {},
     "nuid": "734a0db3-557f-4571-8596-5d84ed8153a9",
     "showTitle": false,
     "title": ""
    }
   },
   "outputs": [
    {
     "data": {
      "text/html": [
       "<style scoped>\n",
       "  .ansiout {\n",
       "    display: block;\n",
       "    unicode-bidi: embed;\n",
       "    white-space: pre-wrap;\n",
       "    word-wrap: break-word;\n",
       "    word-break: break-all;\n",
       "    font-family: \"Source Code Pro\", \"Menlo\", monospace;;\n",
       "    font-size: 13px;\n",
       "    color: #555;\n",
       "    margin-left: 4px;\n",
       "    line-height: 19px;\n",
       "  }\n",
       "</style>"
      ]
     },
     "metadata": {
      "application/vnd.databricks.v1+output": {
       "arguments": {},
       "data": "",
       "errorSummary": "",
       "errorTraceType": null,
       "metadata": {},
       "type": "ipynbError"
      }
     },
     "output_type": "display_data"
    }
   ],
   "source": [
    "org_frame = authors_frame.select(\"oid\", \"orcid\", \"org\", F.explode(\"orgs\").alias(\"org_name\"))\n",
    "org_frame = org_frame.na.drop(\"all\").distinct()\n",
    "org_frame.show()"
   ]
  },
  {
   "cell_type": "code",
   "execution_count": 0,
   "metadata": {
    "application/vnd.databricks.v1+cell": {
     "inputWidgets": {},
     "nuid": "2d28e23f-8e6b-4d23-a692-143724ecb377",
     "showTitle": false,
     "title": ""
    }
   },
   "outputs": [
    {
     "data": {
      "text/html": [
       "<style scoped>\n",
       "  .ansiout {\n",
       "    display: block;\n",
       "    unicode-bidi: embed;\n",
       "    white-space: pre-wrap;\n",
       "    word-wrap: break-word;\n",
       "    word-break: break-all;\n",
       "    font-family: \"Source Code Pro\", \"Menlo\", monospace;;\n",
       "    font-size: 13px;\n",
       "    color: #555;\n",
       "    margin-left: 4px;\n",
       "    line-height: 19px;\n",
       "  }\n",
       "</style>"
      ]
     },
     "metadata": {
      "application/vnd.databricks.v1+output": {
       "arguments": {},
       "data": "",
       "errorSummary": "",
       "errorTraceType": null,
       "metadata": {},
       "type": "ipynbError"
      }
     },
     "output_type": "display_data"
    }
   ],
   "source": [
    "# TODO:\n",
    "# 1. Extract Org, Country and city for each ORG\n",
    "# 2. Save Org Frame"
   ]
  },
  {
   "cell_type": "code",
   "execution_count": 0,
   "metadata": {
    "application/vnd.databricks.v1+cell": {
     "inputWidgets": {},
     "nuid": "45e2b3c5-88bc-4131-a1bc-af3c88aec3f4",
     "showTitle": false,
     "title": ""
    }
   },
   "outputs": [
    {
     "data": {
      "text/html": [
       "<style scoped>\n",
       "  .ansiout {\n",
       "    display: block;\n",
       "    unicode-bidi: embed;\n",
       "    white-space: pre-wrap;\n",
       "    word-wrap: break-word;\n",
       "    word-break: break-all;\n",
       "    font-family: \"Source Code Pro\", \"Menlo\", monospace;;\n",
       "    font-size: 13px;\n",
       "    color: #555;\n",
       "    margin-left: 4px;\n",
       "    line-height: 19px;\n",
       "  }\n",
       "</style>"
      ]
     },
     "metadata": {
      "application/vnd.databricks.v1+output": {
       "arguments": {},
       "data": "",
       "errorSummary": "",
       "errorTraceType": null,
       "metadata": {},
       "type": "ipynbError"
      }
     },
     "output_type": "display_data"
    }
   ],
   "source": [
    "def author_name(name):\n",
    "    if name:\n",
    "        name = name.split()\n",
    "        if len(name) > 1:\n",
    "            if len(name) == 1:\n",
    "                return (name[0], None, None)\n",
    "            return (name[0], ' '.join(name[1:-1]), name[-1])\n",
    "    return None, None, None\n",
    "\n",
    "author_name_schema = StructType([\n",
    "    StructField(\"FirstName\", StringType(), False),\n",
    "    StructField(\"MiddleName\", StringType(), False),\n",
    "    StructField(\"LastName\", StringType(), False),\n",
    "])\n",
    "\n",
    "author_name_udf = udf(author_name, author_name_schema)\n",
    "\n",
    "authors_frame = authors_frame.select(\"*\", author_name_udf(\"name\").alias(\"author_name\"))\n",
    "authors_frame = authors_frame.select(\"*\", \"author_name.*\")\n",
    "authors_frame = authors_frame.drop(\"name\", \"author_name\", \"name_zh\", \"bio\", \"sid\", \"position\", \"avatar\", \"homepage\", \"oid\", \"orcid\", \"oid_zh\", \"orgs_zh\", \"orgs\", \"orgid\", \"org\", \"g_id\")\n",
    "\n",
    "save_parquet_frame(authors_frame, \"Author\")\n",
    "authors_frame.show()"
   ]
  },
  {
   "cell_type": "markdown",
   "metadata": {
    "application/vnd.databricks.v1+cell": {
     "inputWidgets": {},
     "nuid": "bc1c2db3-3326-4c99-b6c5-d8cca6654ee5",
     "showTitle": false,
     "title": ""
    }
   },
   "source": [
    "#### Extracting Venue (Conference/Workshop where article was presneted/cited) from the dataset"
   ]
  },
  {
   "cell_type": "code",
   "execution_count": 0,
   "metadata": {
    "application/vnd.databricks.v1+cell": {
     "inputWidgets": {},
     "nuid": "71db9934-f195-443e-8872-b536000d7b3a",
     "showTitle": false,
     "title": ""
    }
   },
   "outputs": [
    {
     "data": {
      "text/html": [
       "<style scoped>\n",
       "  .ansiout {\n",
       "    display: block;\n",
       "    unicode-bidi: embed;\n",
       "    white-space: pre-wrap;\n",
       "    word-wrap: break-word;\n",
       "    word-break: break-all;\n",
       "    font-family: \"Source Code Pro\", \"Menlo\", monospace;;\n",
       "    font-size: 13px;\n",
       "    color: #555;\n",
       "    margin-left: 4px;\n",
       "    line-height: 19px;\n",
       "  }\n",
       "</style>"
      ]
     },
     "metadata": {
      "application/vnd.databricks.v1+output": {
       "arguments": {},
       "data": "",
       "errorSummary": "",
       "errorTraceType": null,
       "metadata": {},
       "type": "ipynbError"
      }
     },
     "output_type": "display_data"
    }
   ],
   "source": [
    "# Exploding a column returns a new row for each element in the given array or map type. \n",
    "# For each item in the map/array of data it creates a copy of the row and with that element in new column.\n",
    "# Here, We only select the exploded column, and so we only get row with author object in the generated frame.\n",
    " \n",
    "venue_frame = union.select(\"venue\")\n",
    "\n",
    "# selectExpr Projects a set of SQL expressions and returns a new DataFrame. e.g. (authors['name', 'email'] => [authors.name, authors.email])\n",
    "venue_frame = venue_frame.selectExpr(\"venue.*\")\n",
    "venue_frame.printSchema()"
   ]
  },
  {
   "cell_type": "code",
   "execution_count": 0,
   "metadata": {
    "application/vnd.databricks.v1+cell": {
     "inputWidgets": {},
     "nuid": "677b5239-bdbb-4bda-bcee-76c3a44f60d7",
     "showTitle": false,
     "title": ""
    }
   },
   "outputs": [
    {
     "data": {
      "text/html": [
       "<style scoped>\n",
       "  .ansiout {\n",
       "    display: block;\n",
       "    unicode-bidi: embed;\n",
       "    white-space: pre-wrap;\n",
       "    word-wrap: break-word;\n",
       "    word-break: break-all;\n",
       "    font-family: \"Source Code Pro\", \"Menlo\", monospace;;\n",
       "    font-size: 13px;\n",
       "    color: #555;\n",
       "    margin-left: 4px;\n",
       "    line-height: 19px;\n",
       "  }\n",
       "</style>"
      ]
     },
     "metadata": {
      "application/vnd.databricks.v1+output": {
       "arguments": {},
       "data": "",
       "errorSummary": "",
       "errorTraceType": null,
       "metadata": {},
       "type": "ipynbError"
      }
     },
     "output_type": "display_data"
    }
   ],
   "source": [
    "venue_frame.show()"
   ]
  },
  {
   "cell_type": "code",
   "execution_count": 0,
   "metadata": {
    "application/vnd.databricks.v1+cell": {
     "inputWidgets": {},
     "nuid": "6b7efc4b-a0d1-4101-94e8-b50243860fd0",
     "showTitle": false,
     "title": ""
    }
   },
   "outputs": [
    {
     "data": {
      "text/html": [
       "<style scoped>\n",
       "  .ansiout {\n",
       "    display: block;\n",
       "    unicode-bidi: embed;\n",
       "    white-space: pre-wrap;\n",
       "    word-wrap: break-word;\n",
       "    word-break: break-all;\n",
       "    font-family: \"Source Code Pro\", \"Menlo\", monospace;;\n",
       "    font-size: 13px;\n",
       "    color: #555;\n",
       "    margin-left: 4px;\n",
       "    line-height: 19px;\n",
       "  }\n",
       "</style>"
      ]
     },
     "metadata": {
      "application/vnd.databricks.v1+output": {
       "arguments": {},
       "data": "",
       "errorSummary": "",
       "errorTraceType": null,
       "metadata": {},
       "type": "ipynbError"
      }
     },
     "output_type": "display_data"
    }
   ],
   "source": [
    "import requests \n",
    "\n",
    "def venue_API(venue_string):\n",
    "    venue_string = venue_string.split(' ')[0]    \n",
    "    URL = \"http://dblp.org/search/venue/api?q=\" + venue_string + \"%3A$&format=json\"\n",
    "    print(URL)\n",
    "    r = requests.get(url = URL)\n",
    "    data = r.json()\n",
    "    coAuths=[]\n",
    "    joursConfs=[]\n",
    "    try:\n",
    "        data = data['result']['hits']\n",
    "        if int(data['@total']) > 0:\n",
    "            return data['hit'][0]['info']['venue'], data['hit'][0]['info']['acronym'], data['hit'][0]['info']['type'], data['hit'][0]['info']['url']\n",
    "    except:\n",
    "        pass\n",
    "    return venue_string, None, None, None"
   ]
  },
  {
   "cell_type": "code",
   "execution_count": 0,
   "metadata": {
    "application/vnd.databricks.v1+cell": {
     "inputWidgets": {},
     "nuid": "daa3078e-fec6-4fd8-9ea1-fd57e6db70e0",
     "showTitle": false,
     "title": ""
    }
   },
   "outputs": [
    {
     "data": {
      "text/html": [
       "<style scoped>\n",
       "  .ansiout {\n",
       "    display: block;\n",
       "    unicode-bidi: embed;\n",
       "    white-space: pre-wrap;\n",
       "    word-wrap: break-word;\n",
       "    word-break: break-all;\n",
       "    font-family: \"Source Code Pro\", \"Menlo\", monospace;;\n",
       "    font-size: 13px;\n",
       "    color: #555;\n",
       "    margin-left: 4px;\n",
       "    line-height: 19px;\n",
       "  }\n",
       "</style>"
      ]
     },
     "metadata": {
      "application/vnd.databricks.v1+output": {
       "arguments": {},
       "data": "",
       "errorSummary": "",
       "errorTraceType": null,
       "metadata": {},
       "type": "ipynbError"
      }
     },
     "output_type": "display_data"
    }
   ],
   "source": [
    "schema = StructType([\n",
    "    StructField(\"name\", StringType(), False),\n",
    "    StructField(\"name_s\", StringType(), False),\n",
    "    StructField(\"type\", StringType(), False),\n",
    "    StructField(\"src\", StringType(), False),\n",
    "])\n",
    "\n",
    "venue_query_udf = udf(venue_API, schema)\n",
    "\n",
    "venue_frame = venue_frame.select(\"*\", venue_query_udf(F.col(\"raw\")).alias(\"query_results\"))\n",
    "venue_frame = venue_frame.drop('name_d', 'raw', 'name_s', 'name', 'sid', 'issn', 'online_issn', 'publisher', 'type', 'src', 'raw_zh', 't')\n",
    "venue_frame = venue_frame.select(\"*\", \"query_results.*\")\n",
    "venue_frame = venue_frame.drop(\"query_results\")\n",
    "\n",
    "save_parquet_frame(venue_frame, \"Venue\", clean=True)\n",
    "venue_frame.show()"
   ]
  },
  {
   "cell_type": "code",
   "execution_count": 0,
   "metadata": {
    "application/vnd.databricks.v1+cell": {
     "inputWidgets": {},
     "nuid": "c538bf91-d7b4-40b2-966a-8ab214c78b70",
     "showTitle": false,
     "title": ""
    }
   },
   "outputs": [
    {
     "data": {
      "text/html": [
       "<style scoped>\n",
       "  .ansiout {\n",
       "    display: block;\n",
       "    unicode-bidi: embed;\n",
       "    white-space: pre-wrap;\n",
       "    word-wrap: break-word;\n",
       "    word-break: break-all;\n",
       "    font-family: \"Source Code Pro\", \"Menlo\", monospace;;\n",
       "    font-size: 13px;\n",
       "    color: #555;\n",
       "    margin-left: 4px;\n",
       "    line-height: 19px;\n",
       "  }\n",
       "</style>"
      ]
     },
     "metadata": {
      "application/vnd.databricks.v1+output": {
       "arguments": {},
       "data": "",
       "errorSummary": "",
       "errorTraceType": null,
       "metadata": {},
       "type": "ipynbError"
      }
     },
     "output_type": "display_data"
    }
   ],
   "source": [
    "## TODO: \n",
    "# 1. Pull more info before save"
   ]
  },
  {
   "cell_type": "code",
   "execution_count": 0,
   "metadata": {
    "application/vnd.databricks.v1+cell": {
     "inputWidgets": {},
     "nuid": "512aeff7-38bf-4747-b6aa-6c49f922433c",
     "showTitle": false,
     "title": ""
    }
   },
   "outputs": [
    {
     "data": {
      "text/html": [
       "<style scoped>\n",
       "  .ansiout {\n",
       "    display: block;\n",
       "    unicode-bidi: embed;\n",
       "    white-space: pre-wrap;\n",
       "    word-wrap: break-word;\n",
       "    word-break: break-all;\n",
       "    font-family: \"Source Code Pro\", \"Menlo\", monospace;;\n",
       "    font-size: 13px;\n",
       "    color: #555;\n",
       "    margin-left: 4px;\n",
       "    line-height: 19px;\n",
       "  }\n",
       "</style>"
      ]
     },
     "metadata": {
      "application/vnd.databricks.v1+output": {
       "arguments": {},
       "data": "",
       "errorSummary": "",
       "errorTraceType": null,
       "metadata": {},
       "type": "ipynbError"
      }
     },
     "output_type": "display_data"
    }
   ],
   "source": [
    "union.printSchema()"
   ]
  },
  {
   "cell_type": "code",
   "execution_count": 0,
   "metadata": {
    "application/vnd.databricks.v1+cell": {
     "inputWidgets": {},
     "nuid": "e8a107f1-5d77-4591-aca9-7905df8c23c5",
     "showTitle": false,
     "title": ""
    }
   },
   "outputs": [
    {
     "data": {
      "text/html": [
       "<style scoped>\n",
       "  .ansiout {\n",
       "    display: block;\n",
       "    unicode-bidi: embed;\n",
       "    white-space: pre-wrap;\n",
       "    word-wrap: break-word;\n",
       "    word-break: break-all;\n",
       "    font-family: \"Source Code Pro\", \"Menlo\", monospace;;\n",
       "    font-size: 13px;\n",
       "    color: #555;\n",
       "    margin-left: 4px;\n",
       "    line-height: 19px;\n",
       "  }\n",
       "</style>"
      ]
     },
     "metadata": {
      "application/vnd.databricks.v1+output": {
       "arguments": {},
       "data": "",
       "errorSummary": "",
       "errorTraceType": null,
       "metadata": {},
       "type": "ipynbError"
      }
     },
     "output_type": "display_data"
    }
   ],
   "source": [
    "union.show(5)"
   ]
  },
  {
   "cell_type": "markdown",
   "metadata": {
    "application/vnd.databricks.v1+cell": {
     "inputWidgets": {},
     "nuid": "5eb7e0bc-d81b-4afc-bb67-7cea2f7fed8f",
     "showTitle": false,
     "title": ""
    }
   },
   "source": [
    "#### Keyword Lookup"
   ]
  },
  {
   "cell_type": "code",
   "execution_count": 0,
   "metadata": {
    "application/vnd.databricks.v1+cell": {
     "inputWidgets": {},
     "nuid": "96661a54-c862-41ab-94f9-0dccb5f29d45",
     "showTitle": false,
     "title": ""
    }
   },
   "outputs": [
    {
     "data": {
      "text/plain": [
       "Out[22]: {'short time': 210,\n",
       " 'installation showcase': 1,\n",
       " ' geophysics': 62,\n",
       " 'computer-animated narrative film': 1,\n",
       " 'numerous dartboard-like spider web': 1,\n",
       " 'earth science': 124,\n",
       " 'hygienist': 8,\n",
       " 'interaction': 2166,\n",
       " 'Darwinian evolution': 10,\n",
       " 'reference photo': 1,\n",
       " 'urban spatial distribution': 1,\n",
       " 'ces': 4,\n",
       " 'standards': 1275,\n",
       " 'bookshelf': 1,\n",
       " 'embodies phenomenological issue': 1,\n",
       " 'Design engineering': 195,\n",
       " 'relevant knowledge': 67,\n",
       " 'dynamic construction': 43,\n",
       " 'vortex': 30,\n",
       " 'novel tactile': 1,\n",
       " 'old theorem': 2,\n",
       " 'magnetoencephalography.epilepsy.functional imaging.children': 1,\n",
       " 'art': 2841,\n",
       " 'Infant Mortality': 4,\n",
       " 'editor-in-chief': 3,\n",
       " 'facs': 32,\n",
       " 'logical paradox': 2,\n",
       " 'cheap information': 1,\n",
       " 'compatible compiler': 2,\n",
       " 'IC manufacturing variability': 1,\n",
       " 'corresponding image plane': 1,\n",
       " 'India circa': 1,\n",
       " 'Color Vision': 6,\n",
       " 'ki n': 1,\n",
       " 'square matrix': 99,\n",
       " 'complete domain knowledge': 1,\n",
       " 'GIS': 1067,\n",
       " 'Operating System': 875,\n",
       " 'open-access Web dead': 1,\n",
       " 'spectral approximation': 36,\n",
       " 'impassioned gesture': 1,\n",
       " 'Linear Hashing': 1,\n",
       " 'Function Matching': 1,\n",
       " 'Communication networks': 794,\n",
       " 'information scientist': 25,\n",
       " 'present flow tile': 1,\n",
       " 'Hierarchical models': 42,\n",
       " 'interactive editing system': 4,\n",
       " 'visual classification tasks': 1,\n",
       " 'massive computation': 8,\n",
       " 'finite structure': 93,\n",
       " 'Biometry': 31,\n",
       " 'mobile radio': 6360,\n",
       " 'Generation X': 3,\n",
       " 'Gibbs Phenomena': 1,\n",
       " 'artificial intelligence community': 23,\n",
       " 'Dilbert University': 1,\n",
       " 'social web': 539,\n",
       " 'Contraction': 42,\n",
       " 'new code': 174,\n",
       " 'edd': 4,\n",
       " 'analysis tool': 436,\n",
       " 'computers blend': 1,\n",
       " 'smooth vector field': 6,\n",
       " 'aluminum can': 3,\n",
       " 'integer-valued recursive function': 1,\n",
       " 'distributed agency': 1,\n",
       " 'entrance exam': 3,\n",
       " 'function mean': 1,\n",
       " 'new tool': 653,\n",
       " 'new ability': 7,\n",
       " 'boundary network': 2,\n",
       " 'tumour immunology': 2,\n",
       " 'requirements analysis phase': 18,\n",
       " 'beautiful interpolants': 1,\n",
       " 'poetry': 48,\n",
       " 'Bug Busters': 1,\n",
       " 'Outcome set': 7,\n",
       " 'Dualing cube': 1,\n",
       " 'anomalous speed': 2,\n",
       " 'interactive form': 14,\n",
       " 'data process': 28,\n",
       " 'conjunctive subtyping': 1,\n",
       " 'one-way constraint': 7,\n",
       " 'opposite element': 1,\n",
       " 'sdd': 8,\n",
       " 'explicit reconstruction': 2,\n",
       " 'unintended effects': 3,\n",
       " 'context photography': 7,\n",
       " 'parent node': 43,\n",
       " 'First Course': 1,\n",
       " 'Charlotte Lee': 1,\n",
       " 'solution extraction phase': 1,\n",
       " 'click fraud': 46,\n",
       " 'Caccetta-Häggkvist Conjecture': 1,\n",
       " 'Ramsey theory': 92,\n",
       " 'correspondent computing': 1,\n",
       " 'subgraphs resemblant': 1,\n",
       " 'Composition Process': 1,\n",
       " 'network resource': 769,\n",
       " 'perceived consequence': 2,\n",
       " 'Ambient Video': 1,\n",
       " 'Augmented keyframe': 1,\n",
       " 'constrained matching pursuit': 1,\n",
       " 'greedy algorithm': 2730,\n",
       " 'social science': 1384,\n",
       " 'automatic coding': 11,\n",
       " 'priority': 198,\n",
       " 'residue index': 2,\n",
       " 'hierarchical associative memory': 4,\n",
       " 'brands': 22,\n",
       " 'transaction': 255,\n",
       " 'computer graphics industry': 6,\n",
       " 'confidentiality property': 19,\n",
       " 'software quality': 6546,\n",
       " 'additional landmark': 2,\n",
       " 'Lovely Rita': 1,\n",
       " 'square n': 2,\n",
       " 'conventional information security research': 1,\n",
       " 'Batteriespeicher': 2,\n",
       " 'hashing functions': 20,\n",
       " 'Multiple eigenspaces': 1,\n",
       " 'musical flock': 1,\n",
       " 'random relay selection process': 1,\n",
       " ' Rational Computation': 1,\n",
       " 'diverse middlebox functionality': 1,\n",
       " 'gradual warping': 1,\n",
       " 'Delay Line': 3,\n",
       " 'sweep representation': 1,\n",
       " 'Moores law': 9,\n",
       " 'valid email': 3,\n",
       " 'sustainability modelling': 3,\n",
       " 'reliable code': 6,\n",
       " 'condensed air': 1,\n",
       " 'high-security cryptography': 1,\n",
       " 'serious pinball': 24,\n",
       " 'near unsupervised learning': 1,\n",
       " 'Procrustes problem': 8,\n",
       " 'term knowledge representation': 1,\n",
       " 'social intelligence network': 1,\n",
       " 'new design approach': 38,\n",
       " 'unfortunate design choice': 1,\n",
       " 'HPDIC Introduction': 1,\n",
       " 'unstructured data': 253,\n",
       " 'recombinant hiv’ 22nd amino acid': 1,\n",
       " 'cot death': 1,\n",
       " 'interpreting benchmarks': 1,\n",
       " 'Information Management': 36,\n",
       " 'Categorial grammar': 16,\n",
       " 'statistical arbitrage': 8,\n",
       " 'potential real-world use': 1,\n",
       " 'micromobility protocol': 10,\n",
       " 'Institution': 21,\n",
       " 'original Noise algorithm': 1,\n",
       " 'order interpolation discontinuity': 1,\n",
       " 'Wee LCP': 1,\n",
       " 'Medical robotics': 139,\n",
       " 'gpu algorithms': 3,\n",
       " 'online': 175,\n",
       " 'everyday furniture': 1,\n",
       " 'kullback- leibler information': 2,\n",
       " 'approximation order': 99,\n",
       " 'voronoi tessellations': 24,\n",
       " 'lip-syncing': 3,\n",
       " 'physical switch': 5,\n",
       " ' Publishing': 19,\n",
       " 'cloth simulation system': 5,\n",
       " 'Structured light': 40,\n",
       " 'low-cost': 74,\n",
       " 'modern automobile': 6,\n",
       " 'favorite shows': 2,\n",
       " 'specific viewing direction': 1,\n",
       " 'ideale concept': 1,\n",
       " 'intelligent systems': 3012,\n",
       " 'intelligent systems, smart market, smart money, information systems, stock market prediction, online auctions, wal-mart, ebay': 1,\n",
       " 'Superorganism': 5,\n",
       " 'security specialist': 8,\n",
       " 'robust linearizable protocol': 1,\n",
       " 'extended absence period': 1,\n",
       " 'well-studied problem': 54,\n",
       " 'acyclic graph': 536,\n",
       " 'sage overview': 1,\n",
       " 'kernel-solvability': 1,\n",
       " 'custom rendering': 1,\n",
       " 'Sophistication Revisited': 1,\n",
       " 'simple shape function': 2,\n",
       " 'grander corporate goal': 1,\n",
       " 'artificial data': 250,\n",
       " 'scinema event': 1,\n",
       " 'terrorism informatics': 5,\n",
       " 'chosen identifiers': 1,\n",
       " '60 C 05': 2,\n",
       " 'test example': 35,\n",
       " 'synchronization related data': 1,\n",
       " 'p disjoint edge': 2,\n",
       " 'adversarially modified Markov Chains': 1,\n",
       " 'Twist-structure': 2,\n",
       " 'qualitative superposition': 1,\n",
       " 'automatic test pattern generation': 2592,\n",
       " 'sequential Boolean satisfiability solver': 1,\n",
       " 'practical solution technique': 2,\n",
       " 'remote network source': 1,\n",
       " \"prisoner's dilemma\": 58,\n",
       " 'capacity estimation': 55,\n",
       " 'degree of regularity': 4,\n",
       " 'mean absolute error': 340,\n",
       " 'secure communication': 1578,\n",
       " 'low cost multicast tree': 2,\n",
       " 'software reverse engineering': 36,\n",
       " 'human relationship application': 1,\n",
       " 'communication cable': 4,\n",
       " 'ungrammatical sentence': 6,\n",
       " 'photovoltaic': 131,\n",
       " 'reflex contributions': 1,\n",
       " 'checks traffic status': 1,\n",
       " 'first-order linear differential equation': 3,\n",
       " 'native gpu assembly code': 1,\n",
       " 'hebbian learning': 592,\n",
       " 'p2p network': 1230,\n",
       " 'likelihood': 99,\n",
       " 'accurate signature': 7,\n",
       " 'intellectual-property cores': 1,\n",
       " 'instant messaging bots': 1,\n",
       " 'symmetric polynomial': 114,\n",
       " 'gold standard examination': 1,\n",
       " 'specific programing language source': 1,\n",
       " 'self-reflection process': 2,\n",
       " 'stego maze': 1,\n",
       " 'arbitrary partial anonymous grid': 1,\n",
       " 'general matrix optimization problem': 1,\n",
       " 'bilinear systems.': 1,\n",
       " 'Pig-Hadoop-HDFS': 1,\n",
       " 'Realistic Parameter': 1,\n",
       " 'cbram-crossbar': 1,\n",
       " 'academic libraries': 147,\n",
       " 'navigation path': 41,\n",
       " 'polynomial encryption': 1,\n",
       " 'receiver antennas': 65,\n",
       " 'empirical subsumption': 1,\n",
       " 'Band depth analysis parameters': 1,\n",
       " 'related aspect': 6,\n",
       " 'video annotation': 170,\n",
       " 'MCM testing': 5,\n",
       " 'standard noise reduction algorithm': 2,\n",
       " 'publish subscribe': 1142,\n",
       " 'high dimensional data': 1902,\n",
       " 'electronics packaging': 625,\n",
       " 'electrostatic potential': 153,\n",
       " 'note success': 1,\n",
       " 'inter-observer visual congruency': 1,\n",
       " 'improved svm': 7,\n",
       " 'buffer fault': 1,\n",
       " 'legged robots system': 1,\n",
       " 'Nebula': 2,\n",
       " 'document marts': 1,\n",
       " 'hazard rate': 134,\n",
       " 'cooperative wireless networks': 62,\n",
       " 'small amount': 291,\n",
       " 'coding gains': 66,\n",
       " 'java applet': 434,\n",
       " 'open induction': 5,\n",
       " 'particle swarm optimization method': 41,\n",
       " 'unified process': 167,\n",
       " '300 V': 1,\n",
       " 'speed control': 589,\n",
       " 'Comparator Logic': 1,\n",
       " 'variations imots': 1,\n",
       " 'network convection distribution': 1,\n",
       " 'aggressive pruning': 12,\n",
       " 'huge-capacity nonvolatile memory': 1,\n",
       " 'hybrid row-column approach': 1,\n",
       " 'Switching loss': 114,\n",
       " 'personalized widget': 1,\n",
       " 'creativity': 1031,\n",
       " 'biological model': 136,\n",
       " 'data entry error': 16,\n",
       " 'Natural language interfaces': 15,\n",
       " 'sustainable design': 62,\n",
       " 'cross-sectional shape': 8,\n",
       " 'forum data': 9,\n",
       " 'set b': 23,\n",
       " 'clustering coefficient': 374,\n",
       " 'big head racer': 1,\n",
       " 'chaotic ant swarm': 4,\n",
       " 'added explanatory material': 1,\n",
       " 'accumulation': 12,\n",
       " 'generality relation': 6,\n",
       " 'supersymétrie': 1,\n",
       " 'context-aware profile': 1,\n",
       " 'active semisupervised learning': 2,\n",
       " 'Nelson-Oppen combination': 1,\n",
       " 'adaptable hypermedia system': 1,\n",
       " 'cyclic topology': 4,\n",
       " 'blossom': 11,\n",
       " 'barrier': 31,\n",
       " 'beta-reduction constraint': 1,\n",
       " 'optimal controller strategy': 1,\n",
       " 'conflicting requirement': 78,\n",
       " 'computer center service': 2,\n",
       " 'estimation of normalizing constants': 1,\n",
       " 'adaptive iris segmentation algorithm': 1,\n",
       " 'general image search scheme': 1,\n",
       " 'type theory': 1215,\n",
       " 'client-server architecture': 204,\n",
       " 'Kronecker-like': 1,\n",
       " 'Graph kernels': 28,\n",
       " 'bt corn': 1,\n",
       " 'ICS Update': 1,\n",
       " 'final section return': 1,\n",
       " 'Walther Recursion': 1,\n",
       " 'theoretical proposal': 2,\n",
       " 'seedy underworld': 1,\n",
       " 'Ceteris paribus': 6,\n",
       " 'cab driver': 2,\n",
       " 'end-to-end response time': 27,\n",
       " 'wearable computer systems': 3,\n",
       " 'internal software quality': 6,\n",
       " 'challenging dataset pets': 1,\n",
       " 'current observed spectrum': 1,\n",
       " 'foe relationship': 1,\n",
       " 'effective online viral marketing': 1,\n",
       " 'DF strategy': 3,\n",
       " 'different estimate': 13,\n",
       " 'self stabilization': 301,\n",
       " 'IEEE standards': 655,\n",
       " 'single system': 144,\n",
       " 'fundamental diagram': 23,\n",
       " 'content-user synergy': 1,\n",
       " 'confidentiality': 755,\n",
       " 'original action': 2,\n",
       " 'data sample': 228,\n",
       " 'Construction industry': 58,\n",
       " 'synthesizing mechanism': 1,\n",
       " 'fortress programming language project': 1,\n",
       " 'run-of-the-mill ai research': 1,\n",
       " 'sparse linear equations': 14,\n",
       " 'random undergraduate': 1,\n",
       " 'analytic expression': 88,\n",
       " 'java voyager': 2,\n",
       " 'C#': 51,\n",
       " 'automatic verication': 3,\n",
       " 'fortran iv system operating': 1,\n",
       " 'automatic authorship attribution': 2,\n",
       " 'm different message': 1,\n",
       " 'parameterized reusable functionality': 1,\n",
       " 'statistical assumption': 18,\n",
       " 'abstract state': 56,\n",
       " 'Adaptive filtering': 176,\n",
       " 'after-dinner speech': 5,\n",
       " 'Completion': 36,\n",
       " 'data point dynamically': 1,\n",
       " 'color reduction': 25,\n",
       " 'simple approach': 221,\n",
       " 'mnemonic password': 3,\n",
       " 'alternate reality gaming': 4,\n",
       " 'ACM Press': 6,\n",
       " 'adaptable code': 3,\n",
       " 'agile principle': 46,\n",
       " '. spectral approximation': 1,\n",
       " 'indicator': 41,\n",
       " 'possible aggregate query': 9,\n",
       " 'fortran programs': 11,\n",
       " 'soundness': 175,\n",
       " 'strongest attack': 2,\n",
       " 'nonlinear transmission line model': 1,\n",
       " 'complex data structure': 155,\n",
       " 'increase profile interoperability': 1,\n",
       " 'rhetorical structure': 37,\n",
       " 'deep detail': 2,\n",
       " 'full-fledged web information system': 1,\n",
       " 'applied tree enumerations': 1,\n",
       " 'coordination contract': 10,\n",
       " 'texture control': 1,\n",
       " 'fine-grained taint tracking': 1,\n",
       " 'abbreviated text': 1,\n",
       " 'v2t satisfies': 1,\n",
       " 'public desktop': 1,\n",
       " 'simple neighborhood': 2,\n",
       " 'unique deciperability': 1,\n",
       " 'multi document summarization': 279,\n",
       " 'compatiblewith ipv6': 1,\n",
       " 'uncertainty analysis': 358,\n",
       " 'commercial artist': 2,\n",
       " 'log-based usability evaluation': 1,\n",
       " 'independent schools': 2,\n",
       " 'Improving Software Productivity': 1,\n",
       " 'secure sockets layer': 23,\n",
       " 'communication aid': 17,\n",
       " 'accurate approximate leverage score': 1,\n",
       " 'constituent structure c-structure': 1,\n",
       " 'classifier generalizes': 2,\n",
       " 'commercial excitement': 1,\n",
       " 'automatic pcb routing': 1,\n",
       " 'calibration problem': 26,\n",
       " 'Brain injuries': 19,\n",
       " 'hci': 1126,\n",
       " 'compatibility checking': 14,\n",
       " 'adaptive evolution': 19,\n",
       " 'Linux show': 1,\n",
       " 'crucial importance': 68,\n",
       " 'text generality': 1,\n",
       " 'local shape analysis': 8,\n",
       " 'standard grounding algorithm': 1,\n",
       " 'present efficiency measurement': 1,\n",
       " 'oriented gradients': 37,\n",
       " 'iterative bounding lao': 1,\n",
       " 'poor overall user model': 1,\n",
       " 'information-based deliberation': 1,\n",
       " 'edwards curve': 12,\n",
       " 'constructivistic philosophy': 1,\n",
       " 'irradiance caching algorithm': 5,\n",
       " 'layout component': 6,\n",
       " 'traditional sensitivity analysis': 3,\n",
       " 'edp professional': 6,\n",
       " 'computer systems ipp': 1,\n",
       " 'approximate matchesbetween': 1,\n",
       " 'ixp': 9,\n",
       " 'clinical integration': 1,\n",
       " 'current allocation': 4,\n",
       " 'Subtyping': 17,\n",
       " 'communications industry': 27,\n",
       " 'optimal hybrid trajectory': 1,\n",
       " 'interactive natural language instruction': 1,\n",
       " 'search policy': 4,\n",
       " 'fuzzy h v -submodule': 1,\n",
       " 'quality feature': 11,\n",
       " 'classification and indexing.': 1,\n",
       " 'non-standard model': 3,\n",
       " 'decidable class': 27,\n",
       " 'agent framework': 64,\n",
       " 'incremental insertion algorithm': 2,\n",
       " 'fuzzy object-oriented database model': 6,\n",
       " 'Citation Network': 28,\n",
       " 'conventional non-volatile key storage': 1,\n",
       " 'fuzzy competitive learning': 4,\n",
       " 'Science Publisher': 2,\n",
       " 'Segment tree': 7,\n",
       " 'conditional expectation': 222,\n",
       " 'main area': 59,\n",
       " 'steiner systems s ( 2': 1,\n",
       " 'empirical prediction algorithm': 1,\n",
       " 'runahead': 1,\n",
       " 'good quality characteristic': 1,\n",
       " 'non-additive measures': 13,\n",
       " 'creative thinking': 83,\n",
       " '11b25': 4,\n",
       " 'business analysis task': 1,\n",
       " 'instrumental variables': 54,\n",
       " 'graphics workstations': 13,\n",
       " 'Recent Result': 23,\n",
       " 'diodes': 570,\n",
       " 'accessibility relation': 33,\n",
       " 'amplifier': 137,\n",
       " 'real grid workloads': 2,\n",
       " 'classical computational problem': 4,\n",
       " 'box invariants': 1,\n",
       " '4-approximation algorithm': 33,\n",
       " 'efficient reactive management': 1,\n",
       " 'iterative convergent process': 1,\n",
       " 'Related Subject': 1,\n",
       " 'mathematical proofs': 26,\n",
       " 'field servers': 4,\n",
       " 'object modeling': 230,\n",
       " 'low-dimensional subspace': 63,\n",
       " 'reconstruction purpose': 4,\n",
       " 'single frame': 42,\n",
       " 'fog': 134,\n",
       " 'fuzzy groups': 8,\n",
       " 'effective sql-like query language': 1,\n",
       " 'fuzzy-quotient group': 1,\n",
       " 'concrete regulation': 1,\n",
       " 'modern statistical machine learning': 1,\n",
       " 'new tree index organization': 1,\n",
       " 'previous author': 20,\n",
       " 'previous system-call argument': 1,\n",
       " 'constant approximation': 44,\n",
       " 'automatic query modification': 2,\n",
       " 'operational university campus network': 1,\n",
       " 'digital distribution chains': 1,\n",
       " 'context-oriented programming': 40,\n",
       " 'cellular organization processing capability': 1,\n",
       " 'unification grammar': 38,\n",
       " 'linguistic knowledge': 224,\n",
       " 'conceptual dependency': 13,\n",
       " 'collection tree protocol': 23,\n",
       " 'engine maude': 1,\n",
       " 'target task': 47,\n",
       " 'transversals': 31,\n",
       " 'causal spacetime': 1,\n",
       " 'input': 30,\n",
       " 'combination skyline problem': 1,\n",
       " 'super-cell system': 2,\n",
       " '. abstract argumentation. implementation.': 1,\n",
       " 'efficient aco algorithm': 1,\n",
       " 'economic problem': 25,\n",
       " 'accessing knowledge': 6,\n",
       " 'backwards reasoning': 2,\n",
       " 'demo video': 8,\n",
       " 'functional prototype implementation': 2,\n",
       " 'relational database theory': 30,\n",
       " 'object normal forms': 1,\n",
       " 'chromatic neighborhood set': 1,\n",
       " 'div xb': 1,\n",
       " 'estream competition': 3,\n",
       " 'ieee congress': 5,\n",
       " 'tandem deletion': 1,\n",
       " 'easy-to-use file': 2,\n",
       " 'community photo collections-collections': 1,\n",
       " 'subtle cut-elimination dynamic': 1,\n",
       " 'android applications': 43,\n",
       " 'induced subhypergraph': 4,\n",
       " 'capability-passing processes': 1,\n",
       " 'remote state': 2,\n",
       " 'simple event calculus representation': 1,\n",
       " 'long-living company': 1,\n",
       " 'characterizing collaborative software engineering': 1,\n",
       " 'proposed cs scheme': 2,\n",
       " 'quantum error-correcting code': 23,\n",
       " 'surveillance systems': 105,\n",
       " 'constraint satisfaction algorithm': 21,\n",
       " 'cost-value': 1,\n",
       " 'mathematical logic.': 2,\n",
       " 'computer-supported activity': 2,\n",
       " 'non-CA model': 1,\n",
       " 'near field': 407,\n",
       " 'cad data exchange': 6,\n",
       " 'eulerian triangulation': 3,\n",
       " 'creating effective javahelp': 1,\n",
       " 'broader mindset': 1,\n",
       " 'software entity': 70,\n",
       " 'dual co-algebraic method': 1,\n",
       " 'combining fingerprint classifiers': 1,\n",
       " 'checking framework plugins': 1,\n",
       " 'abstract data-types': 3,\n",
       " 'series-parallel partial order': 2,\n",
       " 'parallel model': 122,\n",
       " 'inexpensive computer peripherals': 1,\n",
       " 'cap b_q': 1,\n",
       " 'monotone operator': 172,\n",
       " 'proper k-arbiters': 1,\n",
       " 'boolean model': 175,\n",
       " 'maximal value estimation': 1,\n",
       " 'adaptive requirement': 2,\n",
       " '33B20': 2,\n",
       " 'standard prolog': 9,\n",
       " 'inconsistent value': 6,\n",
       " 'new flow analysis': 1,\n",
       " 'general qualitative probabilistic analysis': 1,\n",
       " 'dhcp handshake': 2,\n",
       " 'code contracts': 1,\n",
       " 'expert computer systems': 1,\n",
       " 'accurate noise estimation': 4,\n",
       " ' Periplasmic Binding Protein': 1,\n",
       " 'specification methodology': 9,\n",
       " 'movie title': 4,\n",
       " 'temporality': 64,\n",
       " 'angle problem': 2,\n",
       " 'deductive plan generation': 1,\n",
       " 'simple version': 20,\n",
       " 'meaningful method name': 1,\n",
       " 'dependable Semantic Web': 1,\n",
       " 'entire operation': 5,\n",
       " 'adaptive meshing': 22,\n",
       " 'result r': 2,\n",
       " 'quantifier reading': 1,\n",
       " 'differential soap multicasting': 1,\n",
       " 'descendant-homogeneous digraph': 1,\n",
       " 'discovering healthgrid services': 1,\n",
       " 'unsolved problem': 81,\n",
       " 'creative use': 36,\n",
       " 'mesh surface area': 2,\n",
       " 'differential interaction net': 6,\n",
       " 'rational parametric equation': 5,\n",
       " 'haskell string type': 1,\n",
       " 'ring group signatures': 1,\n",
       " 'Computation': 110,\n",
       " 'time-varying discriminative ability': 1,\n",
       " 'well-known meddis model': 1,\n",
       " 'restriction enzyme': 84,\n",
       " 'arbitrary insertion': 8,\n",
       " 'simulated robot operation': 1,\n",
       " 'conventional logic gate': 3,\n",
       " 'reversible Christoffel': 1,\n",
       " 'general stochastic model': 11,\n",
       " 'largest part': 7,\n",
       " 'Intrusion detection systems': 51,\n",
       " 'area cost': 83,\n",
       " 'potential weakness': 16,\n",
       " 'complex technology': 27,\n",
       " 'requirement': 69,\n",
       " 'robust prgs': 1,\n",
       " 'typical ms-dos personal computer': 1,\n",
       " 'em edge': 1,\n",
       " 'robust nonproprietary software': 1,\n",
       " 'new search strategy': 19,\n",
       " 'credibility aspect': 1,\n",
       " 'generalization property': 36,\n",
       " 'unnecessary inference': 1,\n",
       " 'programmable logic device': 191,\n",
       " 'relativistic kinetic energy': 1,\n",
       " 'dozen pattern-based design transformation': 1,\n",
       " 'condorcet criterion': 4,\n",
       " 'reliable email': 1,\n",
       " 'do-ut-des property': 1,\n",
       " 'gradient o ws': 1,\n",
       " 'empirical error': 24,\n",
       " 'polygonal path': 16,\n",
       " 'intermediate section': 1,\n",
       " 'reconfigurable configuration': 1,\n",
       " 'reduced structure': 5,\n",
       " 'syllable-based morphology': 1,\n",
       " 'ethical limit': 2,\n",
       " 'faculty response': 2,\n",
       " 'small interface technology': 1,\n",
       " 'graph patterns': 14,\n",
       " 'complex document': 26,\n",
       " 'monte': 1,\n",
       " 'stylized simplification': 1,\n",
       " 'ir experiment': 13,\n",
       " 'semantic web standard': 43,\n",
       " 'lempel-ziv compression': 14,\n",
       " 'secure dynamic updates': 1,\n",
       " 'single approach': 12,\n",
       " 'Cognitive and sociocultural modeling': 1,\n",
       " 'embedding context': 6,\n",
       " 'change contract language': 2,\n",
       " 'data visualization system': 7,\n",
       " '1-dimensional pn': 1,\n",
       " 'fortran program': 83,\n",
       " 'opaque structure': 1,\n",
       " 'pentagonalization scheme': 1,\n",
       " 'shortest-path motion': 2,\n",
       " 'notable property': 2,\n",
       " 'earlier program': 3,\n",
       " 'compile time': 75,\n",
       " 'web advertising': 36,\n",
       " 'complex-instruction-set computer': 2,\n",
       " 'heteroclinic cycle': 14,\n",
       " 'age of a relation': 1,\n",
       " 'software reliability measurement': 19,\n",
       " 'diversification problem': 4,\n",
       " 'gac propagation': 1,\n",
       " 'instruction type': 7,\n",
       " 'efficient memory copy': 1,\n",
       " 'systolic modular multiplication': 1,\n",
       " 'scheduling network traffic': 1,\n",
       " 'constructed complex systems': 5,\n",
       " 'interactive sound sculpture': 1,\n",
       " 'bad thing': 14,\n",
       " '1.10.Gh': 1,\n",
       " 'structural symmetry breaking': 3,\n",
       " 'rough step': 1,\n",
       " 'stronger performance guarantee': 3,\n",
       " 'frequent item': 79,\n",
       " 'local web page storage': 1,\n",
       " 'child-dependent robot': 3,\n",
       " 'expressive model': 37,\n",
       " 'sparsifying transform': 4,\n",
       " 'shape-time image': 1,\n",
       " 'social tag prediction': 1,\n",
       " 'separated sets': 2,\n",
       " 'repository schema': 4,\n",
       " 'height-field texture': 1,\n",
       " 'Cayley Graph': 13,\n",
       " 'Compression Sequence': 1,\n",
       " 'ordinary desk top': 1,\n",
       " 'gabor face emotion feature': 1,\n",
       " 'coast guard': 3,\n",
       " 'pictocolor correctphoto': 1,\n",
       " 'carrara 8': 1,\n",
       " 'trustworthiness level': 7,\n",
       " 'Taxonomical structure': 1,\n",
       " 'CMRO2': 39,\n",
       " 'detects topic distribution': 1,\n",
       " 'local configuration task': 1,\n",
       " 'new chase': 1,\n",
       " 'logical consequence': 63,\n",
       " 'perfectly contractile graph': 1,\n",
       " 'drm counter': 1,\n",
       " 'different contention management policy': 1,\n",
       " 'source accuracy': 2,\n",
       " 'clinical outcome': 41,\n",
       " 'old dog': 10,\n",
       " 'users sign': 2,\n",
       " 'integrated virtual environment project': 1,\n",
       " 'accurate method': 173,\n",
       " 'original storage space': 2,\n",
       " 'architectural concern': 25,\n",
       " 'haptic shading': 1,\n",
       " 'parallel graph contraction': 3,\n",
       " 'graphs layout': 2,\n",
       " 'user-dependent network behavior': 1,\n",
       " 'scott d': 3,\n",
       " 'programmable logic controllers': 136,\n",
       " 'link analysis result': 1,\n",
       " 'key graph': 15,\n",
       " 'procedure programming': 2,\n",
       " 'information landscapes': 1,\n",
       " 'computer assisted proof': 48,\n",
       " 'portability programming languages standardization': 1,\n",
       " 'pan-addition': 1,\n",
       " 'innovative software engineering paradigm': 1,\n",
       " 'singularity analysis.': 3,\n",
       " 'insensitive loss': 2,\n",
       " 'planar ternary ring': 1,\n",
       " 'yields interesting nonlinear kernel': 1,\n",
       " 'accurate global illumination solution': 1,\n",
       " 'bound-constrained optimization problem': 6,\n",
       " 'proposed static solution': 1,\n",
       " 'modal logic · parameterized complexity · satisfiability problems': 1,\n",
       " 'simple grammar scheme': 1,\n",
       " 'similar memorybased technique': 1,\n",
       " 'sample location': 9,\n",
       " 'parzon window technique': 1,\n",
       " 'concrete algorithm class': 1,\n",
       " 'static binding time': 1,\n",
       " 'remote worker': 8,\n",
       " 'peridynamic theory': 1,\n",
       " 'population training heuristics': 1,\n",
       " 'tiled code': 3,\n",
       " 'two-dimensional summary data': 2,\n",
       " 'nonlinear data': 20,\n",
       " 'categorical model': 50,\n",
       " 'parallel wavelet transforms': 2,\n",
       " 'papi cross-platform interface': 1,\n",
       " 'monoid': 61,\n",
       " 'general image processing task': 2,\n",
       " 'asymptotic gap': 2,\n",
       " 'helpful people': 1,\n",
       " 'industrial ecosystem design': 1,\n",
       " 'spline knot': 2,\n",
       " 'non-parametric correlation': 1,\n",
       " 'Homomorphic Image': 6,\n",
       " 'application specific characteristic': 4,\n",
       " 'nearest cluster classifier': 1,\n",
       " 'symmetric tiling pattern': 1,\n",
       " 'learning session': 7,\n",
       " 'co-evolutionary influence': 1,\n",
       " 'different weighting model': 2,\n",
       " 'long period': 169,\n",
       " 'noisy network': 9,\n",
       " 'interpretation phase': 9,\n",
       " 'network organisation': 7,\n",
       " 'global adjustment': 6,\n",
       " 'order-1 perfect system': 1,\n",
       " 'business situation': 22,\n",
       " 'sound visualization': 12,\n",
       " 'appraisal.': 1,\n",
       " 'chronological evolution': 1,\n",
       " 'online variance minimization': 1,\n",
       " 'power minimization': 181,\n",
       " 'dispersion algorithm': 1,\n",
       " 'Prime labelling': 2,\n",
       " 'optimal flow algorithm': 1,\n",
       " 'OWL': 379,\n",
       " 'captive portal': 7,\n",
       " 'revision theory': 8,\n",
       " 'prisms': 22,\n",
       " 'online rectangle': 4,\n",
       " 'individual prediction': 16,\n",
       " 'worst-case relative loss bound': 2,\n",
       " 'ubiquitous wireless': 5,\n",
       " 'annotating video': 12,\n",
       " 'shape variation': 88,\n",
       " 'linked data selector': 1,\n",
       " 'lazy associative classification': 3,\n",
       " 'personal browsing': 1,\n",
       " 'Holt winter method': 1,\n",
       " 'TEC observations': 1,\n",
       " 'MAPE': 14,\n",
       " 'literary data processing': 1,\n",
       " 'trace monoids': 26,\n",
       " 'small loop termination buffer': 1,\n",
       " 'omni-range context': 1,\n",
       " 'quantifier-free formula': 20,\n",
       " 'programming style call': 1,\n",
       " 'literature-related discovery': 1,\n",
       " 'independent exponential random variable': 7,\n",
       " 'marshall–olkin copula': 2,\n",
       " 'shape deformation': 137,\n",
       " 'architecture design document': 1,\n",
       " 'sigmoid parameter': 2,\n",
       " 'bridge weighting circuit': 1,\n",
       " 'mesh collapse compression': 1,\n",
       " 'storage considerations': 1,\n",
       " 'large-scale placement': 6,\n",
       " 'content enrichment': 9,\n",
       " 'orthogonal direction': 17,\n",
       " 'standard utp theory': 1,\n",
       " 'semantic ambiguity': 38,\n",
       " 'nested search': 4,\n",
       " 'quasiconvex programming': 7,\n",
       " 'future contact plan': 1,\n",
       " 'financial econometric model': 1,\n",
       " 'different representation strength': 1,\n",
       " 'reflection property': 9,\n",
       " 'software products': 89,\n",
       " 'extracts set': 1,\n",
       " 'inter-satellite links': 16,\n",
       " 'rich hardware': 1,\n",
       " 'port legacy': 1,\n",
       " 'compact binary code': 10,\n",
       " 'monkeys3 team description': 1,\n",
       " 'selfish environment': 5,\n",
       " 'mathematical status': 1,\n",
       " 'garment motion': 2,\n",
       " 'polynomial ideals': 11,\n",
       " 'multi-instance kernels': 1,\n",
       " 'transient noise': 30,\n",
       " 'metric lexical analysis': 1,\n",
       " 'metric reconstruction': 29,\n",
       " 'existing content': 15,\n",
       " 'segmentation routine': 4,\n",
       " 'secure stream cipher': 6,\n",
       " 'multidomain functional encryption system': 1,\n",
       " 'second edition': 29,\n",
       " 'collaborative working environments': 9,\n",
       " 'home environment': 298,\n",
       " 'sufficient control': 3,\n",
       " 'one-stroke pictorial gesture': 1,\n",
       " 'blind detector': 19,\n",
       " 'web page content': 51,\n",
       " 'Independent Component Analysis': 96,\n",
       " ' Frequency': 8,\n",
       " 'efficient color evaluation': 1,\n",
       " 'arithmetic intensity': 8,\n",
       " ' Client-Server': 1,\n",
       " 'remote display protocol': 2,\n",
       " 'effectoids equationally': 1,\n",
       " 'organisational hierarchy': 3,\n",
       " 'virtual human anatomy': 1,\n",
       " 'suitable vague term': 1,\n",
       " 'unsharp masking': 38,\n",
       " 'buoy observations': 1,\n",
       " 'Fuzzy reasoning': 75,\n",
       " 'mobility pattern': 182,\n",
       " 'unlearning': 10,\n",
       " 'information systems degree': 5,\n",
       " 'single-pass hebbian': 1,\n",
       " 'typical lumigraph approach': 1,\n",
       " 'Free construction': 2,\n",
       " 'dual decomposition': 139,\n",
       " 'distinct signer restriction': 1,\n",
       " 'glorious past': 1,\n",
       " 'technology prediction': 4,\n",
       " 'contemporary computing infrastructure': 2,\n",
       " 'video information retrieval community': 1,\n",
       " 'jbig data stream': 1,\n",
       " 'sociology. of standard setters': 1,\n",
       " 'argumentation concept': 1,\n",
       " 'retsina communicator': 1,\n",
       " 'Bright Spot': 2,\n",
       " 'and daniel panario': 1,\n",
       " 'predictive value': 38,\n",
       " 'text data stream': 3,\n",
       " 'soundness paradox': 1,\n",
       " 'student employee': 35,\n",
       " 'tuple-timestamped relation': 1,\n",
       " 'competi- tive analysis': 1,\n",
       " 'great flexibility': 60,\n",
       " 'various microprocessor architecture': 1,\n",
       " 'stress-freeness': 1,\n",
       " 'newer colossus': 1,\n",
       " 'multimedia architecture': 9,\n",
       " 'laser scanner data': 14,\n",
       " 'trustworthy paper documents': 1,\n",
       " 'typestate': 8,\n",
       " 'ecological system': 35,\n",
       " 'man computer': 3,\n",
       " 'classical equivalence': 6,\n",
       " 'weighted independent set': 10,\n",
       " 'political information': 17,\n",
       " 'original implicit surface polygonization': 1,\n",
       " 'scale space jet metric': 1,\n",
       " 'towards linked needs': 1,\n",
       " 'unusual night': 2,\n",
       " 'tracking approach': 35,\n",
       " 'major timeshare exchange mechanism': 1,\n",
       " 'tsp ejection chain': 1,\n",
       " 'design simplicity': 20,\n",
       " 'architectural driver': 5,\n",
       " 'timetable': 26,\n",
       " 'programming logic': 50,\n",
       " 'english word': 78,\n",
       " 'Testing hypergraph colorability': 1,\n",
       " 'robust reconstruction': 23,\n",
       " 'network coding receiver': 1,\n",
       " 'minimal deviation': 2,\n",
       " 'JADE': 101,\n",
       " 'advanced pid controller': 1,\n",
       " 'WikiMap interface': 1,\n",
       " 'point sound source': 3,\n",
       " 'capacity-approaching coding': 1,\n",
       " 'Health Level 7': 12,\n",
       " 'global model accuracy': 2,\n",
       " 'top-down quality-of-service': 1,\n",
       " 'agent tree': 1,\n",
       " 'adaptive stochastic rate allocation': 1,\n",
       " 'regulated software development': 1,\n",
       " 'link stability': 53,\n",
       " 'low-priority thread': 2,\n",
       " 'Network Architecture': 28,\n",
       " 'surface gradient': 28,\n",
       " 'complex cepstral deconvolution': 1,\n",
       " 'generic communication system': 1,\n",
       " 'Suppes–Sen grading principle': 1,\n",
       " 'convergent': 18,\n",
       " 'circuit approach': 4,\n",
       " 'state constraint': 103,\n",
       " 'performance forthcoming in organization science': 1,\n",
       " 'generic-level-language parser': 1,\n",
       " 'information security risk management': 22,\n",
       " 'graph-controlled grammar': 6,\n",
       " 'PMI': 22,\n",
       " 'applicable reaction': 1,\n",
       " 'solvable word problem': 1,\n",
       " 'multistage etch process': 1,\n",
       " 'run-to-completion step': 1,\n",
       " 'thermal management design paradigm': 1,\n",
       " 'user-definable format': 1,\n",
       " 'creative appropriation': 2,\n",
       " 'knowledge representa- tion': 5,\n",
       " 'two-level segregatedfit memory allocator': 1,\n",
       " 'existing simulation tool': 5,\n",
       " 'vehicular application': 20,\n",
       " 'identical text line': 1,\n",
       " 'reliability-based syndrome': 1,\n",
       " 'Pooling design': 11,\n",
       " 'submodular maximization': 25,\n",
       " 'CompWork': 1,\n",
       " 'updatable view': 5,\n",
       " 'feature interaction detection': 15,\n",
       " 'average power cost': 2,\n",
       " 'attitude feedback': 2,\n",
       " 'Voltage-controlled oscillators': 363,\n",
       " 'stress procedure': 1,\n",
       " 'discrimination threshold': 31,\n",
       " 'information resources management': 21,\n",
       " 'multi-radio environments': 1,\n",
       " 'dfg mapping process': 1,\n",
       " 'PyPy': 2,\n",
       " 'effective e-learning model': 1,\n",
       " 'Macocha': 1,\n",
       " 'traffic loads': 79,\n",
       " 'dynamic collision avoidance': 3,\n",
       " 'expected response time': 23,\n",
       " 'University of Southern California Digital Archive': 1,\n",
       " 'feedback-based transfer model': 1,\n",
       " 'certain requirement': 31,\n",
       " '802 11e': 46,\n",
       " 'td-hsdpa': 2,\n",
       " 'body movements': 30,\n",
       " 'mimetic communication': 3,\n",
       " 'weight training': 72,\n",
       " 'Inventory management': 165,\n",
       " 'Structural Equation': 1,\n",
       " 'scalable computational science': 1,\n",
       " 'disparity estimate': 10,\n",
       " 'magnetically modified polymeric microsorter': 1,\n",
       " 'video files': 23,\n",
       " 'network coverage sparse scattering': 1,\n",
       " 'probabilistic image segmentation': 4,\n",
       " 'two-dimensional wave field': 1,\n",
       " 'overlapping surface ball': 1,\n",
       " 'heterogeneous off-the-shelf technology': 1,\n",
       " 'total LS': 1,\n",
       " 'grid network topology': 3,\n",
       " 'exposure rate': 4,\n",
       " 'proposed blind image': 1,\n",
       " 'programmable smart cards': 1,\n",
       " 'periodic bandlimited signals': 2,\n",
       " 'noncoherent detection': 133,\n",
       " 'Approximation property': 4,\n",
       " 'authenticated image': 4,\n",
       " 'average smoothing': 2,\n",
       " 'single-cycle binary comparator': 1,\n",
       " 'high dimensions': 39,\n",
       " 'LocalHeur': 1,\n",
       " 'cyclic redundancy check codes': 106,\n",
       " 'high-speed parallel architecture': 3,\n",
       " 'suppressing hot-pixels': 1,\n",
       " 'candidate expansion term': 8,\n",
       " 'Gate array': 2,\n",
       " 'network degree distribution': 2,\n",
       " 'FIXED DOMAIN METHOD': 1,\n",
       " 'information fusion technique': 24,\n",
       " 'approximation coefficient': 18,\n",
       " 'circuit-level simulation': 21,\n",
       " 'crosstalk fault': 26,\n",
       " 'weighted logics': 6,\n",
       " 'fixed amplify-and-forward relay': 1,\n",
       " 'public service performance': 2,\n",
       " 'secondary data': 66,\n",
       " 'core method': 12,\n",
       " 'bone structure': 32,\n",
       " 'abstracting pointers': 1,\n",
       " 'full-duplex cooperative multiple access': 1,\n",
       " 'land cover classification maps': 2,\n",
       " 'leave-one-out support': 1,\n",
       " 'mobile keypads': 1,\n",
       " ...}"
      ]
     },
     "metadata": {
      "application/vnd.databricks.v1+output": {
       "addedWidgets": {},
       "arguments": {},
       "data": "Out[22]: {'short time': 210,\n 'installation showcase': 1,\n ' geophysics': 62,\n 'computer-animated narrative film': 1,\n 'numerous dartboard-like spider web': 1,\n 'earth science': 124,\n 'hygienist': 8,\n 'interaction': 2166,\n 'Darwinian evolution': 10,\n 'reference photo': 1,\n 'urban spatial distribution': 1,\n 'ces': 4,\n 'standards': 1275,\n 'bookshelf': 1,\n 'embodies phenomenological issue': 1,\n 'Design engineering': 195,\n 'relevant knowledge': 67,\n 'dynamic construction': 43,\n 'vortex': 30,\n 'novel tactile': 1,\n 'old theorem': 2,\n 'magnetoencephalography.epilepsy.functional imaging.children': 1,\n 'art': 2841,\n 'Infant Mortality': 4,\n 'editor-in-chief': 3,\n 'facs': 32,\n 'logical paradox': 2,\n 'cheap information': 1,\n 'compatible compiler': 2,\n 'IC manufacturing variability': 1,\n 'corresponding image plane': 1,\n 'India circa': 1,\n 'Color Vision': 6,\n 'ki n': 1,\n 'square matrix': 99,\n 'complete domain knowledge': 1,\n 'GIS': 1067,\n 'Operating System': 875,\n 'open-access Web dead': 1,\n 'spectral approximation': 36,\n 'impassioned gesture': 1,\n 'Linear Hashing': 1,\n 'Function Matching': 1,\n 'Communication networks': 794,\n 'information scientist': 25,\n 'present flow tile': 1,\n 'Hierarchical models': 42,\n 'interactive editing system': 4,\n 'visual classification tasks': 1,\n 'massive computation': 8,\n 'finite structure': 93,\n 'Biometry': 31,\n 'mobile radio': 6360,\n 'Generation X': 3,\n 'Gibbs Phenomena': 1,\n 'artificial intelligence community': 23,\n 'Dilbert University': 1,\n 'social web': 539,\n 'Contraction': 42,\n 'new code': 174,\n 'edd': 4,\n 'analysis tool': 436,\n 'computers blend': 1,\n 'smooth vector field': 6,\n 'aluminum can': 3,\n 'integer-valued recursive function': 1,\n 'distributed agency': 1,\n 'entrance exam': 3,\n 'function mean': 1,\n 'new tool': 653,\n 'new ability': 7,\n 'boundary network': 2,\n 'tumour immunology': 2,\n 'requirements analysis phase': 18,\n 'beautiful interpolants': 1,\n 'poetry': 48,\n 'Bug Busters': 1,\n 'Outcome set': 7,\n 'Dualing cube': 1,\n 'anomalous speed': 2,\n 'interactive form': 14,\n 'data process': 28,\n 'conjunctive subtyping': 1,\n 'one-way constraint': 7,\n 'opposite element': 1,\n 'sdd': 8,\n 'explicit reconstruction': 2,\n 'unintended effects': 3,\n 'context photography': 7,\n 'parent node': 43,\n 'First Course': 1,\n 'Charlotte Lee': 1,\n 'solution extraction phase': 1,\n 'click fraud': 46,\n 'Caccetta-Häggkvist Conjecture': 1,\n 'Ramsey theory': 92,\n 'correspondent computing': 1,\n 'subgraphs resemblant': 1,\n 'Composition Process': 1,\n 'network resource': 769,\n 'perceived consequence': 2,\n 'Ambient Video': 1,\n 'Augmented keyframe': 1,\n 'constrained matching pursuit': 1,\n 'greedy algorithm': 2730,\n 'social science': 1384,\n 'automatic coding': 11,\n 'priority': 198,\n 'residue index': 2,\n 'hierarchical associative memory': 4,\n 'brands': 22,\n 'transaction': 255,\n 'computer graphics industry': 6,\n 'confidentiality property': 19,\n 'software quality': 6546,\n 'additional landmark': 2,\n 'Lovely Rita': 1,\n 'square n': 2,\n 'conventional information security research': 1,\n 'Batteriespeicher': 2,\n 'hashing functions': 20,\n 'Multiple eigenspaces': 1,\n 'musical flock': 1,\n 'random relay selection process': 1,\n ' Rational Computation': 1,\n 'diverse middlebox functionality': 1,\n 'gradual warping': 1,\n 'Delay Line': 3,\n 'sweep representation': 1,\n 'Moores law': 9,\n 'valid email': 3,\n 'sustainability modelling': 3,\n 'reliable code': 6,\n 'condensed air': 1,\n 'high-security cryptography': 1,\n 'serious pinball': 24,\n 'near unsupervised learning': 1,\n 'Procrustes problem': 8,\n 'term knowledge representation': 1,\n 'social intelligence network': 1,\n 'new design approach': 38,\n 'unfortunate design choice': 1,\n 'HPDIC Introduction': 1,\n 'unstructured data': 253,\n 'recombinant hiv’ 22nd amino acid': 1,\n 'cot death': 1,\n 'interpreting benchmarks': 1,\n 'Information Management': 36,\n 'Categorial grammar': 16,\n 'statistical arbitrage': 8,\n 'potential real-world use': 1,\n 'micromobility protocol': 10,\n 'Institution': 21,\n 'original Noise algorithm': 1,\n 'order interpolation discontinuity': 1,\n 'Wee LCP': 1,\n 'Medical robotics': 139,\n 'gpu algorithms': 3,\n 'online': 175,\n 'everyday furniture': 1,\n 'kullback- leibler information': 2,\n 'approximation order': 99,\n 'voronoi tessellations': 24,\n 'lip-syncing': 3,\n 'physical switch': 5,\n ' Publishing': 19,\n 'cloth simulation system': 5,\n 'Structured light': 40,\n 'low-cost': 74,\n 'modern automobile': 6,\n 'favorite shows': 2,\n 'specific viewing direction': 1,\n 'ideale concept': 1,\n 'intelligent systems': 3012,\n 'intelligent systems, smart market, smart money, information systems, stock market prediction, online auctions, wal-mart, ebay': 1,\n 'Superorganism': 5,\n 'security specialist': 8,\n 'robust linearizable protocol': 1,\n 'extended absence period': 1,\n 'well-studied problem': 54,\n 'acyclic graph': 536,\n 'sage overview': 1,\n 'kernel-solvability': 1,\n 'custom rendering': 1,\n 'Sophistication Revisited': 1,\n 'simple shape function': 2,\n 'grander corporate goal': 1,\n 'artificial data': 250,\n 'scinema event': 1,\n 'terrorism informatics': 5,\n 'chosen identifiers': 1,\n '60 C 05': 2,\n 'test example': 35,\n 'synchronization related data': 1,\n 'p disjoint edge': 2,\n 'adversarially modified Markov Chains': 1,\n 'Twist-structure': 2,\n 'qualitative superposition': 1,\n 'automatic test pattern generation': 2592,\n 'sequential Boolean satisfiability solver': 1,\n 'practical solution technique': 2,\n 'remote network source': 1,\n \"prisoner's dilemma\": 58,\n 'capacity estimation': 55,\n 'degree of regularity': 4,\n 'mean absolute error': 340,\n 'secure communication': 1578,\n 'low cost multicast tree': 2,\n 'software reverse engineering': 36,\n 'human relationship application': 1,\n 'communication cable': 4,\n 'ungrammatical sentence': 6,\n 'photovoltaic': 131,\n 'reflex contributions': 1,\n 'checks traffic status': 1,\n 'first-order linear differential equation': 3,\n 'native gpu assembly code': 1,\n 'hebbian learning': 592,\n 'p2p network': 1230,\n 'likelihood': 99,\n 'accurate signature': 7,\n 'intellectual-property cores': 1,\n 'instant messaging bots': 1,\n 'symmetric polynomial': 114,\n 'gold standard examination': 1,\n 'specific programing language source': 1,\n 'self-reflection process': 2,\n 'stego maze': 1,\n 'arbitrary partial anonymous grid': 1,\n 'general matrix optimization problem': 1,\n 'bilinear systems.': 1,\n 'Pig-Hadoop-HDFS': 1,\n 'Realistic Parameter': 1,\n 'cbram-crossbar': 1,\n 'academic libraries': 147,\n 'navigation path': 41,\n 'polynomial encryption': 1,\n 'receiver antennas': 65,\n 'empirical subsumption': 1,\n 'Band depth analysis parameters': 1,\n 'related aspect': 6,\n 'video annotation': 170,\n 'MCM testing': 5,\n 'standard noise reduction algorithm': 2,\n 'publish subscribe': 1142,\n 'high dimensional data': 1902,\n 'electronics packaging': 625,\n 'electrostatic potential': 153,\n 'note success': 1,\n 'inter-observer visual congruency': 1,\n 'improved svm': 7,\n 'buffer fault': 1,\n 'legged robots system': 1,\n 'Nebula': 2,\n 'document marts': 1,\n 'hazard rate': 134,\n 'cooperative wireless networks': 62,\n 'small amount': 291,\n 'coding gains': 66,\n 'java applet': 434,\n 'open induction': 5,\n 'particle swarm optimization method': 41,\n 'unified process': 167,\n '300 V': 1,\n 'speed control': 589,\n 'Comparator Logic': 1,\n 'variations imots': 1,\n 'network convection distribution': 1,\n 'aggressive pruning': 12,\n 'huge-capacity nonvolatile memory': 1,\n 'hybrid row-column approach': 1,\n 'Switching loss': 114,\n 'personalized widget': 1,\n 'creativity': 1031,\n 'biological model': 136,\n 'data entry error': 16,\n 'Natural language interfaces': 15,\n 'sustainable design': 62,\n 'cross-sectional shape': 8,\n 'forum data': 9,\n 'set b': 23,\n 'clustering coefficient': 374,\n 'big head racer': 1,\n 'chaotic ant swarm': 4,\n 'added explanatory material': 1,\n 'accumulation': 12,\n 'generality relation': 6,\n 'supersymétrie': 1,\n 'context-aware profile': 1,\n 'active semisupervised learning': 2,\n 'Nelson-Oppen combination': 1,\n 'adaptable hypermedia system': 1,\n 'cyclic topology': 4,\n 'blossom': 11,\n 'barrier': 31,\n 'beta-reduction constraint': 1,\n 'optimal controller strategy': 1,\n 'conflicting requirement': 78,\n 'computer center service': 2,\n 'estimation of normalizing constants': 1,\n 'adaptive iris segmentation algorithm': 1,\n 'general image search scheme': 1,\n 'type theory': 1215,\n 'client-server architecture': 204,\n 'Kronecker-like': 1,\n 'Graph kernels': 28,\n 'bt corn': 1,\n 'ICS Update': 1,\n 'final section return': 1,\n 'Walther Recursion': 1,\n 'theoretical proposal': 2,\n 'seedy underworld': 1,\n 'Ceteris paribus': 6,\n 'cab driver': 2,\n 'end-to-end response time': 27,\n 'wearable computer systems': 3,\n 'internal software quality': 6,\n 'challenging dataset pets': 1,\n 'current observed spectrum': 1,\n 'foe relationship': 1,\n 'effective online viral marketing': 1,\n 'DF strategy': 3,\n 'different estimate': 13,\n 'self stabilization': 301,\n 'IEEE standards': 655,\n 'single system': 144,\n 'fundamental diagram': 23,\n 'content-user synergy': 1,\n 'confidentiality': 755,\n 'original action': 2,\n 'data sample': 228,\n 'Construction industry': 58,\n 'synthesizing mechanism': 1,\n 'fortress programming language project': 1,\n 'run-of-the-mill ai research': 1,\n 'sparse linear equations': 14,\n 'random undergraduate': 1,\n 'analytic expression': 88,\n 'java voyager': 2,\n 'C#': 51,\n 'automatic verication': 3,\n 'fortran iv system operating': 1,\n 'automatic authorship attribution': 2,\n 'm different message': 1,\n 'parameterized reusable functionality': 1,\n 'statistical assumption': 18,\n 'abstract state': 56,\n 'Adaptive filtering': 176,\n 'after-dinner speech': 5,\n 'Completion': 36,\n 'data point dynamically': 1,\n 'color reduction': 25,\n 'simple approach': 221,\n 'mnemonic password': 3,\n 'alternate reality gaming': 4,\n 'ACM Press': 6,\n 'adaptable code': 3,\n 'agile principle': 46,\n '. spectral approximation': 1,\n 'indicator': 41,\n 'possible aggregate query': 9,\n 'fortran programs': 11,\n 'soundness': 175,\n 'strongest attack': 2,\n 'nonlinear transmission line model': 1,\n 'complex data structure': 155,\n 'increase profile interoperability': 1,\n 'rhetorical structure': 37,\n 'deep detail': 2,\n 'full-fledged web information system': 1,\n 'applied tree enumerations': 1,\n 'coordination contract': 10,\n 'texture control': 1,\n 'fine-grained taint tracking': 1,\n 'abbreviated text': 1,\n 'v2t satisfies': 1,\n 'public desktop': 1,\n 'simple neighborhood': 2,\n 'unique deciperability': 1,\n 'multi document summarization': 279,\n 'compatiblewith ipv6': 1,\n 'uncertainty analysis': 358,\n 'commercial artist': 2,\n 'log-based usability evaluation': 1,\n 'independent schools': 2,\n 'Improving Software Productivity': 1,\n 'secure sockets layer': 23,\n 'communication aid': 17,\n 'accurate approximate leverage score': 1,\n 'constituent structure c-structure': 1,\n 'classifier generalizes': 2,\n 'commercial excitement': 1,\n 'automatic pcb routing': 1,\n 'calibration problem': 26,\n 'Brain injuries': 19,\n 'hci': 1126,\n 'compatibility checking': 14,\n 'adaptive evolution': 19,\n 'Linux show': 1,\n 'crucial importance': 68,\n 'text generality': 1,\n 'local shape analysis': 8,\n 'standard grounding algorithm': 1,\n 'present efficiency measurement': 1,\n 'oriented gradients': 37,\n 'iterative bounding lao': 1,\n 'poor overall user model': 1,\n 'information-based deliberation': 1,\n 'edwards curve': 12,\n 'constructivistic philosophy': 1,\n 'irradiance caching algorithm': 5,\n 'layout component': 6,\n 'traditional sensitivity analysis': 3,\n 'edp professional': 6,\n 'computer systems ipp': 1,\n 'approximate matchesbetween': 1,\n 'ixp': 9,\n 'clinical integration': 1,\n 'current allocation': 4,\n 'Subtyping': 17,\n 'communications industry': 27,\n 'optimal hybrid trajectory': 1,\n 'interactive natural language instruction': 1,\n 'search policy': 4,\n 'fuzzy h v -submodule': 1,\n 'quality feature': 11,\n 'classification and indexing.': 1,\n 'non-standard model': 3,\n 'decidable class': 27,\n 'agent framework': 64,\n 'incremental insertion algorithm': 2,\n 'fuzzy object-oriented database model': 6,\n 'Citation Network': 28,\n 'conventional non-volatile key storage': 1,\n 'fuzzy competitive learning': 4,\n 'Science Publisher': 2,\n 'Segment tree': 7,\n 'conditional expectation': 222,\n 'main area': 59,\n 'steiner systems s ( 2': 1,\n 'empirical prediction algorithm': 1,\n 'runahead': 1,\n 'good quality characteristic': 1,\n 'non-additive measures': 13,\n 'creative thinking': 83,\n '11b25': 4,\n 'business analysis task': 1,\n 'instrumental variables': 54,\n 'graphics workstations': 13,\n 'Recent Result': 23,\n 'diodes': 570,\n 'accessibility relation': 33,\n 'amplifier': 137,\n 'real grid workloads': 2,\n 'classical computational problem': 4,\n 'box invariants': 1,\n '4-approximation algorithm': 33,\n 'efficient reactive management': 1,\n 'iterative convergent process': 1,\n 'Related Subject': 1,\n 'mathematical proofs': 26,\n 'field servers': 4,\n 'object modeling': 230,\n 'low-dimensional subspace': 63,\n 'reconstruction purpose': 4,\n 'single frame': 42,\n 'fog': 134,\n 'fuzzy groups': 8,\n 'effective sql-like query language': 1,\n 'fuzzy-quotient group': 1,\n 'concrete regulation': 1,\n 'modern statistical machine learning': 1,\n 'new tree index organization': 1,\n 'previous author': 20,\n 'previous system-call argument': 1,\n 'constant approximation': 44,\n 'automatic query modification': 2,\n 'operational university campus network': 1,\n 'digital distribution chains': 1,\n 'context-oriented programming': 40,\n 'cellular organization processing capability': 1,\n 'unification grammar': 38,\n 'linguistic knowledge': 224,\n 'conceptual dependency': 13,\n 'collection tree protocol': 23,\n 'engine maude': 1,\n 'target task': 47,\n 'transversals': 31,\n 'causal spacetime': 1,\n 'input': 30,\n 'combination skyline problem': 1,\n 'super-cell system': 2,\n '. abstract argumentation. implementation.': 1,\n 'efficient aco algorithm': 1,\n 'economic problem': 25,\n 'accessing knowledge': 6,\n 'backwards reasoning': 2,\n 'demo video': 8,\n 'functional prototype implementation': 2,\n 'relational database theory': 30,\n 'object normal forms': 1,\n 'chromatic neighborhood set': 1,\n 'div xb': 1,\n 'estream competition': 3,\n 'ieee congress': 5,\n 'tandem deletion': 1,\n 'easy-to-use file': 2,\n 'community photo collections-collections': 1,\n 'subtle cut-elimination dynamic': 1,\n 'android applications': 43,\n 'induced subhypergraph': 4,\n 'capability-passing processes': 1,\n 'remote state': 2,\n 'simple event calculus representation': 1,\n 'long-living company': 1,\n 'characterizing collaborative software engineering': 1,\n 'proposed cs scheme': 2,\n 'quantum error-correcting code': 23,\n 'surveillance systems': 105,\n 'constraint satisfaction algorithm': 21,\n 'cost-value': 1,\n 'mathematical logic.': 2,\n 'computer-supported activity': 2,\n 'non-CA model': 1,\n 'near field': 407,\n 'cad data exchange': 6,\n 'eulerian triangulation': 3,\n 'creating effective javahelp': 1,\n 'broader mindset': 1,\n 'software entity': 70,\n 'dual co-algebraic method': 1,\n 'combining fingerprint classifiers': 1,\n 'checking framework plugins': 1,\n 'abstract data-types': 3,\n 'series-parallel partial order': 2,\n 'parallel model': 122,\n 'inexpensive computer peripherals': 1,\n 'cap b_q': 1,\n 'monotone operator': 172,\n 'proper k-arbiters': 1,\n 'boolean model': 175,\n 'maximal value estimation': 1,\n 'adaptive requirement': 2,\n '33B20': 2,\n 'standard prolog': 9,\n 'inconsistent value': 6,\n 'new flow analysis': 1,\n 'general qualitative probabilistic analysis': 1,\n 'dhcp handshake': 2,\n 'code contracts': 1,\n 'expert computer systems': 1,\n 'accurate noise estimation': 4,\n ' Periplasmic Binding Protein': 1,\n 'specification methodology': 9,\n 'movie title': 4,\n 'temporality': 64,\n 'angle problem': 2,\n 'deductive plan generation': 1,\n 'simple version': 20,\n 'meaningful method name': 1,\n 'dependable Semantic Web': 1,\n 'entire operation': 5,\n 'adaptive meshing': 22,\n 'result r': 2,\n 'quantifier reading': 1,\n 'differential soap multicasting': 1,\n 'descendant-homogeneous digraph': 1,\n 'discovering healthgrid services': 1,\n 'unsolved problem': 81,\n 'creative use': 36,\n 'mesh surface area': 2,\n 'differential interaction net': 6,\n 'rational parametric equation': 5,\n 'haskell string type': 1,\n 'ring group signatures': 1,\n 'Computation': 110,\n 'time-varying discriminative ability': 1,\n 'well-known meddis model': 1,\n 'restriction enzyme': 84,\n 'arbitrary insertion': 8,\n 'simulated robot operation': 1,\n 'conventional logic gate': 3,\n 'reversible Christoffel': 1,\n 'general stochastic model': 11,\n 'largest part': 7,\n 'Intrusion detection systems': 51,\n 'area cost': 83,\n 'potential weakness': 16,\n 'complex technology': 27,\n 'requirement': 69,\n 'robust prgs': 1,\n 'typical ms-dos personal computer': 1,\n 'em edge': 1,\n 'robust nonproprietary software': 1,\n 'new search strategy': 19,\n 'credibility aspect': 1,\n 'generalization property': 36,\n 'unnecessary inference': 1,\n 'programmable logic device': 191,\n 'relativistic kinetic energy': 1,\n 'dozen pattern-based design transformation': 1,\n 'condorcet criterion': 4,\n 'reliable email': 1,\n 'do-ut-des property': 1,\n 'gradient o ws': 1,\n 'empirical error': 24,\n 'polygonal path': 16,\n 'intermediate section': 1,\n 'reconfigurable configuration': 1,\n 'reduced structure': 5,\n 'syllable-based morphology': 1,\n 'ethical limit': 2,\n 'faculty response': 2,\n 'small interface technology': 1,\n 'graph patterns': 14,\n 'complex document': 26,\n 'monte': 1,\n 'stylized simplification': 1,\n 'ir experiment': 13,\n 'semantic web standard': 43,\n 'lempel-ziv compression': 14,\n 'secure dynamic updates': 1,\n 'single approach': 12,\n 'Cognitive and sociocultural modeling': 1,\n 'embedding context': 6,\n 'change contract language': 2,\n 'data visualization system': 7,\n '1-dimensional pn': 1,\n 'fortran program': 83,\n 'opaque structure': 1,\n 'pentagonalization scheme': 1,\n 'shortest-path motion': 2,\n 'notable property': 2,\n 'earlier program': 3,\n 'compile time': 75,\n 'web advertising': 36,\n 'complex-instruction-set computer': 2,\n 'heteroclinic cycle': 14,\n 'age of a relation': 1,\n 'software reliability measurement': 19,\n 'diversification problem': 4,\n 'gac propagation': 1,\n 'instruction type': 7,\n 'efficient memory copy': 1,\n 'systolic modular multiplication': 1,\n 'scheduling network traffic': 1,\n 'constructed complex systems': 5,\n 'interactive sound sculpture': 1,\n 'bad thing': 14,\n '1.10.Gh': 1,\n 'structural symmetry breaking': 3,\n 'rough step': 1,\n 'stronger performance guarantee': 3,\n 'frequent item': 79,\n 'local web page storage': 1,\n 'child-dependent robot': 3,\n 'expressive model': 37,\n 'sparsifying transform': 4,\n 'shape-time image': 1,\n 'social tag prediction': 1,\n 'separated sets': 2,\n 'repository schema': 4,\n 'height-field texture': 1,\n 'Cayley Graph': 13,\n 'Compression Sequence': 1,\n 'ordinary desk top': 1,\n 'gabor face emotion feature': 1,\n 'coast guard': 3,\n 'pictocolor correctphoto': 1,\n 'carrara 8': 1,\n 'trustworthiness level': 7,\n 'Taxonomical structure': 1,\n 'CMRO2': 39,\n 'detects topic distribution': 1,\n 'local configuration task': 1,\n 'new chase': 1,\n 'logical consequence': 63,\n 'perfectly contractile graph': 1,\n 'drm counter': 1,\n 'different contention management policy': 1,\n 'source accuracy': 2,\n 'clinical outcome': 41,\n 'old dog': 10,\n 'users sign': 2,\n 'integrated virtual environment project': 1,\n 'accurate method': 173,\n 'original storage space': 2,\n 'architectural concern': 25,\n 'haptic shading': 1,\n 'parallel graph contraction': 3,\n 'graphs layout': 2,\n 'user-dependent network behavior': 1,\n 'scott d': 3,\n 'programmable logic controllers': 136,\n 'link analysis result': 1,\n 'key graph': 15,\n 'procedure programming': 2,\n 'information landscapes': 1,\n 'computer assisted proof': 48,\n 'portability programming languages standardization': 1,\n 'pan-addition': 1,\n 'innovative software engineering paradigm': 1,\n 'singularity analysis.': 3,\n 'insensitive loss': 2,\n 'planar ternary ring': 1,\n 'yields interesting nonlinear kernel': 1,\n 'accurate global illumination solution': 1,\n 'bound-constrained optimization problem': 6,\n 'proposed static solution': 1,\n 'modal logic · parameterized complexity · satisfiability problems': 1,\n 'simple grammar scheme': 1,\n 'similar memorybased technique': 1,\n 'sample location': 9,\n 'parzon window technique': 1,\n 'concrete algorithm class': 1,\n 'static binding time': 1,\n 'remote worker': 8,\n 'peridynamic theory': 1,\n 'population training heuristics': 1,\n 'tiled code': 3,\n 'two-dimensional summary data': 2,\n 'nonlinear data': 20,\n 'categorical model': 50,\n 'parallel wavelet transforms': 2,\n 'papi cross-platform interface': 1,\n 'monoid': 61,\n 'general image processing task': 2,\n 'asymptotic gap': 2,\n 'helpful people': 1,\n 'industrial ecosystem design': 1,\n 'spline knot': 2,\n 'non-parametric correlation': 1,\n 'Homomorphic Image': 6,\n 'application specific characteristic': 4,\n 'nearest cluster classifier': 1,\n 'symmetric tiling pattern': 1,\n 'learning session': 7,\n 'co-evolutionary influence': 1,\n 'different weighting model': 2,\n 'long period': 169,\n 'noisy network': 9,\n 'interpretation phase': 9,\n 'network organisation': 7,\n 'global adjustment': 6,\n 'order-1 perfect system': 1,\n 'business situation': 22,\n 'sound visualization': 12,\n 'appraisal.': 1,\n 'chronological evolution': 1,\n 'online variance minimization': 1,\n 'power minimization': 181,\n 'dispersion algorithm': 1,\n 'Prime labelling': 2,\n 'optimal flow algorithm': 1,\n 'OWL': 379,\n 'captive portal': 7,\n 'revision theory': 8,\n 'prisms': 22,\n 'online rectangle': 4,\n 'individual prediction': 16,\n 'worst-case relative loss bound': 2,\n 'ubiquitous wireless': 5,\n 'annotating video': 12,\n 'shape variation': 88,\n 'linked data selector': 1,\n 'lazy associative classification': 3,\n 'personal browsing': 1,\n 'Holt winter method': 1,\n 'TEC observations': 1,\n 'MAPE': 14,\n 'literary data processing': 1,\n 'trace monoids': 26,\n 'small loop termination buffer': 1,\n 'omni-range context': 1,\n 'quantifier-free formula': 20,\n 'programming style call': 1,\n 'literature-related discovery': 1,\n 'independent exponential random variable': 7,\n 'marshall–olkin copula': 2,\n 'shape deformation': 137,\n 'architecture design document': 1,\n 'sigmoid parameter': 2,\n 'bridge weighting circuit': 1,\n 'mesh collapse compression': 1,\n 'storage considerations': 1,\n 'large-scale placement': 6,\n 'content enrichment': 9,\n 'orthogonal direction': 17,\n 'standard utp theory': 1,\n 'semantic ambiguity': 38,\n 'nested search': 4,\n 'quasiconvex programming': 7,\n 'future contact plan': 1,\n 'financial econometric model': 1,\n 'different representation strength': 1,\n 'reflection property': 9,\n 'software products': 89,\n 'extracts set': 1,\n 'inter-satellite links': 16,\n 'rich hardware': 1,\n 'port legacy': 1,\n 'compact binary code': 10,\n 'monkeys3 team description': 1,\n 'selfish environment': 5,\n 'mathematical status': 1,\n 'garment motion': 2,\n 'polynomial ideals': 11,\n 'multi-instance kernels': 1,\n 'transient noise': 30,\n 'metric lexical analysis': 1,\n 'metric reconstruction': 29,\n 'existing content': 15,\n 'segmentation routine': 4,\n 'secure stream cipher': 6,\n 'multidomain functional encryption system': 1,\n 'second edition': 29,\n 'collaborative working environments': 9,\n 'home environment': 298,\n 'sufficient control': 3,\n 'one-stroke pictorial gesture': 1,\n 'blind detector': 19,\n 'web page content': 51,\n 'Independent Component Analysis': 96,\n ' Frequency': 8,\n 'efficient color evaluation': 1,\n 'arithmetic intensity': 8,\n ' Client-Server': 1,\n 'remote display protocol': 2,\n 'effectoids equationally': 1,\n 'organisational hierarchy': 3,\n 'virtual human anatomy': 1,\n 'suitable vague term': 1,\n 'unsharp masking': 38,\n 'buoy observations': 1,\n 'Fuzzy reasoning': 75,\n 'mobility pattern': 182,\n 'unlearning': 10,\n 'information systems degree': 5,\n 'single-pass hebbian': 1,\n 'typical lumigraph approach': 1,\n 'Free construction': 2,\n 'dual decomposition': 139,\n 'distinct signer restriction': 1,\n 'glorious past': 1,\n 'technology prediction': 4,\n 'contemporary computing infrastructure': 2,\n 'video information retrieval community': 1,\n 'jbig data stream': 1,\n 'sociology. of standard setters': 1,\n 'argumentation concept': 1,\n 'retsina communicator': 1,\n 'Bright Spot': 2,\n 'and daniel panario': 1,\n 'predictive value': 38,\n 'text data stream': 3,\n 'soundness paradox': 1,\n 'student employee': 35,\n 'tuple-timestamped relation': 1,\n 'competi- tive analysis': 1,\n 'great flexibility': 60,\n 'various microprocessor architecture': 1,\n 'stress-freeness': 1,\n 'newer colossus': 1,\n 'multimedia architecture': 9,\n 'laser scanner data': 14,\n 'trustworthy paper documents': 1,\n 'typestate': 8,\n 'ecological system': 35,\n 'man computer': 3,\n 'classical equivalence': 6,\n 'weighted independent set': 10,\n 'political information': 17,\n 'original implicit surface polygonization': 1,\n 'scale space jet metric': 1,\n 'towards linked needs': 1,\n 'unusual night': 2,\n 'tracking approach': 35,\n 'major timeshare exchange mechanism': 1,\n 'tsp ejection chain': 1,\n 'design simplicity': 20,\n 'architectural driver': 5,\n 'timetable': 26,\n 'programming logic': 50,\n 'english word': 78,\n 'Testing hypergraph colorability': 1,\n 'robust reconstruction': 23,\n 'network coding receiver': 1,\n 'minimal deviation': 2,\n 'JADE': 101,\n 'advanced pid controller': 1,\n 'WikiMap interface': 1,\n 'point sound source': 3,\n 'capacity-approaching coding': 1,\n 'Health Level 7': 12,\n 'global model accuracy': 2,\n 'top-down quality-of-service': 1,\n 'agent tree': 1,\n 'adaptive stochastic rate allocation': 1,\n 'regulated software development': 1,\n 'link stability': 53,\n 'low-priority thread': 2,\n 'Network Architecture': 28,\n 'surface gradient': 28,\n 'complex cepstral deconvolution': 1,\n 'generic communication system': 1,\n 'Suppes–Sen grading principle': 1,\n 'convergent': 18,\n 'circuit approach': 4,\n 'state constraint': 103,\n 'performance forthcoming in organization science': 1,\n 'generic-level-language parser': 1,\n 'information security risk management': 22,\n 'graph-controlled grammar': 6,\n 'PMI': 22,\n 'applicable reaction': 1,\n 'solvable word problem': 1,\n 'multistage etch process': 1,\n 'run-to-completion step': 1,\n 'thermal management design paradigm': 1,\n 'user-definable format': 1,\n 'creative appropriation': 2,\n 'knowledge representa- tion': 5,\n 'two-level segregatedfit memory allocator': 1,\n 'existing simulation tool': 5,\n 'vehicular application': 20,\n 'identical text line': 1,\n 'reliability-based syndrome': 1,\n 'Pooling design': 11,\n 'submodular maximization': 25,\n 'CompWork': 1,\n 'updatable view': 5,\n 'feature interaction detection': 15,\n 'average power cost': 2,\n 'attitude feedback': 2,\n 'Voltage-controlled oscillators': 363,\n 'stress procedure': 1,\n 'discrimination threshold': 31,\n 'information resources management': 21,\n 'multi-radio environments': 1,\n 'dfg mapping process': 1,\n 'PyPy': 2,\n 'effective e-learning model': 1,\n 'Macocha': 1,\n 'traffic loads': 79,\n 'dynamic collision avoidance': 3,\n 'expected response time': 23,\n 'University of Southern California Digital Archive': 1,\n 'feedback-based transfer model': 1,\n 'certain requirement': 31,\n '802 11e': 46,\n 'td-hsdpa': 2,\n 'body movements': 30,\n 'mimetic communication': 3,\n 'weight training': 72,\n 'Inventory management': 165,\n 'Structural Equation': 1,\n 'scalable computational science': 1,\n 'disparity estimate': 10,\n 'magnetically modified polymeric microsorter': 1,\n 'video files': 23,\n 'network coverage sparse scattering': 1,\n 'probabilistic image segmentation': 4,\n 'two-dimensional wave field': 1,\n 'overlapping surface ball': 1,\n 'heterogeneous off-the-shelf technology': 1,\n 'total LS': 1,\n 'grid network topology': 3,\n 'exposure rate': 4,\n 'proposed blind image': 1,\n 'programmable smart cards': 1,\n 'periodic bandlimited signals': 2,\n 'noncoherent detection': 133,\n 'Approximation property': 4,\n 'authenticated image': 4,\n 'average smoothing': 2,\n 'single-cycle binary comparator': 1,\n 'high dimensions': 39,\n 'LocalHeur': 1,\n 'cyclic redundancy check codes': 106,\n 'high-speed parallel architecture': 3,\n 'suppressing hot-pixels': 1,\n 'candidate expansion term': 8,\n 'Gate array': 2,\n 'network degree distribution': 2,\n 'FIXED DOMAIN METHOD': 1,\n 'information fusion technique': 24,\n 'approximation coefficient': 18,\n 'circuit-level simulation': 21,\n 'crosstalk fault': 26,\n 'weighted logics': 6,\n 'fixed amplify-and-forward relay': 1,\n 'public service performance': 2,\n 'secondary data': 66,\n 'core method': 12,\n 'bone structure': 32,\n 'abstracting pointers': 1,\n 'full-duplex cooperative multiple access': 1,\n 'land cover classification maps': 2,\n 'leave-one-out support': 1,\n 'mobile keypads': 1,\n ...}",
       "datasetInfos": [],
       "metadata": {},
       "removedWidgets": [],
       "type": "ansi"
      }
     },
     "output_type": "display_data"
    }
   ],
   "source": [
    "keyword_frame = union.select(F.explode_outer(\"keywords\").alias(\"key_countmap\"))\n",
    "key_countmap = keyword_frame.groupBy(\"key_countmap\").count()\n",
    "key_countmap = key_countmap.rdd.map(lambda row: row.asDict(True))\n",
    "# union = union.drop(\"key_countmap\")\n",
    "keyword_counts = key_countmap.collect()\n",
    "keyword_counter = {}\n",
    "for keyword_count in keyword_counts:\n",
    "    keyword_counter[keyword_count['key_countmap']] = keyword_count['count']\n",
    "    \n",
    "keyword_counter"
   ]
  },
  {
   "cell_type": "markdown",
   "metadata": {
    "application/vnd.databricks.v1+cell": {
     "inputWidgets": {},
     "nuid": "f77f9895-fa7a-4563-b3e7-014393d04965",
     "showTitle": false,
     "title": ""
    }
   },
   "source": [
    "### LOAD\n",
    "\n",
    "#### Loading frames from Parquet files"
   ]
  },
  {
   "cell_type": "code",
   "execution_count": 0,
   "metadata": {
    "application/vnd.databricks.v1+cell": {
     "inputWidgets": {},
     "nuid": "860cf389-55db-4a5a-b9a8-16f5cd2a9146",
     "showTitle": false,
     "title": ""
    }
   },
   "outputs": [],
   "source": [
    "language = spark.read.parquet(f'{parquet_path}Language.parquet')\n",
    "language.show()"
   ]
  },
  {
   "cell_type": "code",
   "execution_count": 0,
   "metadata": {
    "application/vnd.databricks.v1+cell": {
     "inputWidgets": {},
     "nuid": "a7c0b84c-7fde-413a-879e-6713d543f353",
     "showTitle": false,
     "title": ""
    }
   },
   "outputs": [],
   "source": [
    "field_of_study = spark.read.parquet(f'{parquet_path}FieldOfStudy.parquet')\n",
    "field_of_study.show(5)"
   ]
  },
  {
   "cell_type": "code",
   "execution_count": 0,
   "metadata": {
    "application/vnd.databricks.v1+cell": {
     "inputWidgets": {},
     "nuid": "dab63689-bbe6-4b9f-881f-be1e21fc74f4",
     "showTitle": false,
     "title": ""
    }
   },
   "outputs": [],
   "source": [
    "publications = spark.read.parquet(f'{parquet_path}Publication.parquet')\n",
    "publications.show(5)"
   ]
  },
  {
   "cell_type": "code",
   "execution_count": 0,
   "metadata": {
    "application/vnd.databricks.v1+cell": {
     "inputWidgets": {},
     "nuid": "2fda1d41-1ffd-4dfc-aa91-5fba18be8b67",
     "showTitle": false,
     "title": ""
    }
   },
   "outputs": [],
   "source": [
    "venues = spark.read.parquet(f'{parquet_path}Venue.parquet')\n",
    "venues.show(5)"
   ]
  },
  {
   "cell_type": "code",
   "execution_count": 0,
   "metadata": {
    "application/vnd.databricks.v1+cell": {
     "inputWidgets": {},
     "nuid": "2598a85d-871c-4770-b31b-8496695383fd",
     "showTitle": false,
     "title": ""
    }
   },
   "outputs": [],
   "source": [
    "authors = spark.read.parquet(f'{parquet_path}Author.parquet')\n",
    "authors.show(5)"
   ]
  },
  {
   "cell_type": "code",
   "execution_count": 0,
   "metadata": {
    "application/vnd.databricks.v1+cell": {
     "inputWidgets": {},
     "nuid": "1b7efd18-d7da-49da-9ddb-61ccae1c6f37",
     "showTitle": false,
     "title": ""
    }
   },
   "outputs": [],
   "source": [
    "#organizations = spark.read.parquet(f'{parquet_path}Organization.parquet')\n",
    "#organizations.show(5)"
   ]
  }
 ],
 "metadata": {
  "accelerator": "TPU",
  "application/vnd.databricks.v1+notebook": {
   "dashboards": [],
   "language": "python",
   "notebookMetadata": {
    "pythonIndentUnit": 4
   },
   "notebookName": "Project 1",
   "notebookOrigID": 2835494419911001,
   "widgets": {}
  },
  "colab": {
   "collapsed_sections": [],
   "name": "Proj 1.ipynb",
   "provenance": []
  },
  "kernelspec": {
   "display_name": "Python 3 (ipykernel)",
   "language": "python",
   "name": "python3"
  },
  "language_info": {
   "codemirror_mode": {
    "name": "ipython",
    "version": 3
   },
   "file_extension": ".py",
   "mimetype": "text/x-python",
   "name": "python",
   "nbconvert_exporter": "python",
   "pygments_lexer": "ipython3",
   "version": "3.8.10"
  }
 },
 "nbformat": 4,
 "nbformat_minor": 1
}
