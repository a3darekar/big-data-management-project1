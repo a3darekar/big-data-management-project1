{
 "cells": [
  {
   "cell_type": "markdown",
   "metadata": {
    "application/vnd.databricks.v1+cell": {
     "inputWidgets": {},
     "nuid": "e7a1c0b6-7832-4d9f-8b38-b4efcdf6f9c8",
     "showTitle": false,
     "title": ""
    }
   },
   "source": [
    "# Scientific Publications Data Warehouse\n",
    "\n",
    "## Project 1: A Data cube on top of Delta lake (ETL)\n",
    "\n",
    "### Purpose\n",
    "\n",
    "The purpose is to extract data about scientific publications from JSON data that describe, title, topic,\n",
    "authors, etc. about a huge number of papers and populate a data warehouse in order to issue analytics\n",
    "queries using SQL.\n",
    "\n",
    "### Usage\n",
    "\n",
    "Upload this notebook or DBC archive on databricks platform\n",
    "\n",
    "---------------\n",
    "\n",
    "##  Task1.  Extract \n",
    "### a. Fetching The 7z archive\n",
    "\n",
    "**Skip this Section if you already have performed the extraction process and jump to checkpoint for pulling data from split json files.**"
   ]
  },
  {
   "cell_type": "code",
   "execution_count": 0,
   "metadata": {
    "application/vnd.databricks.v1+cell": {
     "inputWidgets": {},
     "nuid": "209e2881-3ee4-42bd-a7f9-5770d551f82a",
     "showTitle": false,
     "title": ""
    }
   },
   "outputs": [],
   "source": [
    "# Checking if archive is downloaded in memory.\n",
    "try:\n",
    "    dbutils.fs.ls(\"file:/databricks/driver/dblp.v13.7z\")\n",
    "    print(\"Archive in filesystem (file:/databricks/driver/dblp.v13.7z)\")\n",
    "except:\n",
    "    # If archive is not in memory, Checking databricks store for cached version and pulling into memory.\n",
    "    try:\n",
    "        dbutils.fs.ls(\"dbfs:/FileStore/data/dblp.v13.7z\")\n",
    "        print(\"Archive located in FileStore. Copying into local store..\")\n",
    "        dbutils.fs.cp(\"dbfs:/FileStore/data/dblp.v13.7z\", \"file:/databricks/driver/dblp.v13.7z\")\n",
    "        print(\"Completed\")\n",
    "    except:\n",
    "        # If archive is not cached, downloading and storing in databricks store.\n",
    "        print(\"7z archive not found. Fetching from URL...\")\n",
    "        !wget https://originalstatic.aminer.cn/misc/dblp.v13.7z\n",
    "        print(\"7z archive Downloaded. Moving archive to FileStore..\")\n",
    "        dbutils.fs.mkdirs(\"dbfs:/FileStore/data\")\n",
    "        dbutils.fs.cp(\"file:/databricks/driver/dblp.v13.7z\", \"dbfs:/FileStore/data/dblp.v13.7z\")\n",
    "        print(\"Completed.\")"
   ]
  },
  {
   "cell_type": "code",
   "execution_count": 0,
   "metadata": {
    "application/vnd.databricks.v1+cell": {
     "inputWidgets": {},
     "nuid": "8651e6a8-f236-486a-87bb-4d97b0fdb151",
     "showTitle": false,
     "title": ""
    }
   },
   "outputs": [],
   "source": [
    "# The returned array should have one object of FileInfo with size =2568255035\n",
    "\n",
    "dbutils.fs.ls(\"file:/databricks/driver/dblp.v13.7z\")"
   ]
  },
  {
   "cell_type": "markdown",
   "metadata": {
    "application/vnd.databricks.v1+cell": {
     "inputWidgets": {},
     "nuid": "f06f2189-223f-4267-9d22-ae64722c6fc6",
     "showTitle": false,
     "title": ""
    }
   },
   "source": [
    "### b. Extracting Archive into json chunks\n",
    "\n",
    "#### b1. Extracting 7zip file into json."
   ]
  },
  {
   "cell_type": "code",
   "execution_count": 0,
   "metadata": {
    "application/vnd.databricks.v1+cell": {
     "inputWidgets": {},
     "nuid": "ad2f9d88-78a5-40de-8ef6-6bb19c52ecd0",
     "showTitle": false,
     "title": ""
    },
    "id": "6rihFnHHC36O"
   },
   "outputs": [],
   "source": [
    "!pip install py7zr -q"
   ]
  },
  {
   "cell_type": "code",
   "execution_count": 0,
   "metadata": {
    "application/vnd.databricks.v1+cell": {
     "inputWidgets": {},
     "nuid": "5ac74aa7-da2a-40af-918a-f6e5e3b7a545",
     "showTitle": false,
     "title": ""
    },
    "id": "xaE3ZCOyyQd6"
   },
   "outputs": [],
   "source": [
    "import py7zr\n",
    "\n",
    "archive = py7zr.SevenZipFile('dblp.v13.7z', mode='r')\n",
    "archive.extractall()\n",
    "archive.close()"
   ]
  },
  {
   "cell_type": "code",
   "execution_count": 0,
   "metadata": {
    "application/vnd.databricks.v1+cell": {
     "inputWidgets": {},
     "nuid": "db87c2a2-2100-4620-b777-6c0ef4418461",
     "showTitle": false,
     "title": ""
    },
    "id": "6O-F875qxq7o"
   },
   "outputs": [],
   "source": [
    "dbutils.fs.ls(\"file:/databricks/driver/dblpv13.json\")"
   ]
  },
  {
   "cell_type": "markdown",
   "metadata": {
    "application/vnd.databricks.v1+cell": {
     "inputWidgets": {},
     "nuid": "e806a652-8fcb-4de7-a022-8c05edaeab37",
     "showTitle": false,
     "title": ""
    }
   },
   "source": [
    "#### b2. Cleaning NumberInt(#) tags\n",
    "\n",
    "The json data contains non-confirming tags, and so cannot be parsed as it is. We will read each line and substitute the tag. (This should take about 25 minutes)"
   ]
  },
  {
   "cell_type": "code",
   "execution_count": 0,
   "metadata": {
    "application/vnd.databricks.v1+cell": {
     "inputWidgets": {},
     "nuid": "e278afc1-eae9-49a1-86f0-1a791561cfa2",
     "showTitle": false,
     "title": ""
    },
    "id": "Wud9Kr2_bd4A"
   },
   "outputs": [],
   "source": [
    "import re\n",
    "\n",
    "# Cleaning the `NumberInt` tag\n",
    "fin = open(f\"dblpv13.json\")\n",
    "fout = open(f\"dblpv13_clean.json\", \"wt\")\n",
    "for line in fin:\n",
    "    fout.write(re.sub(r\"NumberInt\\([\\d]*\\)\", lambda x: \"\".join(re.findall(r\"\\d\", x.group(0))), line))\n",
    "fin.close()\n",
    "fout.close()"
   ]
  },
  {
   "cell_type": "markdown",
   "metadata": {
    "application/vnd.databricks.v1+cell": {
     "inputWidgets": {},
     "nuid": "60c2947a-fc81-404c-be15-fe9d8cd0d002",
     "showTitle": false,
     "title": ""
    }
   },
   "source": [
    "#### b3. Partitioning Dataset into JSON files\n",
    "Since the whopping 16 GB of json data cannot be loaded into memory directly, we need to partition the data into smaller chunks (300k objects per chunk) for processing.  \n",
    "We also parse data encoded as Decimal data with DecimalEncoder."
   ]
  },
  {
   "cell_type": "code",
   "execution_count": 0,
   "metadata": {
    "application/vnd.databricks.v1+cell": {
     "inputWidgets": {},
     "nuid": "2e5bafdf-1fa6-4e11-92b6-63fc4cfd23df",
     "showTitle": false,
     "title": ""
    },
    "id": "PqBCNju720aq"
   },
   "outputs": [],
   "source": [
    "%mkdir data"
   ]
  },
  {
   "cell_type": "code",
   "execution_count": 0,
   "metadata": {
    "application/vnd.databricks.v1+cell": {
     "inputWidgets": {},
     "nuid": "a33aec68-5fbe-4029-8d0e-defb4b409a42",
     "showTitle": false,
     "title": ""
    },
    "id": "uiAqyHl-TGfI"
   },
   "outputs": [],
   "source": [
    "import ijson\n",
    "import json\n",
    "import decimal\n",
    "\n",
    "class DecimalEncoder(json.JSONEncoder):\n",
    "    def default(self, o):\n",
    "        if isinstance(o, decimal.Decimal):\n",
    "            return str(o)\n",
    "        return super(DecimalEncoder, self).default(o)\n",
    "\n",
    "data_dir = 'data/'\n",
    "with open('dblpv13_clean.json', 'r') as f:\n",
    "    counter, file_id = 0, 0\n",
    "    file_buffer = []\n",
    "    for obj_data in ijson.items(f, 'item'):\n",
    "        file_buffer.append(obj_data)\n",
    "        counter += 1\n",
    "        if counter % 300000 == 0:\n",
    "            print(f\" Saving, data_PART_{file_id}.json in {data_dir}\")\n",
    "            f = open(f'{data_dir}data_PART_{file_id}.json', 'w')\n",
    "            dump = json.dumps(file_buffer, cls=DecimalEncoder)\n",
    "            f.write(dump)\n",
    "            f.close()\n",
    "            file_id += 1\n",
    "            file_buffer = []\n",
    "f = open(f'{data_dir}data_PART_{file_id}.json', 'w')\n",
    "dump = json.dumps(file_buffer, cls=DecimalEncoder)\n",
    "print(f\" Saving, data_PART_{file_id}.json in {data_dir}\")\n",
    "f.write(dump)\n",
    "f.close()\n",
    "file_id += 1\n",
    "file_buffer = []"
   ]
  },
  {
   "cell_type": "markdown",
   "metadata": {
    "application/vnd.databricks.v1+cell": {
     "inputWidgets": {},
     "nuid": "38b56dde-5178-4dd3-931f-d6955577b8ea",
     "showTitle": false,
     "title": ""
    }
   },
   "source": [
    "#### b4. Moving files to dbfs FileStore from instance storage. Building Checkpoint."
   ]
  },
  {
   "cell_type": "code",
   "execution_count": 0,
   "metadata": {
    "application/vnd.databricks.v1+cell": {
     "inputWidgets": {},
     "nuid": "7857b3ee-940d-4f3b-ae81-35268e1a7178",
     "showTitle": false,
     "title": ""
    }
   },
   "outputs": [],
   "source": [
    "# removing old json stored in filestore.\n",
    "dbutils.fs.rm(\"dbfs:/FileStore/data/split_data/\", recurse = True)\n",
    "# Creating dir to store json in filestore..\n",
    "dbutils.fs.mkdirs(\"dbfs:/FileStore/data/split_data\")\n",
    "# confirming dir is empty\n",
    "dbutils.fs.ls(\"dbfs:/FileStore/data/split_data\")"
   ]
  },
  {
   "cell_type": "code",
   "execution_count": 0,
   "metadata": {
    "application/vnd.databricks.v1+cell": {
     "inputWidgets": {},
     "nuid": "8a9dc2df-6d86-44f1-837f-e0f94fc85844",
     "showTitle": false,
     "title": ""
    }
   },
   "outputs": [],
   "source": [
    "# Copying all json parts into filestore.\n",
    "dbutils.fs.cp(\"file:/databricks/driver/data/\", \"dbfs:/FileStore/data/split_data\", recurse = True)"
   ]
  },
  {
   "cell_type": "markdown",
   "metadata": {
    "application/vnd.databricks.v1+cell": {
     "inputWidgets": {},
     "nuid": "4a08e500-0a30-4c03-a776-58f12706a511",
     "showTitle": false,
     "title": ""
    }
   },
   "source": [
    "### Task2. Transform\n",
    "\n",
    "#### Goal: Read data from databricks Filestore into dataframes (Checkpoint after data load)"
   ]
  },
  {
   "cell_type": "code",
   "execution_count": 0,
   "metadata": {
    "application/vnd.databricks.v1+cell": {
     "inputWidgets": {},
     "nuid": "d4483af4-3011-4b5b-bc35-6bea560fdba0",
     "showTitle": false,
     "title": ""
    }
   },
   "outputs": [],
   "source": [
    "import uuid\n",
    "from functools import reduce\n",
    "import pyspark.sql.functions as F\n",
    "from pyspark.sql.types import StructType, ArrayType, StringType, LongType, StructField, IntegerType\n",
    "from typing import List\n",
    "from pyspark.sql.functions import udf\n",
    "\n",
    "# Here Path indicates input file path, and delta_dir points to file\n",
    "path = \"dbfs:/FileStore/data/split_data/\"\n",
    "delta_dir = \"dbfs:/delta/tables/\"\n",
    "\n",
    "# There should be 18 files each with 300 k records. This would change if you change split value.\n",
    "file_count = len(dbutils.fs.ls(path))\n",
    "assert file_count == 18, \"Data not found. You may want to check the path or run the notebook from start again. If you updated the split value, ignore this assertion error\""
   ]
  },
  {
   "cell_type": "code",
   "execution_count": null,
   "metadata": {},
   "outputs": [],
   "source": [
    "# jsonSchema = StructType([\n",
    "# \t\tStructField(\"_id\", StringType(), True),\n",
    "# \t\tStructField(\"abstract\", StringType(), True),\n",
    "# \t\tStructField(\"authors\", ArrayType(StructType([\n",
    "# \t\t\tStructField(\"_id\", StringType(), True),\n",
    "# \t\t\tStructField(\"bio\", StringType(), True),\n",
    "# \t\t\tStructField(\"email\", StringType(), True),\n",
    "# \t\t\tStructField(\"gid\", StringType(), True),\n",
    "# \t\t\tStructField(\"name\", StringType(), True),\n",
    "# \t\t\tStructField(\"name_zh\", StringType(), True),\n",
    "# \t\t\tStructField(\"oid\", StringType(), True),\n",
    "# \t\t\tStructField(\"oid_zh\", StringType(), True),\n",
    "# \t\t\tStructField(\"orcid\", StringType(), True),\n",
    "# \t\t\tStructField(\"org\", StringType(), True),\n",
    "# \t\t\tStructField(\"org_zh\", StringType(), True),\n",
    "# \t\t\tStructField(\"orgid\", StringType(), True),\n",
    "# \t\t\tStructField(\"orgs\", ArrayType(StringType(), True), True),\n",
    "# \t\t\tStructField(\"orgs_zh\", ArrayType(StringType(), True), True),\n",
    "# \t\t\tStructField(\"sid\", StringType(), True)\n",
    "# \t\t]), True), True),\n",
    "# \t\tStructField(\"doi\", StringType(), True),\n",
    "# \t\tStructField(\"fos\", ArrayType(StringType(), True), True),\n",
    "# \t\tStructField(\"isbn\", StringType(), True),\n",
    "# \t\tStructField(\"issn\", StringType(), True),\n",
    "# \t\tStructField(\"issue\", StringType(), True),\n",
    "# \t\tStructField(\"keywords\", ArrayType(StringType(), True), True),\n",
    "# \t\tStructField(\"lang\", StringType(), True),\n",
    "# \t\tStructField(\"n_citation\", LongType(), True),\n",
    "# \t\tStructField(\"page_end\", StringType(), True),\n",
    "# \t\tStructField(\"page_start\", StringType(), True),\n",
    "# \t\tStructField(\"pdf\", StringType(), True),\n",
    "# \t\tStructField(\"references\", ArrayType(StringType(), True), True),\n",
    "# \t\tStructField(\"title\", StringType(), True),\n",
    "# \t\tStructField(\"url\", ArrayType(StringType(), True), True),\n",
    "# \t\tStructField(\"venue\", StructType([\n",
    "# \t\t\tStructField(\"_id\", StringType(), True),\n",
    "# \t\t\tStructField(\"issn\", StringType(), True),\n",
    "# \t\t\tStructField(\"name\", StringType(), True),\n",
    "# \t\t\tStructField(\"name_d\", StringType(), True),\n",
    "# \t\t\tStructField(\"name_s\", StringType(), True),\n",
    "# \t\t\tStructField(\"online_issn\", StringType(), True),\n",
    "# \t\t\tStructField(\"publisher\", StringType(), True),\n",
    "# \t\t\tStructField(\"raw\", StringType(), True),\n",
    "# \t\t\tStructField(\"raw_zh\", StringType(), True),\n",
    "# \t\t\tStructField(\"sid\", StringType(), True),\n",
    "# \t\t\tStructField(\"src\", StringType(), True),\n",
    "# \t\t\tStructField(\"t\", StringType(), True),\n",
    "# \t\t\tStructField(\"type\", LongType(), True)\n",
    "# \t\t]), True),\n",
    "# \t\tStructField(\"volume\", StringType(), True),\n",
    "# \t\tStructField(\"year\", LongType(), True)\n",
    "# \t])\n",
    "\n",
    "\n",
    "# union = spark.readStream.schema(jsonSchema).option(\"maxFilesPerTrigger\", 1).json(path)"
   ]
  },
  {
   "cell_type": "markdown",
   "metadata": {},
   "source": [
    "#### Reading the dataframe by merging the previously created chunks.\n",
    "Alternatively, we can process single chunk to see what outcome may look like"
   ]
  },
  {
   "cell_type": "code",
   "execution_count": 0,
   "metadata": {
    "application/vnd.databricks.v1+cell": {
     "inputWidgets": {},
     "nuid": "0f774643-8974-4f92-953a-9e735689d61d",
     "showTitle": false,
     "title": ""
    }
   },
   "outputs": [
    {
     "data": {
      "text/plain": [
       "root\n",
       " |-- _id: string (nullable = true)\n",
       " |-- abstract: string (nullable = true)\n",
       " |-- authors: array (nullable = true)\n",
       " |    |-- element: struct (containsNull = true)\n",
       " |    |    |-- _id: string (nullable = true)\n",
       " |    |    |-- bio: string (nullable = true)\n",
       " |    |    |-- email: string (nullable = true)\n",
       " |    |    |-- gid: string (nullable = true)\n",
       " |    |    |-- name: string (nullable = true)\n",
       " |    |    |-- name_zh: string (nullable = true)\n",
       " |    |    |-- oid: string (nullable = true)\n",
       " |    |    |-- oid_zh: string (nullable = true)\n",
       " |    |    |-- orcid: string (nullable = true)\n",
       " |    |    |-- org: string (nullable = true)\n",
       " |    |    |-- org_zh: string (nullable = true)\n",
       " |    |    |-- orgid: string (nullable = true)\n",
       " |    |    |-- orgs: array (nullable = true)\n",
       " |    |    |    |-- element: string (containsNull = true)\n",
       " |    |    |-- orgs_zh: array (nullable = true)\n",
       " |    |    |    |-- element: string (containsNull = true)\n",
       " |    |    |-- sid: string (nullable = true)\n",
       " |    |    |-- position: string (nullable = true)\n",
       " |    |    |-- avatar: string (nullable = true)\n",
       " |    |    |-- homepage: string (nullable = true)\n",
       " |-- doi: string (nullable = true)\n",
       " |-- fos: array (nullable = true)\n",
       " |    |-- element: string (containsNull = true)\n",
       " |-- isbn: string (nullable = true)\n",
       " |-- issn: string (nullable = true)\n",
       " |-- issue: string (nullable = true)\n",
       " |-- keywords: array (nullable = true)\n",
       " |    |-- element: string (containsNull = true)\n",
       " |-- lang: string (nullable = true)\n",
       " |-- n_citation: string (nullable = true)\n",
       " |-- page_end: string (nullable = true)\n",
       " |-- page_start: string (nullable = true)\n",
       " |-- pdf: string (nullable = true)\n",
       " |-- references: array (nullable = true)\n",
       " |    |-- element: string (containsNull = true)\n",
       " |-- title: string (nullable = true)\n",
       " |-- url: array (nullable = true)\n",
       " |    |-- element: string (containsNull = true)\n",
       " |-- venue: struct (nullable = true)\n",
       " |    |-- _id: string (nullable = true)\n",
       " |    |-- issn: string (nullable = true)\n",
       " |    |-- name: string (nullable = true)\n",
       " |    |-- name_d: string (nullable = true)\n",
       " |    |-- name_s: string (nullable = true)\n",
       " |    |-- online_issn: string (nullable = true)\n",
       " |    |-- publisher: string (nullable = true)\n",
       " |    |-- raw: string (nullable = true)\n",
       " |    |-- raw_zh: string (nullable = true)\n",
       " |    |-- sid: string (nullable = true)\n",
       " |    |-- src: string (nullable = true)\n",
       " |    |-- t: string (nullable = true)\n",
       " |    |-- type: long (nullable = true)\n",
       " |-- volume: string (nullable = true)\n",
       " |-- year: string (nullable = true)\n",
       "\n"
      ]
     },
     "metadata": {
      "application/vnd.databricks.v1+output": {
       "addedWidgets": {},
       "arguments": {},
       "data": "root\n |-- _id: string (nullable = true)\n |-- abstract: string (nullable = true)\n |-- authors: array (nullable = true)\n |    |-- element: struct (containsNull = true)\n |    |    |-- _id: string (nullable = true)\n |    |    |-- bio: string (nullable = true)\n |    |    |-- email: string (nullable = true)\n |    |    |-- gid: string (nullable = true)\n |    |    |-- name: string (nullable = true)\n |    |    |-- name_zh: string (nullable = true)\n |    |    |-- oid: string (nullable = true)\n |    |    |-- oid_zh: string (nullable = true)\n |    |    |-- orcid: string (nullable = true)\n |    |    |-- org: string (nullable = true)\n |    |    |-- org_zh: string (nullable = true)\n |    |    |-- orgid: string (nullable = true)\n |    |    |-- orgs: array (nullable = true)\n |    |    |    |-- element: string (containsNull = true)\n |    |    |-- orgs_zh: array (nullable = true)\n |    |    |    |-- element: string (containsNull = true)\n |    |    |-- sid: string (nullable = true)\n |    |    |-- position: string (nullable = true)\n |    |    |-- avatar: string (nullable = true)\n |    |    |-- homepage: string (nullable = true)\n |-- doi: string (nullable = true)\n |-- fos: array (nullable = true)\n |    |-- element: string (containsNull = true)\n |-- isbn: string (nullable = true)\n |-- issn: string (nullable = true)\n |-- issue: string (nullable = true)\n |-- keywords: array (nullable = true)\n |    |-- element: string (containsNull = true)\n |-- lang: string (nullable = true)\n |-- n_citation: string (nullable = true)\n |-- page_end: string (nullable = true)\n |-- page_start: string (nullable = true)\n |-- pdf: string (nullable = true)\n |-- references: array (nullable = true)\n |    |-- element: string (containsNull = true)\n |-- title: string (nullable = true)\n |-- url: array (nullable = true)\n |    |-- element: string (containsNull = true)\n |-- venue: struct (nullable = true)\n |    |-- _id: string (nullable = true)\n |    |-- issn: string (nullable = true)\n |    |-- name: string (nullable = true)\n |    |-- name_d: string (nullable = true)\n |    |-- name_s: string (nullable = true)\n |    |-- online_issn: string (nullable = true)\n |    |-- publisher: string (nullable = true)\n |    |-- raw: string (nullable = true)\n |    |-- raw_zh: string (nullable = true)\n |    |-- sid: string (nullable = true)\n |    |-- src: string (nullable = true)\n |    |-- t: string (nullable = true)\n |    |-- type: long (nullable = true)\n |-- volume: string (nullable = true)\n |-- year: string (nullable = true)\n\n",
       "datasetInfos": [],
       "metadata": {},
       "removedWidgets": [],
       "type": "ansi"
      }
     },
     "output_type": "display_data"
    }
   ],
   "source": [
    "# Build map of spark dataframes by reading json partition chunk files\n",
    "dataframes_map = map(lambda r: spark.read.option(\"inferSchema\", True).json(r), [f\"{path}data_PART_{num}.json\" for num in range(file_count)])\n",
    "# reduce the dataframes into single dataframe by performing union over the mapped frames.\n",
    "union = reduce(lambda df1, df2: df1.unionByName(df2, allowMissingColumns=True), dataframes_map)\n",
    "\n",
    "# Reading first chunk for Testing\n",
    "# union = spark.read.option(\"inferSchema\", True).json(f\"{path}data_PART_0.json\")\n",
    "\n",
    "union = union.na.drop(subset=[\"authors\"])\n",
    "union = union.dropDuplicates([\"_id\"])\n",
    "union = union.filter(union.lang == 'en')\n",
    "union.printSchema()"
   ]
  },
  {
   "cell_type": "markdown",
   "metadata": {
    "application/vnd.databricks.v1+cell": {
     "inputWidgets": {},
     "nuid": "725a5e73-1686-417e-879a-e7ee8551958e",
     "showTitle": false,
     "title": ""
    }
   },
   "source": [
    "#### Cleaning bad records (empty author lists, small titles)"
   ]
  },
  {
   "cell_type": "code",
   "execution_count": 0,
   "metadata": {
    "application/vnd.databricks.v1+cell": {
     "inputWidgets": {},
     "nuid": "1de93512-60bb-4f58-bc94-f6fbbc254992",
     "showTitle": false,
     "title": ""
    }
   },
   "outputs": [],
   "source": [
    "# Deleting entries with small Titles (less than 3 words) and empty `authors` list\n",
    "size_ = udf(lambda s: len(s.split()), IntegerType())\n",
    "\n",
    "union = union.na.drop(subset=[\"title\", \"authors\"])\n",
    "union = union.filter(size_(F.col(\"Title\")) > 3)"
   ]
  },
  {
   "cell_type": "markdown",
   "metadata": {},
   "source": [
    "#### Dataframe saving and RDD mapper methods"
   ]
  },
  {
   "cell_type": "code",
   "execution_count": 0,
   "metadata": {
    "application/vnd.databricks.v1+cell": {
     "inputWidgets": {},
     "nuid": "eae675b0-6dc9-481a-9459-d2facb3d2a97",
     "showTitle": false,
     "title": ""
    }
   },
   "outputs": [],
   "source": [
    "def save_delta_frame(frame, alias, clean = False):\n",
    "    # pull required Fields\n",
    "    delta_path=f\"{delta_dir}{alias}\"\n",
    "       \n",
    "    # Clean (delete dups, Fill NaN values?, ...)\n",
    "    if clean:\n",
    "        frame = frame.distinct()\n",
    "       \n",
    "    # Save delta Frame\n",
    "    frame.write.format('delta').mode('overwrite').save(delta_path)\n",
    "    \n",
    "    # frame.writeStream.format('delta').option(\"checkpointLocation\", f\"/delta/{alias}/_checkpoints/etl-from-json\").outputMode('append').start(delta_path)\n",
    "    # pull appeneded delta file and return\n",
    "    # frame = spark.read.format('delta').load(delta_path)\n",
    "    return frame\n",
    "\n",
    "def distinct_frame_from_cols(frame, columns):\n",
    "    # get distinct records for col\n",
    "    frame = frame.select(*columns).distinct()\n",
    "    # frame = frame.select(\"*\").withColumn(\"id\", F.monotonically_increasing_id() + 1)\n",
    "    frame = frame.select(\"*\").withColumn(\"id\", F.expr(\"uuid()\"))\n",
    "    # return the indexed Table\n",
    "    return frame.select(\"id\", *columns)\n",
    "\n",
    "def map_rdd_to_id(rdd):\n",
    "    def map_rdd2_id_(col):\n",
    "        if col == \"null\" or col == \"\" or not col:\n",
    "            return None\n",
    "        try:\n",
    "            return [rddTuple[0] for rddTuple in list(rdd.items()) if rddTuple[1] == col][0]\n",
    "        except ValueError:\n",
    "            return None\n",
    "    return udf(map_rdd2_id_, LongType())\n",
    "\n",
    "# UDF to get relevant publication's citation counts\n",
    "def cite_count(countMapper):\n",
    "    def cite_count_(col):\n",
    "        if col == \"null\" or col == \"\" or not col:\n",
    "            return \"Unknown\"\n",
    "        return countMapper.get(col)\n",
    "    return udf(cite_count_, StringType())"
   ]
  },
  {
   "cell_type": "markdown",
   "metadata": {},
   "source": [
    "#### Building Publlication record Type column (Journal, workshop or conference entry)"
   ]
  },
  {
   "cell_type": "code",
   "execution_count": null,
   "metadata": {},
   "outputs": [],
   "source": [
    "union = union.withColumn('doc_type', F.when(union.venue.raw.contains(\"@\"), 'workshop').when(union.volume.isNotNull(), 'journal').when(union.issue.isNotNull(), 'journal').otherwise('conference'))\n",
    "\n",
    "# type_frame = distinct_frame_from_cols(union, [\"doc_type\"]).withColumnRenamed(\"doc_type\", \"Description\")"
   ]
  },
  {
   "cell_type": "markdown",
   "metadata": {
    "application/vnd.databricks.v1+cell": {
     "inputWidgets": {},
     "nuid": "df6875e8-8fed-4efa-af2e-836ed3ba9b99",
     "showTitle": false,
     "title": ""
    }
   },
   "source": [
    "#### Language Table\n",
    "\n",
    "- Counting number of distinct languages.\n",
    "- Building new table.\n",
    "- Saving Table to Delta lake\n",
    "- Remove Langueage column from main dataframe and create Lang_ID column"
   ]
  },
  {
   "cell_type": "code",
   "execution_count": 0,
   "metadata": {
    "application/vnd.databricks.v1+cell": {
     "inputWidgets": {},
     "nuid": "cf0c36be-cbb4-4aa1-933d-3c089635b185",
     "showTitle": false,
     "title": ""
    }
   },
   "outputs": [],
   "source": [
    "lang_frame = distinct_frame_from_cols(union, ['lang']).withColumnRenamed(\"lang\", \"Text\")\n",
    "save_delta_frame(lang_frame, \"Language\")\n",
    "lang_rdd = lang_frame.rdd.collectAsMap()\n",
    "\n",
    "union = union.select(\"*\", map_rdd_to_id(lang_rdd)(\"lang\").alias(\"Lang_ID\")).drop(\"lang\")"
   ]
  },
  {
   "cell_type": "markdown",
   "metadata": {
    "application/vnd.databricks.v1+cell": {
     "inputWidgets": {},
     "nuid": "f4946017-a53d-451e-af02-89ef1f95d83c",
     "showTitle": false,
     "title": ""
    }
   },
   "source": [
    "#### Publication Table\n",
    "\n",
    "- Counting number of citations.\n",
    "- Building new table for Title, abstract, volume, Number of citations, references and more.\n",
    "- Saving Table to delta lake\n",
    "- Remove extracted columns from main dataframe"
   ]
  },
  {
   "cell_type": "code",
   "execution_count": 0,
   "metadata": {
    "application/vnd.databricks.v1+cell": {
     "inputWidgets": {},
     "nuid": "a40dfe1c-58c9-460d-ada7-ef8fd7d0aa68",
     "showTitle": false,
     "title": ""
    }
   },
   "outputs": [],
   "source": [
    "# building a Citation counter dictionary\n",
    "citation_frame = union.select(F.explode_outer(\"references\").alias(\"reference_countmap\"))\n",
    "citation_frame = citation_frame.groupBy(\"reference_countmap\").count()\n",
    "citation_frame = citation_frame.rdd.map(lambda row: row.asDict(True))\n",
    "citation_counts = citation_frame.collect()\n",
    "citation_counter = {}\n",
    "for citation_count in citation_counts:\n",
    "    citation_counter[citation_count['reference_countmap']] = citation_count['count']"
   ]
  },
  {
   "cell_type": "code",
   "execution_count": 0,
   "metadata": {
    "application/vnd.databricks.v1+cell": {
     "inputWidgets": {},
     "nuid": "df3e4406-4f68-4a71-8621-8eee5f7aa50d",
     "showTitle": false,
     "title": ""
    }
   },
   "outputs": [],
   "source": [
    "# Building Publication Frame\n",
    "publication_frame = union.select(\"_id\", \"title\", \"volume\", \"issue\", \"abstract\", \"pdf\", \"isbn\", \"issn\", \"doi\", \"url\", cite_count(citation_counter)(\"_id\").alias(\"NumberOfCitations\"))\n",
    "publication_frame = publication_frame.withColumn(\"issn\", F.when(publication_frame.issn.rlike(\"[1-9]*-[1-9]*\"), F.col(\"issn\")).otherwise(None))\n",
    "# Removing extracted fields from the main schema \n",
    "union = union.drop(\"title\", \"abstract\", \"pdf\", \"isbn\", \"issn\", \"doi\", \"url\", \"references\", \"page_start\", \"page_end\", \"n_citation\")"
   ]
  },
  {
   "cell_type": "code",
   "execution_count": 0,
   "metadata": {
    "application/vnd.databricks.v1+cell": {
     "inputWidgets": {},
     "nuid": "5a0dbeee-d1b4-447a-b2de-5746a56af1c2",
     "showTitle": false,
     "title": ""
    }
   },
   "outputs": [],
   "source": [
    "# Saving the table\n",
    "publication_frame = save_delta_frame(publication_frame, \"Publication\", clean=True)"
   ]
  },
  {
   "cell_type": "code",
   "execution_count": 0,
   "metadata": {
    "application/vnd.databricks.v1+cell": {
     "inputWidgets": {},
     "nuid": "4ffd9fd7-9bad-4560-bb4c-a62897ffb0f6",
     "showTitle": false,
     "title": ""
    }
   },
   "outputs": [],
   "source": [
    "### Future Steps:\n",
    "# 1. API lookup to fill in missing data in issn, isbn, pdf columns\n",
    "# 2. Extract distinct from doc_type into Type frame and map ID for the same"
   ]
  },
  {
   "cell_type": "markdown",
   "metadata": {
    "application/vnd.databricks.v1+cell": {
     "inputWidgets": {},
     "nuid": "32cddc8a-4c19-4084-ac25-7c3d08389dfd",
     "showTitle": false,
     "title": ""
    }
   },
   "source": [
    "#### FieldOfStudy table. \n",
    "\n",
    "- To generalize desciplines, initialize CountMapper and decipline_mapper.\n",
    "- Map relevant `Field of study` topic for each record \n",
    "    - If the decipline is found in the generalized mapper, we use that item to map the Field of Study list. \n",
    "    - Otherwise we use counts of occurances of each item from the list in the whole database, and pick the one with most frequent occurance as a suitable discipline.\n",
    "- Build Field of Study Table and map the relevant UUID to the union Table\n",
    "- Remove `fos` column from main dataframe\n",
    "\n",
    "We used [Suggested](https://confluence.egi.eu/display/EGIG/Scientific+Disciplines) Descipline mappings to build a relevant datastructure to replace the specific field to generalized descipline."
   ]
  },
  {
   "cell_type": "code",
   "execution_count": 0,
   "metadata": {
    "application/vnd.databricks.v1+cell": {
     "inputWidgets": {},
     "nuid": "1294fe6a-de77-4455-a0b3-a8c5578c5bbd",
     "showTitle": false,
     "title": ""
    }
   },
   "outputs": [
    {
     "data": {
      "text/html": [
       "<style scoped>\n",
       "  .ansiout {\n",
       "    display: block;\n",
       "    unicode-bidi: embed;\n",
       "    white-space: pre-wrap;\n",
       "    word-wrap: break-word;\n",
       "    word-break: break-all;\n",
       "    font-family: \"Source Code Pro\", \"Menlo\", monospace;;\n",
       "    font-size: 13px;\n",
       "    color: #555;\n",
       "    margin-left: 4px;\n",
       "    line-height: 19px;\n",
       "  }\n",
       "</style>"
      ]
     },
     "metadata": {
      "application/vnd.databricks.v1+output": {
       "arguments": {},
       "data": "",
       "errorSummary": "Cancelled",
       "errorTraceType": "html",
       "metadata": {},
       "type": "ipynbError"
      }
     },
     "output_type": "display_data"
    }
   ],
   "source": [
    "# Building countmap structure\n",
    "countMapFos = union.select(F.explode(\"fos\").alias(\"fos2\"))\n",
    "countMapFos = countMapFos.groupBy(\"fos2\").count()\n",
    "countMapperRdd = countMapFos.rdd.map(lambda row: row.asDict(True))\n",
    "\n",
    "countMapperList = countMapperRdd.collect()\n",
    "\n",
    "count_mapper = {}\n",
    "for countMapperItem in countMapperList:\n",
    "    count_mapper[countMapperItem['fos2']] = countMapperItem['count']\n",
    "\n",
    "decipline_mapper = {\n",
    "\t# 1 Natural Sciences\n",
    "\t\"Mathematics\": \"Mathematics\", \"Applied mathematics\": \"Mathematics\", \"Pure mathematics\": \"Mathematics\", \"Statistics and probability\": \"Mathematics\",\n",
    "\t\"Computer Science\": \"Computer Sciences\", \"Computer Sciences\": \"Computer Sciences\", \"Algorithms\": \"Computer Sciences\", \"Artificial Intelligence (expert systems, machine learning, robotics)\": \"Computer Sciences\", \"Computer architecture\": \"Computer Sciences\", \"Computer communications\": \"Computer Sciences\", \"Computer graphics\": \"Computer Sciences\", \"Computer security and reliability\": \"Computer Sciences\", \"Data structures\": \"Computer Sciences\", \"Distributed computing\": \"Computer Sciences\", \"Human-computer interaction\": \"Computer Sciences\", \"Operating systems\": \"Computer Sciences\", \"Parallel computing\": \"Computer Sciences\", \"Programming languages\": \"Computer Sciences\", \"Quantum computing\": \"Computer Sciences\", \"Software engineering\": \"Computer Sciences\", \"Theory of computation\": \"Computer Sciences\",\n",
    "\t\"Information sciences\": \"Information sciences\", \"Information science\": \"Information sciences\", \"Data management\": \"Information sciences\", \"Data mining\": \"Information sciences\", \"Information retrieval\": \"Information sciences\", \"Information management\": \"Information sciences\", \"Knowledge management\": \"Information sciences\", \"Multimedia, hypermedia\": \"Information sciences\",\n",
    "\t\"Earth Sciences\": \"Earth Sciences\", \"Earth Science\": \"Earth Sciences\", \"Atmospheric science\": \"Earth Sciences\", \"Climate research\": \"Earth Sciences\", \"Geochemistry\": \"Earth Sciences\", \"Geology\": \"Earth Sciences\", \"Geophysics\": \"Earth Sciences\", \"Hydrology\": \"Earth Sciences\", \"Mineralogy\": \"Earth Sciences\", \"Oceanography\": \"Earth Sciences\", \"Palaeontology\": \"Earth Sciences\", \"Physical geography\": \"Earth Sciences\", \"Seismology\": \"Earth Sciences\", \"Volcanology\": \"Earth Sciences\", \n",
    "\t\"Biology Science\": \"Biology Science\", \"Aerobiology\": \"Biology Science\", \"Bacteriology\": \"Biology Science\", \"Behavioural biology\": \"Biology Science\", \"Biochemistry and molecular biology\": \"Biology Science\", \"Biodiversity conservation\": \"Biology Science\", \"Bioinformatics\": \"Biology Science\", \"Biological rhythm\": \"Biology Science\", \"Biology\": \"Biology Science\", \"Biophysics\": \"Biology Science\", \"Botany\": \"Biology Science\", \"Cell biology\": \"Biology Science\", \"Computational biology\": \"Biology Science\", \"Cryobiology\": \"Biology Science\", \"Developmental biology\": \"Biology Science\", \"Ecology\": \"Biology Science\", \"Evolutionary biology\": \"Biology Science\", \"Genetics and heredity\": \"Biology Science\", \"Marine and Freshwater biology\": \"Biology Science\", \"Mathematical biology\": \"Biology Science\", \"Microbiology\": \"Biology Science\", \"Mycology\": \"Biology Science\", \"Plant science\": \"Biology Science\", \"Reproductive biology\": \"Biology Science\", \"Structural biology\": \"Biology Science\", \"Taxonomy\": \"Biology Science\", \"Theoretical biology\": \"Biology Science\", \"Thermal biology\": \"Biology Science\", \"Virology\": \"Biology Science\", \"Zoology\": \"Biology Science\", \n",
    "\t\"Physical sciences\": \"Physical sciences\", \"Physical science\": \"Physical sciences\", \"Accelerator physics\": \"Physical sciences\", \"Acoustics\": \"Physical sciences\", \"Aerosol physics\": \"Physical sciences\", \"Astrobiology\": \"Physical sciences\", \"Astronomy\": \"Physical sciences\", \"Astroparticle physics\": \"Physical sciences\", \"Astrophysics\": \"Physical sciences\", \"Atomic\": \"Physical sciences\", \"Chemical physics\": \"Physical sciences\", \"Computational physics\": \"Physical sciences\", \"Condensed matter physics\": \"Physical sciences\", \"Cryogenics\": \"Physical sciences\", \"Fluid Mechanics\": \"Physical sciences\", \"Fusion\": \"Physical sciences\", \"High energy physics\": \"Physical sciences\", \"Mathematical physics\": \"Physical sciences\", \"Medical physics\": \"Physical sciences\", \"Molecular physics\": \"Physical sciences\", \"Nuclear physics\": \"Physical sciences\", \"Optics\": \"Physical sciences\", \"Particle physics\": \"Physical sciences\", \"Physics\": \"Physical sciences\", \"Planetary science\": \"Physical sciences\", \"Plasma physics\": \"Physical sciences\", \"Space science\": \"Physical sciences\", \"Quantum physics\": \"Physical sciences\",\n",
    "\t\"Chemical science\": \"Chemical sciences\", \"Chemical sciences\": \"Chemical sciences\", \"Analytical chemistry\": \"Chemical sciences\", \"Chemistry\": \"Chemical sciences\", \"Colloid chemistry\": \"Chemical sciences\", \"Computational chemistry\": \"Chemical sciences\", \"Electrochemistry\": \"Chemical sciences\", \"Inorganic and nuclear chemistry\": \"Chemical sciences\", \"Mathematical chemistry\": \"Chemical sciences\", \"Organic chemistry\": \"Chemical sciences\", \"Physical chemistry\": \"Chemical sciences\", \"Polymer science\": \"Chemical sciences\", \n",
    "\n",
    "\t# 2 Engineering and Technology\n",
    "\t\"Civil engineering\": \"Civil engineering\", \"Architecture engineering\": \"Civil engineering\", \"Civil engineering\": \"Civil engineering\", \"Civil Protection\": \"Civil engineering\", \"Construction/Structural engineering\": \"Civil engineering\", \"Transport engineering\": \"Civil engineering\",\n",
    "\t\"Electrical, electronic and information engineering\": \"Electrical, electronic and information engineering\", \"Communication engineering and systems\": \"Electrical, electronic and information engineering\", \"Computer hardware and architecture\": \"Electrical, electronic and information engineering\", \"Electrical and electronic engineering\": \"Electrical, electronic and information engineering\", \"Robotics, Automation and Control Systems\": \"Electrical, electronic and information engineering\",\n",
    "\t\"Mechanical engineering\": \"Mechanical engineering\", \"Applied mechanics\": \"Mechanical engineering\", \"Audio engineering\": \"Mechanical engineering\", \"Nuclear related engineering\": \"Mechanical engineering\", \"Reliability analysis\": \"Mechanical engineering\", \"Thermodynamics\": \"Mechanical engineering\",\n",
    "\t\"Aerospace engineering\": \"Aerospace engineering\", \"Aeronautical engineering\": \"Aerospace engineering\", \"Astronautical engineering\": \"Aerospace engineering\",\n",
    "\t\"Chemical engineering\": \"Chemical engineering\", \"Chemical engineering (plants, products)\": \"Chemical engineering\", \"Chemical process engineering\": \"Chemical engineering\",\n",
    "\t\"Materials engineering\": \"Materials engineering\", \"Ceramics\": \"Materials engineering\", \"Coating and films\": \"Materials engineering\", \"Composites\": \"Materials engineering\", \"Paper and wood\": \"Materials engineering\", \"Textiles\": \"Materials engineering\",\n",
    "\t\"Bioengineering and Biomedical engineering\": \"Bioengineering and Biomedical engineering\", \"Bioengineering\": \"Bioengineering and Biomedical engineering\", \"Biomedical engineering\": \"Bioengineering and Biomedical engineering\",\n",
    "\t\"Environmental engineering\": \"Environmental engineering\", \"Energy and fuels\": \"Environmental engineering\", \"Geological engineering\": \"Environmental engineering\", \"Geotechnics\": \"Environmental engineering\", \"Ocean engineering\": \"Environmental engineering\", \"Mining and mineral processing\": \"Environmental engineering\", \"Petroleum engineering\": \"Environmental engineering\", \"Remote sensing\": \"Environmental engineering\", \"Sea vessels\": \"Environmental engineering\",\n",
    "\t\"Environmental biotechnology\": \"Environmental biotechnology\", \"Bioremediation\": \"Environmental biotechnology\", \"Diagnostic biotechnologies\": \"Environmental biotechnology\",\n",
    "\t \"Industrial biotechnology\":  \"Industrial biotechnology\", \"Bio-derived novel materials\": \"Industrial biotechnology\", \"Biocatalysis\": \"Industrial biotechnology\", \"Bioderived bulk and fine chemicals\": \"Industrial biotechnology\", \"Biofuels\": \"Industrial biotechnology\", \"Biomaterials\": \"Industrial biotechnology\", \"Bioprocessing technologies\": \"Industrial biotechnology\", \"Bioproducts\": \"Industrial biotechnology\", \"Fermentation\": \"Industrial biotechnology\",\n",
    "\t \"Nano-technology\":  \"Nano-technology\", \"Nano-materials\": \"Nano-technology\", \"Nano-processes\": \"Nano-technology\",\n",
    "\n",
    "\t# 3 Medical and Health Sciences\n",
    "\t\"Basic medicine\": \"Basic medicine\", \"Anatomy and morphology\": \"Basic medicine\", \"Human genetics\": \"Basic medicine\", \"Immunology\": \"Basic medicine\", \"Medicinal chemistry\": \"Basic medicine\", \"Neuroscience\": \"Basic medicine\", \"Pathology\": \"Basic medicine\", \"Pharmacology and pharmacy\": \"Basic medicine\", \"Physiology\": \"Basic medicine\", \"Toxicology\": \"Basic medicine\",\n",
    "\t\"Clinical medicine\": \"Clinical medicine\", \"Allergy\": \"Clinical medicine\", \"Anaesthesiology\": \"Clinical medicine\", \"Andrology\": \"Clinical medicine\", \"Cardiac and Cardiovascular systems\": \"Clinical medicine\", \"Critical care/Emergency medicine\": \"Clinical medicine\", \"Dentistry, oral surgery/medicine\": \"Clinical medicine\", \"Dermatology and venereal diseases\": \"Clinical medicine\", \"Gastroenterology and hepatology\": \"Clinical medicine\", \"General and internal medicine\": \"Clinical medicine\", \"Geriatrics and gerontology\": \"Clinical medicine\", \"Hematology\": \"Clinical medicine\", \"Integrative and Complementary medicine\": \"Clinical medicine\", \"Medical imaging\": \"Clinical medicine\", \"Nuclear medicine\": \"Clinical medicine\", \"Obstetrics and gynaecology\": \"Clinical medicine\", \"Oncology\": \"Clinical medicine\", \"Ophthalmology\": \"Clinical medicine\", \"Optometry\": \"Clinical medicine\", \"Orthopaedics\": \"Clinical medicine\", \"Otorhinolaryngolog\": \"Clinical medicine\", \"Paediatrics\": \"Clinical medicine\", \"Peripheral vascular disease\": \"Clinical medicine\", \"Psychiatry\": \"Clinical medicine\", \"Radiology\": \"Clinical medicine\", \"Respiratory systems\": \"Clinical medicine\", \"Rheumatology\": \"Clinical medicine\", \"Surgery\": \"Clinical medicine\", \"Transplantation\": \"Clinical medicine\", \"Urology and nephrology\": \"Clinical medicine\",\n",
    "\t\"Health science\": \"Health sciences\", \"Health sciences\": \"Health sciences\", \"Epidemiology\": \"Health sciences\", \"Health care science and services\": \"Health sciences\", \"Health policy and services\": \"Health sciences\", \"Infectious diseases\": \"Health sciences\", \"Medical ethics\": \"Health sciences\", \"Nursing\": \"Health sciences\", \"Nutrition and Dietetics\": \"Health sciences\", \"Occupational health\": \"Health sciences\", \"Parasitology\": \"Health sciences\", \"Public and environmental health\": \"Health sciences\", \"Social biomedical science\": \"Health sciences\", \"Sport and fitness science\": \"Health sciences\", \"Substance abuse\": \"Health sciences\", \"Tropical medicine\": \"Health sciences\",\n",
    "\t\"Medical biotechnology\": \"Medical biotechnology\", \"Biomedical devices\": \"Medical biotechnology\", \"Health-related biotechnology\": \"Medical biotechnology\", \"Pharmaceutical biotechnology\": \"Medical biotechnology\", \"Biotechnology and medical ethics\": \"Medical biotechnology\", \"Molecular diagnostics\": \"Medical biotechnology\", \"Biophysical manipulation\": \"Medical biotechnology\", \"Agricultural Sciences\": \"Medical biotechnology\",\n",
    "\n",
    "\t# 4 Agricultural Sciences\n",
    "\t\"Agriculture, forestry, and fisheries\": \"Agriculture, forestry, and fisheries\", \"Agriculture\": \"Agriculture, forestry, and fisheries\", \"Agronomy, plant breeding, plant protection\": \"Agriculture, forestry, and fisheries\", \"Fishery\": \"Agriculture, forestry, and fisheries\", \"Forestry\": \"Agriculture, forestry, and fisheries\", \"Horticulture and viticulture\": \"Agriculture, forestry, and fisheries\", \"Soil science\": \"Agriculture, forestry, and fisheries\",\n",
    "\t\"Animal and dairy sciences\": \"Animal and dairy sciences\", \"Animal science\": \"Animal and dairy sciences\", \"Dairy science\": \"Animal and dairy sciences\", \"Husbandry\": \"Animal and dairy sciences\", \"Pets\": \"Animal and dairy sciences\",\n",
    "\t\"Veterinary sciences\": \"Veterinary sciences\", \"Veterinary anaesthesiology\": \"Veterinary sciences\", \"Veterinary medicine\": \"Veterinary sciences\", \"Veterinary ophthalmology\": \"Veterinary sciences\", \"Veterinary pathobiology\": \"Veterinary sciences\", \"Veterinary radiology\": \"Veterinary sciences\", \"Veterinary reproduction\": \"Veterinary sciences\", \"Veterinary surgery\": \"Veterinary sciences\",\n",
    "\t\"Agricultural biotechnology\": \"Agricultural biotechnology\", \"Biomass feedstock production tech\": \"Agricultural biotechnology\", \"Biopharming\": \"Agricultural biotechnology\", \"Diagnostics\": \"Agricultural biotechnology\", \"Food biotechnology\": \"Agricultural biotechnology\", \"GM technology (crops, livestock)\": \"Agricultural biotechnology\", \"Livestock cloning\": \"Agricultural biotechnology\", \"Marker assisted selection\": \"Agricultural biotechnology\",\n",
    "\n",
    "\t# 5 Social Sciences\n",
    "\t\"Psychology\": \"Psychology\", \"Biological Psychology\": \"Psychology\", \"Clinical Psychology\": \"Psychology\", \"Cognitive Psychology\": \"Psychology\", \"Comparative Psychology\": \"Psychology\", \"Developmental Psychology\": \"Psychology\", \"Educational and School Psychology\": \"Psychology\", \"Evolutionary Psychology\": \"Psychology\", \"Industrial–organisational Psychology\": \"Psychology\", \"Personality Psychology\": \"Psychology\", \"Positive Psychology\": \"Psychology\", \"Social Psychology\": \"Psychology\",\n",
    "\t\"Economics, finance and business\": \"Economics, finance and business\", \"Business and Management\": \"Economics, finance and business\", \"Economics and Econometrics\": \"Economics, finance and business\", \"Finance\": \"Economics, finance and business\", \"Industrial relations\": \"Economics, finance and business\",\n",
    "\t\"Educational sciences\": \"Educational sciences\", \"Educational science\": \"Educational sciences\", \"General Education\": \"Educational sciences\",  \"Special Education (learning disabilities)\": \"Educational sciences\",\n",
    "\t\"Sociology\": \"Sociology\", \"Anthropology\": \"Sociology\", \"Demography\": \"Sociology\", \"Ethnology\": \"Sociology\", \"Family studies\": \"Sociology\", \"Social issues\": \"Sociology\", \"Social work\": \"Sociology\", \"Sociology\": \"Sociology\", \"Women's and gender studie\": \"Sociology\",\n",
    "\t\"Law\": \"Law\", \"Canon Law\": \"Law\", \"Civil Law\": \"Law\", \"Comparative Law\": \"Law\", \"Competition Law\": \"Law\", \"Constitutional Law\": \"Law\", \"Criminal Law\": \"Law\", \"Islamic Law\": \"Law\", \"Jewish Law\": \"Law\", \"Jurisprudence (Philosophy of Law)\": \"Law\",\n",
    "\t\"Political sciences\": \"Political sciences\", \"Political science\": \"Political sciences\", \"Comparative politics\": \"Political sciences\", \"Empirical pata analysis\": \"Political sciences\", \"International relations\": \"Political sciences\", \"Organisation theory\": \"Political sciences\", \"Political economy\": \"Political sciences\", \"Political philosophy\": \"Political sciences\", \"Public administration\": \"Political sciences\", \"Theories of the state\": \"Political sciences\",\n",
    "\t\"Social and economic geography\": \"Social and economic geography\", \"Cultural and economic geography\": \"Social and economic geography\", \"Transport planning\": \"Social and economic geography\", \"Urban studies\": \"Social and economic geography\",\n",
    "\t\"Media and communications\": \"Media and communications\", \"Information science - social\": \"Media and communications\", \"Journalism\": \"Media and communications\", \"Library science\": \"Media and communications\", \"Media and socio-cultural communication\": \"Media and communications\",\n",
    "\n",
    "\t# 6 \"Humanities\",\n",
    "\t\"History and Archaeology\": \"History and Archaeology\", \"Archaeology\": \"History and Archaeology\", \"History (Prehistory; Ancient; Modern world)\": \"History and Archaeology\",\n",
    "\t\"Languages and literature\": \"Languages and literature\", \"General language studies\": \"Languages and literature\", \"General literature studies\": \"Languages and literature\", \"Linguistics\": \"Languages and literature\", \"Literary theory\": \"Languages and literature\", \"Specific languages\": \"Languages and literature\", \"Specific literatures\": \"Languages and literature\",\n",
    "\t\"Philosophy, ethics and religion\": \"Philosophy, ethics and religion\", \"Ethics\": \"Philosophy, ethics and religion\", \"Philosophy of science/technology\": \"Philosophy, ethics and religion\", \"Philosophy\": \"Philosophy, ethics and religion\", \"Religious studies\": \"Philosophy, ethics and religion\", \"Theology\": \"Philosophy, ethics and religion\",\n",
    "\t\"Arts\": \"Arts\", \"Architectural design\": \"Arts\", \"Folklore studies\": \"Arts\", \"Media Studies (Film, Radio, TV)\": \"Arts\", \"Musicology\": \"Arts\", \"Performing arts studies\": \"Arts\",\n",
    "\n",
    "\t# 7 \"Support Activities\"\n",
    "\t\"Archives\": \"Support Activities\", \"Development\": \"Support Activities\", \"Urban planning\": \"Support Activities\"\n",
    "} \n",
    "\n",
    "def map_fos(mapper, count_mapper):\n",
    "    def map_fos_(col):\n",
    "        if col == \"\" or not col:\n",
    "            return None\n",
    "        fields = list(filter(None, [mapper.get(t) for t in col]))\n",
    "        if len(fields):\n",
    "            return fields[0]\n",
    "        else:\n",
    "            col_count = [count_mapper[x] for x in col]\n",
    "            return col[col_count.index(max(col_count))]\n",
    "    return udf(map_fos_, StringType())\n",
    "\n",
    "def map_fos_id(rdd):\n",
    "    def map_fos_id_(col):\n",
    "        if col == \"null\" or col == \"\" or not col:\n",
    "            return None\n",
    "        try:\n",
    "            matches = [fosTuple[0] for fosTuple in list(rdd.items()) if fosTuple[1] == col]\n",
    "            if len(matches):\n",
    "                return matches[0]\n",
    "            else:\n",
    "                return None\n",
    "        except ValueError:\n",
    "            return None\n",
    "    return udf(map_fos_id_, LongType())"
   ]
  },
  {
   "cell_type": "code",
   "execution_count": 0,
   "metadata": {
    "application/vnd.databricks.v1+cell": {
     "inputWidgets": {},
     "nuid": "bb688248-acab-40ca-a1a9-59e5c4d108e6",
     "showTitle": false,
     "title": ""
    }
   },
   "outputs": [
    {
     "data": {
      "text/html": [
       "<style scoped>\n",
       "  .ansiout {\n",
       "    display: block;\n",
       "    unicode-bidi: embed;\n",
       "    white-space: pre-wrap;\n",
       "    word-wrap: break-word;\n",
       "    word-break: break-all;\n",
       "    font-family: \"Source Code Pro\", \"Menlo\", monospace;;\n",
       "    font-size: 13px;\n",
       "    color: #555;\n",
       "    margin-left: 4px;\n",
       "    line-height: 19px;\n",
       "  }\n",
       "</style>"
      ]
     },
     "metadata": {
      "application/vnd.databricks.v1+output": {
       "arguments": {},
       "data": "",
       "errorSummary": "Cancelled",
       "errorTraceType": "html",
       "metadata": {},
       "type": "ipynbError"
      }
     },
     "output_type": "display_data"
    }
   ],
   "source": [
    "# Finding relevant `Field_of_Study` from `fos` list with mapped value with `translate` udf into \"Field_of_Study\" column.\n",
    "union = union.select(\"*\", F.col(\"fos\"), map_fos(decipline_mapper, count_mapper)(\"fos\").alias(\"Text\"))\n",
    "# Dropping `fos` column\n",
    "union = union.drop(\"fos\")\n",
    "\n",
    "# Building Frame of distinct disciplines out of \"Field_of_Study\" column.\n",
    "FoS_frame = distinct_frame_from_cols(union, [\"Text\"])\n",
    "save_delta_frame(FoS_frame, \"FieldOfStudy\")\n",
    "\n",
    "# Reading Mapping field of study to id, wuth RDD map for replacing \"Field_of_Study\" to relevant ID in the union table.\n",
    "FoSrdd = FoS_frame.rdd.collectAsMap()\n",
    "\n",
    "union = union.withColumn(\"FOS_ID\", map_fos_id(FoSrdd)(\"Text\")).drop(\"Text\")"
   ]
  },
  {
   "cell_type": "markdown",
   "metadata": {
    "application/vnd.databricks.v1+cell": {
     "inputWidgets": {},
     "nuid": "68d19eef-95b2-4fe8-bfba-c4c923555e58",
     "showTitle": false,
     "title": ""
    }
   },
   "source": [
    "#### Venue Table (Conference/Workshop where article was presneted/cited)\n",
    "\n",
    "- Extract and flatten structure from main record\n",
    "- Clean raw data and fetch Name, acronym and relevant url\n",
    "- Remove Duplicates\n",
    "- Save table\n",
    "\n",
    "(Mapping relevant ID is performed at the end, before saving Fact Table)"
   ]
  },
  {
   "cell_type": "code",
   "execution_count": 0,
   "metadata": {
    "application/vnd.databricks.v1+cell": {
     "inputWidgets": {},
     "nuid": "d20e1afa-a307-4b4c-9163-7bd9503c05cb",
     "showTitle": false,
     "title": ""
    }
   },
   "outputs": [
    {
     "data": {
      "text/html": [
       "<style scoped>\n",
       "  .ansiout {\n",
       "    display: block;\n",
       "    unicode-bidi: embed;\n",
       "    white-space: pre-wrap;\n",
       "    word-wrap: break-word;\n",
       "    word-break: break-all;\n",
       "    font-family: \"Source Code Pro\", \"Menlo\", monospace;;\n",
       "    font-size: 13px;\n",
       "    color: #555;\n",
       "    margin-left: 4px;\n",
       "    line-height: 19px;\n",
       "  }\n",
       "</style>"
      ]
     },
     "metadata": {
      "application/vnd.databricks.v1+output": {
       "arguments": {},
       "data": "",
       "errorSummary": "Cancelled",
       "errorTraceType": "html",
       "metadata": {},
       "type": "ipynbError"
      }
     },
     "output_type": "display_data"
    }
   ],
   "source": [
    "import requests \n",
    "\n",
    "def venue_API(venue_string):\n",
    "    if venue_string and venue_string != '':\n",
    "        venue_string = venue_string.split(' ')[0]\n",
    "        URL = \"http://dblp.org/search/venue/api?q=\" + venue_string + \"%3A$&format=json\"\n",
    "        try:\n",
    "            r = requests.get(url = URL)\n",
    "            if r.status_code == 200:\n",
    "                data = r.json()\n",
    "                coAuths=[]\n",
    "                joursConfs=[]\n",
    "                data = data['result']['hits']\n",
    "                if int(data['@total']) > 0:\n",
    "                    return data['hit'][0]['info']['venue'], data['hit'][0]['info']['acronym'], data['hit'][0]['info']['url']\n",
    "        except:\n",
    "            pass\n",
    "    return None, None, None\n",
    "\n",
    "schema = StructType([\n",
    "    StructField(\"name\", StringType(), True),\n",
    "    StructField(\"acronym\", StringType(), True),\n",
    "    StructField(\"src\", StringType(), True),\n",
    "])\n",
    "\n",
    "venue_query_udf = udf(venue_API, schema)\n",
    "\n",
    "# Exploding a column returns a new row for each element in the given array or map type. \n",
    "# For each item in the map/array of data it creates a copy of the row and with that element in new column.\n",
    "# Here, We only select the exploded column, and so we only get row with author object in the generated frame.\n",
    "\n",
    "venue_frame = union.select(\"venue\")\n",
    "\n",
    "venue_frame = venue_frame.selectExpr(\"venue.*\")\n",
    "\n",
    "venue_frame = venue_frame.dropDuplicates([\"_id\"])\n",
    "venue_frame = venue_frame.select(\"*\", F.when(venue_frame.raw.isNotNull(), venue_query_udf(F.col(\"raw\"))).alias(\"query_results\"))\n",
    "venue_frame = venue_frame.drop('name_d', 'raw', 'name_s', 'name', 'sid', 'issn', 'online_issn', 'publisher', 'type', 'src', 'raw_zh', 't')\n",
    "venue_frame = venue_frame.select(\"*\", \"query_results.*\")\n",
    "venue_frame = venue_frame.drop(\"query_results\")\n",
    "\n",
    "venue_frame.drop(\"all\", subset=[\"name\", \"name_s\", \"url\"])\n",
    "\n",
    "save_delta_frame(venue_frame, \"Venue\", clean=True)\n",
    "\n",
    "## TODO: \n",
    "# 1. Pull more info before save"
   ]
  },
  {
   "cell_type": "markdown",
   "metadata": {
    "application/vnd.databricks.v1+cell": {
     "inputWidgets": {},
     "nuid": "3a625b76-62b2-4a67-bb00-2cb17246dd2f",
     "showTitle": false,
     "title": ""
    }
   },
   "source": [
    "#### Author and Organization Tables\n",
    "\n",
    "- Explode (with posexplode to get AuthorRank)author details from main record\n",
    "- Extract and flatten Organization for each author\n",
    "- Clean the data and split Name\n",
    "- Remove Duplicates\n",
    "- Save table\n",
    "- Map relevant Author_ID and Organization_ID to FactTable"
   ]
  },
  {
   "cell_type": "code",
   "execution_count": 0,
   "metadata": {
    "application/vnd.databricks.v1+cell": {
     "inputWidgets": {},
     "nuid": "32a34b07-f881-4e4e-9a9e-e4b100f63944",
     "showTitle": false,
     "title": ""
    }
   },
   "outputs": [
    {
     "data": {
      "text/html": [
       "<style scoped>\n",
       "  .ansiout {\n",
       "    display: block;\n",
       "    unicode-bidi: embed;\n",
       "    white-space: pre-wrap;\n",
       "    word-wrap: break-word;\n",
       "    word-break: break-all;\n",
       "    font-family: \"Source Code Pro\", \"Menlo\", monospace;;\n",
       "    font-size: 13px;\n",
       "    color: #555;\n",
       "    margin-left: 4px;\n",
       "    line-height: 19px;\n",
       "  }\n",
       "</style>"
      ]
     },
     "metadata": {
      "application/vnd.databricks.v1+output": {
       "arguments": {},
       "data": "",
       "errorSummary": "Cancelled",
       "errorTraceType": "html",
       "metadata": {},
       "type": "ipynbError"
      }
     },
     "output_type": "display_data"
    }
   ],
   "source": [
    "# !pip install geograpy3 nltk -q"
   ]
  },
  {
   "cell_type": "code",
   "execution_count": 0,
   "metadata": {
    "application/vnd.databricks.v1+cell": {
     "inputWidgets": {},
     "nuid": "88a9a139-3dfb-4e38-a950-cfbac1fd694f",
     "showTitle": false,
     "title": ""
    }
   },
   "outputs": [
    {
     "data": {
      "text/html": [
       "<style scoped>\n",
       "  .ansiout {\n",
       "    display: block;\n",
       "    unicode-bidi: embed;\n",
       "    white-space: pre-wrap;\n",
       "    word-wrap: break-word;\n",
       "    word-break: break-all;\n",
       "    font-family: \"Source Code Pro\", \"Menlo\", monospace;;\n",
       "    font-size: 13px;\n",
       "    color: #555;\n",
       "    margin-left: 4px;\n",
       "    line-height: 19px;\n",
       "  }\n",
       "</style>"
      ]
     },
     "metadata": {
      "application/vnd.databricks.v1+output": {
       "arguments": {},
       "data": "",
       "errorSummary": "Cancelled",
       "errorTraceType": "html",
       "metadata": {},
       "type": "ipynbError"
      }
     },
     "output_type": "display_data"
    }
   ],
   "source": [
    "#import geograpy\n",
    "#import nltk\n",
    "#nltk.download('punkt')\n",
    "#nltk.download('averaged_perceptron_tagger')\n",
    "#nltk.download('maxent_ne_chunker')\n",
    "#nltk.download('words')\n",
    "\n",
    "#str(geograpy.locateCity(\"Michigan\"))\n",
    "#geograpy.get_place_context(text=\"University of Michigan, USA\")\n",
    "\n",
    "#print(geograpy.get_place_context(text=\"University of Tartu, Estonia\"))"
   ]
  },
  {
   "cell_type": "code",
   "execution_count": 0,
   "metadata": {
    "application/vnd.databricks.v1+cell": {
     "inputWidgets": {},
     "nuid": "be77b338-09c4-4f19-afce-e8f7f0d2038d",
     "showTitle": false,
     "title": ""
    }
   },
   "outputs": [
    {
     "data": {
      "text/plain": [
       "root\n",
       " |-- _id: string (nullable = true)\n",
       " |-- bio: string (nullable = true)\n",
       " |-- email: string (nullable = true)\n",
       " |-- gid: string (nullable = true)\n",
       " |-- name: string (nullable = true)\n",
       " |-- name_zh: string (nullable = true)\n",
       " |-- oid_zh: string (nullable = true)\n",
       " |-- org: string (nullable = true)\n",
       " |-- orgid: string (nullable = true)\n",
       " |-- orgs: array (nullable = true)\n",
       " |    |-- element: string (containsNull = true)\n",
       " |-- sid: string (nullable = true)\n",
       " |-- position: string (nullable = true)\n",
       " |-- avatar: string (nullable = true)\n",
       " |-- homepage: string (nullable = true)\n",
       "\n"
      ]
     },
     "metadata": {
      "application/vnd.databricks.v1+output": {
       "addedWidgets": {},
       "arguments": {},
       "data": "root\n |-- _id: string (nullable = true)\n |-- bio: string (nullable = true)\n |-- email: string (nullable = true)\n |-- gid: string (nullable = true)\n |-- name: string (nullable = true)\n |-- name_zh: string (nullable = true)\n |-- oid_zh: string (nullable = true)\n |-- org: string (nullable = true)\n |-- orgid: string (nullable = true)\n |-- orgs: array (nullable = true)\n |    |-- element: string (containsNull = true)\n |-- sid: string (nullable = true)\n |-- position: string (nullable = true)\n |-- avatar: string (nullable = true)\n |-- homepage: string (nullable = true)\n\n",
       "datasetInfos": [],
       "metadata": {},
       "removedWidgets": [],
       "type": "ansi"
      }
     },
     "output_type": "display_data"
    }
   ],
   "source": [
    "# Extracting Authors from the dataset\n",
    "\n",
    "# Exploding a column returns a new row for each element in the given array or map type. \n",
    "# For each item in the map/array of data it creates a copy of the row and with that element in new column.\n",
    "# Here, We only select the exploded column, and so we only get row with author object in the generated frame.\n",
    "\n",
    "union = union.select(\"*\", F.posexplode(\"authors\").alias(\"AuthorRank\", \"author\")).drop(\"authors\")\n",
    "authors_frame = union.selectExpr(\"author.*\")\n",
    "authors_frame = authors_frame.dropDuplicates([\"_id\"])\n",
    "\n",
    "# selectExpr Projects a set of SQL expressions and returns a new DataFrame. e.g. (authors['name', 'email'] => [authors.name, authors.email])\n",
    "authors_frame = authors_frame.drop(\"org_zh\", \"orgs_zh\", \"orcid\", \"oid\")\n",
    "authors_frame.printSchema()"
   ]
  },
  {
   "cell_type": "code",
   "execution_count": 0,
   "metadata": {
    "application/vnd.databricks.v1+cell": {
     "inputWidgets": {},
     "nuid": "734a0db3-557f-4571-8596-5d84ed8153a9",
     "showTitle": false,
     "title": ""
    }
   },
   "outputs": [
    {
     "data": {
      "text/html": [
       "<style scoped>\n",
       "  .ansiout {\n",
       "    display: block;\n",
       "    unicode-bidi: embed;\n",
       "    white-space: pre-wrap;\n",
       "    word-wrap: break-word;\n",
       "    word-break: break-all;\n",
       "    font-family: \"Source Code Pro\", \"Menlo\", monospace;;\n",
       "    font-size: 13px;\n",
       "    color: #555;\n",
       "    margin-left: 4px;\n",
       "    line-height: 19px;\n",
       "  }\n",
       "</style>"
      ]
     },
     "metadata": {
      "application/vnd.databricks.v1+output": {
       "arguments": {},
       "data": "",
       "errorSummary": "Cancelled",
       "errorTraceType": "html",
       "metadata": {},
       "type": "ipynbError"
      }
     },
     "output_type": "display_data"
    }
   ],
   "source": [
    "org_frame = authors_frame.select(\"_id\", \"org\", \"orgs\").withColumnRenamed(\"_id\", \"Author_ID\")\n",
    "org_frame = org_frame.na.drop(\"all\").distinct()\n",
    "org_frame = org_frame.withColumn(\"Organization\", F.when(F.col(\"org\").isNotNull(), F.col(\"org\")).otherwise(F.col(\"orgs\")[0])).select(\"Organization\", \"Author_ID\")\n",
    "\n",
    "org_frame = distinct_frame_from_cols(org_frame, [\"Organization\", \"Author_ID\"])\n",
    "save_delta_frame(org_frame, \"Organization\", clean=True)"
   ]
  },
  {
   "cell_type": "code",
   "execution_count": 0,
   "metadata": {
    "application/vnd.databricks.v1+cell": {
     "inputWidgets": {},
     "nuid": "2d28e23f-8e6b-4d23-a692-143724ecb377",
     "showTitle": false,
     "title": ""
    }
   },
   "outputs": [
    {
     "data": {
      "text/html": [
       "<style scoped>\n",
       "  .ansiout {\n",
       "    display: block;\n",
       "    unicode-bidi: embed;\n",
       "    white-space: pre-wrap;\n",
       "    word-wrap: break-word;\n",
       "    word-break: break-all;\n",
       "    font-family: \"Source Code Pro\", \"Menlo\", monospace;;\n",
       "    font-size: 13px;\n",
       "    color: #555;\n",
       "    margin-left: 4px;\n",
       "    line-height: 19px;\n",
       "  }\n",
       "</style>"
      ]
     },
     "metadata": {
      "application/vnd.databricks.v1+output": {
       "arguments": {},
       "data": "",
       "errorSummary": "Cancelled",
       "errorTraceType": "html",
       "metadata": {},
       "type": "ipynbError"
      }
     },
     "output_type": "display_data"
    }
   ],
   "source": [
    "# TODO:\n",
    "# 1. Extract Org, Country and city for each ORG"
   ]
  },
  {
   "cell_type": "code",
   "execution_count": 0,
   "metadata": {
    "application/vnd.databricks.v1+cell": {
     "inputWidgets": {},
     "nuid": "45e2b3c5-88bc-4131-a1bc-af3c88aec3f4",
     "showTitle": false,
     "title": ""
    }
   },
   "outputs": [],
   "source": [
    "def author_name(name):\n",
    "    if name:\n",
    "        name = name.split()\n",
    "        if len(name) > 1:\n",
    "            if len(name) == 1:\n",
    "                return (name[0], None, None)\n",
    "            return (name[0], ' '.join(name[1:-1]), name[-1])\n",
    "    return None, None, None\n",
    "\n",
    "author_name_schema = StructType([\n",
    "    StructField(\"FirstName\", StringType(), True),\n",
    "    StructField(\"MiddleName\", StringType(), True),\n",
    "    StructField(\"LastName\", StringType(), True),\n",
    "])\n",
    "\n",
    "author_name_udf = udf(author_name, author_name_schema)\n",
    "\n",
    "authors_frame = authors_frame.select(\"*\", author_name_udf(\"name\").alias(\"author_name\"))\n",
    "authors_frame = authors_frame.select(\"*\", \"author_name.*\")\n",
    "authors_frame = authors_frame.drop(\"name\", \"author_name\", \"name_zh\", \"bio\", \"sid\", \"position\", \"avatar\", \"homepage\", \"oid\", \"orcid\", \"oid_zh\", \"orgs_zh\", \"orgs\", \"orgid\", \"org\", \"gid\")\n",
    "\n",
    "authors_frame = save_delta_frame(authors_frame, \"Author\", clean=True)"
   ]
  },
  {
   "cell_type": "code",
   "execution_count": 0,
   "metadata": {
    "application/vnd.databricks.v1+cell": {
     "inputWidgets": {},
     "nuid": "e8a107f1-5d77-4591-aca9-7905df8c23c5",
     "showTitle": false,
     "title": ""
    }
   },
   "outputs": [
    {
     "data": {
      "text/html": [
       "<style scoped>\n",
       "  .ansiout {\n",
       "    display: block;\n",
       "    unicode-bidi: embed;\n",
       "    white-space: pre-wrap;\n",
       "    word-wrap: break-word;\n",
       "    word-break: break-all;\n",
       "    font-family: \"Source Code Pro\", \"Menlo\", monospace;;\n",
       "    font-size: 13px;\n",
       "    color: #555;\n",
       "    margin-left: 4px;\n",
       "    line-height: 19px;\n",
       "  }\n",
       "</style>"
      ]
     },
     "metadata": {
      "application/vnd.databricks.v1+output": {
       "arguments": {},
       "data": "",
       "errorSummary": "Cancelled",
       "errorTraceType": "html",
       "metadata": {},
       "type": "ipynbError"
      }
     },
     "output_type": "display_data"
    }
   ],
   "source": [
    "union = union.withColumn('doc_type', F.when(union.venue.raw.contains(\"@\"), 'workshop').when(union.volume.isNotNull(), 'journal').when(union.issue.isNotNull(), 'journal').otherwise('conference'))\n",
    "type_frame = distinct_frame_from_cols(union, [\"doc_type\"]).withColumnRenamed(\"doc_type\", \"Description\")\n",
    "type_rdd = type_frame.rdd.collectAsMap()\n",
    "\n",
    "union = union.withColumn(\"Type_ID\", map_fos_id(type_rdd)(\"doc_type\"))"
   ]
  },
  {
   "cell_type": "code",
   "execution_count": 0,
   "metadata": {
    "application/vnd.databricks.v1+cell": {
     "inputWidgets": {},
     "nuid": "70769199-9d47-43c8-8fa9-070bd7c35019",
     "showTitle": false,
     "title": ""
    }
   },
   "outputs": [],
   "source": [
    "union = union.withColumn(\"venue\", union.venue._id)\n",
    "union = union.withColumn(\"author\", union.author._id)\n",
    "\n",
    "union = union.withColumnRenamed(\"_id\", \"Publication_ID\")\n",
    "union = union.withColumnRenamed(\"author\", \"Author_ID\")\n",
    "union = union.withColumnRenamed(\"venue\", \"Venue_ID\")\n",
    "union = union.withColumn(\"AuthorRank\", F.col(\"AuthorRank\") + F.lit(1)).drop(\"doc_type\", \"volume\", \"issue\")"
   ]
  },
  {
   "cell_type": "markdown",
   "metadata": {
    "application/vnd.databricks.v1+cell": {
     "inputWidgets": {},
     "nuid": "5eb7e0bc-d81b-4afc-bb67-7cea2f7fed8f",
     "showTitle": false,
     "title": ""
    }
   },
   "source": [
    "#### Keyword Lookup (Partially Implemented*)\n",
    "\n",
    "- Count keyword occurances to device a threshold for mapping\n",
    "- Remove keywords below threshold\n",
    "- Explode into fact table\n",
    "- Extract distinct and map unique ID in fact table in place of exploded keyword\n",
    "- Save table"
   ]
  },
  {
   "cell_type": "code",
   "execution_count": 0,
   "metadata": {
    "application/vnd.databricks.v1+cell": {
     "inputWidgets": {},
     "nuid": "96661a54-c862-41ab-94f9-0dccb5f29d45",
     "showTitle": false,
     "title": ""
    }
   },
   "outputs": [
    {
     "data": {
      "text/html": [
       "<style scoped>\n",
       "  .ansiout {\n",
       "    display: block;\n",
       "    unicode-bidi: embed;\n",
       "    white-space: pre-wrap;\n",
       "    word-wrap: break-word;\n",
       "    word-break: break-all;\n",
       "    font-family: \"Source Code Pro\", \"Menlo\", monospace;;\n",
       "    font-size: 13px;\n",
       "    color: #555;\n",
       "    margin-left: 4px;\n",
       "    line-height: 19px;\n",
       "  }\n",
       "</style>"
      ]
     },
     "metadata": {
      "application/vnd.databricks.v1+output": {
       "arguments": {},
       "data": "",
       "errorSummary": "Cancelled",
       "errorTraceType": "html",
       "metadata": {},
       "type": "ipynbError"
      }
     },
     "output_type": "display_data"
    }
   ],
   "source": [
    "# keyword_frame = union.select(F.explode_outer(\"keywords\").alias(\"key_countmap\"))\n",
    "# key_countmap = keyword_frame.groupBy(\"key_countmap\").count()\n",
    "# key_countmap = key_countmap.rdd.map(lambda row: row.asDict(True))\n",
    "# # union = union.drop(\"key_countmap\")\n",
    "# keyword_counts = key_countmap.collect()\n",
    "# keyword_counter = {}\n",
    "# for keyword_count in keyword_counts:\n",
    "#     keyword_counter[keyword_count['key_countmap']] = keyword_count['count']\n",
    "    \n",
    "# keyword_counter"
   ]
  },
  {
   "cell_type": "markdown",
   "metadata": {
    "application/vnd.databricks.v1+cell": {
     "inputWidgets": {},
     "nuid": "5a4df416-1b68-4709-ad3e-08ba60f8e728",
     "showTitle": false,
     "title": ""
    }
   },
   "source": [
    "#### Saving Fact Table"
   ]
  },
  {
   "cell_type": "code",
   "execution_count": 0,
   "metadata": {
    "application/vnd.databricks.v1+cell": {
     "inputWidgets": {},
     "nuid": "5adebbea-5666-49a9-aad6-75a261352c1d",
     "showTitle": false,
     "title": ""
    }
   },
   "outputs": [],
   "source": [
    "save_delta_frame(union, \"FactTable\", clean=True)"
   ]
  },
  {
   "cell_type": "markdown",
   "metadata": {
    "application/vnd.databricks.v1+cell": {
     "inputWidgets": {},
     "nuid": "f77f9895-fa7a-4563-b3e7-014393d04965",
     "showTitle": false,
     "title": ""
    }
   },
   "source": [
    "### LOAD\n",
    "\n",
    "#### Loading saved Tables back\n",
    "\n",
    "Future tasks: Update code for streaming write and read of data"
   ]
  },
  {
   "cell_type": "code",
   "execution_count": 0,
   "metadata": {
    "application/vnd.databricks.v1+cell": {
     "inputWidgets": {},
     "nuid": "860cf389-55db-4a5a-b9a8-16f5cd2a9146",
     "showTitle": false,
     "title": ""
    }
   },
   "outputs": [],
   "source": [
    "language = spark.read.format('delta').load(f'{delta_dir}Language')"
   ]
  },
  {
   "cell_type": "code",
   "execution_count": 0,
   "metadata": {
    "application/vnd.databricks.v1+cell": {
     "inputWidgets": {},
     "nuid": "a7c0b84c-7fde-413a-879e-6713d543f353",
     "showTitle": false,
     "title": ""
    }
   },
   "outputs": [],
   "source": [
    "field_of_study = spark.read.format('delta').load(f'{delta_dir}FieldOfStudy')"
   ]
  },
  {
   "cell_type": "code",
   "execution_count": 0,
   "metadata": {
    "application/vnd.databricks.v1+cell": {
     "inputWidgets": {},
     "nuid": "dab63689-bbe6-4b9f-881f-be1e21fc74f4",
     "showTitle": false,
     "title": ""
    }
   },
   "outputs": [],
   "source": [
    "publications = spark.read.format('delta').load(f'{delta_dir}Publication')"
   ]
  },
  {
   "cell_type": "code",
   "execution_count": 0,
   "metadata": {
    "application/vnd.databricks.v1+cell": {
     "inputWidgets": {},
     "nuid": "2fda1d41-1ffd-4dfc-aa91-5fba18be8b67",
     "showTitle": false,
     "title": ""
    }
   },
   "outputs": [],
   "source": [
    "venues = spark.read.format('delta').load(f'{delta_dir}Venue')"
   ]
  },
  {
   "cell_type": "code",
   "execution_count": 0,
   "metadata": {
    "application/vnd.databricks.v1+cell": {
     "inputWidgets": {},
     "nuid": "2598a85d-871c-4770-b31b-8496695383fd",
     "showTitle": false,
     "title": ""
    }
   },
   "outputs": [],
   "source": [
    "authors = spark.read.format('delta').load(f'{delta_dir}Author')"
   ]
  },
  {
   "cell_type": "code",
   "execution_count": 0,
   "metadata": {
    "application/vnd.databricks.v1+cell": {
     "inputWidgets": {},
     "nuid": "1b7efd18-d7da-49da-9ddb-61ccae1c6f37",
     "showTitle": false,
     "title": ""
    }
   },
   "outputs": [],
   "source": [
    "organizations = spark.read.format('delta').load(f'{delta_dir}Organization')"
   ]
  },
  {
   "cell_type": "code",
   "execution_count": 0,
   "metadata": {
    "application/vnd.databricks.v1+cell": {
     "inputWidgets": {},
     "nuid": "1d43689c-a207-4ecb-88ee-a6cad0bd46b7",
     "showTitle": false,
     "title": ""
    }
   },
   "outputs": [],
   "source": [
    "factTable = spark.read.format('delta').load(f'{delta_dir}FactTable')"
   ]
  },
  {
   "cell_type": "markdown",
   "metadata": {
    "application/vnd.databricks.v1+cell": {
     "inputWidgets": {},
     "nuid": "bdf7a89a-c264-4d04-92ba-2ef78344ff70",
     "showTitle": false,
     "title": ""
    }
   },
   "source": [
    "#### Operations\n",
    "\n",
    "- H-Index [Reference](https://docs.microsoft.com/en-us/academic-services/graph/tutorial-databricks-hindex)"
   ]
  },
  {
   "cell_type": "code",
   "execution_count": null,
   "metadata": {
    "application/vnd.databricks.v1+cell": {
     "inputWidgets": {},
     "nuid": "df0bd792-30ee-46a0-9409-1ecd5aff29c9",
     "showTitle": false,
     "title": ""
    },
    "scrolled": true
   },
   "outputs": [],
   "source": [
    "joined = factTable.join(publications, factTable.Publication_ID == publications._id).drop(\"_id\").withColumn(\"NumberOfCitations\", F.col(\"NumberOfCitations\").cast('int'))"
   ]
  },
  {
   "cell_type": "code",
   "execution_count": 0,
   "metadata": {
    "application/vnd.databricks.v1+cell": {
     "inputWidgets": {},
     "nuid": "1d773005-625e-43bf-b60f-0b058317d62f",
     "showTitle": false,
     "title": ""
    },
    "scrolled": true
   },
   "outputs": [
    {
     "data": {
      "text/html": [
       "<style scoped>\n",
       "  .table-result-container {\n",
       "    max-height: 300px;\n",
       "    overflow: auto;\n",
       "  }\n",
       "  table, th, td {\n",
       "    border: 1px solid black;\n",
       "    border-collapse: collapse;\n",
       "  }\n",
       "  th, td {\n",
       "    padding: 5px;\n",
       "  }\n",
       "  th {\n",
       "    text-align: left;\n",
       "  }\n",
       "</style><div class='table-result-container'><table class='table-result'><thead style='background-color: white'><tr><th>Author_ID</th><th>TotalCitations</th><th>PaperCount</th><th>Name</th></tr></thead><tbody><tr><td>54055927dabfae8faa5c5dfa</td><td>31436</td><td>1388</td><td>H. Poor</td></tr><tr><td>53f445bcdabfaee4dc7ce5dc</td><td>16330</td><td>1211</td><td>Mohamed-Slim Alouini</td></tr><tr><td>5489ba6bdabfae8a11fb46ec</td><td>13268</td><td>1165</td><td>Lajos Hanzo</td></tr><tr><td>5429fd93dabfae61d494cf5d</td><td>14794</td><td>1133</td><td>Wen Gao</td></tr><tr><td>5487fa09dabfaed7b5fa33e9</td><td>13644</td><td>1087</td><td>Victor Leung</td></tr><tr><td>53f47977dabfae8a6845b643</td><td>32389</td><td>1051</td><td>Philip Yu</td></tr><tr><td>542c458bdabfae2b4e1fb0c8</td><td>7397</td><td>1044</td><td>Hai Jin</td></tr><tr><td>53f4e24cdabfaefc1b77b3c4</td><td>4452</td><td>898</td><td>Leonard Barolli</td></tr><tr><td>5484e546dabfae9b4013320f</td><td>8675</td><td>891</td><td>Chin-Chen Chang</td></tr><tr><td>53f48bd2dabfaea7cd1cd0ec</td><td>10702</td><td>862</td><td>Witold Pedrycz</td></tr><tr><td>53f42f36dabfaedce54dcd0c</td><td>48307</td><td>844</td><td>Jiawei Han</td></tr><tr><td>53f48abedabfaea6fb77b490</td><td>36181</td><td>842</td><td>Thomas Huang</td></tr><tr><td>53f48beadabfaea7cd1cd616</td><td>13892</td><td>834</td><td>Elisa Bertino</td></tr><tr><td>53f45044dabfaedf435f34cb</td><td>14815</td><td>833</td><td>Luca Benini</td></tr><tr><td>53f48c1fdabfaea7cd1ce3f8</td><td>24177</td><td>831</td><td>Dacheng Tao</td></tr><tr><td>5405ad36dabfae92b41f2902</td><td>16284</td><td>826</td><td>Zhu Han</td></tr><tr><td>53f6615fdabfae8dcd35b276</td><td>7101</td><td>785</td><td>Licheng Jiao</td></tr><tr><td>54054314dabfae8faa5ba395</td><td>4127</td><td>782</td><td>Makoto Takizawa</td></tr><tr><td>53f7ffb0dabfae90ec136659</td><td>8404</td><td>773</td><td>Nassir Navab</td></tr><tr><td>54876d00dabfae8a11fb39ca</td><td>49931</td><td>764</td><td>Luc Gool</td></tr><tr><td>53f483a0dabfaeb1a7cd15ce</td><td>9108</td><td>748</td><td>Ajith Abraham</td></tr><tr><td>54880e01dabfae8a11fb401c</td><td>5808</td><td>735</td><td>Azzedine Boukerche</td></tr><tr><td>53f49500dabfaeb4c277b6a3</td><td>9395</td><td>735</td><td>Dinggang Shen</td></tr><tr><td>53f48ce5dabfaea7cd1d0893</td><td>18432</td><td>705</td><td>Xuelong Li</td></tr><tr><td>54898a15dabfaed7b5fa3cce</td><td>19136</td><td>703</td><td>Hermann Ney</td></tr><tr><td>548e1e40dabfaef989f091ef</td><td>14414</td><td>700</td><td>Jack Dongarra</td></tr><tr><td>5405eabbdabfae91d301bef3</td><td>10211</td><td>696</td><td>Sajal Das</td></tr><tr><td>548c6584dabfae9b401351ac</td><td>10033</td><td>694</td><td>Kaushik Roy</td></tr><tr><td>544892fadabfae87b7e46a07</td><td>16777</td><td>689</td><td>Kang Shin</td></tr><tr><td>54057245dabfae450f3af533</td><td>14238</td><td>688</td><td>K. Liu</td></tr><tr><td>5448ebcbdabfae87b7e953ca</td><td>16239</td><td>684</td><td>Hans-peter Seidel</td></tr><tr><td>53f32320dabfae9a84461be7</td><td>29075</td><td>680</td><td>Wil Aalst</td></tr><tr><td>53f4997cdabfaebbd777b5a6</td><td>18456</td><td>670</td><td>R. Chellappa</td></tr><tr><td>54885786dabfae8a11fb423b</td><td>6147</td><td>658</td><td>Jiannong Cao</td></tr><tr><td>53f4986fdabfaee0d9c74c66</td><td>24853</td><td>656</td><td>Lei Zhang</td></tr><tr><td>53f48098dabfae963d25af6e</td><td>24055</td><td>642</td><td>Shuicheng Yan</td></tr><tr><td>548931e4dabfae9b40134844</td><td>2797</td><td>641</td><td>Christoph Meinel</td></tr><tr><td>5603d0aa45cedb339625b3b7</td><td>10181</td><td>637</td><td>Krishnendu Chakrabarty</td></tr><tr><td>53f49490dabfaeb4c477b3fc</td><td>11254</td><td>636</td><td>Qi Tian</td></tr><tr><td>53f48a9adabfaee4dc8b2505</td><td>12634</td><td>629</td><td>Robert Schober</td></tr><tr><td>5489f0acdabfaed7b5fa3e39</td><td>7513</td><td>627</td><td>Mohsen Guizani</td></tr><tr><td>53f43307dabfaee0d9b4335d</td><td>8948</td><td>620</td><td>Mahmut Kandemir</td></tr><tr><td>53f7cb7bdabfae9467db5fd9</td><td>9033</td><td>619</td><td>C. Kuo</td></tr><tr><td>5434eb8edabfaebba587e573</td><td>24131</td><td>619</td><td>Robert Heath</td></tr><tr><td>548d4a5bdabfae8a11fb4fa7</td><td>6295</td><td>616</td><td>Albert Zomaya</td></tr><tr><td>53f642b0dabfae14ff9bf179</td><td>5877</td><td>615</td><td>Haizhou Li</td></tr><tr><td>53f58f25dabfaedb01f8047b</td><td>8666</td><td>610</td><td>Xiaodong Wang</td></tr><tr><td>53f7c18edabfae9467db1f27</td><td>12716</td><td>610</td><td>Jinde Cao</td></tr><tr><td>53f48046dabfae963d259326</td><td>47740</td><td>607</td><td>A. Jain</td></tr><tr><td>5408952bdabfae8faa64e6b2</td><td>25461</td><td>604</td><td>Don Towsley</td></tr><tr><td>53f4b2aedabfaedd74eb9e40</td><td>12375</td><td>600</td><td>Josef Kittler</td></tr><tr><td>53f396c8dabfae4b34a77565</td><td>2813</td><td>598</td><td>Helmut Krcmar</td></tr><tr><td>53f58ea1dabfaed860f8045b</td><td>7564</td><td>598</td><td>Viktor Prasanna</td></tr><tr><td>54867028dabfae8a11fb3277</td><td>8648</td><td>596</td><td>Massoud Pedram</td></tr><tr><td>5444f64edabfae87074eb9c0</td><td>14927</td><td>590</td><td>Guanrong Chen</td></tr><tr><td>5485d7bedabfaed7b5fa256f</td><td>28500</td><td>589</td><td>Rajkumar Buyya</td></tr><tr><td>540974badabfae450f487def</td><td>9134</td><td>589</td><td>Michele Zorzi</td></tr><tr><td>53f4352bdabfaeb1a7be9669</td><td>7838</td><td>587</td><td>Mengchu Zhou</td></tr><tr><td>53f4718edabfaeb22f559444</td><td>33944</td><td>584</td><td>Christos Faloutsos</td></tr><tr><td>53f48bdadabfaea7cd1cd2ff</td><td>19380</td><td>582</td><td>Francisco Herrera</td></tr><tr><td>53f42d5cdabfaee0d9afc71b</td><td>11364</td><td>579</td><td>Schahram Dustdar</td></tr><tr><td>53f3704cdabfae4b349beb10</td><td>3925</td><td>578</td><td>Fatos Xhafa</td></tr><tr><td>53f566aedabfae6329f80468</td><td>11476</td><td>571</td><td>Henri Prade</td></tr><tr><td>54845035dabfaed7b5fa192e</td><td>8756</td><td>568</td><td>Shrikanth Narayanan</td></tr><tr><td>5440c927dabfae805a6f6448</td><td>5446</td><td>567</td><td>Edwin Hancock</td></tr><tr><td>54891d8fdabfae9b401347ec</td><td>14340</td><td>565</td><td>Khaled Letaief</td></tr><tr><td>54485004dabfae87b7e06792</td><td>4050</td><td>565</td><td>Rolf Drechsler</td></tr><tr><td>53f49f46dabfaec18977b75b</td><td>5096</td><td>565</td><td>Mario Piattini</td></tr><tr><td>544849fbdabfae87b7dff8f3</td><td>4643</td><td>563</td><td>Joel Rodrigues</td></tr><tr><td>54335287dabfaeb54218582b</td><td>12451</td><td>560</td><td>Xuemin Shen</td></tr><tr><td>560459d145cedb3396397018</td><td>16451</td><td>559</td><td>Mario Gerla</td></tr><tr><td>53f44e2adabfaedd74e0d89a</td><td>3722</td><td>558</td><td>Ralf Steinmetz</td></tr><tr><td>548528fedabfae8a11fb2694</td><td>11086</td><td>558</td><td>Björn Schuller</td></tr><tr><td>54893096dabfaed7b5fa39b5</td><td>12285</td><td>553</td><td>Roland Siegwart</td></tr><tr><td>54593ab6dabfaeb0fe35163c</td><td>3865</td><td>547</td><td>Wei Wang</td></tr><tr><td>54488c8edabfae87b7e40f13</td><td>13620</td><td>540</td><td>Athanasios Vasilakos</td></tr><tr><td>5405f4fddabfae91d30205de</td><td>9151</td><td>539</td><td>Björn Ottersten</td></tr><tr><td>548d8a37dabfaed7b5fa4915</td><td>22989</td><td>536</td><td>Nicholas Jennings</td></tr><tr><td>53f4481edabfaee1c0af37ac</td><td>13911</td><td>532</td><td>Gerhard Weikum</td></tr><tr><td>53f5638adabfae5eb1f80479</td><td>14158</td><td>528</td><td>Tieniu Tan</td></tr><tr><td>548f605ddabfaef989f098e9</td><td>4426</td><td>526</td><td>Mengjie Zhang</td></tr><tr><td>53f4cea2dabfaee0d9c778f2</td><td>7306</td><td>523</td><td>Maarten Rijke</td></tr><tr><td>5410d096dabfae44f08e3fa7</td><td>2816</td><td>520</td><td>Jianxin Wang</td></tr><tr><td>5408b99ddabfae450f43aa6c</td><td>3514</td><td>514</td><td>Xiaohu You</td></tr><tr><td>5484c477dabfae8a11fb230e</td><td>6326</td><td>513</td><td>Willy Susilo</td></tr><tr><td>5440bcb8dabfae805a6ee350</td><td>5271</td><td>510</td><td>Mihaela Schaar</td></tr><tr><td>54059d35dabfae8faa5e97f3</td><td>3645</td><td>506</td><td>David Feng</td></tr><tr><td>53f49c81dabfaee1c0badc66</td><td>19130</td><td>506</td><td>Larry Davis</td></tr><tr><td>542dfe70dabfae4b91c3aac8</td><td>7472</td><td>505</td><td>Nanning Zheng</td></tr><tr><td>54053fb4dabfae44f07fe680</td><td>5342</td><td>502</td><td>Gerhard Fettweis</td></tr><tr><td>548dd91cdabfaef989f09183</td><td>1709</td><td>501</td><td>Nadeem Javaid</td></tr><tr><td>53f4cfeedabfaeedd277d629</td><td>11082</td><td>501</td><td>Gang Feng</td></tr><tr><td>5440978edabfae805a6d8883</td><td>3672</td><td>498</td><td>Sungyoung Lee</td></tr><tr><td>5440c393dabfae805a6f34a5</td><td>12850</td><td>497</td><td>Vijay Kumar</td></tr><tr><td>53f4ba75dabfaed83977b7db</td><td>50098</td><td>495</td><td>Y Bengio</td></tr><tr><td>54086445dabfae450f414f93</td><td>5338</td><td>495</td><td>Shi Jin</td></tr><tr><td>53f4ae26dabfaee0d9c771a0</td><td>12334</td><td>495</td><td>J. Mylopoulos</td></tr><tr><td>5405ba7ddabfae91d3007098</td><td>6955</td><td>493</td><td>Ioannis Pitas</td></tr><tr><td>5434bc64dabfaebba585dd09</td><td>11844</td><td>493</td><td>Mérouane Debbah</td></tr><tr><td>5430385edabfaeca69bd82d5</td><td>11170</td><td>492</td><td>Daniel Rueckert</td></tr><tr><td>548565e0dabfae9b401336c4</td><td>4684</td><td>492</td><td>John Hansen</td></tr><tr><td>53f4a45fdabfaeb22f573dc0</td><td>9313</td><td>490</td><td>Manuela Veloso</td></tr><tr><td>543501afdabfaebba588d847</td><td>3611</td><td>490</td><td>Filip Turck</td></tr><tr><td>54084ac2dabfae450f408e17</td><td>2994</td><td>490</td><td>Adel. Alimi</td></tr><tr><td>53f45377dabfaeecd69e02c6</td><td>4328</td><td>490</td><td>Francky Catthoor</td></tr><tr><td>53f4975bdabfaeb6ce77b479</td><td>11843</td><td>489</td><td>Tat-Seng Chua</td></tr><tr><td>54482434dabfae87b7de00db</td><td>6211</td><td>489</td><td>Sudhakar Reddy</td></tr><tr><td>54326b83dabfaeb4c6a83ce2</td><td>6696</td><td>489</td><td>Eitan Altman</td></tr><tr><td>54351da0dabfaebba58a2c2b</td><td>11091</td><td>488</td><td>David Blaauw</td></tr><tr><td>54850e1ddabfaed7b5fa1ecd</td><td>4340</td><td>487</td><td>Moncef Gabbouj</td></tr><tr><td>53f556cddabfaea7cd1d8d58</td><td>1460</td><td>486</td><td>Vladik Kreinovich</td></tr><tr><td>5485fd75dabfae8a11fb2e5a</td><td>7682</td><td>485</td><td>Lihua Xie</td></tr><tr><td>548f4f65dabfaef989f098b6</td><td>5340</td><td>485</td><td>Svetha Venkatesh</td></tr><tr><td>562d18c445cedb3398d50199</td><td>4797</td><td>484</td><td>Kim-Kwang Choo</td></tr><tr><td>53f48c95dabfaea7cd1cf585</td><td>12702</td><td>480</td><td>Michael Lyu</td></tr><tr><td>54085696dabfae8faa641d2f</td><td>2401</td><td>480</td><td>Choong Hong</td></tr><tr><td>53f58a59dabfaecaa8f8045b</td><td>10837</td><td>479</td><td>Ronald Yager</td></tr><tr><td>53f48041dabfae963d25910a</td><td>20602</td><td>479</td><td>Qiang Yang</td></tr><tr><td>53f4b7d7dabfaed4ae77b475</td><td>11677</td><td>478</td><td>Dinesh Manocha</td></tr><tr><td>53f43820dabfaee4dc792b2d</td><td>8045</td><td>477</td><td>Hsiao-Hwa Chen</td></tr><tr><td>548a0c6ddabfae9b40134ec5</td><td>11361</td><td>473</td><td>Noga Alon</td></tr><tr><td>53f556badabfaea7cd1d5eaf</td><td>11214</td><td>466</td><td>Didier Dubois</td></tr><tr><td>53f48c63dabfaea7cd1ce81e</td><td>5269</td><td>466</td><td>Ming Li</td></tr><tr><td>548764f5dabfae8a11fb38c5</td><td>2341</td><td>464</td><td>Saeid Nahavandi</td></tr><tr><td>5622381345cedb339839db87</td><td>13172</td><td>463</td><td>Yunhao Liu</td></tr><tr><td>5440ef6bdabfae805a70a9e7</td><td>4200</td><td>462</td><td>Wayne Luk</td></tr><tr><td>542a0bb5dabfaec7081d9427</td><td>4266</td><td>462</td><td>Guihai Chen</td></tr><tr><td>53f48850dabfaee4dc8b2045</td><td>28488</td><td>461</td><td>I. Foster</td></tr><tr><td>54872375dabfae9b40134250</td><td>6558</td><td>461</td><td>Bart Preneel</td></tr><tr><td>540698a2dabfae8faa612c32</td><td>19745</td><td>460</td><td>Wolfram Burgard</td></tr><tr><td>542a4ae1dabfae61d496511f</td><td>10026</td><td>459</td><td>Xiang-Yang Li</td></tr><tr><td>5406dafddabfae44f086376d</td><td>11249</td><td>458</td><td>Giovanni Micheli</td></tr><tr><td>53f7ae9fdabfae938c6cef55</td><td>5682</td><td>456</td><td>Hanqing Lu</td></tr><tr><td>53f4977bdabfaee1c0bad7f1</td><td>12318</td><td>455</td><td>C. Giles</td></tr><tr><td>548c9046dabfaed7b5fa4459</td><td>4336</td><td>455</td><td>Irith Pomeranz</td></tr><tr><td>53f4b415dabfaed31c77b3ba</td><td>13669</td><td>454</td><td>Moshe Vardi</td></tr><tr><td>5440b371dabfae805a6e76fa</td><td>5795</td><td>454</td><td>Thomas Ertl</td></tr><tr><td>548805aadabfaed7b5fa3414</td><td>3606</td><td>453</td><td>Tho Le-Ngoc</td></tr><tr><td>5440de94dabfae7f9b3583b6</td><td>2179</td><td>452</td><td>Wei Chen</td></tr><tr><td>54899ea3dabfaed7b5fa3d3e</td><td>11359</td><td>452</td><td>Dusit Niyato</td></tr><tr><td>560c39fa45cedb33974dd3bd</td><td>2252</td><td>451</td><td>Toshio Fukuda</td></tr><tr><td>548700a7dabfae8a11fb351c</td><td>11320</td><td>451</td><td>Dimitris Metaxas</td></tr><tr><td>542bddf3dabfae2b4e1ad28d</td><td>15701</td><td>450</td><td>H. Liu</td></tr><tr><td>5408b8dedabfae92b4252b42</td><td>6995</td><td>450</td><td>Xiang-Gen Xia</td></tr><tr><td>5632041345cedb3399f940fa</td><td>1993</td><td>449</td><td>Mohammad Obaidat</td></tr><tr><td>53f49da0dabfaebfa777b6e1</td><td>18189</td><td>449</td><td>Shin-Fu Chang</td></tr><tr><td>53f48bbfdabfaea7cd1ccc83</td><td>4061</td><td>449</td><td>Tzung-Pei Hong</td></tr><tr><td>53f4c886dabfaee57c77d578</td><td>2547</td><td>447</td><td>Manfred Tscheligi</td></tr><tr><td>5485f111dabfaed7b5fa2661</td><td>2718</td><td>447</td><td>Rik Walle</td></tr><tr><td>53f7cc55dabfae8faa4b5e1f</td><td>4510</td><td>447</td><td>Michel Raynal</td></tr><tr><td>54892d0ddabfaed7b5fa395a</td><td>3511</td><td>447</td><td>Wouter Joosen</td></tr><tr><td>53f43578dabfaee2a1cde8c6</td><td>10165</td><td>447</td><td>Daniela Rus</td></tr><tr><td>53f48d58dabfaea7cd1d2326</td><td>4133</td><td>446</td><td>Jie Chen</td></tr><tr><td>53f45eb7dabfaedd74e4c0ee</td><td>3165</td><td>445</td><td>Rahim Tafazolli</td></tr><tr><td>5409392edabfae450f46c3b6</td><td>2697</td><td>445</td><td>tharam dillon</td></tr><tr><td>53f46332dabfaee2a1da21ac</td><td>6593</td><td>445</td><td>Xinbo Gao</td></tr><tr><td>53f7f8bcdabfae90ec133088</td><td>17094</td><td>444</td><td>Zeshui Xu</td></tr><tr><td>53f56636dabfae6293f8045b</td><td>3889</td><td>444</td><td>Piet Demeester</td></tr><tr><td>54480e72dabfae87b7dcdac2</td><td>14634</td><td>444</td><td>Georgios Giannakis</td></tr><tr><td>53f42decdabfaedf4351dd08</td><td>6534</td><td>442</td><td>F. Yu</td></tr><tr><td>56cb18bcc35f4f3c6565f38c</td><td>8149</td><td>441</td><td>Liangpei Zhang</td></tr><tr><td>53f43a43dabfaee02aceed60</td><td>8801</td><td>441</td><td>Jie Wu</td></tr><tr><td>53f48c7cdabfaea7cd1cef47</td><td>8087</td><td>440</td><td>Tao Li</td></tr><tr><td>548a45a3dabfaed7b5fa404c</td><td>2180</td><td>440</td><td>Aboul Hassanien</td></tr><tr><td>53f44cb0dabfaedf435e5ce1</td><td>13292</td><td>440</td><td>Amit Sheth</td></tr><tr><td>53f7c27adabfae938c6d870d</td><td>4837</td><td>440</td><td>Victor Li</td></tr><tr><td>5447ead6dabfae87b7dad943</td><td>20522</td><td>439</td><td>Andrea Gold</td></tr><tr><td>5406b07bdabfae92b421f517</td><td>7514</td><td>439</td><td>Dennis Sylvester</td></tr><tr><td>540869a9dabfae8faa644b15</td><td>4797</td><td>439</td><td>D. Caldwell</td></tr><tr><td>53f4428fdabfaee1c0adf3ed</td><td>9713</td><td>436</td><td>Zhiguo Ding</td></tr><tr><td>53f45539dabfaeecd69e6d49</td><td>7970</td><td>435</td><td>Milind Tambe</td></tr><tr><td>53f64ff7dabfae0633f17189</td><td>11022</td><td>435</td><td>Micha Sharir</td></tr><tr><td>53f42d28dabfaeb2acfe712a</td><td>8533</td><td>435</td><td>Peter Stone</td></tr><tr><td>53f46ca8dabfaec09f2584aa</td><td>54748</td><td>434</td><td>Andrew Zisserman</td></tr><tr><td>53f590a2dabfaedd59f8045b</td><td>3540</td><td>433</td><td>Jianzhong Li</td></tr><tr><td>53f48f29dabfaeae6877b42c</td><td>6113</td><td>432</td><td>Alok Choudhary</td></tr><tr><td>54883d00dabfaed7b5fa36c0</td><td>4106</td><td>430</td><td>Yuanyan Tang</td></tr><tr><td>5406a2aadabfae8faa615ee7</td><td>3591</td><td>430</td><td>Guang-Zhong Yang</td></tr><tr><td>53f48bc7dabfaea7cd1cce70</td><td>16801</td><td>429</td><td>Zhi-Hua Zhou</td></tr><tr><td>53f7d184dabfae938c6df70d</td><td>1823</td><td>429</td><td>Makoto Ikeda</td></tr><tr><td>5448851fdabfae87b7e39cf6</td><td>7877</td><td>429</td><td>Pramod Varshney</td></tr><tr><td>562d58bc45cedb3398dd01a9</td><td>7840</td><td>428</td><td>G. Karagiannidis</td></tr><tr><td>53f48bb2dabfaea7cd1cc97c</td><td>7970</td><td>428</td><td>Jeffrey Yu</td></tr><tr><td>53f581ebdabfaea8a2f8045b</td><td>9226</td><td>428</td><td>Klara Nahrstedt</td></tr><tr><td>53f586eadabfaeb219f8045b</td><td>6128</td><td>427</td><td>Andrzej Cichocki</td></tr><tr><td>5486c577dabfae9b40133fde</td><td>6471</td><td>427</td><td>Dharma Agrawal</td></tr><tr><td>542c267ddabfae2b4e1e71a7</td><td>1260</td><td>426</td><td>Zhiyong Feng</td></tr><tr><td>53f644fadabfaea4e2c71628</td><td>7739</td><td>426</td><td>Alex Waibel</td></tr><tr><td>53f48396dabfaee0d9c73415</td><td>16189</td><td>425</td><td>Xin Yao</td></tr><tr><td>53f639b8dabfae8531c71628</td><td>1044</td><td>425</td><td>Zhihua Wang</td></tr><tr><td>5408ad27dabfae450f4359b8</td><td>8072</td><td>425</td><td>Jiebo Luo</td></tr><tr><td>53f48d04dabfaea7cd1d0ef9</td><td>16854</td><td>424</td><td>Ben Shneiderman</td></tr><tr><td>53f48da0dabfaea7cd1d374a</td><td>7980</td><td>423</td><td>Frank Leymann</td></tr><tr><td>53f78fcddabfae9060acc24e</td><td>7706</td><td>422</td><td>Weisi Lin</td></tr><tr><td>53f48be3dabfaea7cd1cd4e8</td><td>8302</td><td>422</td><td>Hsinchun Chen</td></tr><tr><td>53f4388ddabfaee0d9b78cb9</td><td>2280</td><td>421</td><td>Alfredo Cuzzocrea</td></tr><tr><td>54845d1cdabfaed7b5fa19fb</td><td>6085</td><td>419</td><td>Jiangchuan Liu</td></tr><tr><td>56cb18c0c35f4f3c65660565</td><td>5919</td><td>419</td><td>Xiaofang Zhou</td></tr><tr><td>5603c86d45cedb3396247c60</td><td>7815</td><td>418</td><td>Albrecht Schmidt</td></tr><tr><td>53f48cfedabfaea7cd1d0d8e</td><td>36384</td><td>418</td><td>michael jordan</td></tr><tr><td>542ad41edabfae61d49a916c</td><td>10582</td><td>416</td><td>Eric Xing</td></tr><tr><td>548540fadabfaed7b5fa203d</td><td>5516</td><td>416</td><td>Karl Johansson</td></tr><tr><td>53f582fbdabfaeaad3f8045b</td><td>13884</td><td>416</td><td>Moti Yung</td></tr><tr><td>563204a545cedb3399f95261</td><td>15528</td><td>416</td><td>Enrique Herrera-Viedma</td></tr><tr><td>54857689dabfae8a11fb2a12</td><td>12257</td><td>416</td><td>Ekram Hossain</td></tr><tr><td>542dfe07dabfaed7226824ce</td><td>3878</td><td>415</td><td>Jun Wang</td></tr><tr><td>53f4963adabfaeb22f5724ea</td><td>30291</td><td>415</td><td>T Kanade</td></tr><tr><td>548c78afdabfae8a11fb4b8f</td><td>5895</td><td>415</td><td>Tingwen Huang</td></tr><tr><td>542a1abedabfae61d4954592</td><td>13847</td><td>414</td><td>Geoffrey Li</td></tr><tr><td>54053a68dabfae8faa5b59ae</td><td>13823</td><td>414</td><td>G. Caire</td></tr><tr><td>562ffb7445cedb33998a6592</td><td>1605</td><td>414</td><td>Satoshi Nakamura</td></tr><tr><td>53f32b93dabfae9a84490631</td><td>5453</td><td>414</td><td>Nirwan Ansari</td></tr><tr><td>53fa0550dabfae9467e15b9d</td><td>3941</td><td>413</td><td>Jürgen Teich</td></tr><tr><td>54483802dabfae87b7deac69</td><td>8924</td><td>413</td><td>Yuguang Fang</td></tr><tr><td>54455751dabfae862da173f6</td><td>4515</td><td>412</td><td>Qingming Huang</td></tr><tr><td>540591a7dabfae450f3b7bc6</td><td>5620</td><td>411</td><td>Wei Zheng</td></tr><tr><td>5484e017dabfae8a11fb23a8</td><td>13398</td><td>411</td><td>E. Larsson</td></tr><tr><td>5434c17adabfaebba58618cb</td><td>10447</td><td>410</td><td>Leandros Tassiulas</td></tr><tr><td>53f5594ddabfae39bcf8045b</td><td>3406</td><td>410</td><td>Jan Treur</td></tr><tr><td>53f4aae6dabfaecc1b77b3f5</td><td>10033</td><td>410</td><td>Xindong Wu</td></tr><tr><td>548740cddabfae8a11fb3770</td><td>3866</td><td>408</td><td>Chang Chen</td></tr><tr><td>5408cf66dabfae450f44383a</td><td>13968</td><td>407</td><td>Katia Sycara</td></tr><tr><td>5429a6afdabfaec7081a0c60</td><td>4080</td><td>407</td><td>Chuang Lin</td></tr><tr><td>53f83298dabfae938c7102eb</td><td>2449</td><td>407</td><td>Guy Pujolle</td></tr><tr><td>53f455b4dabfaedf436090c1</td><td>2327</td><td>406</td><td>Tomoya Enokido</td></tr><tr><td>54340abcdabfaebba583940d</td><td>6675</td><td>405</td><td>Chintha Tellambura</td></tr><tr><td>54484da3dabfae87b7e038be</td><td>25095</td><td>405</td><td>Kalyanmoy Deb</td></tr><tr><td>544063cadabfae805a6b7dcd</td><td>6126</td><td>405</td><td>Vincent Lau</td></tr><tr><td>542a813fdabfae646d56b37a</td><td>1965</td><td>403</td><td>Jiandong Li</td></tr><tr><td>53f4b802dabfaed4b777b4a5</td><td>9025</td><td>403</td><td>Divyakant Agrawal</td></tr><tr><td>53f46c8edabfaee02adad519</td><td>11811</td><td>403</td><td>Horst Bischof</td></tr><tr><td>5405bb00dabfae450f3cbc29</td><td>5907</td><td>403</td><td>Hiroshi Ishiguro</td></tr><tr><td>548931cfdabfae9b4013483f</td><td>3972</td><td>402</td><td>E. Damiani</td></tr><tr><td>53f556b8dabfaea7cd1d597b</td><td>1950</td><td>402</td><td>Reda Alhajj</td></tr><tr><td>53f7b5f8dabfae9060adf6db</td><td>5065</td><td>402</td><td>Jörg Henkel</td></tr><tr><td>56083ccb45cedb3396c4fa08</td><td>2643</td><td>402</td><td>Wolfgang Lehner</td></tr><tr><td>53f4d370dabfaee0d9c78017</td><td>6095</td><td>401</td><td>Fei-Yue Wang</td></tr><tr><td>54354027dabfaebba58ba79b</td><td>10772</td><td>401</td><td>Alberto Sangiovanni-Vincentelli</td></tr><tr><td>53f5a6fadabfae1352f8045b</td><td>6578</td><td>400</td><td>Taghi Khoshgoftaar</td></tr><tr><td>5486707edabfae8a11fb3292</td><td>3154</td><td>399</td><td>Rodrigo Lamare</td></tr><tr><td>53f48d17dabfaea7cd1d1306</td><td>10586</td><td>399</td><td>Horst Bunke</td></tr><tr><td>5405483edabfae44f08012b8</td><td>8078</td><td>399</td><td>Chin-hui Lee</td></tr><tr><td>5440bfd7dabfae7f9b34cb09</td><td>3847</td><td>399</td><td>Zhaohui Wu</td></tr><tr><td>53f556d5dabfae963d25ded0</td><td>2477</td><td>399</td><td>Pan Jeng-Shyang</td></tr><tr><td>54409444dabfae7d84b85f0e</td><td>12726</td><td>399</td><td>Ying-Chang Liang</td></tr><tr><td>54843d66dabfae8a11fb1f82</td><td>4857</td><td>398</td><td>Nikil Dutt</td></tr><tr><td>548a62d8dabfae8a11fb49e3</td><td>1741</td><td>398</td><td>Tsumoto Shusaku</td></tr><tr><td>53f48babdabfaea7cd1cc7de</td><td>7132</td><td>397</td><td>Ming-Syan Chen</td></tr><tr><td>5405aefadabfae92b41f3a30</td><td>16007</td><td>397</td><td>Huijun Gao</td></tr><tr><td>53f59763dabfaee707f8045b</td><td>4501</td><td>397</td><td>Alberto Bimbo</td></tr><tr><td>53f42be9dabfaec22ba01129</td><td>5665</td><td>396</td><td>Dhabaleswar Panda</td></tr><tr><td>54084189dabfae8faa638d58</td><td>3212</td><td>395</td><td>H. Boche</td></tr><tr><td>544071a9dabfae805a6be89d</td><td>5501</td><td>394</td><td>Nadia Magnenat-thalmann</td></tr><tr><td>5434f351dabfaebba58846a7</td><td>1926</td><td>394</td><td>Masayuki Murata</td></tr><tr><td>53f46f79dabfaeecd6a2fc46</td><td>4738</td><td>394</td><td>Kotagiri Ramamohanarao</td></tr><tr><td>53f48ceddabfaea7cd1d0a3a</td><td>25918</td><td>394</td><td>Garcia-Molina, H.</td></tr><tr><td>53f5669cdabfae631af8045b</td><td>19884</td><td>393</td><td>Leonidas Guibas</td></tr><tr><td>53f48dbbdabfaea7cd1d41ee</td><td>26139</td><td>393</td><td>Bernhard Schölkopf</td></tr><tr><td>5430ee3cdabfaecb5873381e</td><td>4135</td><td>392</td><td>Yuanyuan Yang</td></tr><tr><td>53f46d7edabfaedf4366179c</td><td>9251</td><td>392</td><td>Kishor Trivedi</td></tr><tr><td>560bf89d45cedb3397442857</td><td>13056</td><td>392</td><td>Jon Crowcroft</td></tr><tr><td>5429e99bdabfaec7081c9549</td><td>5363</td><td>391</td><td>Qionghai Dai</td></tr><tr><td>542d19dbdabfae489b97b0f2</td><td>2874</td><td>391</td><td>Minyi Guo</td></tr><tr><td>53f473f1dabfaee0d9c63aa1</td><td>6667</td><td>391</td><td>Ee-Peng Lim</td></tr><tr><td>53f7e777dabfae9060af661d</td><td>7176</td><td>391</td><td>Huaguang Zhang</td></tr><tr><td>5631fe0145cedb3399f8765b</td><td>1912</td><td>390</td><td>Jong Park</td></tr><tr><td>54410ed4dabfae805a723ea2</td><td>8159</td><td>389</td><td>J. Garcia-luna-aceves</td></tr><tr><td>54100a8ddabfae450f4c7d1c</td><td>11998</td><td>389</td><td>Lionel Ni</td></tr><tr><td>53f42cc2dabfaedd74d2d833</td><td>3101</td><td>389</td><td>Xiaojiang Du</td></tr><tr><td>548a7e66dabfaed7b5fa41f9</td><td>5277</td><td>389</td><td>R. Deng</td></tr><tr><td>53f4e25ddabfaefc1777b3cd</td><td>4195</td><td>389</td><td>Paul Thompson</td></tr><tr><td>548c9bc1dabfaed7b5fa44fa</td><td>7541</td><td>389</td><td>J.M.F. Moura</td></tr><tr><td>54480e19dabfae87b7dcd48c</td><td>3001</td><td>389</td><td>Minglu Li</td></tr><tr><td>53f48498dabfaec09f2a73fc</td><td>3802</td><td>387</td><td>Imran, A.</td></tr><tr><td>54850265dabfaed7b5fa1df6</td><td>1905</td><td>387</td><td>Max Mühlhäuser</td></tr><tr><td>540ff0dfdabfae450f4b8e70</td><td>1792</td><td>387</td><td>Wolfgang Rosenstiel</td></tr><tr><td>53f64553dabfaeaf590f3cce</td><td>24970</td><td>387</td><td>Xiaoou Tang</td></tr><tr><td>5486c046dabfaed7b5fa2c01</td><td>4776</td><td>387</td><td>Mateo Valero</td></tr><tr><td>53f447b5dabfaeb22f4c5153</td><td>4709</td><td>387</td><td>Marc Moonen</td></tr><tr><td>563201ca45cedb3399f8fa53</td><td>8111</td><td>387</td><td>Kian-Lee Tan</td></tr><tr><td>53f48bc2dabfaea7cd1ccd38</td><td>10193</td><td>386</td><td>Daniel Keim</td></tr><tr><td>54408fdadabfae805a6d1453</td><td>11822</td><td>385</td><td>Lothar Thiele</td></tr><tr><td>540966afdabfae8faa68b1bc</td><td>5011</td><td>385</td><td>Chau Yuen</td></tr><tr><td>5408d332dabfae450f444e1c</td><td>5854</td><td>385</td><td>Chun Chen</td></tr><tr><td>53f4a1e9dabfaec3b677b402</td><td>2862</td><td>385</td><td>Ying Zhou</td></tr><tr><td>56062a8045cedb33967d8fe2</td><td>8811</td><td>385</td><td>Yuan Xie</td></tr><tr><td>540837d5dabfae8faa6332a2</td><td>11725</td><td>384</td><td>Markus Gross</td></tr><tr><td>540698e6dabfae92b42160e9</td><td>3845</td><td>384</td><td>Keshab Parhi</td></tr><tr><td>53f55820dabfae3752f8045b</td><td>3033</td><td>383</td><td>Gunter Saake</td></tr><tr><td>542a9df6dabfae646d5782d2</td><td>5702</td><td>381</td><td>Xiaokang Yang</td></tr><tr><td>53f49778dabfaeb6d177b4ff</td><td>3312</td><td>380</td><td>Sung-Bae Cho</td></tr><tr><td>5485e048dabfae8a11fb2cfe</td><td>1835</td><td>380</td><td>Fumiyuki Adachi</td></tr><tr><td>5405b73fdabfae92b41f77a6</td><td>7173</td><td>379</td><td>Carlos Coello</td></tr><tr><td>53f4ab77dabfaedce563c792</td><td>9742</td><td>379</td><td>Feiping Nie</td></tr><tr><td>542a3224dabfae5848aa83ea</td><td>621</td><td>379</td><td>wei zhang</td></tr><tr><td>5448a11edabfae87b7e53b0d</td><td>5936</td><td>378</td><td>Erik Demaine</td></tr><tr><td>53f439f6dabfaec22baa1df3</td><td>9535</td><td>377</td><td>Muriel Médard</td></tr><tr><td>5484a268dabfaed7b5fa1a8b</td><td>1941</td><td>377</td><td>Saharon Shelah</td></tr><tr><td>53f48d37dabfaea7cd1d1a75</td><td>10759</td><td>377</td><td>Christian Jensen</td></tr><tr><td>54877b28dabfae9b40134731</td><td>9333</td><td>377</td><td>Yonina Eldar</td></tr><tr><td>53f48cbbdabfaea7cd1cff18</td><td>5956</td><td>377</td><td>Chew Tan</td></tr><tr><td>562cb05d45cedb3398c96302</td><td>6991</td><td>377</td><td>Ling Shao</td></tr><tr><td>54860c66dabfaed7b5fa2717</td><td>13635</td><td>377</td><td>Nicholas Ayache</td></tr><tr><td>53f430a1dabfaee2a1ca5f50</td><td>10789</td><td>376</td><td>Petre Stoica</td></tr><tr><td>53f4384cdabfaeb22f4830d6</td><td>21395</td><td>376</td><td>HongJiang Zhang</td></tr><tr><td>544883f6dabfae87b7e38b96</td><td>2578</td><td>376</td><td>Andreas Uhl</td></tr><tr><td>53f7c07edabfae90ec11a74d</td><td>1231</td><td>375</td><td>Hyunseung Choo</td></tr><tr><td>53f43915dabfaee1c0ab7278</td><td>23914</td><td>375</td><td>Alex Pentland</td></tr><tr><td>54898a35dabfaed7b5fa3cd5</td><td>1626</td><td>374</td><td>Hideharu Amano</td></tr><tr><td>5405b251dabfae450f3c7847</td><td>6841</td><td>374</td><td>Shlomo Shamai</td></tr><tr><td>5406b1dadabfae8faa61ad25</td><td>4522</td><td>374</td><td>Elke Rundersteiner</td></tr><tr><td>542a9053dabfae646d571fae</td><td>4009</td><td>374</td><td>Song Guo</td></tr><tr><td>53f794e8dabfae8faa49b979</td><td>3407</td><td>374</td><td>Soo-chang Pei</td></tr><tr><td>53f469d4dabfaee4dc85be38</td><td>30008</td><td>374</td><td>Ian Akyildiz</td></tr><tr><td>53f556d3dabfae963d25d8f0</td><td>3021</td><td>374</td><td>Fu-Chun Sun</td></tr><tr><td>53f43843dabfaee2a1cf7e0b</td><td>4706</td><td>374</td><td>Feng Wu</td></tr><tr><td>53f479d7dabfae8a6845c41f</td><td>2388</td><td>373</td><td>Zhongzhi Shi</td></tr><tr><td>53f47eaadabfaeb22f56f92d</td><td>24129</td><td>373</td><td>Hans-Peter Kriegel</td></tr><tr><td>53f55b3ddabfae4d0bf8045b</td><td>7312</td><td>373</td><td>Wolfgang Nejdl</td></tr><tr><td>5631f80145cedb3399f76a4e</td><td>6085</td><td>372</td><td>Kwang-Ting Cheng</td></tr><tr><td>53f556dcdabfae963d25f170</td><td>3387</td><td>372</td><td>Bernard Baets</td></tr><tr><td>53f4a7c2dabfaedce56373a8</td><td>2403</td><td>372</td><td>Abdulmotaleb Saddik</td></tr><tr><td>5405e588dabfae450f3df177</td><td>5445</td><td>372</td><td>John Carroll</td></tr><tr><td>542c4f02dabfae2b4e20106e</td><td>3492</td><td>372</td><td>Yong Shi</td></tr><tr><td>548a7b7cdabfaed7b5fa41ce</td><td>6272</td><td>372</td><td>Insup Lee</td></tr><tr><td>53f58452dabfaeaca9f8045b</td><td>5282</td><td>372</td><td>L. Carin</td></tr><tr><td>53f39d25dabfae4b34aa18f5</td><td>3281</td><td>371</td><td>Mehdi Dehghan</td></tr><tr><td>53f49420dabfaedce561e9e1</td><td>4959</td><td>370</td><td>Chin-Teng Lin</td></tr><tr><td>53f48dcadabfaea7cd1d457c</td><td>5824</td><td>370</td><td>Kwan-Liu Ma</td></tr><tr><td>5440dcfddabfae7f9b357ad6</td><td>2309</td><td>369</td><td>Yao Zhao</td></tr><tr><td>5405ce04dabfae8faa602782</td><td>8289</td><td>368</td><td>Raouf Boutaba</td></tr><tr><td>54450d43dabfae862da01c47</td><td>2968</td><td>368</td><td>Huazhong Yang</td></tr><tr><td>562fe12545cedb3399841ec4</td><td>5060</td><td>368</td><td>Hamid Karimi</td></tr><tr><td>548dcd97dabfaef989f09151</td><td>8510</td><td>368</td><td>Nicu Sebe</td></tr><tr><td>53f78ad4dabfae92b40c4dfc</td><td>3099</td><td>368</td><td>Naixue Xiong</td></tr><tr><td>53f7f062dabfae92b40f5df4</td><td>22740</td><td>368</td><td>Mubarak Shah</td></tr><tr><td>5484d6bbdabfae9b40133173</td><td>11452</td><td>367</td><td>Marc Pollefeys</td></tr><tr><td>53f48c54dabfaea7cd1ce49a</td><td>7091</td><td>367</td><td>Hisao Ishibuchi</td></tr><tr><td>5486da4adabfae9b4013409a</td><td>3599</td><td>366</td><td>Xueqi Cheng</td></tr><tr><td>561c1f6445cedb3397fa5837</td><td>3308</td><td>366</td><td>Norman Beaulieu</td></tr><tr><td>53f431e7dabfaec22ba51da8</td><td>5025</td><td>365</td><td>Arumugam Nallanathan</td></tr><tr><td>56086a9245cedb3396cb2c60</td><td>11217</td><td>365</td><td>Daniel Cremers</td></tr><tr><td>53f48bf6dabfaea7cd1cd8ef</td><td>6943</td><td>365</td><td>Lei Chen</td></tr><tr><td>54854885dabfae8a11fb278d</td><td>7981</td><td>365</td><td>A. Kahng</td></tr><tr><td>5405f8fadabfae91d302262b</td><td>10797</td><td>363</td><td>Ali Sayed</td></tr><tr><td>5433c7b5dabfaeb4c6acef40</td><td>3619</td><td>363</td><td>Grzegorz Rozenberg</td></tr><tr><td>5622361645cedb339839c5f5</td><td>3914</td><td>363</td><td>Xinbing Wang</td></tr><tr><td>53f48da2dabfaea7cd1d37f6</td><td>9455</td><td>363</td><td>Alexander Hauptmann</td></tr><tr><td>5484f2b4dabfaed7b5fa1d86</td><td>4219</td><td>362</td><td>Wei-Tek Tsai</td></tr><tr><td>5433db7cdabfaebba582b1ce</td><td>1350</td><td>362</td><td>Fumihito Arai</td></tr><tr><td>53f492dadabfaeb237f80464</td><td>6374</td><td>362</td><td>Karl Aberer</td></tr><tr><td>54895a85dabfaed7b5fa3b99</td><td>5141</td><td>361</td><td>Xinghuo Yu</td></tr><tr><td>5434347bdabfaebba584f36b</td><td>1579</td><td>361</td><td>Ramjee Prasad</td></tr><tr><td>54054bf2dabfae92b41c01fc</td><td>2095</td><td>361</td><td>Fabrizio Lombardi</td></tr><tr><td>53f430fcdabfaeb22f435f91</td><td>4331</td><td>361</td><td>B. Vucetic</td></tr><tr><td>53f64eaddabfae60a53e2f8f</td><td>2337</td><td>361</td><td>Geyong Min</td></tr><tr><td>53f4ab6ddabfaecc2177b556</td><td>17518</td><td>359</td><td>John Stankovic</td></tr><tr><td>5440992edabfae7f9b34330c</td><td>6082</td><td>359</td><td>Yang Xiao</td></tr><tr><td>5429b185dabfaec7081a8025</td><td>5442</td><td>359</td><td>Changsheng Xu</td></tr><tr><td>53f48082dabfae963d25a7d5</td><td>12882</td><td>359</td><td>Stan Li</td></tr><tr><td>562d5e8945cedb3398ddb21f</td><td>3333</td><td>359</td><td>Sridha Sridharan</td></tr><tr><td>53f7c938dabfae938c6db98f</td><td>4129</td><td>358</td><td>Guang-Hong Yang</td></tr><tr><td>56091e4645cedb3396e219e2</td><td>6237</td><td>358</td><td>manfred reichert</td></tr><tr><td>54873abcdabfaed7b5fa2e75</td><td>4379</td><td>358</td><td>Gerhard Woeginger</td></tr><tr><td>5405dbd9dabfae92b4206345</td><td>3773</td><td>357</td><td>Masayuki Inaba</td></tr><tr><td>53f43022dabfaee2a1c9f4cf</td><td>3431</td><td>355</td><td>Vince Calhoun</td></tr><tr><td>53f4e3f4dabfaefd02f8045b</td><td>3076</td><td>355</td><td>Qing Li</td></tr><tr><td>54872d21dabfae9b401342e6</td><td>2995</td><td>354</td><td>Han-Chieh Chao</td></tr><tr><td>53f56dc6dabfae72d3f8045b</td><td>5169</td><td>354</td><td>Alan Smeaton</td></tr><tr><td>53f47ebbdabfae9126cc42a9</td><td>13273</td><td>353</td><td>Charu Aggarwal</td></tr><tr><td>53f48f57dabfaee4dc8b3a05</td><td>3610</td><td>353</td><td>Chengqi Zhang</td></tr><tr><td>53f459c4dabfaee2a1d80cdf</td><td>19382</td><td>353</td><td>W. Croft</td></tr><tr><td>54858561dabfaed7b5fa2342</td><td>6193</td><td>353</td><td>Mark Billinghurst</td></tr><tr><td>53f4a394dabfaeb22f573bfb</td><td>2998</td><td>353</td><td>Aggelos Katsaggelos</td></tr><tr><td>5448a7a7dabfae87b7e5afcc</td><td>6635</td><td>353</td><td>Walid Saad</td></tr><tr><td>53f469bfdabfaeee22a60268</td><td>10958</td><td>352</td><td>Andreas Molisch</td></tr><tr><td>53f4bba1dabfaeda9977b50c</td><td>2014</td><td>352</td><td>Shojiro Nishio</td></tr><tr><td>53f4a063dabfaec18977b8c8</td><td>8563</td><td>352</td><td>Thomas Eiter</td></tr><tr><td>5448a584dabfae87b7e5857d</td><td>2879</td><td>352</td><td>Juan Corchado</td></tr><tr><td>53f7c641dabfae7f97a29d3e</td><td>2586</td><td>352</td><td>Wan-Chi Siu</td></tr><tr><td>53f633eddabfae7dbe1b3a95</td><td>3057</td><td>351</td><td>Rüdiger Dillmann</td></tr><tr><td>548e5befdabfaef989f09359</td><td>4507</td><td>351</td><td>Peter Stuckey</td></tr><tr><td>5607147345cedb33969f3c4c</td><td>6016</td><td>351</td><td>Tao Mei</td></tr><tr><td>5441077cdabfae805a720b3a</td><td>2640</td><td>351</td><td>Hussein Mouftah</td></tr><tr><td>53f5950adabfaee3daf8045b</td><td>4330</td><td>351</td><td>Edward Dougherty</td></tr><tr><td>548a4f8adabfaed7b5fa40e8</td><td>1713</td><td>351</td><td>Dimitrios Tzovaras</td></tr><tr><td>53f430b6dabfaee43ebf0128</td><td>4002</td><td>350</td><td>Radko Mesiar</td></tr><tr><td>54411ad3dabfae7d84be283e</td><td>4271</td><td>350</td><td>gerhard rigoll</td></tr><tr><td>54054a45dabfae92b41bf0fa</td><td>9682</td><td>350</td><td>Peng Shi</td></tr><tr><td>53f43030dabfaeb2ac00d2ac</td><td>14427</td><td>349</td><td>Alan Yuille</td></tr><tr><td>5405aec1dabfae450f3c59ab</td><td>4098</td><td>349</td><td>Pascal Frossard</td></tr><tr><td>53f479cddabfae8a6845c14b</td><td>9782</td><td>348</td><td>Eduard Hovy</td></tr><tr><td>54876175dabfaed7b5fa2f90</td><td>5944</td><td>348</td><td>Geert Leus</td></tr><tr><td>548c9c6ddabfae9b40135346</td><td>8094</td><td>348</td><td>Sarit Kraus</td></tr><tr><td>54091570dabfae8faa66acfa</td><td>2522</td><td>347</td><td>Dengel, A.</td></tr><tr><td>53f454f4dabfaec22bb007ff</td><td>4533</td><td>347</td><td>C. Chen</td></tr><tr><td>53f497f9dabfaeb6d177b8c5</td><td>2971</td><td>347</td><td>Kitsuregawa, M.</td></tr><tr><td>53f466e6dabfaeee22a55655</td><td>5854</td><td>347</td><td>Erol Gelenbe</td></tr><tr><td>53f635a9dabfae891ec71629</td><td>2919</td><td>347</td><td>Atsuo Takanishi</td></tr><tr><td>53f493aedabfaeb15877b641</td><td>15885</td><td>347</td><td>A. Calderbank</td></tr><tr><td>5448ab14dabfae87b7e5e2be</td><td>4648</td><td>346</td><td>L.-G. Chen</td></tr><tr><td>5405dcf3dabfae92b420679c</td><td>5630</td><td>346</td><td>Prasant Mohapatra</td></tr><tr><td>53f45e9bdabfaefedbb6c827</td><td>4265</td><td>346</td><td>Elisabeth André</td></tr><tr><td>548e30ffdabfaef989f09216</td><td>2370</td><td>346</td><td>Oscar Au</td></tr><tr><td>53f43beadabfaedf435b2c8b</td><td>4550</td><td>345</td><td>Matthias Jarke</td></tr><tr><td>562c848445cedb3398c4af7f</td><td>11743</td><td>345</td><td>li deng</td></tr><tr><td>53f7d57cdabfae938c6e1769</td><td>6037</td><td>345</td><td>Miroslav Krstic</td></tr><tr><td>53f566f8dabfae63aff8048f</td><td>4359</td><td>345</td><td>Masashi Sugiyama</td></tr><tr><td>5432c460dabfae8cc1c12206</td><td>559</td><td>344</td><td>Lei Zhang</td></tr><tr><td>54409314dabfae7f9b3405e9</td><td>4284</td><td>344</td><td>Pingzhi Fan</td></tr><tr><td>54338d1ddabfaebba58181ba</td><td>3498</td><td>344</td><td>Jacob Abraham</td></tr><tr><td>5406cd9fdabfae450f3ec05b</td><td>1936</td><td>344</td><td>Bernhard Preim</td></tr><tr><td>54592d5ddabfaeb0fe339cfb</td><td>8257</td><td>343</td><td>Xilin Chen</td></tr><tr><td>53f5ad8fdabfae2ab3f8045b</td><td>9523</td><td>343</td><td>Mohan Trivedi</td></tr><tr><td>54864cefdabfae9b40133cf2</td><td>1973</td><td>343</td><td>Kiyoharu Aizawa</td></tr><tr><td>544102d7dabfae7d84bd2ca2</td><td>7019</td><td>343</td><td>Munindar Singh</td></tr><tr><td>5448bc38dabfae87b7e71114</td><td>2484</td><td>343</td><td>Hannu Tenhunen</td></tr><tr><td>53f4cfbfdabfaeeee9f80f60</td><td>9051</td><td>343</td><td>Diego Calvanese</td></tr><tr><td>53f4cc08dabfaeebd6f80812</td><td>4136</td><td>343</td><td>In Kweon</td></tr><tr><td>5429f6b6dabfaec7081cff38</td><td>1758</td><td>342</td><td>Ge Yu</td></tr><tr><td>54323c52dabfaeb4ea4e7785</td><td>2243</td><td>341</td><td>Vijay Varadharajan</td></tr><tr><td>53f6616bdabfae6a71b62ab7</td><td>5804</td><td>341</td><td>Wang Yi</td></tr><tr><td>53f49dbadabfaeb22f57323f</td><td>7138</td><td>340</td><td>Rachid Guerraoui</td></tr><tr><td>53f43aa7dabfaee1c0ac64a8</td><td>5331</td><td>340</td><td>Kai-Kit Wong</td></tr><tr><td>5429cf62dabfaec7081ba5f8</td><td>537</td><td>340</td><td>lei wang</td></tr><tr><td>548462e7dabfae8a11fb206f</td><td>5501</td><td>339</td><td>Lingyang Song</td></tr><tr><td>53f48b48dabfaee0d9c73c7f</td><td>9806</td><td>339</td><td>Dan Roth</td></tr><tr><td>53f47e33dabfaee02addc55c</td><td>2300</td><td>339</td><td>Fan Wu</td></tr><tr><td>54083c53dabfae8faa6357c7</td><td>5104</td><td>339</td><td>Jiajun Bu</td></tr><tr><td>53f79e4adabfae938c6c794d</td><td>6012</td><td>339</td><td>antonio bicchi</td></tr><tr><td>548d2c00dabfae8a11fb4f23</td><td>3323</td><td>338</td><td>Shaoqian Li</td></tr><tr><td>54865675dabfae9b40133d27</td><td>2351</td><td>338</td><td>Ian Petersen</td></tr><tr><td>53f43632dabfaedf4357e53f</td><td>21462</td><td>338</td><td>Ming-Hsuan Yang</td></tr><tr><td>54104b8bdabfae44f0895ac3</td><td>13198</td><td>338</td><td>Tarek Abdelzaher</td></tr><tr><td>53f4394cdabfaee43ec4ba92</td><td>1968</td><td>338</td><td>Mikael Skoglund</td></tr><tr><td>53f44c86dabfaee4dc7ea1a9</td><td>3617</td><td>338</td><td>Liming Chen</td></tr><tr><td>548f4ef8dabfaef989f098a5</td><td>8413</td><td>338</td><td>G. Sukhatme</td></tr><tr><td>53f7c421dabfae8faa4b221f</td><td>4673</td><td>337</td><td>Enrique Alba</td></tr><tr><td>53f55f1fdabfae534af8045b</td><td>8794</td><td>337</td><td>Bernd Girod</td></tr><tr><td>54057e6ddabfae92b41db4ed</td><td>1425</td><td>337</td><td>Dacheng Yang</td></tr><tr><td>548d71d3dabfaed7b5fa4842</td><td>7050</td><td>337</td><td>Biswanath Mukherjee</td></tr><tr><td>54850805dabfaed7b5fa1e9a</td><td>4759</td><td>336</td><td>Mohamed Kamel</td></tr><tr><td>5440a187dabfae7d84b94562</td><td>6704</td><td>336</td><td>lorenzo bruzzone</td></tr><tr><td>54083220dabfae92b422e061</td><td>4247</td><td>335</td><td>Manish Parashar</td></tr><tr><td>53f43496dabfaee02acb92a4</td><td>6656</td><td>335</td><td>Ju Park</td></tr><tr><td>53f49831dabfaeb909f8045b</td><td>8543</td><td>334</td><td>Qian Zhang</td></tr><tr><td>548c797ddabfae8a11fb4ba5</td><td>2551</td><td>334</td><td>Enrico Macii</td></tr><tr><td>540fec9cdabfae450f4b6d23</td><td>6229</td><td>334</td><td>Calton Pu</td></tr><tr><td>53f43149dabfaeb2ac01b574</td><td>6868</td><td>334</td><td>Changshui Zhang</td></tr><tr><td>548669bfdabfaed7b5fa294b</td><td>4999</td><td>333</td><td>Michael Unser</td></tr><tr><td>53f484bedabfaee4dc8b0a3d</td><td>10246</td><td>332</td><td>Gilbert Laporte</td></tr><tr><td>542d413cdabfae11fc4517d5</td><td>5674</td><td>332</td><td>Hui Xiong</td></tr><tr><td>5440c794dabfae805a6f5c9d</td><td>2289</td><td>332</td><td>Joachim Hornegger</td></tr><tr><td>53f46fe4dabfaee43ed1be68</td><td>2205</td><td>331</td><td>Floriana Esposito</td></tr><tr><td>5448dbd7dabfae87b7e884bf</td><td>5314</td><td>331</td><td>Loet Leydesdorff</td></tr><tr><td>53f45abfdabfaee1c0b3dec0</td><td>14721</td><td>331</td><td>Shankar Sastry</td></tr><tr><td>53f49b68dabfaee0d9c75613</td><td>9196</td><td>331</td><td>Steffen Staab</td></tr><tr><td>53f556d3dabfae963d25d9b3</td><td>35701</td><td>331</td><td>T. Darrell</td></tr><tr><td>53f475f6dabfaefedbbac5ec</td><td>10927</td><td>331</td><td>Kannan Ramchandran</td></tr><tr><td>53f556d8dabfae963d25e7b5</td><td>18351</td><td>331</td><td>Rui Zhang</td></tr><tr><td>53f4d2fedabfaef20af80509</td><td>4270</td><td>330</td><td>Feifei Gao</td></tr><tr><td>53f42dfadabfaeb22f40fe99</td><td>1947</td><td>330</td><td>Ioannis Kompatsiaris</td></tr><tr><td>53f4c4abdabfaee4dc8b5767</td><td>13385</td><td>330</td><td>Chengxiang Zhai</td></tr><tr><td>548760aedabfae9b401345b4</td><td>2644</td><td>329</td><td>Hossam Hassanein</td></tr><tr><td>53f488b2dabfaeb22f571164</td><td>13677</td><td>329</td><td>Maja Pantic</td></tr><tr><td>5486c030dabfaed7b5fa2bfb</td><td>1153</td><td>329</td><td>Václav Snásel</td></tr><tr><td>542d19b5dabfae4b91c36319</td><td>4262</td><td>329</td><td>Meikang Qiu</td></tr><tr><td>53f48da4dabfaea7cd1d387c</td><td>11608</td><td>329</td><td>Klaus-Robert Mller</td></tr><tr><td>53f437e0dabfaeee229b89b0</td><td>2968</td><td>329</td><td>Bhavani Thuraisingham</td></tr><tr><td>542db3bcdabfae11fc495b0b</td><td>2192</td><td>329</td><td>Dan Feng</td></tr><tr><td>54483485dabfae87b7de6863</td><td>5231</td><td>328</td><td>Nei Kato</td></tr><tr><td>53f64e15dabfae0633f1633c</td><td>2938</td><td>328</td><td>Hiroshi Okuno</td></tr><tr><td>54403df4dabfae7d84b7b4d3</td><td>2055</td><td>328</td><td>Jian Song</td></tr><tr><td>540fdc08dabfae450f4ae49d</td><td>1909</td><td>328</td><td>ning xi</td></tr><tr><td>548c80a7dabfaed7b5fa43e8</td><td>4115</td><td>328</td><td>Tamer Basar</td></tr><tr><td>53f4c9c5dabfaee9c4f80a47</td><td>9838</td><td>328</td><td>Georg Gottlob</td></tr><tr><td>5486a4d2dabfae9b40133f55</td><td>2395</td><td>327</td><td>Michael Henning</td></tr><tr><td>54486132dabfae87b7e167ef</td><td>2840</td><td>327</td><td>Abbas Jamalipour</td></tr><tr><td>53f4ec7fdabfae0354f8045b</td><td>17548</td><td>327</td><td>Pascal Fua</td></tr><tr><td>5408e10ddabfae450f44a9ee</td><td>2546</td><td>327</td><td>Omer Rana</td></tr><tr><td>53f48c9bdabfaea7cd1cf6cc</td><td>8663</td><td>327</td><td>Yong Yu</td></tr><tr><td>56cb1891c35f4f3c6565176f</td><td>8811</td><td>327</td><td>Meng Wang</td></tr><tr><td>5405cf4adabfae8faa6033fb</td><td>7320</td><td>326</td><td>Ahmad-Reza Sadeghi</td></tr><tr><td>53f642d9dabfaed4ec0f3d1a</td><td>3882</td><td>326</td><td>Enhong Chen</td></tr><tr><td>53f4bc70dabfaeda9a77b434</td><td>13300</td><td>326</td><td>Ian Horrocks</td></tr><tr><td>54485029dabfae87b7e06a64</td><td>7245</td><td>326</td><td>Rongxing Lu</td></tr><tr><td>53f4b70bdabfaeb22f576f19</td><td>9010</td><td>326</td><td>Mark Musen</td></tr><tr><td>5440afdddabfae7d84ba465e</td><td>5040</td><td>326</td><td>Rita Cucchiara</td></tr><tr><td>542a2fdfdabfae5848aa6a90</td><td>1298</td><td>326</td><td>Jianping Wu</td></tr><tr><td>542bd09edabfae2b4e1a403a</td><td>2447</td><td>326</td><td>Weimin Zheng</td></tr><tr><td>5484b4f5dabfae8a11fb2233</td><td>5276</td><td>326</td><td>Weihua Zhuang</td></tr><tr><td>53f47b80dabfae8a6845cd1d</td><td>16978</td><td>326</td><td>Jian Pei</td></tr><tr><td>5405cbf8dabfae8faa601361</td><td>3047</td><td>326</td><td>Bernhard Rumpe</td></tr><tr><td>5405a437dabfae450f3c05bd</td><td>4012</td><td>326</td><td>Hartmut Ehrig</td></tr><tr><td>53f564e9dabfae60b4f8045b</td><td>4179</td><td>325</td><td>Ting Liu</td></tr><tr><td>53f471badabfaeee22a7d87b</td><td>4074</td><td>325</td><td>Debin Zhao</td></tr><tr><td>53f36b50dabfae4b349ad066</td><td>19932</td><td>325</td><td>Anantha Chandrakasan</td></tr><tr><td>54483ee7dabfae87b7df3593</td><td>9298</td><td>325</td><td>Baochun Li</td></tr><tr><td>548522d1dabfae9b401333e9</td><td>9671</td><td>325</td><td>Roger Wattenhofer</td></tr><tr><td>53f4a537dabfaec64e77b4cb</td><td>4320</td><td>324</td><td>Henning Schulzrinne</td></tr><tr><td>53f47494dabfaeee22a888d4</td><td>2423</td><td>324</td><td>Hoi-Jun Yoo</td></tr><tr><td>53f387b5dabfae4b34a1d0ad</td><td>4844</td><td>324</td><td>Yunhong Wang</td></tr><tr><td>548543dadabfaed7b5fa20a2</td><td>3702</td><td>324</td><td>Inkyu Lee</td></tr><tr><td>53f59a12dabfaeeae9f80461</td><td>3959</td><td>324</td><td>Pheng Heng</td></tr><tr><td>54483ab3dabfae87b7dee193</td><td>6703</td><td>324</td><td>N. Vijaykrishnan</td></tr><tr><td>53f48d15dabfaea7cd1d12bf</td><td>6466</td><td>323</td><td>Xuemin Lin</td></tr><tr><td>53f36d20dabfae4b349b3a3c</td><td>853</td><td>323</td><td>Andreas Maier</td></tr><tr><td>53f43342dabfaee02aca9d9a</td><td>6485</td><td>322</td><td>Jocelyn Chanussot</td></tr><tr><td>56323e0045ce1e5968d69b3e</td><td>4300</td><td>322</td><td>Y. Li</td></tr><tr><td>5489c207dabfae9b40134d40</td><td>26202</td><td>322</td><td>Jeffrey Andrews</td></tr><tr><td>548c9742dabfaed7b5fa44a6</td><td>5348</td><td>322</td><td>Vijay Bhargava</td></tr><tr><td>548570badabfaed7b5fa21c4</td><td>1003</td><td>321</td><td>Yen-Wei Chen</td></tr><tr><td>53f48da8dabfaea7cd1d39d6</td><td>8774</td><td>321</td><td>Beng Ooi</td></tr><tr><td>562d579045cedb3398dced35</td><td>1319</td><td>321</td><td>T. Gulliver</td></tr><tr><td>53f63a9edabfaee8c4c71628</td><td>2074</td><td>321</td><td>Paul Spirakis</td></tr><tr><td>53f48beedabfaea6f777b5cb</td><td>8305</td><td>321</td><td>Ramesh Jain</td></tr><tr><td>5440b4f3dabfae805a6e8961</td><td>10619</td><td>321</td><td>Mark Harman</td></tr><tr><td>54058b3bdabfae450f3b561a</td><td>809</td><td>321</td><td>Jing Li</td></tr><tr><td>5405aeefdabfae8faa5f2b32</td><td>2728</td><td>321</td><td>Wanlei Zhou</td></tr><tr><td>53f46a3edabfaee43ed05f08</td><td>6470</td><td>320</td><td>Jie Tang</td></tr><tr><td>54084640dabfae92b4238961</td><td>6482</td><td>320</td><td>Jan Mendling</td></tr><tr><td>53f49e92dabfaec18e77b3bb</td><td>2713</td><td>320</td><td>Wei Wang</td></tr><tr><td>53f4681adabfaee43ecfd3bd</td><td>1262</td><td>320</td><td>Rui Dinis</td></tr><tr><td>548d4bfddabfae8a11fb4fb6</td><td>1717</td><td>320</td><td>Reinhard Klette</td></tr><tr><td>54866946dabfaed7b5fa293d</td><td>2090</td><td>320</td><td>Jaime Lloret</td></tr><tr><td>53f4af5cdabfaee0d9c773c2</td><td>7971</td><td>320</td><td>Ling Liu</td></tr><tr><td>5484eddfdabfaed7b5fa1d0d</td><td>1785</td><td>319</td><td>Yusheng Ji</td></tr><tr><td>53f43838dabfaeb22f48248b</td><td>4105</td><td>319</td><td>Yiran Chen</td></tr><tr><td>548a1876dabfae8a11fb487c</td><td>2913</td><td>319</td><td>Gareth Jones</td></tr><tr><td>53f48d8edabfaedd74eb3554</td><td>10105</td><td>319</td><td>José Meseguer</td></tr><tr><td>54850bfddabfae9b40133342</td><td>8154</td><td>319</td><td>Miodrag Potkonjak</td></tr><tr><td>53f47ebcdabfae9126cc432c</td><td>17031</td><td>319</td><td>Bing Liu</td></tr><tr><td>54408ee3dabfae7d84b81202</td><td>3086</td><td>319</td><td>Siwei Ma</td></tr><tr><td>53f45e5cdabfaee2a1d90d8f</td><td>2264</td><td>319</td><td>Yanchun Zhang</td></tr><tr><td>53f7b658dabfae90ec11669a</td><td>2382</td><td>319</td><td>Mikko Valkama</td></tr><tr><td>5429ff96dabfae61d494d42b</td><td>5878</td><td>319</td><td>Yan Zhang</td></tr><tr><td>54093fb6dabfae450f46f763</td><td>2621</td><td>318</td><td>Sy-Yen Kuo</td></tr><tr><td>53f637c2dabfae57b759c73b</td><td>3105</td><td>318</td><td>Edward Delp</td></tr><tr><td>54858c0fdabfae9b401337db</td><td>2831</td><td>318</td><td>Yueh-min Huang</td></tr><tr><td>54409b22dabfae805a6dc284</td><td>6437</td><td>318</td><td>Ugo Montanari</td></tr><tr><td>53f48bf2dabfaea7cd1cd834</td><td>2232</td><td>318</td><td>Xiaohua Hu</td></tr><tr><td>54057e98dabfae44f081044b</td><td>1555</td><td>318</td><td>Xiaowei Li</td></tr><tr><td>53f4954edabfaeb4c077b607</td><td>6246</td><td>317</td><td>Tsuhan Chen</td></tr><tr><td>53f4754adabfaedf43680281</td><td>5518</td><td>317</td><td>Ingrid Verbauwhede</td></tr><tr><td>5431089adabfae8dd88ac4f9</td><td>2962</td><td>317</td><td>Jianfeng Ma</td></tr><tr><td>53f5953cdabfaee41cf8045b</td><td>7079</td><td>317</td><td>Ricardo Baeza-yates</td></tr><tr><td>53f5bab5dabfae583af8045c</td><td>2029</td><td>317</td><td>Bin Wang</td></tr><tr><td>53f43deadabfaec09f1b48dd</td><td>1076</td><td>317</td><td>Paulo Novais</td></tr><tr><td>53f4b3f3dabfaedd74eba2c4</td><td>12278</td><td>316</td><td>Roberto Cipolla</td></tr><tr><td>5625ab5a45cedb33985e9162</td><td>2370</td><td>316</td><td>Zhangdui Zhong</td></tr><tr><td>5606e3e045cedb33969857af</td><td>3630</td><td>316</td><td>Weijia Jia</td></tr><tr><td>54106ae8dabfae44f08a8330</td><td>1897</td><td>316</td><td>Jan Leimeister</td></tr><tr><td>54480a86dabfae87b7dc9a89</td><td>6714</td><td>315</td><td>Frank Lewis</td></tr><tr><td>540fe473dabfae450f4b206c</td><td>3775</td><td>314</td><td>Evangelos Kranakis</td></tr><tr><td>53f452bedabfaee1c0b1ee4a</td><td>10572</td><td>314</td><td>Joseph Halpern</td></tr><tr><td>53f387e6dabfae4b34a1e407</td><td>4159</td><td>314</td><td>Mohan Kankanhalli</td></tr><tr><td>56226de645cedb33983c459c</td><td>2971</td><td>314</td><td>Huadong Ma</td></tr><tr><td>53f4bc9bdabfaedce5653e87</td><td>7659</td><td>314</td><td>Yaochu Jin</td></tr><tr><td>562c93fa45cedb3398c68524</td><td>1777</td><td>314</td><td>Dong Wang</td></tr><tr><td>53f43a73dabfaec09f1a3819</td><td>4542</td><td>313</td><td>Vittorio Murino</td></tr><tr><td>53f557a3dabfae344ff8045b</td><td>18171</td><td>313</td><td>Bernt Schiele</td></tr><tr><td>53f4b834dabfaed4b577b4df</td><td>10927</td><td>313</td><td>Yiyu Yao</td></tr><tr><td>540842d8dabfae92b423704c</td><td>3953</td><td>312</td><td>Norihiro Hagita</td></tr><tr><td>53f4346bdabfaee43ec1cc0a</td><td>14905</td><td>312</td><td>Thomas Henzinger</td></tr><tr><td>53f63246dabfae7038c71628</td><td>7829</td><td>312</td><td>Gerd Hirzinger</td></tr><tr><td>53f4a8dcdabfaeb22f575199</td><td>2242</td><td>311</td><td>Kazuyuki Aihara</td></tr><tr><td>53f566fcdabfae63abf8045b</td><td>9019</td><td>311</td><td>Yu-Chee Tseng</td></tr><tr><td>5405bc71dabfae91d3007cb2</td><td>4638</td><td>311</td><td>Oscar Ibarra</td></tr><tr><td>53f3a55edabfae4b34ad5410</td><td>5810</td><td>310</td><td>Shuzhi Ge</td></tr><tr><td>5434cd17dabfaebba586846b</td><td>2438</td><td>310</td><td>Longbing Cao</td></tr><tr><td>548c9cf6dabfae8a11fb4c00</td><td>5170</td><td>310</td><td>Katsushi Ikeuchi</td></tr><tr><td>548cdb3edabfae9b40135516</td><td>4277</td><td>309</td><td>Quan Sheng</td></tr><tr><td>53f43a15dabfaedd74dc297e</td><td>4212</td><td>309</td><td>Zhisheng Niu</td></tr><tr><td>53f4bc36dabfaedce56537c7</td><td>3655</td><td>309</td><td>Majid Sarrafzadeh</td></tr><tr><td>54402413dabfae7f0c7f79ac</td><td>844</td><td>309</td><td>Jie Zhang</td></tr><tr><td>54069ac5dabfae92b4216ef6</td><td>5982</td><td>309</td><td>Douglas Schmidt</td></tr><tr><td>5485083fdabfaed7b5fa1eac</td><td>5189</td><td>309</td><td>Dieter Schmalstieg</td></tr><tr><td>5a28a3b39ed5db70fba3ff6c</td><td>18528</td><td>309</td><td>Xiao-Gang Wang</td></tr><tr><td>53f63848dabfaebd129bf11f</td><td>1390</td><td>309</td><td>Ebroul Izquierdo</td></tr><tr><td>540fdd1cdabfae450f4aed4c</td><td>4053</td><td>309</td><td>Geoffrey Fox</td></tr><tr><td>5444d8b0dabfae87074ea6fe</td><td>4044</td><td>309</td><td>Hong Mei</td></tr><tr><td>5406010adabfae91d3026c22</td><td>1654</td><td>309</td><td>Manuel Graña</td></tr><tr><td>562cc59045cedb3398cbbca8</td><td>3296</td><td>309</td><td>Oscar Castillo</td></tr><tr><td>54083ad6dabfae44f0872eff</td><td>6644</td><td>309</td><td>Ananthram Swami</td></tr><tr><td>54855038dabfae8a11fb2853</td><td>6155</td><td>309</td><td>george pappas</td></tr><tr><td>5405dd7edabfae450f3db78c</td><td>3916</td><td>308</td><td>Halim Yanikomeroglu</td></tr><tr><td>548603cedabfae8a11fb2ea1</td><td>1599</td><td>308</td><td>Gerd Ascheid</td></tr><tr><td>53f7eefedabfae8faa4c5303</td><td>5227</td><td>308</td><td>Dong Kim</td></tr><tr><td>53f7adafdabfae90ec113c96</td><td>6103</td><td>308</td><td>Kurt Mehlhorn</td></tr><tr><td>53f56127dabfae5b74f804ca</td><td>1775</td><td>308</td><td>Lu Liu</td></tr><tr><td>53f432f3dabfaee4dc75f7e0</td><td>9843</td><td>308</td><td>Lionel Briand</td></tr><tr><td>542a3fd0dabfae646d544217</td><td>3548</td><td>307</td><td>Zhenfu Cao</td></tr><tr><td>54850e41dabfaed7b5fa1edb</td><td>6958</td><td>307</td><td>Chunhua Shen</td></tr><tr><td>53f4514fdabfaee2a1d600e1</td><td>2058</td><td>307</td><td>Abhijit Chatterjee</td></tr><tr><td>54298b7adabfaec7081904c4</td><td>4478</td><td>307</td><td>Yueting Zhuang</td></tr><tr><td>53f43868dabfaee0d9b77713</td><td>5260</td><td>307</td><td>Heng Huang</td></tr><tr><td>54302313dabfaeca69bccc56</td><td>2511</td><td>307</td><td>Hongbin Zha</td></tr><tr><td>540fe84ddabfae450f4b437b</td><td>6486</td><td>307</td><td>Petar Popovski</td></tr><tr><td>53f4bbc5dabfaeda9877b436</td><td>8442</td><td>307</td><td>Shiguang Shan</td></tr><tr><td>53f4d560dabfaef346f81960</td><td>6139</td><td>307</td><td>Cyrus Shahabi</td></tr><tr><td>54850816dabfaed7b5fa1e9d</td><td>2488</td><td>306</td><td>Paolo Dario</td></tr><tr><td>542b6d86dabfae2b4e165c44</td><td>2025</td><td>306</td><td>Yanning Zhang</td></tr><tr><td>5434cf06dabfaebba5869bc4</td><td>3468</td><td>306</td><td>David Bates</td></tr><tr><td>53f573e1dabfae7bdbf8045b</td><td>5700</td><td>306</td><td>Peter Brusilovsky</td></tr><tr><td>5489c24cdabfae9b40134d47</td><td>4962</td><td>306</td><td>Joost-Pieter Katoen</td></tr><tr><td>56192a4345ce1e596427002a</td><td>2887</td><td>305</td><td>Jiming Liu</td></tr><tr><td>53f4d81bdabfaef65277b7a2</td><td>5161</td><td>305</td><td>David Lo</td></tr><tr><td>53f42ddddabfaeb2acff091b</td><td>15017</td><td>305</td><td>M. Hebert</td></tr><tr><td>53f487fbdabfaee4dc8b1e67</td><td>7272</td><td>305</td><td>Stefano Ceri</td></tr><tr><td>53f4d2d9dabfaeedd4780c89</td><td>2471</td><td>305</td><td>Kenli Li</td></tr><tr><td>5489f4eedabfaed7b5fa3e81</td><td>2719</td><td>305</td><td>Marijn Janssen</td></tr><tr><td>53f48b34dabfaee4dc8b28ef</td><td>2596</td><td>305</td><td>Ning Zhong</td></tr><tr><td>53f43305dabfaeb22f44ed55</td><td>2572</td><td>304</td><td>Dengguo Feng</td></tr><tr><td>54884472dabfae8a11fb41ba</td><td>2972</td><td>304</td><td>Jose Principe</td></tr><tr><td>5484e16bdabfae9b401331ef</td><td>2610</td><td>304</td><td>Alexander Gelbukh</td></tr><tr><td>53f4594bdabfaedd74e39423</td><td>3977</td><td>304</td><td>Yong Li</td></tr><tr><td>53f43562dabfaee1c0a94d84</td><td>2745</td><td>304</td><td>Catholijn Jonker</td></tr><tr><td>53f48ca0dabfaea7cd1cf7e0</td><td>9270</td><td>304</td><td>Jieping Ye</td></tr><tr><td>5485a1cfdabfae9b401338de</td><td>4469</td><td>304</td><td>Edward Fox</td></tr><tr><td>544572ecdabfae862da1d2ba</td><td>11545</td><td>304</td><td>Yi Yang</td></tr><tr><td>53f45fcddabfaee0d9c1577c</td><td>2907</td><td>304</td><td>Shui Yu</td></tr><tr><td>53f44f9edabfaeecd69d11d3</td><td>2500</td><td>303</td><td>Noel O'Connor</td></tr><tr><td>5434c911dabfaebba58657fe</td><td>5549</td><td>303</td><td>Michael Beetz</td></tr><tr><td>5429df29dabfaec7081c2a57</td><td>2671</td><td>303</td><td>Baowen Xu</td></tr><tr><td>53f556d7dabfae963d25e393</td><td>3630</td><td>303</td><td>Cheng-Zhong Xu</td></tr><tr><td>543468a6dabfaebba585b295</td><td>2356</td><td>302</td><td>C. Murthy</td></tr><tr><td>53f4abc1dabfaeb22f575ba3</td><td>5886</td><td>302</td><td>Barry Smyth</td></tr><tr><td>53f4a150dabfaec3ba77b476</td><td>2725</td><td>302</td><td>Giovanni Semeraro</td></tr><tr><td>5405e5fcdabfae91d301a2eb</td><td>2572</td><td>302</td><td>Anastasios Tefas</td></tr><tr><td>560b1c2c45cedb3397262f75</td><td>6233</td><td>302</td><td>Yun Fu</td></tr><tr><td>53f48d29dabfaea7cd1d1775</td><td>6564</td><td>302</td><td>Mike Thelwall</td></tr><tr><td>548aa163dabfaed7b5fa4285</td><td>6913</td><td>301</td><td>Shyi-Ming Chen</td></tr><tr><td>5447fe74dabfae87b7dbe013</td><td>10041</td><td>301</td><td>Narendra Ahuja</td></tr><tr><td>53f556b7dabfaea7cd1d5952</td><td>4947</td><td>301</td><td>Jimmy Lin</td></tr><tr><td>53f433e7dabfaedd74d87b8a</td><td>10067</td><td>301</td><td>Michael Wooldridge</td></tr><tr><td>560a5f2a45cedb33970bee2d</td><td>3028</td><td>300</td><td>Paolo Rosso</td></tr><tr><td>53f556cddabfae963d25c58a</td><td>14005</td><td>300</td><td>Mani Srivastava</td></tr><tr><td>542e062cdabfae4b91c3ccbe</td><td>3570</td><td>300</td><td>Xiqi Gao</td></tr><tr><td>53f48816dabfaedf4369082b</td><td>7227</td><td>300</td><td>Amr Abbadi</td></tr><tr><td>5448a5e2dabfae87b7e58de9</td><td>2098</td><td>300</td><td>Giancarlo Mauri</td></tr><tr><td>53f436bbdabfaeb2ac055eaa</td><td>5757</td><td>300</td><td>jan peters</td></tr><tr><td>53f49ab3dabfaee0d9c7556a</td><td>6995</td><td>300</td><td>Xian-Sheng Hua</td></tr><tr><td>53f4a75bdabfaeb1a7cd346b</td><td>964</td><td>299</td><td>Yoshitaka Shibata</td></tr><tr><td>53f56759dabfae6433f8045b</td><td>5176</td><td>299</td><td>James Glass</td></tr><tr><td>53f484fadabfaee0d9c7369a</td><td>5931</td><td>299</td><td>Pankaj Agarwal</td></tr><tr><td>53f43600dabfaedce552bb22</td><td>15035</td><td>299</td><td>Michael Stonebraker</td></tr><tr><td>53f49803dabfaeb6c977b76b</td><td>3363</td><td>299</td><td>Aidong Zhang</td></tr><tr><td>5406e662dabfae450f3f3f5e</td><td>2726</td><td>299</td><td>Yi Mu</td></tr><tr><td>53f45926dabfaedd74e38ac9</td><td>3838</td><td>299</td><td>Jinhong Yuan</td></tr><tr><td>54084353dabfae44f08767db</td><td>3104</td><td>299</td><td>Saket Saurabh</td></tr><tr><td>53f64246dabfaed4cc0f3cc2</td><td>4798</td><td>299</td><td>Yannis Manolopoulos</td></tr><tr><td>53f48048dabfaefedbbc092a</td><td>5426</td><td>298</td><td>Franco Zambonelli</td></tr><tr><td>53f4391bdabfaeb1a7c0e10d</td><td>5548</td><td>298</td><td>Niraj Jha</td></tr><tr><td>5430f2ecdabfae8f2911e064</td><td>11400</td><td>298</td><td>Onur Mutlu</td></tr><tr><td>53f48dccdabfaea7cd1d4614</td><td>7579</td><td>298</td><td>Rong Jin</td></tr><tr><td>542a5f39dabfae61d497310f</td><td>3275</td><td>298</td><td>Yong-Dong Zhang</td></tr><tr><td>544870f6dabfae87b7e24c32</td><td>1946</td><td>297</td><td>Heinrich Niemann</td></tr><tr><td>54334b36dabfaeb5421848aa</td><td>2144</td><td>297</td><td>Donatella Sciuto</td></tr><tr><td>53f4a68bdabfaedd74eb7da9</td><td>2308</td><td>297</td><td>Naren Ramakrishnan</td></tr><tr><td>5433a197dabfaebba581bb6d</td><td>1845</td><td>297</td><td>Li-Chen Fu</td></tr><tr><td>5429b340dabfaec7081a8fc5</td><td>2822</td><td>297</td><td>Xinping Guan</td></tr><tr><td>53f469dfdabfaeb22f54c07b</td><td>9623</td><td>297</td><td>Tim Finin</td></tr><tr><td>5406ab62dabfae44f084d016</td><td>2556</td><td>297</td><td>Matti Latva-aho</td></tr><tr><td>5484b789dabfae9b40133090</td><td>3558</td><td>297</td><td>Axel Legay</td></tr><tr><td>53f3ac35dabfae4b34afe8f8</td><td>3922</td><td>296</td><td>D. Wong</td></tr><tr><td>53f64264dabfae107d9bf155</td><td>5942</td><td>296</td><td>Qiang Ji</td></tr><tr><td>53f48d67dabfaea7cd1d27f7</td><td>3433</td><td>296</td><td>Jianer Chen</td></tr><tr><td>53f59ae6dabfaeec23f8045b</td><td>4765</td><td>296</td><td>Joel Saltz</td></tr><tr><td>548a9c6cdabfaed7b5fa4261</td><td>1383</td><td>296</td><td>Hung Nguyen</td></tr><tr><td>53f4a126dabfaec3b577b3cb</td><td>6490</td><td>295</td><td>Krithi Ramamritham</td></tr><tr><td>53f479badabfae8a6845bbc6</td><td>3715</td><td>295</td><td>Mitsuru Ishizuka</td></tr><tr><td>53f4b7c2dabfaed4b677b3e9</td><td>3028</td><td>295</td><td>Jian Huang</td></tr><tr><td>53f4432cdabfaeecd69a09ee</td><td>6537</td><td>295</td><td>Barry Boehm</td></tr><tr><td>54485489dabfae87b7e0c9a4</td><td>1858</td><td>295</td><td>Jaakko Astola</td></tr><tr><td>53f48d40dabfaea7cd1d1cba</td><td>7600</td><td>295</td><td>Irwin King</td></tr><tr><td>542a5a2adabfae646d554e92</td><td>1531</td><td>295</td><td>Z. Zhou</td></tr><tr><td>53f324f8dabfae9a8446bd0a</td><td>2822</td><td>295</td><td>John Grundy</td></tr><tr><td>5448df88dabfae87b7e89e36</td><td>5798</td><td>295</td><td>Wang-Chien Lee</td></tr><tr><td>5432704adabfae8eb14d4cb2</td><td>5219</td><td>295</td><td>Wei Wang</td></tr><tr><td>542aa810dabfae646d57cd3a</td><td>4317</td><td>295</td><td>Mugen Peng</td></tr><tr><td>53f4358ddabfaeb1a7beca72</td><td>2469</td><td>295</td><td>Wolfgang Utschick</td></tr><tr><td>53f6362edabfaeac8f9bf11f</td><td>2695</td><td>294</td><td>Shouyang Wang</td></tr><tr><td>53f59855dabfaee86cf8045b</td><td>5092</td><td>294</td><td>Michael Ng</td></tr><tr><td>548a3169dabfae9b40134ff7</td><td>10562</td><td>294</td><td>Azriel Rosenfeld</td></tr><tr><td>53f35ac2dabfae4b3496e251</td><td>3955</td><td>294</td><td>Venu Govindaraju</td></tr><tr><td>54053d4ddabfae91d3fca8dc</td><td>5463</td><td>294</td><td>Mary Irwin</td></tr><tr><td>5440980bdabfae805a6d8ffd</td><td>4090</td><td>294</td><td>Bir Bhanu</td></tr><tr><td>53f4887cdabfaedd74eb2590</td><td>3808</td><td>294</td><td>Thomas Seidl</td></tr><tr><td>544888e0dabfae87b7e3e18d</td><td>2165</td><td>293</td><td>Enrico Pontelli</td></tr><tr><td>5485a676dabfae9b40133947</td><td>2964</td><td>293</td><td>Weiming Shen</td></tr><tr><td>53f42c39dabfaeb1a7b79cd2</td><td>1742</td><td>293</td><td>Yue Wu</td></tr><tr><td>53f43352dabfaee1c0a7e371</td><td>6519</td><td>293</td><td>Tao Xie</td></tr><tr><td>5486cdc9dabfaed7b5fa2c44</td><td>1951</td><td>293</td><td>Timo Hämäläinen</td></tr><tr><td>53f443cedabfaee43ec739d1</td><td>4862</td><td>292</td><td>Wenwu Zhu</td></tr><tr><td>53f46211dabfaee4dc83c485</td><td>1950</td><td>292</td><td>Lin-shan Lee</td></tr><tr><td>54487276dabfae87b7e26630</td><td>2043</td><td>292</td><td>Wentong Cai</td></tr><tr><td>561d5a6a45cedb339806b33f</td><td>2934</td><td>292</td><td>Houqiang Li</td></tr><tr><td>53f45ddbdabfaeb2ac0e655b</td><td>5529</td><td>292</td><td>Chunming Qiao</td></tr><tr><td>5485bf9cdabfaed7b5fa24d6</td><td>2106</td><td>292</td><td>Kaoru Hirota</td></tr><tr><td>54328211dabfaeb4c6a88fec</td><td>7457</td><td>292</td><td>Ness Shroff</td></tr><tr><td>54883331dabfaed7b5fa35fe</td><td>4183</td><td>292</td><td>Seong-Whan Lee</td></tr><tr><td>54054188dabfae91d3fcc8f8</td><td>2352</td><td>291</td><td>Hongke Zhang</td></tr><tr><td>53f44fa3dabfaee1c0b11d32</td><td>1444</td><td>291</td><td>Michitaka Hirose</td></tr><tr><td>53f4709adabfaedf4366d5a0</td><td>7068</td><td>291</td><td>Swagatam Das</td></tr><tr><td>53f46ac2dabfaeb22f54fa4a</td><td>1398</td><td>291</td><td>Satoshi Goto</td></tr><tr><td>53f4bb39dabfaeda9e77b3ba</td><td>6126</td><td>290</td><td>David Eppstein</td></tr><tr><td>54853abddabfae8a11fb26f8</td><td>2846</td><td>290</td><td>Hongxun Yao</td></tr><tr><td>53f43004dabfaeb2ac00b01f</td><td>10749</td><td>290</td><td>Srinivas Devadas</td></tr><tr><td>54891d82dabfae9b401347e8</td><td>1257</td><td>290</td><td>Pushpak Bhattacharyya</td></tr><tr><td>53f4d06fdabfaeedcf77dce5</td><td>2305</td><td>289</td><td>Kai Wang</td></tr><tr><td>53f4a1e5dabfaec3bd77b4d9</td><td>4344</td><td>289</td><td>Christian Jutten</td></tr><tr><td>548e7d34dabfaef989f0944c</td><td>2286</td><td>289</td><td>Susanne Boll</td></tr><tr><td>53f593fbdabfaee263f8045b</td><td>939</td><td>289</td><td>Manfred Glesner</td></tr><tr><td>53f446e3dabfaec09f1cb135</td><td>2922</td><td>289</td><td>Yong Guan</td></tr><tr><td>54454761dabfae862da11218</td><td>6542</td><td>289</td><td>Cheng-Lin Liu</td></tr><tr><td>548d7413dabfaed7b5fa486e</td><td>4248</td><td>289</td><td>Jia Xiaohua</td></tr><tr><td>540838eddabfae450f400de1</td><td>7153</td><td>288</td><td>David Peleg</td></tr><tr><td>54855152dabfae9b401335bc</td><td>1337</td><td>288</td><td>Chao-Tung Yang</td></tr><tr><td>53f565c8dabfae61fff8045b</td><td>20945</td><td>288</td><td>Fernando Pereira</td></tr><tr><td>53f7df32dabfae90ec126f66</td><td>1419</td><td>288</td><td>Sebastian Möller</td></tr><tr><td>5622617845cedb33983bb99c</td><td>502</td><td>288</td><td>Yang Yang</td></tr><tr><td>5448a94adabfae87b7e5c37d</td><td>10890</td><td>288</td><td>Kui Ren</td></tr><tr><td>53f49681dabfaeb4c177bb65</td><td>11351</td><td>288</td><td>H. Jagadish</td></tr><tr><td>53f43060dabfaee0d9b22b7c</td><td>1992</td><td>288</td><td>Xavier Franch</td></tr><tr><td>53f81dc8dabfae938c7036c2</td><td>6117</td><td>288</td><td>Guoliang Xue</td></tr><tr><td>5485ba46dabfae9b401339ca</td><td>1087</td><td>287</td><td>Fuji Ren</td></tr><tr><td>544094d4dabfae7d84b86590</td><td>2781</td><td>287</td><td>Sébastien Ourselin</td></tr><tr><td>5410449cdabfae44f08918c5</td><td>3981</td><td>287</td><td>Boi Faltings</td></tr><tr><td>53f45117dabfaee02ad4445e</td><td>5663</td><td>287</td><td>Antonio Plaza</td></tr><tr><td>53f55878dabfae383df8045b</td><td>4085</td><td>287</td><td>Jon Mark</td></tr><tr><td>540579cbdabfae450f3b1b88</td><td>5002</td><td>287</td><td>Derong Liu</td></tr><tr><td>5448134edabfae87b7dd3065</td><td>1001</td><td>287</td><td>Christos Bouras</td></tr><tr><td>53f48d8bdabfaea7cd1d315a</td><td>11128</td><td>287</td><td>Eric Horvitz</td></tr><tr><td>5448a9a6dabfae87b7e5c9b3</td><td>2717</td><td>287</td><td>Shlomi Dolev</td></tr><tr><td>5406a21adabfae92b421a062</td><td>6388</td><td>286</td><td>Kalle Lyytinen</td></tr><tr><td>53f556d7dabfae963d25e400</td><td>3713</td><td>286</td><td>Minoru Asada</td></tr><tr><td>542d15f0dabfae489b97ab1f</td><td>1699</td><td>286</td><td>Liusheng Huang</td></tr><tr><td>5487cc78dabfaed7b5fa32db</td><td>3041</td><td>286</td><td>Sudip Misra</td></tr><tr><td>53f4806adabfae963d25a0ee</td><td>46879</td><td>286</td><td>Scott Shenker</td></tr><tr><td>544878c2dabfae87b7e2beb3</td><td>2606</td><td>286</td><td>Qun Liu</td></tr><tr><td>53f49220dabfaeb22f571d94</td><td>9984</td><td>286</td><td>Divesh Srivastava</td></tr><tr><td>5448538edabfae87b7e0b201</td><td>7776</td><td>285</td><td>Tuomas Sandholm</td></tr><tr><td>53f4326ddabfaedf435569b6</td><td>4656</td><td>285</td><td>Toby Walsh</td></tr><tr><td>53f7bfd4dabfae938c6d77fa</td><td>2840</td><td>285</td><td>Ana Paiva</td></tr><tr><td>540fcdbfdabfae450f4a6780</td><td>5620</td><td>285</td><td>P. Sadayappan</td></tr><tr><td>542cdf80dabfae4bbcf811ec</td><td>644</td><td>285</td><td>Wei Guo</td></tr><tr><td>53f4bcb4dabfaeda9b77b79d</td><td>7925</td><td>285</td><td>Yishay Mansour</td></tr><tr><td>53f4525cdabfaee02ad49628</td><td>3930</td><td>285</td><td>Shie Mannor</td></tr><tr><td>53f556d8dabfae963d25e84c</td><td>8556</td><td>285</td><td>Song Zhu</td></tr><tr><td>54326b4bdabfaeb4ea4efff5</td><td>2076</td><td>285</td><td>Torsten Braun</td></tr><tr><td>53f44feddabfaee1c0b1303e</td><td>3569</td><td>285</td><td>Arthur Toga</td></tr><tr><td>53f479c8dabfae8a6845bfe1</td><td>7852</td><td>285</td><td>Carole Goble</td></tr><tr><td>53f43547dabfaee4dc779466</td><td>2757</td><td>284</td><td>Nenghai Yu</td></tr><tr><td>5484d882dabfaed7b5fa1c4d</td><td>4141</td><td>284</td><td>Rongrong Ji</td></tr><tr><td>53f4dd1adabfaef96277b3ba</td><td>3676</td><td>284</td><td>Tei-Wei Kuo</td></tr><tr><td>544068a0dabfae805a6bad3e</td><td>3722</td><td>284</td><td>Andreas Holzinger</td></tr><tr><td>53f556d9dabfae963d25e90f</td><td>4678</td><td>284</td><td>Pascal Hentenryck</td></tr><tr><td>545928f9dabfaeb0fe32e0cb</td><td>535</td><td>284</td><td>Wei Li</td></tr><tr><td>543322fedabfaeb4c6aa9c7e</td><td>4258</td><td>284</td><td>Janusz Kacprzyk</td></tr><tr><td>53f49d08dabfaedd74eb63be</td><td>13194</td><td>284</td><td>Rafail Ostrovsky</td></tr><tr><td>53f42d57dabfaedf43516340</td><td>2581</td><td>283</td><td>David Bull</td></tr><tr><td>53f432d5dabfaeee22985d77</td><td>5333</td><td>283</td><td>Howard Siegel</td></tr><tr><td>548c4f2fdabfae8a11fb4b24</td><td>1125</td><td>283</td><td>Emilio Luque</td></tr><tr><td>5433c965dabfaebba58273ce</td><td>1743</td><td>283</td><td>Tatsuo Nakajima</td></tr><tr><td>542ce893dabfae216e635dd8</td><td>10907</td><td>283</td><td>Xing Xie</td></tr><tr><td>54312d0ddabfae8f29134692</td><td>2520</td><td>283</td><td>Hing-Cheung So</td></tr><tr><td>5448dae2dabfae87b7e8761f</td><td>11921</td><td>283</td><td>Robert Haralick</td></tr><tr><td>53f42de4dabfaedce54cbd37</td><td>5304</td><td>283</td><td>D Wang</td></tr><tr><td>5603335a45cedb3396106999</td><td>1470</td><td>283</td><td>Katsumi Tanaka</td></tr><tr><td>53f64dc0dabfae0633f15b9d</td><td>2157</td><td>283</td><td>Yang Liu</td></tr><tr><td>53f453dadabfaee4dc807d26</td><td>1931</td><td>283</td><td>Sahin Albayrak</td></tr><tr><td>53f46c7cdabfaedce55f8829</td><td>2161</td><td>283</td><td>Ken-Ichi Kawarabayashi</td></tr><tr><td>5434ce33dabfaebba5869126</td><td>741</td><td>283</td><td>Yvon Savaria</td></tr><tr><td>53f561f3dabfae5c83f8045b</td><td>10713</td><td>282</td><td>Gene Tsudik</td></tr><tr><td>54876ed1dabfae8a11fb3a21</td><td>1414</td><td>282</td><td>Bernhard Thalheim</td></tr><tr><td>53f7b59adabfae9467dae41e</td><td>896</td><td>282</td><td>Timothy Shih</td></tr><tr><td>53f4d068dabfaeeee9f81b87</td><td>3839</td><td>282</td><td>Magnus Egerstedt</td></tr><tr><td>5432feebdabfaeb4c6aa48af</td><td>986</td><td>282</td><td>Hee Youn</td></tr><tr><td>53f469b2dabfaee02ada1fc0</td><td>7655</td><td>282</td><td>Qing-Long Han</td></tr><tr><td>548519e7dabfae9b40133371</td><td>5052</td><td>282</td><td>Michael Goodrich</td></tr><tr><td>53f42790dabfaec09f0d9153</td><td>2409</td><td>282</td><td>Lie-liang Yang</td></tr><tr><td>53f49850dabfaeb6d077b89a</td><td>4732</td><td>282</td><td>Ching Suen</td></tr><tr><td>5484b3eadabfae9b4013302e</td><td>5258</td><td>282</td><td>Alan Frieze</td></tr><tr><td>5484cee7dabfaed7b5fa1c29</td><td>6371</td><td>282</td><td>Ahmed Hassan</td></tr><tr><td>53f55e50dabfae5249f8045b</td><td>3056</td><td>282</td><td>Toru Ishida</td></tr><tr><td>53f488a2dabfaea3a923e72d</td><td>8082</td><td>281</td><td>Hongyuan Zha</td></tr><tr><td>540915afdabfae450f45f5b0</td><td>6300</td><td>281</td><td>Jiming Chen</td></tr><tr><td>53f4ab3edabfaee1c0baf7b3</td><td>3983</td><td>281</td><td>Patrick Valduriez</td></tr><tr><td>544831d4dabfae87b7de36ae</td><td>3930</td><td>281</td><td>Pin-Han Ho</td></tr><tr><td>548e3768dabfaef989f092af</td><td>3529</td><td>281</td><td>Muhammad Khan</td></tr><tr><td>53f45934dabfaeecd69f5c66</td><td>2571</td><td>281</td><td>Manfred Broy</td></tr><tr><td>5440df6cdabfae7d84bc1cf4</td><td>3488</td><td>281</td><td>Antonio Loureiro</td></tr><tr><td>53f42db2dabfaee2a1c808ca</td><td>5892</td><td>281</td><td>M. Gales</td></tr><tr><td>53fd93cedabfae8faa5ab47b</td><td>4189</td><td>280</td><td>Trung Duong</td></tr><tr><td>548623fddabfaed7b5fa2740</td><td>1487</td><td>280</td><td>Luigi Carro</td></tr><tr><td>53f48cb9dabfaea7cd1cfeae</td><td>1879</td><td>280</td><td>Donato Malerba</td></tr><tr><td>53f45496dabfaec22baff123</td><td>1236</td><td>280</td><td>Xiangjian He</td></tr><tr><td>53f48bfbdabfaea6f277b628</td><td>7348</td><td>280</td><td>Jingyu Yang</td></tr><tr><td>5485e616dabfaed7b5fa263e</td><td>9346</td><td>280</td><td>Brad Myers</td></tr><tr><td>53f43815dabfaeb2ac062b2a</td><td>6575</td><td>280</td><td>V. Subrahmanian</td></tr><tr><td>53f58f2adabfaedb04f80463</td><td>3335</td><td>280</td><td>Tao Jiang</td></tr><tr><td>5405d91bdabfae92b42057b0</td><td>6808</td><td>280</td><td>Steve Benford</td></tr><tr><td>53f446cadabfaedd74defdc9</td><td>1186</td><td>280</td><td>Mohamad Sawan</td></tr><tr><td>53f474d2dabfaedce5606176</td><td>2722</td><td>280</td><td>Nikola Kasabov</td></tr><tr><td>53f48045dabfae963d2592f0</td><td>15573</td><td>280</td><td>Wei-Ying Ma</td></tr><tr><td>54480c93dabfae87b7dcbb15</td><td>2905</td><td>279</td><td>Jong-Hwan Kim</td></tr><tr><td>53f42b5cdabfaec09f0f44cc</td><td>3775</td><td>279</td><td>John Lygeros</td></tr><tr><td>53f4ab53dabfaeb22f575b3c</td><td>4907</td><td>279</td><td>Timos Sellis</td></tr><tr><td>54333939dabfaeb54217d0a8</td><td>2971</td><td>279</td><td>Moeness Amin</td></tr><tr><td>53f4dc6cdabfaef7e977bc53</td><td>10703</td><td>279</td><td>Nancy Lynch</td></tr><tr><td>54301536dabfaeca69bc4dd8</td><td>2596</td><td>279</td><td>John Baras</td></tr><tr><td>5485b7cfdabfae8a11fb2b5d</td><td>3719</td><td>279</td><td>Lutz Bornmann</td></tr><tr><td>53f55b3edabfae4d0af8045b</td><td>1529</td><td>279</td><td>Qinghua Zheng</td></tr><tr><td>548c9d42dabfae8a11fb4c0b</td><td>5449</td><td>279</td><td>Stephen Brewster</td></tr><tr><td>53f46396dabfaedce55de2cf</td><td>6727</td><td>279</td><td>Shengyuan Xu</td></tr><tr><td>53f4366bdabfaee0d9b651d0</td><td>5515</td><td>279</td><td>Touradj Ebrahimi</td></tr><tr><td>542b61dbdabfae2b4e15d6e3</td><td>3203</td><td>279</td><td>Jianping Fan</td></tr><tr><td>53f49822dabfaeb6ca77b963</td><td>1949</td><td>279</td><td>Takahiro Hara</td></tr><tr><td>56314fe145cedb3399d7a43d</td><td>3808</td><td>279</td><td>Sonia Aïssa</td></tr><tr><td>53f4d3d6dabfaef205f81708</td><td>11022</td><td>279</td><td>Shaogang Gong</td></tr><tr><td>53f568bbdabfae6640f8045b</td><td>1278</td><td>279</td><td>Jongwon Kim</td></tr><tr><td>54873aa2dabfae8a11fb36eb</td><td>1588</td><td>278</td><td>Maode Ma</td></tr><tr><td>53f48c99dabfaea7cd1cf668</td><td>2467</td><td>278</td><td>Hsin-Hsi Chen</td></tr><tr><td>53f44a37dabfaee4dc7e0bee</td><td>1202</td><td>278</td><td>Junzhou Luo</td></tr><tr><td>542a1156dabfaec7081db563</td><td>1124</td><td>278</td><td>Yue Wang</td></tr><tr><td>53f79f6bdabfae938c6c81c5</td><td>5854</td><td>278</td><td>Cheng-Xiang Wang</td></tr><tr><td>53f43a0bdabfaec09f19e86e</td><td>3715</td><td>278</td><td>Iryna Gurevych</td></tr><tr><td>53f42a9ddabfaeb22f3da334</td><td>6480</td><td>278</td><td>Jaime Carbonell</td></tr><tr><td>54489754dabfae87b7e4a051</td><td>8932</td><td>278</td><td>Ming Lin</td></tr><tr><td>54323fcddabfaeb4ea4e7dd7</td><td>4051</td><td>277</td><td>Yao-Wen Chang</td></tr><tr><td>548954cddabfae9b40134982</td><td>4567</td><td>277</td><td>D. Hong</td></tr><tr><td>5429bf41dabfaec7081afc84</td><td>2544</td><td>277</td><td>L. Guo</td></tr><tr><td>543258e3dabfaeb4c6a7fa5f</td><td>3554</td><td>277</td><td>Kiyohiro SHIKANO</td></tr><tr><td>53f556bbdabfaea7cd1d6214</td><td>8083</td><td>277</td><td>Boualem Benatallah</td></tr><tr><td>53f7aa19dabfae92b40d3fbb</td><td>2046</td><td>277</td><td>Umapada Pal</td></tr><tr><td>53f7cdd4dabfae90ec11ee2d</td><td>3922</td><td>277</td><td>Sherali Zeadally</td></tr><tr><td>548dcdd0dabfaef989f0915a</td><td>3366</td><td>277</td><td>Kurt Rothermel</td></tr><tr><td>53f4a61adabfaee0d9c76017</td><td>6076</td><td>277</td><td>Diane Cook</td></tr><tr><td>548f3ccfdabfaef989f0986d</td><td>2719</td><td>277</td><td>Reihaneh Safavi-naini</td></tr><tr><td>5486383edabfae8a11fb3138</td><td>3907</td><td>276</td><td>Torsten Schaub</td></tr><tr><td>5432ba72dabfaeb542164bf0</td><td>2303</td><td>276</td><td>Dong Lee</td></tr><tr><td>56027b1f45cedb3395fb1141</td><td>4931</td><td>276</td><td>Enrico Motta</td></tr><tr><td>54055740dabfae44f0803fbb</td><td>601</td><td>276</td><td>Naohiro Ishii</td></tr><tr><td>53f59132dabfaede19f8045b</td><td>4193</td><td>276</td><td>Josep Domingo-Ferrer</td></tr><tr><td>548f7542dabfaef989f09931</td><td>7042</td><td>276</td><td>Alan Bovik</td></tr><tr><td>53f430afdabfaec22ba423e8</td><td>9108</td><td>276</td><td>Ravi Sandhu</td></tr><tr><td>53f31b07dabfae9a84434aa8</td><td>2034</td><td>275</td><td>Adriano Camps</td></tr><tr><td>53f46840dabfaefedbb90008</td><td>2033</td><td>275</td><td>Tatsuya Kawahara</td></tr><tr><td>548544d6dabfae9b401334dd</td><td>2399</td><td>275</td><td>Chunyan Miao</td></tr><tr><td>53f637dedabfae1da79bf23a</td><td>3232</td><td>275</td><td>Leendert Torre</td></tr><tr><td>54853941dabfae9b401334b2</td><td>7601</td><td>275</td><td>Robert Brayton</td></tr><tr><td>53f4615fdabfaee4dc839ac6</td><td>3180</td><td>275</td><td>Daniel Weiskopf</td></tr><tr><td>53f48bc5dabfaea7cd1cce1d</td><td>5591</td><td>274</td><td>Srinivasan Parthasarathy</td></tr><tr><td>548a2cd9dabfae9b40134f73</td><td>1319</td><td>274</td><td>Dieter Rautenbach</td></tr><tr><td>54874c92dabfae9b401344ea</td><td>1083</td><td>274</td><td>Keikichi Hirose</td></tr><tr><td>54302aacdabfaeca69bd0cf8</td><td>2320</td><td>274</td><td>B. Rajan</td></tr><tr><td>53f45110dabfaee2a1d5efb1</td><td>2534</td><td>274</td><td>Yi Xu</td></tr><tr><td>544073fddabfae805a6bfc64</td><td>2819</td><td>274</td><td>Markus Rupp</td></tr><tr><td>53f5629edabfae5d72f8045b</td><td>2917</td><td>273</td><td>Anton Nijholt</td></tr><tr><td>53f4925fdabfaeb22f571e91</td><td>2842</td><td>273</td><td>Yuval Elovici</td></tr><tr><td>542e08d6dabfae4b91c3dac5</td><td>1151</td><td>273</td><td>Xingwei Wang</td></tr><tr><td>54899090dabfae8a11fb4637</td><td>4895</td><td>273</td><td>Junwei Han</td></tr><tr><td>542ee8c1dabfae4a9e498caf</td><td>1711</td><td>273</td><td>Pingyi Fan</td></tr><tr><td>53f48525dabfaedf436905bf</td><td>25058</td><td>273</td><td>Sebastian Thrun</td></tr><tr><td>548790b6dabfaed7b5fa3106</td><td>2266</td><td>273</td><td>Hamido Fujita</td></tr><tr><td>5448d85ddabfae87b7e85303</td><td>2031</td><td>273</td><td>Dong-Ho Cho</td></tr><tr><td>53f4a440dabfaec65977b3ba</td><td>7517</td><td>273</td><td>Weiming Hu</td></tr><tr><td>53f564badabfae607af8045b</td><td>7057</td><td>273</td><td>Sören Auer</td></tr><tr><td>54299643dabfaec708197003</td><td>1926</td><td>273</td><td>Jianhua Lu</td></tr><tr><td>542a7b43dabfae646d568371</td><td>3937</td><td>273</td><td>Xiaofeng Liao</td></tr><tr><td>53f58f74dabfaedb8ef8045b</td><td>5851</td><td>273</td><td>Ming Zhou</td></tr><tr><td>54873960dabfae9b401343b9</td><td>861</td><td>272</td><td>Naoyuki Kubota</td></tr><tr><td>53f4546bdabfaee43ecb5633</td><td>5842</td><td>272</td><td>Sartaj Sahni</td></tr><tr><td>53f46657dabfaedf43645ae5</td><td>3392</td><td>272</td><td>Jean Vanderdonckt</td></tr><tr><td>5485520cdabfae9b401335d9</td><td>1186</td><td>272</td><td>Toyoaki Nishida</td></tr><tr><td>542e06e7dabfae4b91c3d126</td><td>1483</td><td>272</td><td>Guoren Wang</td></tr><tr><td>53f495c3dabfaeb4c277b8bc</td><td>3459</td><td>272</td><td>Bo Zhang</td></tr><tr><td>53f4550bdabfaee43ecb7bd0</td><td>2228</td><td>272</td><td>Emilio Corchado</td></tr><tr><td>54407e8edabfae805a6c5cac</td><td>1198</td><td>272</td><td>Wang Zhiying</td></tr><tr><td>548d75eddabfaed7b5fa48b6</td><td>5514</td><td>272</td><td>Jerry Prince</td></tr><tr><td>53f48dbfdabfaea7cd1d4389</td><td>7949</td><td>272</td><td>Hanan Samet</td></tr><tr><td>5448a664dabfae87b7e5994c</td><td>6346</td><td>271</td><td>Roy Campbell</td></tr><tr><td>560566a545cedb339660b936</td><td>11377</td><td>271</td><td>Mung Chiang</td></tr><tr><td>53f48bcddabfaea7cd1ccfc4</td><td>4537</td><td>271</td><td>Carlo Zaniolo</td></tr><tr><td>56319c5045cedb3399e9743b</td><td>2881</td><td>271</td><td>Yang Xiang</td></tr><tr><td>544114eadabfae805a728701</td><td>2976</td><td>271</td><td>Eduard Jorswieck</td></tr><tr><td>53f4ad79dabfaeb22f575e0a</td><td>4628</td><td>271</td><td>Y. Sun</td></tr><tr><td>5448a3dfdabfae87b7e56343</td><td>1865</td><td>271</td><td>Alagan Anpalagan</td></tr><tr><td>53f429a5dabfaeb22f3d5a9d</td><td>4009</td><td>271</td><td>Kwang-Cheng Chen</td></tr><tr><td>5448b9eddabfae87b7e6dad2</td><td>590</td><td>270</td><td>Xin Wang</td></tr><tr><td>5489c5b3dabfae9b40134db8</td><td>3808</td><td>270</td><td>Iadh Ounis</td></tr><tr><td>53f43882dabfaedd74db4294</td><td>2010</td><td>270</td><td>Mehdi Tahoori</td></tr><tr><td>53f48cbedabfaea7cd1cffec</td><td>2457</td><td>270</td><td>David Taniar</td></tr><tr><td>53f42bf1dabfaeb22f3f23ea</td><td>2525</td><td>270</td><td>Giancarlo Fortino</td></tr><tr><td>54344f4edabfaebba5856790</td><td>2316</td><td>270</td><td>Danilo Mandic</td></tr><tr><td>53f4928adabfaeb15977b5d7</td><td>2301</td><td>270</td><td>Shu-Ching Chen</td></tr><tr><td>53f48b9adabfaee4dc8b2abf</td><td>6020</td><td>270</td><td>Heng Shen</td></tr><tr><td>54854d4edabfae8a11fb2816</td><td>2849</td><td>270</td><td>Joemon Jose</td></tr><tr><td>53f47eb6dabfae9126cc40d8</td><td>17093</td><td>269</td><td>Vipin Kumar</td></tr><tr><td>53f4b0badabfaecfaf77b45f</td><td>3793</td><td>269</td><td>Alfons Kemper</td></tr><tr><td>5440b88ddabfae7f9b34b992</td><td>318</td><td>269</td><td>Yu Zhang</td></tr><tr><td>53f44570dabfaefedbb10f71</td><td>2176</td><td>269</td><td>Haiying Shen</td></tr><tr><td>53f7c113dabfae938c6d7f00</td><td>3042</td><td>269</td><td>King Ngan</td></tr><tr><td>548fa5a9dabfaef989f09aa6</td><td>14251</td><td>269</td><td>Philip Torr</td></tr><tr><td>53f47c6bdabfaeb22f56e8e0</td><td>2741</td><td>269</td><td>Wenjun Zhang</td></tr><tr><td>53f592e8dabfaee0d9f8045b</td><td>2382</td><td>269</td><td>Naofal Al-Dhahir</td></tr><tr><td>543124fbdabfae8f291310ae</td><td>1402</td><td>269</td><td>Abdul Sattar</td></tr><tr><td>53f4cf51dabfaeedd977cd3c</td><td>4550</td><td>269</td><td>Panos Pardalos</td></tr><tr><td>53f43742dabfaee2a1cee09c</td><td>3458</td><td>268</td><td>Tanja Schultz</td></tr><tr><td>54410228dabfae805a71c672</td><td>968</td><td>268</td><td>Burkhard Stiller</td></tr><tr><td>54484568dabfae87b7dfaece</td><td>5386</td><td>268</td><td>Osvaldo Simeone</td></tr><tr><td>53f4db3cdabfaef7e077b457</td><td>22859</td><td>268</td><td>Randy Katz</td></tr><tr><td>56cb18b9c35f4f3c6565e25a</td><td>2801</td><td>268</td><td>Min Tan</td></tr><tr><td>53f356b0dabfae4b3495ec3a</td><td>2444</td><td>268</td><td>F.C.M. Lau</td></tr><tr><td>548c8bbcdabfaed7b5fa4413</td><td>2317</td><td>268</td><td>Kyung Kwak</td></tr><tr><td>53f492a9dabfaeb15b77b5f5</td><td>34041</td><td>268</td><td>Christopher Manning</td></tr><tr><td>54409f33dabfae7d84b9127f</td><td>1958</td><td>268</td><td>Hongfang Liu</td></tr><tr><td>53f48495dabfaeb22f570b87</td><td>14879</td><td>267</td><td>Guillermo Sapiro</td></tr><tr><td>54482271dabfae87b7dde478</td><td>4862</td><td>267</td><td>Shipeng Li</td></tr><tr><td>548ca214dabfaed7b5fa453b</td><td>3923</td><td>267</td><td>Robert Kauffman</td></tr><tr><td>53f7ed60dabfae938c6ecad8</td><td>8815</td><td>267</td><td>Somesh Jha</td></tr><tr><td>562b857945cedb3398a8c714</td><td>580</td><td>267</td><td>Fan Yang</td></tr><tr><td>53f644c0dabfaec4773fa719</td><td>1759</td><td>267</td><td>Franz Wotawa</td></tr><tr><td>53f4808ddabfae963d25abed</td><td>16707</td><td>267</td><td>Christos Papadimitriou</td></tr><tr><td>53f4683bdabfaeb22f545078</td><td>2614</td><td>267</td><td>Wagner Jr.</td></tr><tr><td>53f455a7dabfaee0d9bf1113</td><td>974</td><td>267</td><td>Tughrul Arslan</td></tr><tr><td>53f48bbadabfaea7cd1ccb54</td><td>6002</td><td>267</td><td>Luc Raedt</td></tr><tr><td>54084a08dabfae92b4239c0e</td><td>6048</td><td>267</td><td>A. Raghunathan</td></tr><tr><td>54488419dabfae87b7e38d20</td><td>9866</td><td>267</td><td>Daniel Cohen-Or</td></tr><tr><td>548805ccdabfaed7b5fa3418</td><td>2073</td><td>266</td><td>Laurence Yang</td></tr><tr><td>53f48665dabfaeb1a7cd1883</td><td>15431</td><td>266</td><td>Jürgen Schmidhuber</td></tr><tr><td>5406eddfdabfae92b4229fee</td><td>2833</td><td>266</td><td>Eduard Ayguadé</td></tr><tr><td>54872548dabfae9b40134291</td><td>13694</td><td>266</td><td>M Vetterli</td></tr><tr><td>53f45e7edabfaee43ecd9108</td><td>2006</td><td>266</td><td>Mohamed Cheriet</td></tr><tr><td>5484e46edabfae9b40133209</td><td>6790</td><td>266</td><td>Sennur Ulukus</td></tr><tr><td>53f6428ddabfaed5100f3cc2</td><td>3124</td><td>266</td><td>Weili Wu</td></tr><tr><td>53f43396dabfaeecd694319b</td><td>1439</td><td>265</td><td>Ruimin Hu</td></tr><tr><td>53f49a73dabfaebbd877b767</td><td>2599</td><td>265</td><td>Gagan Agrawal</td></tr><tr><td>53f436eddabfaee02acceb2e</td><td>1119</td><td>265</td><td>Hideo Saito</td></tr><tr><td>54408fd5dabfae7d84b82089</td><td>1573</td><td>265</td><td>B. Oommen</td></tr><tr><td>53f4691adabfaee4dc858fca</td><td>5943</td><td>265</td><td>Junsong Yuan</td></tr><tr><td>543299d1dabfaeb4c6a91f2e</td><td>2084</td><td>265</td><td>Juan-Carlos Cano</td></tr><tr><td>5631a58f45cedb3399eb74f5</td><td>2258</td><td>265</td><td>Jinho Choi</td></tr><tr><td>53f45e08dabfaee43ecd7805</td><td>3391</td><td>265</td><td>Tomoki Toda</td></tr><tr><td>54087b98dabfae450f41f3f8</td><td>3138</td><td>264</td><td>Q. Wu</td></tr><tr><td>53f42e0cdabfaec22ba20731</td><td>2332</td><td>264</td><td>Samarjit Chakraborty</td></tr><tr><td>542ab7c2dabfae646d5822e9</td><td>2567</td><td>264</td><td>Xianbin Wang</td></tr><tr><td>53f466e1dabfaedd74e6ba87</td><td>2984</td><td>263</td><td>Marcos Gonçalves</td></tr><tr><td>53f7f8c8dabfae9060aff5df</td><td>4856</td><td>263</td><td>K. Goldberg</td></tr><tr><td>54862f8ddabfae8a11fb3097</td><td>2111</td><td>263</td><td>Fabio Crestani</td></tr><tr><td>542c4825dabfae2b4e1fcd5a</td><td>3617</td><td>263</td><td>Jianmin Wang</td></tr><tr><td>53f49a86dabfaebbd477b7b9</td><td>4109</td><td>263</td><td>Wei Zhao</td></tr><tr><td>53f43211dabfaeb2ac02596f</td><td>10249</td><td>263</td><td>S. Muthukrishnan</td></tr><tr><td>5448eb4edabfaea4cf3c09b6</td><td>2158</td><td>263</td><td>Tianyou Chai</td></tr><tr><td>540944a2dabfae450f471291</td><td>1143</td><td>262</td><td>Hajime Asama</td></tr><tr><td>53f556d9dabfae963d25e9a9</td><td>21439</td><td>262</td><td>Edmund Clarke</td></tr><tr><td>542aa81cdabfae646d57cdd8</td><td>2079</td><td>262</td><td>Jianwei Niu</td></tr><tr><td>56cb1894c35f4f3c65652497</td><td>5447</td><td>262</td><td>Wangmeng Zuo</td></tr><tr><td>53f48c0fdabfaea7cd1cdf72</td><td>16974</td><td>262</td><td>J. Ullman</td></tr><tr><td>53f488b5dabfaea3a723e72d</td><td>2242</td><td>262</td><td>Patrick Gallinari</td></tr><tr><td>53f55e18dabfae5201f8045d</td><td>3733</td><td>262</td><td>Yuji Matsumoto</td></tr><tr><td>53f4806cdabfae963d25a184</td><td>38107</td><td>262</td><td>Ion Stoica</td></tr><tr><td>53f56335dabfae5e4af8045b</td><td>5590</td><td>262</td><td>M. Palaniswami</td></tr><tr><td>5408a9dddabfae450f43462b</td><td>3272</td><td>262</td><td>Shaojie Tang</td></tr><tr><td>53f4572ddabfaee4dc814f96</td><td>2130</td><td>261</td><td>Shin'ichi Satoh</td></tr><tr><td>54488fa4dabfae87b7e43870</td><td>1556</td><td>261</td><td>Andrew Adamatzky</td></tr><tr><td>53f48ccadabfaea7cd1d02a8</td><td>10247</td><td>261</td><td>Dan Suciu</td></tr><tr><td>53f7e7fddabfae9060af6928</td><td>1296</td><td>261</td><td>Kee-Young Yoo</td></tr><tr><td>53f43a6bdabfaec09f1a3210</td><td>4738</td><td>261</td><td>João Gama</td></tr><tr><td>53f4530fdabfaeecd69de9ca</td><td>2908</td><td>261</td><td>Sven Behnke</td></tr><tr><td>548c7eb4dabfaed7b5fa43c0</td><td>1526</td><td>261</td><td>Volker Gruhn</td></tr><tr><td>53f48060dabfae963d259c2b</td><td>2139</td><td>260</td><td>Jian Yang</td></tr><tr><td>542a571ddabfae646d552c77</td><td>917</td><td>260</td><td>Xiaofeng Tao</td></tr><tr><td>5448d829dabfae87b7e850cf</td><td>5295</td><td>260</td><td>Andrew Whinston</td></tr><tr><td>548ec09adabfaef989f09601</td><td>1588</td><td>260</td><td>Markku Juntti</td></tr><tr><td>53f5670ddabfae63c0f8045b</td><td>2174</td><td>260</td><td>Young-Koo Lee</td></tr><tr><td>5409729bdabfae450f4869cd</td><td>5431</td><td>260</td><td>Jianwei Huang</td></tr><tr><td>53f471a6dabfaeee22a7d3b8</td><td>9952</td><td>260</td><td>Max Viergever</td></tr><tr><td>53f49a17dabfaebbd777b7fc</td><td>2885</td><td>260</td><td>Barbara Hammer</td></tr><tr><td>53f5574edabfae3106f8045b</td><td>2602</td><td>260</td><td>Helge Ritter</td></tr><tr><td>54899c7ddabfae9b40134bca</td><td>1426</td><td>260</td><td>Sanguthevar Rajasekaran</td></tr><tr><td>53f4a8b9dabfaeb22f57487a</td><td>5318</td><td>259</td><td>Jun Wang</td></tr><tr><td>53f43417dabfaeb1a7bddd0d</td><td>2027</td><td>259</td><td>Nizar Bouguila</td></tr><tr><td>53f44a16dabfaee43ec8c738</td><td>1593</td><td>259</td><td>Keqiu Li</td></tr><tr><td>5448035edabfae87b7dc2f49</td><td>2463</td><td>259</td><td>Volker Wulf</td></tr><tr><td>54898a6bdabfaed7b5fa3cda</td><td>4358</td><td>259</td><td>Petros Maragos</td></tr><tr><td>53f46ba6dabfaeee22a67584</td><td>955</td><td>259</td><td>Miguel Vega-Rodríguez</td></tr><tr><td>53f4802ddabfaee43ed5592b</td><td>1944</td><td>259</td><td>K. Teo</td></tr><tr><td>53f4cf8edabfaeeee9f80bb3</td><td>843</td><td>258</td><td>Yonghong Yan</td></tr><tr><td>54858852dabfae8a11fb2acb</td><td>2743</td><td>258</td><td>John-Jules Meyer</td></tr><tr><td>53f42c68dabfaeb1a7b7c72b</td><td>1985</td><td>258</td><td>Frank Allgöwer</td></tr><tr><td>542a4c86dabfae646d54adf5</td><td>2537</td><td>258</td><td>Yi Pan</td></tr><tr><td>5405c7d3dabfae91d300c0c2</td><td>1346</td><td>258</td><td>M. Swamy</td></tr><tr><td>53f49805dabfaee0d9c74ba2</td><td>3014</td><td>258</td><td>Salem Benferhat</td></tr><tr><td>53f44b1ddabfaee2a1d47d4e</td><td>4303</td><td>258</td><td>Fedor Fomin</td></tr><tr><td>5405dcd6dabfae8faa607330</td><td>10526</td><td>258</td><td>Tian He</td></tr><tr><td>543274a7dabfaeb5421556ba</td><td>2121</td><td>258</td><td>Pietro Manzoni</td></tr><tr><td>5433bb77dabfaeb4c6aca13a</td><td>1056</td><td>258</td><td>M. Ahmad</td></tr><tr><td>53f48e73dabfaedd74eb3aba</td><td>2142</td><td>257</td><td>C. Jawahar</td></tr><tr><td>53f63f10dabfaea71a9bf121</td><td>1178</td><td>257</td><td>Kenichi Okada</td></tr></tbody></table>Showing the first 1000 rows.</div>"
      ]
     },
     "metadata": {
      "application/vnd.databricks.v1+output": {
       "addedWidgets": {},
       "aggData": [],
       "aggError": "",
       "aggOverflow": false,
       "aggSchema": [],
       "aggSeriesLimitReached": false,
       "aggType": "",
       "arguments": {},
       "columnCustomDisplayInfos": {},
       "data": [
        [
         "54055927dabfae8faa5c5dfa",
         31436,
         1388,
         "H. Poor"
        ],
        [
         "53f445bcdabfaee4dc7ce5dc",
         16330,
         1211,
         "Mohamed-Slim Alouini"
        ],
        [
         "5489ba6bdabfae8a11fb46ec",
         13268,
         1165,
         "Lajos Hanzo"
        ],
        [
         "5429fd93dabfae61d494cf5d",
         14794,
         1133,
         "Wen Gao"
        ],
        [
         "5487fa09dabfaed7b5fa33e9",
         13644,
         1087,
         "Victor Leung"
        ],
        [
         "53f47977dabfae8a6845b643",
         32389,
         1051,
         "Philip Yu"
        ],
        [
         "542c458bdabfae2b4e1fb0c8",
         7397,
         1044,
         "Hai Jin"
        ],
        [
         "53f4e24cdabfaefc1b77b3c4",
         4452,
         898,
         "Leonard Barolli"
        ],
        [
         "5484e546dabfae9b4013320f",
         8675,
         891,
         "Chin-Chen Chang"
        ],
        [
         "53f48bd2dabfaea7cd1cd0ec",
         10702,
         862,
         "Witold Pedrycz"
        ],
        [
         "53f42f36dabfaedce54dcd0c",
         48307,
         844,
         "Jiawei Han"
        ],
        [
         "53f48abedabfaea6fb77b490",
         36181,
         842,
         "Thomas Huang"
        ],
        [
         "53f48beadabfaea7cd1cd616",
         13892,
         834,
         "Elisa Bertino"
        ],
        [
         "53f45044dabfaedf435f34cb",
         14815,
         833,
         "Luca Benini"
        ],
        [
         "53f48c1fdabfaea7cd1ce3f8",
         24177,
         831,
         "Dacheng Tao"
        ],
        [
         "5405ad36dabfae92b41f2902",
         16284,
         826,
         "Zhu Han"
        ],
        [
         "53f6615fdabfae8dcd35b276",
         7101,
         785,
         "Licheng Jiao"
        ],
        [
         "54054314dabfae8faa5ba395",
         4127,
         782,
         "Makoto Takizawa"
        ],
        [
         "53f7ffb0dabfae90ec136659",
         8404,
         773,
         "Nassir Navab"
        ],
        [
         "54876d00dabfae8a11fb39ca",
         49931,
         764,
         "Luc Gool"
        ],
        [
         "53f483a0dabfaeb1a7cd15ce",
         9108,
         748,
         "Ajith Abraham"
        ],
        [
         "54880e01dabfae8a11fb401c",
         5808,
         735,
         "Azzedine Boukerche"
        ],
        [
         "53f49500dabfaeb4c277b6a3",
         9395,
         735,
         "Dinggang Shen"
        ],
        [
         "53f48ce5dabfaea7cd1d0893",
         18432,
         705,
         "Xuelong Li"
        ],
        [
         "54898a15dabfaed7b5fa3cce",
         19136,
         703,
         "Hermann Ney"
        ],
        [
         "548e1e40dabfaef989f091ef",
         14414,
         700,
         "Jack Dongarra"
        ],
        [
         "5405eabbdabfae91d301bef3",
         10211,
         696,
         "Sajal Das"
        ],
        [
         "548c6584dabfae9b401351ac",
         10033,
         694,
         "Kaushik Roy"
        ],
        [
         "544892fadabfae87b7e46a07",
         16777,
         689,
         "Kang Shin"
        ],
        [
         "54057245dabfae450f3af533",
         14238,
         688,
         "K. Liu"
        ],
        [
         "5448ebcbdabfae87b7e953ca",
         16239,
         684,
         "Hans-peter Seidel"
        ],
        [
         "53f32320dabfae9a84461be7",
         29075,
         680,
         "Wil Aalst"
        ],
        [
         "53f4997cdabfaebbd777b5a6",
         18456,
         670,
         "R. Chellappa"
        ],
        [
         "54885786dabfae8a11fb423b",
         6147,
         658,
         "Jiannong Cao"
        ],
        [
         "53f4986fdabfaee0d9c74c66",
         24853,
         656,
         "Lei Zhang"
        ],
        [
         "53f48098dabfae963d25af6e",
         24055,
         642,
         "Shuicheng Yan"
        ],
        [
         "548931e4dabfae9b40134844",
         2797,
         641,
         "Christoph Meinel"
        ],
        [
         "5603d0aa45cedb339625b3b7",
         10181,
         637,
         "Krishnendu Chakrabarty"
        ],
        [
         "53f49490dabfaeb4c477b3fc",
         11254,
         636,
         "Qi Tian"
        ],
        [
         "53f48a9adabfaee4dc8b2505",
         12634,
         629,
         "Robert Schober"
        ],
        [
         "5489f0acdabfaed7b5fa3e39",
         7513,
         627,
         "Mohsen Guizani"
        ],
        [
         "53f43307dabfaee0d9b4335d",
         8948,
         620,
         "Mahmut Kandemir"
        ],
        [
         "53f7cb7bdabfae9467db5fd9",
         9033,
         619,
         "C. Kuo"
        ],
        [
         "5434eb8edabfaebba587e573",
         24131,
         619,
         "Robert Heath"
        ],
        [
         "548d4a5bdabfae8a11fb4fa7",
         6295,
         616,
         "Albert Zomaya"
        ],
        [
         "53f642b0dabfae14ff9bf179",
         5877,
         615,
         "Haizhou Li"
        ],
        [
         "53f58f25dabfaedb01f8047b",
         8666,
         610,
         "Xiaodong Wang"
        ],
        [
         "53f7c18edabfae9467db1f27",
         12716,
         610,
         "Jinde Cao"
        ],
        [
         "53f48046dabfae963d259326",
         47740,
         607,
         "A. Jain"
        ],
        [
         "5408952bdabfae8faa64e6b2",
         25461,
         604,
         "Don Towsley"
        ],
        [
         "53f4b2aedabfaedd74eb9e40",
         12375,
         600,
         "Josef Kittler"
        ],
        [
         "53f396c8dabfae4b34a77565",
         2813,
         598,
         "Helmut Krcmar"
        ],
        [
         "53f58ea1dabfaed860f8045b",
         7564,
         598,
         "Viktor Prasanna"
        ],
        [
         "54867028dabfae8a11fb3277",
         8648,
         596,
         "Massoud Pedram"
        ],
        [
         "5444f64edabfae87074eb9c0",
         14927,
         590,
         "Guanrong Chen"
        ],
        [
         "5485d7bedabfaed7b5fa256f",
         28500,
         589,
         "Rajkumar Buyya"
        ],
        [
         "540974badabfae450f487def",
         9134,
         589,
         "Michele Zorzi"
        ],
        [
         "53f4352bdabfaeb1a7be9669",
         7838,
         587,
         "Mengchu Zhou"
        ],
        [
         "53f4718edabfaeb22f559444",
         33944,
         584,
         "Christos Faloutsos"
        ],
        [
         "53f48bdadabfaea7cd1cd2ff",
         19380,
         582,
         "Francisco Herrera"
        ],
        [
         "53f42d5cdabfaee0d9afc71b",
         11364,
         579,
         "Schahram Dustdar"
        ],
        [
         "53f3704cdabfae4b349beb10",
         3925,
         578,
         "Fatos Xhafa"
        ],
        [
         "53f566aedabfae6329f80468",
         11476,
         571,
         "Henri Prade"
        ],
        [
         "54845035dabfaed7b5fa192e",
         8756,
         568,
         "Shrikanth Narayanan"
        ],
        [
         "5440c927dabfae805a6f6448",
         5446,
         567,
         "Edwin Hancock"
        ],
        [
         "54891d8fdabfae9b401347ec",
         14340,
         565,
         "Khaled Letaief"
        ],
        [
         "54485004dabfae87b7e06792",
         4050,
         565,
         "Rolf Drechsler"
        ],
        [
         "53f49f46dabfaec18977b75b",
         5096,
         565,
         "Mario Piattini"
        ],
        [
         "544849fbdabfae87b7dff8f3",
         4643,
         563,
         "Joel Rodrigues"
        ],
        [
         "54335287dabfaeb54218582b",
         12451,
         560,
         "Xuemin Shen"
        ],
        [
         "560459d145cedb3396397018",
         16451,
         559,
         "Mario Gerla"
        ],
        [
         "53f44e2adabfaedd74e0d89a",
         3722,
         558,
         "Ralf Steinmetz"
        ],
        [
         "548528fedabfae8a11fb2694",
         11086,
         558,
         "Björn Schuller"
        ],
        [
         "54893096dabfaed7b5fa39b5",
         12285,
         553,
         "Roland Siegwart"
        ],
        [
         "54593ab6dabfaeb0fe35163c",
         3865,
         547,
         "Wei Wang"
        ],
        [
         "54488c8edabfae87b7e40f13",
         13620,
         540,
         "Athanasios Vasilakos"
        ],
        [
         "5405f4fddabfae91d30205de",
         9151,
         539,
         "Björn Ottersten"
        ],
        [
         "548d8a37dabfaed7b5fa4915",
         22989,
         536,
         "Nicholas Jennings"
        ],
        [
         "53f4481edabfaee1c0af37ac",
         13911,
         532,
         "Gerhard Weikum"
        ],
        [
         "53f5638adabfae5eb1f80479",
         14158,
         528,
         "Tieniu Tan"
        ],
        [
         "548f605ddabfaef989f098e9",
         4426,
         526,
         "Mengjie Zhang"
        ],
        [
         "53f4cea2dabfaee0d9c778f2",
         7306,
         523,
         "Maarten Rijke"
        ],
        [
         "5410d096dabfae44f08e3fa7",
         2816,
         520,
         "Jianxin Wang"
        ],
        [
         "5408b99ddabfae450f43aa6c",
         3514,
         514,
         "Xiaohu You"
        ],
        [
         "5484c477dabfae8a11fb230e",
         6326,
         513,
         "Willy Susilo"
        ],
        [
         "5440bcb8dabfae805a6ee350",
         5271,
         510,
         "Mihaela Schaar"
        ],
        [
         "54059d35dabfae8faa5e97f3",
         3645,
         506,
         "David Feng"
        ],
        [
         "53f49c81dabfaee1c0badc66",
         19130,
         506,
         "Larry Davis"
        ],
        [
         "542dfe70dabfae4b91c3aac8",
         7472,
         505,
         "Nanning Zheng"
        ],
        [
         "54053fb4dabfae44f07fe680",
         5342,
         502,
         "Gerhard Fettweis"
        ],
        [
         "548dd91cdabfaef989f09183",
         1709,
         501,
         "Nadeem Javaid"
        ],
        [
         "53f4cfeedabfaeedd277d629",
         11082,
         501,
         "Gang Feng"
        ],
        [
         "5440978edabfae805a6d8883",
         3672,
         498,
         "Sungyoung Lee"
        ],
        [
         "5440c393dabfae805a6f34a5",
         12850,
         497,
         "Vijay Kumar"
        ],
        [
         "53f4ba75dabfaed83977b7db",
         50098,
         495,
         "Y Bengio"
        ],
        [
         "54086445dabfae450f414f93",
         5338,
         495,
         "Shi Jin"
        ],
        [
         "53f4ae26dabfaee0d9c771a0",
         12334,
         495,
         "J. Mylopoulos"
        ],
        [
         "5405ba7ddabfae91d3007098",
         6955,
         493,
         "Ioannis Pitas"
        ],
        [
         "5434bc64dabfaebba585dd09",
         11844,
         493,
         "Mérouane Debbah"
        ],
        [
         "5430385edabfaeca69bd82d5",
         11170,
         492,
         "Daniel Rueckert"
        ],
        [
         "548565e0dabfae9b401336c4",
         4684,
         492,
         "John Hansen"
        ],
        [
         "53f4a45fdabfaeb22f573dc0",
         9313,
         490,
         "Manuela Veloso"
        ],
        [
         "543501afdabfaebba588d847",
         3611,
         490,
         "Filip Turck"
        ],
        [
         "54084ac2dabfae450f408e17",
         2994,
         490,
         "Adel. Alimi"
        ],
        [
         "53f45377dabfaeecd69e02c6",
         4328,
         490,
         "Francky Catthoor"
        ],
        [
         "53f4975bdabfaeb6ce77b479",
         11843,
         489,
         "Tat-Seng Chua"
        ],
        [
         "54482434dabfae87b7de00db",
         6211,
         489,
         "Sudhakar Reddy"
        ],
        [
         "54326b83dabfaeb4c6a83ce2",
         6696,
         489,
         "Eitan Altman"
        ],
        [
         "54351da0dabfaebba58a2c2b",
         11091,
         488,
         "David Blaauw"
        ],
        [
         "54850e1ddabfaed7b5fa1ecd",
         4340,
         487,
         "Moncef Gabbouj"
        ],
        [
         "53f556cddabfaea7cd1d8d58",
         1460,
         486,
         "Vladik Kreinovich"
        ],
        [
         "5485fd75dabfae8a11fb2e5a",
         7682,
         485,
         "Lihua Xie"
        ],
        [
         "548f4f65dabfaef989f098b6",
         5340,
         485,
         "Svetha Venkatesh"
        ],
        [
         "562d18c445cedb3398d50199",
         4797,
         484,
         "Kim-Kwang Choo"
        ],
        [
         "53f48c95dabfaea7cd1cf585",
         12702,
         480,
         "Michael Lyu"
        ],
        [
         "54085696dabfae8faa641d2f",
         2401,
         480,
         "Choong Hong"
        ],
        [
         "53f58a59dabfaecaa8f8045b",
         10837,
         479,
         "Ronald Yager"
        ],
        [
         "53f48041dabfae963d25910a",
         20602,
         479,
         "Qiang Yang"
        ],
        [
         "53f4b7d7dabfaed4ae77b475",
         11677,
         478,
         "Dinesh Manocha"
        ],
        [
         "53f43820dabfaee4dc792b2d",
         8045,
         477,
         "Hsiao-Hwa Chen"
        ],
        [
         "548a0c6ddabfae9b40134ec5",
         11361,
         473,
         "Noga Alon"
        ],
        [
         "53f556badabfaea7cd1d5eaf",
         11214,
         466,
         "Didier Dubois"
        ],
        [
         "53f48c63dabfaea7cd1ce81e",
         5269,
         466,
         "Ming Li"
        ],
        [
         "548764f5dabfae8a11fb38c5",
         2341,
         464,
         "Saeid Nahavandi"
        ],
        [
         "5622381345cedb339839db87",
         13172,
         463,
         "Yunhao Liu"
        ],
        [
         "5440ef6bdabfae805a70a9e7",
         4200,
         462,
         "Wayne Luk"
        ],
        [
         "542a0bb5dabfaec7081d9427",
         4266,
         462,
         "Guihai Chen"
        ],
        [
         "53f48850dabfaee4dc8b2045",
         28488,
         461,
         "I. Foster"
        ],
        [
         "54872375dabfae9b40134250",
         6558,
         461,
         "Bart Preneel"
        ],
        [
         "540698a2dabfae8faa612c32",
         19745,
         460,
         "Wolfram Burgard"
        ],
        [
         "542a4ae1dabfae61d496511f",
         10026,
         459,
         "Xiang-Yang Li"
        ],
        [
         "5406dafddabfae44f086376d",
         11249,
         458,
         "Giovanni Micheli"
        ],
        [
         "53f7ae9fdabfae938c6cef55",
         5682,
         456,
         "Hanqing Lu"
        ],
        [
         "53f4977bdabfaee1c0bad7f1",
         12318,
         455,
         "C. Giles"
        ],
        [
         "548c9046dabfaed7b5fa4459",
         4336,
         455,
         "Irith Pomeranz"
        ],
        [
         "53f4b415dabfaed31c77b3ba",
         13669,
         454,
         "Moshe Vardi"
        ],
        [
         "5440b371dabfae805a6e76fa",
         5795,
         454,
         "Thomas Ertl"
        ],
        [
         "548805aadabfaed7b5fa3414",
         3606,
         453,
         "Tho Le-Ngoc"
        ],
        [
         "5440de94dabfae7f9b3583b6",
         2179,
         452,
         "Wei Chen"
        ],
        [
         "54899ea3dabfaed7b5fa3d3e",
         11359,
         452,
         "Dusit Niyato"
        ],
        [
         "560c39fa45cedb33974dd3bd",
         2252,
         451,
         "Toshio Fukuda"
        ],
        [
         "548700a7dabfae8a11fb351c",
         11320,
         451,
         "Dimitris Metaxas"
        ],
        [
         "542bddf3dabfae2b4e1ad28d",
         15701,
         450,
         "H. Liu"
        ],
        [
         "5408b8dedabfae92b4252b42",
         6995,
         450,
         "Xiang-Gen Xia"
        ],
        [
         "5632041345cedb3399f940fa",
         1993,
         449,
         "Mohammad Obaidat"
        ],
        [
         "53f49da0dabfaebfa777b6e1",
         18189,
         449,
         "Shin-Fu Chang"
        ],
        [
         "53f48bbfdabfaea7cd1ccc83",
         4061,
         449,
         "Tzung-Pei Hong"
        ],
        [
         "53f4c886dabfaee57c77d578",
         2547,
         447,
         "Manfred Tscheligi"
        ],
        [
         "5485f111dabfaed7b5fa2661",
         2718,
         447,
         "Rik Walle"
        ],
        [
         "53f7cc55dabfae8faa4b5e1f",
         4510,
         447,
         "Michel Raynal"
        ],
        [
         "54892d0ddabfaed7b5fa395a",
         3511,
         447,
         "Wouter Joosen"
        ],
        [
         "53f43578dabfaee2a1cde8c6",
         10165,
         447,
         "Daniela Rus"
        ],
        [
         "53f48d58dabfaea7cd1d2326",
         4133,
         446,
         "Jie Chen"
        ],
        [
         "53f45eb7dabfaedd74e4c0ee",
         3165,
         445,
         "Rahim Tafazolli"
        ],
        [
         "5409392edabfae450f46c3b6",
         2697,
         445,
         "tharam dillon"
        ],
        [
         "53f46332dabfaee2a1da21ac",
         6593,
         445,
         "Xinbo Gao"
        ],
        [
         "53f7f8bcdabfae90ec133088",
         17094,
         444,
         "Zeshui Xu"
        ],
        [
         "53f56636dabfae6293f8045b",
         3889,
         444,
         "Piet Demeester"
        ],
        [
         "54480e72dabfae87b7dcdac2",
         14634,
         444,
         "Georgios Giannakis"
        ],
        [
         "53f42decdabfaedf4351dd08",
         6534,
         442,
         "F. Yu"
        ],
        [
         "56cb18bcc35f4f3c6565f38c",
         8149,
         441,
         "Liangpei Zhang"
        ],
        [
         "53f43a43dabfaee02aceed60",
         8801,
         441,
         "Jie Wu"
        ],
        [
         "53f48c7cdabfaea7cd1cef47",
         8087,
         440,
         "Tao Li"
        ],
        [
         "548a45a3dabfaed7b5fa404c",
         2180,
         440,
         "Aboul Hassanien"
        ],
        [
         "53f44cb0dabfaedf435e5ce1",
         13292,
         440,
         "Amit Sheth"
        ],
        [
         "53f7c27adabfae938c6d870d",
         4837,
         440,
         "Victor Li"
        ],
        [
         "5447ead6dabfae87b7dad943",
         20522,
         439,
         "Andrea Gold"
        ],
        [
         "5406b07bdabfae92b421f517",
         7514,
         439,
         "Dennis Sylvester"
        ],
        [
         "540869a9dabfae8faa644b15",
         4797,
         439,
         "D. Caldwell"
        ],
        [
         "53f4428fdabfaee1c0adf3ed",
         9713,
         436,
         "Zhiguo Ding"
        ],
        [
         "53f45539dabfaeecd69e6d49",
         7970,
         435,
         "Milind Tambe"
        ],
        [
         "53f64ff7dabfae0633f17189",
         11022,
         435,
         "Micha Sharir"
        ],
        [
         "53f42d28dabfaeb2acfe712a",
         8533,
         435,
         "Peter Stone"
        ],
        [
         "53f46ca8dabfaec09f2584aa",
         54748,
         434,
         "Andrew Zisserman"
        ],
        [
         "53f590a2dabfaedd59f8045b",
         3540,
         433,
         "Jianzhong Li"
        ],
        [
         "53f48f29dabfaeae6877b42c",
         6113,
         432,
         "Alok Choudhary"
        ],
        [
         "54883d00dabfaed7b5fa36c0",
         4106,
         430,
         "Yuanyan Tang"
        ],
        [
         "5406a2aadabfae8faa615ee7",
         3591,
         430,
         "Guang-Zhong Yang"
        ],
        [
         "53f48bc7dabfaea7cd1cce70",
         16801,
         429,
         "Zhi-Hua Zhou"
        ],
        [
         "53f7d184dabfae938c6df70d",
         1823,
         429,
         "Makoto Ikeda"
        ],
        [
         "5448851fdabfae87b7e39cf6",
         7877,
         429,
         "Pramod Varshney"
        ],
        [
         "562d58bc45cedb3398dd01a9",
         7840,
         428,
         "G. Karagiannidis"
        ],
        [
         "53f48bb2dabfaea7cd1cc97c",
         7970,
         428,
         "Jeffrey Yu"
        ],
        [
         "53f581ebdabfaea8a2f8045b",
         9226,
         428,
         "Klara Nahrstedt"
        ],
        [
         "53f586eadabfaeb219f8045b",
         6128,
         427,
         "Andrzej Cichocki"
        ],
        [
         "5486c577dabfae9b40133fde",
         6471,
         427,
         "Dharma Agrawal"
        ],
        [
         "542c267ddabfae2b4e1e71a7",
         1260,
         426,
         "Zhiyong Feng"
        ],
        [
         "53f644fadabfaea4e2c71628",
         7739,
         426,
         "Alex Waibel"
        ],
        [
         "53f48396dabfaee0d9c73415",
         16189,
         425,
         "Xin Yao"
        ],
        [
         "53f639b8dabfae8531c71628",
         1044,
         425,
         "Zhihua Wang"
        ],
        [
         "5408ad27dabfae450f4359b8",
         8072,
         425,
         "Jiebo Luo"
        ],
        [
         "53f48d04dabfaea7cd1d0ef9",
         16854,
         424,
         "Ben Shneiderman"
        ],
        [
         "53f48da0dabfaea7cd1d374a",
         7980,
         423,
         "Frank Leymann"
        ],
        [
         "53f78fcddabfae9060acc24e",
         7706,
         422,
         "Weisi Lin"
        ],
        [
         "53f48be3dabfaea7cd1cd4e8",
         8302,
         422,
         "Hsinchun Chen"
        ],
        [
         "53f4388ddabfaee0d9b78cb9",
         2280,
         421,
         "Alfredo Cuzzocrea"
        ],
        [
         "54845d1cdabfaed7b5fa19fb",
         6085,
         419,
         "Jiangchuan Liu"
        ],
        [
         "56cb18c0c35f4f3c65660565",
         5919,
         419,
         "Xiaofang Zhou"
        ],
        [
         "5603c86d45cedb3396247c60",
         7815,
         418,
         "Albrecht Schmidt"
        ],
        [
         "53f48cfedabfaea7cd1d0d8e",
         36384,
         418,
         "michael jordan"
        ],
        [
         "542ad41edabfae61d49a916c",
         10582,
         416,
         "Eric Xing"
        ],
        [
         "548540fadabfaed7b5fa203d",
         5516,
         416,
         "Karl Johansson"
        ],
        [
         "53f582fbdabfaeaad3f8045b",
         13884,
         416,
         "Moti Yung"
        ],
        [
         "563204a545cedb3399f95261",
         15528,
         416,
         "Enrique Herrera-Viedma"
        ],
        [
         "54857689dabfae8a11fb2a12",
         12257,
         416,
         "Ekram Hossain"
        ],
        [
         "542dfe07dabfaed7226824ce",
         3878,
         415,
         "Jun Wang"
        ],
        [
         "53f4963adabfaeb22f5724ea",
         30291,
         415,
         "T Kanade"
        ],
        [
         "548c78afdabfae8a11fb4b8f",
         5895,
         415,
         "Tingwen Huang"
        ],
        [
         "542a1abedabfae61d4954592",
         13847,
         414,
         "Geoffrey Li"
        ],
        [
         "54053a68dabfae8faa5b59ae",
         13823,
         414,
         "G. Caire"
        ],
        [
         "562ffb7445cedb33998a6592",
         1605,
         414,
         "Satoshi Nakamura"
        ],
        [
         "53f32b93dabfae9a84490631",
         5453,
         414,
         "Nirwan Ansari"
        ],
        [
         "53fa0550dabfae9467e15b9d",
         3941,
         413,
         "Jürgen Teich"
        ],
        [
         "54483802dabfae87b7deac69",
         8924,
         413,
         "Yuguang Fang"
        ],
        [
         "54455751dabfae862da173f6",
         4515,
         412,
         "Qingming Huang"
        ],
        [
         "540591a7dabfae450f3b7bc6",
         5620,
         411,
         "Wei Zheng"
        ],
        [
         "5484e017dabfae8a11fb23a8",
         13398,
         411,
         "E. Larsson"
        ],
        [
         "5434c17adabfaebba58618cb",
         10447,
         410,
         "Leandros Tassiulas"
        ],
        [
         "53f5594ddabfae39bcf8045b",
         3406,
         410,
         "Jan Treur"
        ],
        [
         "53f4aae6dabfaecc1b77b3f5",
         10033,
         410,
         "Xindong Wu"
        ],
        [
         "548740cddabfae8a11fb3770",
         3866,
         408,
         "Chang Chen"
        ],
        [
         "5408cf66dabfae450f44383a",
         13968,
         407,
         "Katia Sycara"
        ],
        [
         "5429a6afdabfaec7081a0c60",
         4080,
         407,
         "Chuang Lin"
        ],
        [
         "53f83298dabfae938c7102eb",
         2449,
         407,
         "Guy Pujolle"
        ],
        [
         "53f455b4dabfaedf436090c1",
         2327,
         406,
         "Tomoya Enokido"
        ],
        [
         "54340abcdabfaebba583940d",
         6675,
         405,
         "Chintha Tellambura"
        ],
        [
         "54484da3dabfae87b7e038be",
         25095,
         405,
         "Kalyanmoy Deb"
        ],
        [
         "544063cadabfae805a6b7dcd",
         6126,
         405,
         "Vincent Lau"
        ],
        [
         "542a813fdabfae646d56b37a",
         1965,
         403,
         "Jiandong Li"
        ],
        [
         "53f4b802dabfaed4b777b4a5",
         9025,
         403,
         "Divyakant Agrawal"
        ],
        [
         "53f46c8edabfaee02adad519",
         11811,
         403,
         "Horst Bischof"
        ],
        [
         "5405bb00dabfae450f3cbc29",
         5907,
         403,
         "Hiroshi Ishiguro"
        ],
        [
         "548931cfdabfae9b4013483f",
         3972,
         402,
         "E. Damiani"
        ],
        [
         "53f556b8dabfaea7cd1d597b",
         1950,
         402,
         "Reda Alhajj"
        ],
        [
         "53f7b5f8dabfae9060adf6db",
         5065,
         402,
         "Jörg Henkel"
        ],
        [
         "56083ccb45cedb3396c4fa08",
         2643,
         402,
         "Wolfgang Lehner"
        ],
        [
         "53f4d370dabfaee0d9c78017",
         6095,
         401,
         "Fei-Yue Wang"
        ],
        [
         "54354027dabfaebba58ba79b",
         10772,
         401,
         "Alberto Sangiovanni-Vincentelli"
        ],
        [
         "53f5a6fadabfae1352f8045b",
         6578,
         400,
         "Taghi Khoshgoftaar"
        ],
        [
         "5486707edabfae8a11fb3292",
         3154,
         399,
         "Rodrigo Lamare"
        ],
        [
         "53f48d17dabfaea7cd1d1306",
         10586,
         399,
         "Horst Bunke"
        ],
        [
         "5405483edabfae44f08012b8",
         8078,
         399,
         "Chin-hui Lee"
        ],
        [
         "5440bfd7dabfae7f9b34cb09",
         3847,
         399,
         "Zhaohui Wu"
        ],
        [
         "53f556d5dabfae963d25ded0",
         2477,
         399,
         "Pan Jeng-Shyang"
        ],
        [
         "54409444dabfae7d84b85f0e",
         12726,
         399,
         "Ying-Chang Liang"
        ],
        [
         "54843d66dabfae8a11fb1f82",
         4857,
         398,
         "Nikil Dutt"
        ],
        [
         "548a62d8dabfae8a11fb49e3",
         1741,
         398,
         "Tsumoto Shusaku"
        ],
        [
         "53f48babdabfaea7cd1cc7de",
         7132,
         397,
         "Ming-Syan Chen"
        ],
        [
         "5405aefadabfae92b41f3a30",
         16007,
         397,
         "Huijun Gao"
        ],
        [
         "53f59763dabfaee707f8045b",
         4501,
         397,
         "Alberto Bimbo"
        ],
        [
         "53f42be9dabfaec22ba01129",
         5665,
         396,
         "Dhabaleswar Panda"
        ],
        [
         "54084189dabfae8faa638d58",
         3212,
         395,
         "H. Boche"
        ],
        [
         "544071a9dabfae805a6be89d",
         5501,
         394,
         "Nadia Magnenat-thalmann"
        ],
        [
         "5434f351dabfaebba58846a7",
         1926,
         394,
         "Masayuki Murata"
        ],
        [
         "53f46f79dabfaeecd6a2fc46",
         4738,
         394,
         "Kotagiri Ramamohanarao"
        ],
        [
         "53f48ceddabfaea7cd1d0a3a",
         25918,
         394,
         "Garcia-Molina, H."
        ],
        [
         "53f5669cdabfae631af8045b",
         19884,
         393,
         "Leonidas Guibas"
        ],
        [
         "53f48dbbdabfaea7cd1d41ee",
         26139,
         393,
         "Bernhard Schölkopf"
        ],
        [
         "5430ee3cdabfaecb5873381e",
         4135,
         392,
         "Yuanyuan Yang"
        ],
        [
         "53f46d7edabfaedf4366179c",
         9251,
         392,
         "Kishor Trivedi"
        ],
        [
         "560bf89d45cedb3397442857",
         13056,
         392,
         "Jon Crowcroft"
        ],
        [
         "5429e99bdabfaec7081c9549",
         5363,
         391,
         "Qionghai Dai"
        ],
        [
         "542d19dbdabfae489b97b0f2",
         2874,
         391,
         "Minyi Guo"
        ],
        [
         "53f473f1dabfaee0d9c63aa1",
         6667,
         391,
         "Ee-Peng Lim"
        ],
        [
         "53f7e777dabfae9060af661d",
         7176,
         391,
         "Huaguang Zhang"
        ],
        [
         "5631fe0145cedb3399f8765b",
         1912,
         390,
         "Jong Park"
        ],
        [
         "54410ed4dabfae805a723ea2",
         8159,
         389,
         "J. Garcia-luna-aceves"
        ],
        [
         "54100a8ddabfae450f4c7d1c",
         11998,
         389,
         "Lionel Ni"
        ],
        [
         "53f42cc2dabfaedd74d2d833",
         3101,
         389,
         "Xiaojiang Du"
        ],
        [
         "548a7e66dabfaed7b5fa41f9",
         5277,
         389,
         "R. Deng"
        ],
        [
         "53f4e25ddabfaefc1777b3cd",
         4195,
         389,
         "Paul Thompson"
        ],
        [
         "548c9bc1dabfaed7b5fa44fa",
         7541,
         389,
         "J.M.F. Moura"
        ],
        [
         "54480e19dabfae87b7dcd48c",
         3001,
         389,
         "Minglu Li"
        ],
        [
         "53f48498dabfaec09f2a73fc",
         3802,
         387,
         "Imran, A."
        ],
        [
         "54850265dabfaed7b5fa1df6",
         1905,
         387,
         "Max Mühlhäuser"
        ],
        [
         "540ff0dfdabfae450f4b8e70",
         1792,
         387,
         "Wolfgang Rosenstiel"
        ],
        [
         "53f64553dabfaeaf590f3cce",
         24970,
         387,
         "Xiaoou Tang"
        ],
        [
         "5486c046dabfaed7b5fa2c01",
         4776,
         387,
         "Mateo Valero"
        ],
        [
         "53f447b5dabfaeb22f4c5153",
         4709,
         387,
         "Marc Moonen"
        ],
        [
         "563201ca45cedb3399f8fa53",
         8111,
         387,
         "Kian-Lee Tan"
        ],
        [
         "53f48bc2dabfaea7cd1ccd38",
         10193,
         386,
         "Daniel Keim"
        ],
        [
         "54408fdadabfae805a6d1453",
         11822,
         385,
         "Lothar Thiele"
        ],
        [
         "540966afdabfae8faa68b1bc",
         5011,
         385,
         "Chau Yuen"
        ],
        [
         "5408d332dabfae450f444e1c",
         5854,
         385,
         "Chun Chen"
        ],
        [
         "53f4a1e9dabfaec3b677b402",
         2862,
         385,
         "Ying Zhou"
        ],
        [
         "56062a8045cedb33967d8fe2",
         8811,
         385,
         "Yuan Xie"
        ],
        [
         "540837d5dabfae8faa6332a2",
         11725,
         384,
         "Markus Gross"
        ],
        [
         "540698e6dabfae92b42160e9",
         3845,
         384,
         "Keshab Parhi"
        ],
        [
         "53f55820dabfae3752f8045b",
         3033,
         383,
         "Gunter Saake"
        ],
        [
         "542a9df6dabfae646d5782d2",
         5702,
         381,
         "Xiaokang Yang"
        ],
        [
         "53f49778dabfaeb6d177b4ff",
         3312,
         380,
         "Sung-Bae Cho"
        ],
        [
         "5485e048dabfae8a11fb2cfe",
         1835,
         380,
         "Fumiyuki Adachi"
        ],
        [
         "5405b73fdabfae92b41f77a6",
         7173,
         379,
         "Carlos Coello"
        ],
        [
         "53f4ab77dabfaedce563c792",
         9742,
         379,
         "Feiping Nie"
        ],
        [
         "542a3224dabfae5848aa83ea",
         621,
         379,
         "wei zhang"
        ],
        [
         "5448a11edabfae87b7e53b0d",
         5936,
         378,
         "Erik Demaine"
        ],
        [
         "53f439f6dabfaec22baa1df3",
         9535,
         377,
         "Muriel Médard"
        ],
        [
         "5484a268dabfaed7b5fa1a8b",
         1941,
         377,
         "Saharon Shelah"
        ],
        [
         "53f48d37dabfaea7cd1d1a75",
         10759,
         377,
         "Christian Jensen"
        ],
        [
         "54877b28dabfae9b40134731",
         9333,
         377,
         "Yonina Eldar"
        ],
        [
         "53f48cbbdabfaea7cd1cff18",
         5956,
         377,
         "Chew Tan"
        ],
        [
         "562cb05d45cedb3398c96302",
         6991,
         377,
         "Ling Shao"
        ],
        [
         "54860c66dabfaed7b5fa2717",
         13635,
         377,
         "Nicholas Ayache"
        ],
        [
         "53f430a1dabfaee2a1ca5f50",
         10789,
         376,
         "Petre Stoica"
        ],
        [
         "53f4384cdabfaeb22f4830d6",
         21395,
         376,
         "HongJiang Zhang"
        ],
        [
         "544883f6dabfae87b7e38b96",
         2578,
         376,
         "Andreas Uhl"
        ],
        [
         "53f7c07edabfae90ec11a74d",
         1231,
         375,
         "Hyunseung Choo"
        ],
        [
         "53f43915dabfaee1c0ab7278",
         23914,
         375,
         "Alex Pentland"
        ],
        [
         "54898a35dabfaed7b5fa3cd5",
         1626,
         374,
         "Hideharu Amano"
        ],
        [
         "5405b251dabfae450f3c7847",
         6841,
         374,
         "Shlomo Shamai"
        ],
        [
         "5406b1dadabfae8faa61ad25",
         4522,
         374,
         "Elke Rundersteiner"
        ],
        [
         "542a9053dabfae646d571fae",
         4009,
         374,
         "Song Guo"
        ],
        [
         "53f794e8dabfae8faa49b979",
         3407,
         374,
         "Soo-chang Pei"
        ],
        [
         "53f469d4dabfaee4dc85be38",
         30008,
         374,
         "Ian Akyildiz"
        ],
        [
         "53f556d3dabfae963d25d8f0",
         3021,
         374,
         "Fu-Chun Sun"
        ],
        [
         "53f43843dabfaee2a1cf7e0b",
         4706,
         374,
         "Feng Wu"
        ],
        [
         "53f479d7dabfae8a6845c41f",
         2388,
         373,
         "Zhongzhi Shi"
        ],
        [
         "53f47eaadabfaeb22f56f92d",
         24129,
         373,
         "Hans-Peter Kriegel"
        ],
        [
         "53f55b3ddabfae4d0bf8045b",
         7312,
         373,
         "Wolfgang Nejdl"
        ],
        [
         "5631f80145cedb3399f76a4e",
         6085,
         372,
         "Kwang-Ting Cheng"
        ],
        [
         "53f556dcdabfae963d25f170",
         3387,
         372,
         "Bernard Baets"
        ],
        [
         "53f4a7c2dabfaedce56373a8",
         2403,
         372,
         "Abdulmotaleb Saddik"
        ],
        [
         "5405e588dabfae450f3df177",
         5445,
         372,
         "John Carroll"
        ],
        [
         "542c4f02dabfae2b4e20106e",
         3492,
         372,
         "Yong Shi"
        ],
        [
         "548a7b7cdabfaed7b5fa41ce",
         6272,
         372,
         "Insup Lee"
        ],
        [
         "53f58452dabfaeaca9f8045b",
         5282,
         372,
         "L. Carin"
        ],
        [
         "53f39d25dabfae4b34aa18f5",
         3281,
         371,
         "Mehdi Dehghan"
        ],
        [
         "53f49420dabfaedce561e9e1",
         4959,
         370,
         "Chin-Teng Lin"
        ],
        [
         "53f48dcadabfaea7cd1d457c",
         5824,
         370,
         "Kwan-Liu Ma"
        ],
        [
         "5440dcfddabfae7f9b357ad6",
         2309,
         369,
         "Yao Zhao"
        ],
        [
         "5405ce04dabfae8faa602782",
         8289,
         368,
         "Raouf Boutaba"
        ],
        [
         "54450d43dabfae862da01c47",
         2968,
         368,
         "Huazhong Yang"
        ],
        [
         "562fe12545cedb3399841ec4",
         5060,
         368,
         "Hamid Karimi"
        ],
        [
         "548dcd97dabfaef989f09151",
         8510,
         368,
         "Nicu Sebe"
        ],
        [
         "53f78ad4dabfae92b40c4dfc",
         3099,
         368,
         "Naixue Xiong"
        ],
        [
         "53f7f062dabfae92b40f5df4",
         22740,
         368,
         "Mubarak Shah"
        ],
        [
         "5484d6bbdabfae9b40133173",
         11452,
         367,
         "Marc Pollefeys"
        ],
        [
         "53f48c54dabfaea7cd1ce49a",
         7091,
         367,
         "Hisao Ishibuchi"
        ],
        [
         "5486da4adabfae9b4013409a",
         3599,
         366,
         "Xueqi Cheng"
        ],
        [
         "561c1f6445cedb3397fa5837",
         3308,
         366,
         "Norman Beaulieu"
        ],
        [
         "53f431e7dabfaec22ba51da8",
         5025,
         365,
         "Arumugam Nallanathan"
        ],
        [
         "56086a9245cedb3396cb2c60",
         11217,
         365,
         "Daniel Cremers"
        ],
        [
         "53f48bf6dabfaea7cd1cd8ef",
         6943,
         365,
         "Lei Chen"
        ],
        [
         "54854885dabfae8a11fb278d",
         7981,
         365,
         "A. Kahng"
        ],
        [
         "5405f8fadabfae91d302262b",
         10797,
         363,
         "Ali Sayed"
        ],
        [
         "5433c7b5dabfaeb4c6acef40",
         3619,
         363,
         "Grzegorz Rozenberg"
        ],
        [
         "5622361645cedb339839c5f5",
         3914,
         363,
         "Xinbing Wang"
        ],
        [
         "53f48da2dabfaea7cd1d37f6",
         9455,
         363,
         "Alexander Hauptmann"
        ],
        [
         "5484f2b4dabfaed7b5fa1d86",
         4219,
         362,
         "Wei-Tek Tsai"
        ],
        [
         "5433db7cdabfaebba582b1ce",
         1350,
         362,
         "Fumihito Arai"
        ],
        [
         "53f492dadabfaeb237f80464",
         6374,
         362,
         "Karl Aberer"
        ],
        [
         "54895a85dabfaed7b5fa3b99",
         5141,
         361,
         "Xinghuo Yu"
        ],
        [
         "5434347bdabfaebba584f36b",
         1579,
         361,
         "Ramjee Prasad"
        ],
        [
         "54054bf2dabfae92b41c01fc",
         2095,
         361,
         "Fabrizio Lombardi"
        ],
        [
         "53f430fcdabfaeb22f435f91",
         4331,
         361,
         "B. Vucetic"
        ],
        [
         "53f64eaddabfae60a53e2f8f",
         2337,
         361,
         "Geyong Min"
        ],
        [
         "53f4ab6ddabfaecc2177b556",
         17518,
         359,
         "John Stankovic"
        ],
        [
         "5440992edabfae7f9b34330c",
         6082,
         359,
         "Yang Xiao"
        ],
        [
         "5429b185dabfaec7081a8025",
         5442,
         359,
         "Changsheng Xu"
        ],
        [
         "53f48082dabfae963d25a7d5",
         12882,
         359,
         "Stan Li"
        ],
        [
         "562d5e8945cedb3398ddb21f",
         3333,
         359,
         "Sridha Sridharan"
        ],
        [
         "53f7c938dabfae938c6db98f",
         4129,
         358,
         "Guang-Hong Yang"
        ],
        [
         "56091e4645cedb3396e219e2",
         6237,
         358,
         "manfred reichert"
        ],
        [
         "54873abcdabfaed7b5fa2e75",
         4379,
         358,
         "Gerhard Woeginger"
        ],
        [
         "5405dbd9dabfae92b4206345",
         3773,
         357,
         "Masayuki Inaba"
        ],
        [
         "53f43022dabfaee2a1c9f4cf",
         3431,
         355,
         "Vince Calhoun"
        ],
        [
         "53f4e3f4dabfaefd02f8045b",
         3076,
         355,
         "Qing Li"
        ],
        [
         "54872d21dabfae9b401342e6",
         2995,
         354,
         "Han-Chieh Chao"
        ],
        [
         "53f56dc6dabfae72d3f8045b",
         5169,
         354,
         "Alan Smeaton"
        ],
        [
         "53f47ebbdabfae9126cc42a9",
         13273,
         353,
         "Charu Aggarwal"
        ],
        [
         "53f48f57dabfaee4dc8b3a05",
         3610,
         353,
         "Chengqi Zhang"
        ],
        [
         "53f459c4dabfaee2a1d80cdf",
         19382,
         353,
         "W. Croft"
        ],
        [
         "54858561dabfaed7b5fa2342",
         6193,
         353,
         "Mark Billinghurst"
        ],
        [
         "53f4a394dabfaeb22f573bfb",
         2998,
         353,
         "Aggelos Katsaggelos"
        ],
        [
         "5448a7a7dabfae87b7e5afcc",
         6635,
         353,
         "Walid Saad"
        ],
        [
         "53f469bfdabfaeee22a60268",
         10958,
         352,
         "Andreas Molisch"
        ],
        [
         "53f4bba1dabfaeda9977b50c",
         2014,
         352,
         "Shojiro Nishio"
        ],
        [
         "53f4a063dabfaec18977b8c8",
         8563,
         352,
         "Thomas Eiter"
        ],
        [
         "5448a584dabfae87b7e5857d",
         2879,
         352,
         "Juan Corchado"
        ],
        [
         "53f7c641dabfae7f97a29d3e",
         2586,
         352,
         "Wan-Chi Siu"
        ],
        [
         "53f633eddabfae7dbe1b3a95",
         3057,
         351,
         "Rüdiger Dillmann"
        ],
        [
         "548e5befdabfaef989f09359",
         4507,
         351,
         "Peter Stuckey"
        ],
        [
         "5607147345cedb33969f3c4c",
         6016,
         351,
         "Tao Mei"
        ],
        [
         "5441077cdabfae805a720b3a",
         2640,
         351,
         "Hussein Mouftah"
        ],
        [
         "53f5950adabfaee3daf8045b",
         4330,
         351,
         "Edward Dougherty"
        ],
        [
         "548a4f8adabfaed7b5fa40e8",
         1713,
         351,
         "Dimitrios Tzovaras"
        ],
        [
         "53f430b6dabfaee43ebf0128",
         4002,
         350,
         "Radko Mesiar"
        ],
        [
         "54411ad3dabfae7d84be283e",
         4271,
         350,
         "gerhard rigoll"
        ],
        [
         "54054a45dabfae92b41bf0fa",
         9682,
         350,
         "Peng Shi"
        ],
        [
         "53f43030dabfaeb2ac00d2ac",
         14427,
         349,
         "Alan Yuille"
        ],
        [
         "5405aec1dabfae450f3c59ab",
         4098,
         349,
         "Pascal Frossard"
        ],
        [
         "53f479cddabfae8a6845c14b",
         9782,
         348,
         "Eduard Hovy"
        ],
        [
         "54876175dabfaed7b5fa2f90",
         5944,
         348,
         "Geert Leus"
        ],
        [
         "548c9c6ddabfae9b40135346",
         8094,
         348,
         "Sarit Kraus"
        ],
        [
         "54091570dabfae8faa66acfa",
         2522,
         347,
         "Dengel, A."
        ],
        [
         "53f454f4dabfaec22bb007ff",
         4533,
         347,
         "C. Chen"
        ],
        [
         "53f497f9dabfaeb6d177b8c5",
         2971,
         347,
         "Kitsuregawa, M."
        ],
        [
         "53f466e6dabfaeee22a55655",
         5854,
         347,
         "Erol Gelenbe"
        ],
        [
         "53f635a9dabfae891ec71629",
         2919,
         347,
         "Atsuo Takanishi"
        ],
        [
         "53f493aedabfaeb15877b641",
         15885,
         347,
         "A. Calderbank"
        ],
        [
         "5448ab14dabfae87b7e5e2be",
         4648,
         346,
         "L.-G. Chen"
        ],
        [
         "5405dcf3dabfae92b420679c",
         5630,
         346,
         "Prasant Mohapatra"
        ],
        [
         "53f45e9bdabfaefedbb6c827",
         4265,
         346,
         "Elisabeth André"
        ],
        [
         "548e30ffdabfaef989f09216",
         2370,
         346,
         "Oscar Au"
        ],
        [
         "53f43beadabfaedf435b2c8b",
         4550,
         345,
         "Matthias Jarke"
        ],
        [
         "562c848445cedb3398c4af7f",
         11743,
         345,
         "li deng"
        ],
        [
         "53f7d57cdabfae938c6e1769",
         6037,
         345,
         "Miroslav Krstic"
        ],
        [
         "53f566f8dabfae63aff8048f",
         4359,
         345,
         "Masashi Sugiyama"
        ],
        [
         "5432c460dabfae8cc1c12206",
         559,
         344,
         "Lei Zhang"
        ],
        [
         "54409314dabfae7f9b3405e9",
         4284,
         344,
         "Pingzhi Fan"
        ],
        [
         "54338d1ddabfaebba58181ba",
         3498,
         344,
         "Jacob Abraham"
        ],
        [
         "5406cd9fdabfae450f3ec05b",
         1936,
         344,
         "Bernhard Preim"
        ],
        [
         "54592d5ddabfaeb0fe339cfb",
         8257,
         343,
         "Xilin Chen"
        ],
        [
         "53f5ad8fdabfae2ab3f8045b",
         9523,
         343,
         "Mohan Trivedi"
        ],
        [
         "54864cefdabfae9b40133cf2",
         1973,
         343,
         "Kiyoharu Aizawa"
        ],
        [
         "544102d7dabfae7d84bd2ca2",
         7019,
         343,
         "Munindar Singh"
        ],
        [
         "5448bc38dabfae87b7e71114",
         2484,
         343,
         "Hannu Tenhunen"
        ],
        [
         "53f4cfbfdabfaeeee9f80f60",
         9051,
         343,
         "Diego Calvanese"
        ],
        [
         "53f4cc08dabfaeebd6f80812",
         4136,
         343,
         "In Kweon"
        ],
        [
         "5429f6b6dabfaec7081cff38",
         1758,
         342,
         "Ge Yu"
        ],
        [
         "54323c52dabfaeb4ea4e7785",
         2243,
         341,
         "Vijay Varadharajan"
        ],
        [
         "53f6616bdabfae6a71b62ab7",
         5804,
         341,
         "Wang Yi"
        ],
        [
         "53f49dbadabfaeb22f57323f",
         7138,
         340,
         "Rachid Guerraoui"
        ],
        [
         "53f43aa7dabfaee1c0ac64a8",
         5331,
         340,
         "Kai-Kit Wong"
        ],
        [
         "5429cf62dabfaec7081ba5f8",
         537,
         340,
         "lei wang"
        ],
        [
         "548462e7dabfae8a11fb206f",
         5501,
         339,
         "Lingyang Song"
        ],
        [
         "53f48b48dabfaee0d9c73c7f",
         9806,
         339,
         "Dan Roth"
        ],
        [
         "53f47e33dabfaee02addc55c",
         2300,
         339,
         "Fan Wu"
        ],
        [
         "54083c53dabfae8faa6357c7",
         5104,
         339,
         "Jiajun Bu"
        ],
        [
         "53f79e4adabfae938c6c794d",
         6012,
         339,
         "antonio bicchi"
        ],
        [
         "548d2c00dabfae8a11fb4f23",
         3323,
         338,
         "Shaoqian Li"
        ],
        [
         "54865675dabfae9b40133d27",
         2351,
         338,
         "Ian Petersen"
        ],
        [
         "53f43632dabfaedf4357e53f",
         21462,
         338,
         "Ming-Hsuan Yang"
        ],
        [
         "54104b8bdabfae44f0895ac3",
         13198,
         338,
         "Tarek Abdelzaher"
        ],
        [
         "53f4394cdabfaee43ec4ba92",
         1968,
         338,
         "Mikael Skoglund"
        ],
        [
         "53f44c86dabfaee4dc7ea1a9",
         3617,
         338,
         "Liming Chen"
        ],
        [
         "548f4ef8dabfaef989f098a5",
         8413,
         338,
         "G. Sukhatme"
        ],
        [
         "53f7c421dabfae8faa4b221f",
         4673,
         337,
         "Enrique Alba"
        ],
        [
         "53f55f1fdabfae534af8045b",
         8794,
         337,
         "Bernd Girod"
        ],
        [
         "54057e6ddabfae92b41db4ed",
         1425,
         337,
         "Dacheng Yang"
        ],
        [
         "548d71d3dabfaed7b5fa4842",
         7050,
         337,
         "Biswanath Mukherjee"
        ],
        [
         "54850805dabfaed7b5fa1e9a",
         4759,
         336,
         "Mohamed Kamel"
        ],
        [
         "5440a187dabfae7d84b94562",
         6704,
         336,
         "lorenzo bruzzone"
        ],
        [
         "54083220dabfae92b422e061",
         4247,
         335,
         "Manish Parashar"
        ],
        [
         "53f43496dabfaee02acb92a4",
         6656,
         335,
         "Ju Park"
        ],
        [
         "53f49831dabfaeb909f8045b",
         8543,
         334,
         "Qian Zhang"
        ],
        [
         "548c797ddabfae8a11fb4ba5",
         2551,
         334,
         "Enrico Macii"
        ],
        [
         "540fec9cdabfae450f4b6d23",
         6229,
         334,
         "Calton Pu"
        ],
        [
         "53f43149dabfaeb2ac01b574",
         6868,
         334,
         "Changshui Zhang"
        ],
        [
         "548669bfdabfaed7b5fa294b",
         4999,
         333,
         "Michael Unser"
        ],
        [
         "53f484bedabfaee4dc8b0a3d",
         10246,
         332,
         "Gilbert Laporte"
        ],
        [
         "542d413cdabfae11fc4517d5",
         5674,
         332,
         "Hui Xiong"
        ],
        [
         "5440c794dabfae805a6f5c9d",
         2289,
         332,
         "Joachim Hornegger"
        ],
        [
         "53f46fe4dabfaee43ed1be68",
         2205,
         331,
         "Floriana Esposito"
        ],
        [
         "5448dbd7dabfae87b7e884bf",
         5314,
         331,
         "Loet Leydesdorff"
        ],
        [
         "53f45abfdabfaee1c0b3dec0",
         14721,
         331,
         "Shankar Sastry"
        ],
        [
         "53f49b68dabfaee0d9c75613",
         9196,
         331,
         "Steffen Staab"
        ],
        [
         "53f556d3dabfae963d25d9b3",
         35701,
         331,
         "T. Darrell"
        ],
        [
         "53f475f6dabfaefedbbac5ec",
         10927,
         331,
         "Kannan Ramchandran"
        ],
        [
         "53f556d8dabfae963d25e7b5",
         18351,
         331,
         "Rui Zhang"
        ],
        [
         "53f4d2fedabfaef20af80509",
         4270,
         330,
         "Feifei Gao"
        ],
        [
         "53f42dfadabfaeb22f40fe99",
         1947,
         330,
         "Ioannis Kompatsiaris"
        ],
        [
         "53f4c4abdabfaee4dc8b5767",
         13385,
         330,
         "Chengxiang Zhai"
        ],
        [
         "548760aedabfae9b401345b4",
         2644,
         329,
         "Hossam Hassanein"
        ],
        [
         "53f488b2dabfaeb22f571164",
         13677,
         329,
         "Maja Pantic"
        ],
        [
         "5486c030dabfaed7b5fa2bfb",
         1153,
         329,
         "Václav Snásel"
        ],
        [
         "542d19b5dabfae4b91c36319",
         4262,
         329,
         "Meikang Qiu"
        ],
        [
         "53f48da4dabfaea7cd1d387c",
         11608,
         329,
         "Klaus-Robert Mller"
        ],
        [
         "53f437e0dabfaeee229b89b0",
         2968,
         329,
         "Bhavani Thuraisingham"
        ],
        [
         "542db3bcdabfae11fc495b0b",
         2192,
         329,
         "Dan Feng"
        ],
        [
         "54483485dabfae87b7de6863",
         5231,
         328,
         "Nei Kato"
        ],
        [
         "53f64e15dabfae0633f1633c",
         2938,
         328,
         "Hiroshi Okuno"
        ],
        [
         "54403df4dabfae7d84b7b4d3",
         2055,
         328,
         "Jian Song"
        ],
        [
         "540fdc08dabfae450f4ae49d",
         1909,
         328,
         "ning xi"
        ],
        [
         "548c80a7dabfaed7b5fa43e8",
         4115,
         328,
         "Tamer Basar"
        ],
        [
         "53f4c9c5dabfaee9c4f80a47",
         9838,
         328,
         "Georg Gottlob"
        ],
        [
         "5486a4d2dabfae9b40133f55",
         2395,
         327,
         "Michael Henning"
        ],
        [
         "54486132dabfae87b7e167ef",
         2840,
         327,
         "Abbas Jamalipour"
        ],
        [
         "53f4ec7fdabfae0354f8045b",
         17548,
         327,
         "Pascal Fua"
        ],
        [
         "5408e10ddabfae450f44a9ee",
         2546,
         327,
         "Omer Rana"
        ],
        [
         "53f48c9bdabfaea7cd1cf6cc",
         8663,
         327,
         "Yong Yu"
        ],
        [
         "56cb1891c35f4f3c6565176f",
         8811,
         327,
         "Meng Wang"
        ],
        [
         "5405cf4adabfae8faa6033fb",
         7320,
         326,
         "Ahmad-Reza Sadeghi"
        ],
        [
         "53f642d9dabfaed4ec0f3d1a",
         3882,
         326,
         "Enhong Chen"
        ],
        [
         "53f4bc70dabfaeda9a77b434",
         13300,
         326,
         "Ian Horrocks"
        ],
        [
         "54485029dabfae87b7e06a64",
         7245,
         326,
         "Rongxing Lu"
        ],
        [
         "53f4b70bdabfaeb22f576f19",
         9010,
         326,
         "Mark Musen"
        ],
        [
         "5440afdddabfae7d84ba465e",
         5040,
         326,
         "Rita Cucchiara"
        ],
        [
         "542a2fdfdabfae5848aa6a90",
         1298,
         326,
         "Jianping Wu"
        ],
        [
         "542bd09edabfae2b4e1a403a",
         2447,
         326,
         "Weimin Zheng"
        ],
        [
         "5484b4f5dabfae8a11fb2233",
         5276,
         326,
         "Weihua Zhuang"
        ],
        [
         "53f47b80dabfae8a6845cd1d",
         16978,
         326,
         "Jian Pei"
        ],
        [
         "5405cbf8dabfae8faa601361",
         3047,
         326,
         "Bernhard Rumpe"
        ],
        [
         "5405a437dabfae450f3c05bd",
         4012,
         326,
         "Hartmut Ehrig"
        ],
        [
         "53f564e9dabfae60b4f8045b",
         4179,
         325,
         "Ting Liu"
        ],
        [
         "53f471badabfaeee22a7d87b",
         4074,
         325,
         "Debin Zhao"
        ],
        [
         "53f36b50dabfae4b349ad066",
         19932,
         325,
         "Anantha Chandrakasan"
        ],
        [
         "54483ee7dabfae87b7df3593",
         9298,
         325,
         "Baochun Li"
        ],
        [
         "548522d1dabfae9b401333e9",
         9671,
         325,
         "Roger Wattenhofer"
        ],
        [
         "53f4a537dabfaec64e77b4cb",
         4320,
         324,
         "Henning Schulzrinne"
        ],
        [
         "53f47494dabfaeee22a888d4",
         2423,
         324,
         "Hoi-Jun Yoo"
        ],
        [
         "53f387b5dabfae4b34a1d0ad",
         4844,
         324,
         "Yunhong Wang"
        ],
        [
         "548543dadabfaed7b5fa20a2",
         3702,
         324,
         "Inkyu Lee"
        ],
        [
         "53f59a12dabfaeeae9f80461",
         3959,
         324,
         "Pheng Heng"
        ],
        [
         "54483ab3dabfae87b7dee193",
         6703,
         324,
         "N. Vijaykrishnan"
        ],
        [
         "53f48d15dabfaea7cd1d12bf",
         6466,
         323,
         "Xuemin Lin"
        ],
        [
         "53f36d20dabfae4b349b3a3c",
         853,
         323,
         "Andreas Maier"
        ],
        [
         "53f43342dabfaee02aca9d9a",
         6485,
         322,
         "Jocelyn Chanussot"
        ],
        [
         "56323e0045ce1e5968d69b3e",
         4300,
         322,
         "Y. Li"
        ],
        [
         "5489c207dabfae9b40134d40",
         26202,
         322,
         "Jeffrey Andrews"
        ],
        [
         "548c9742dabfaed7b5fa44a6",
         5348,
         322,
         "Vijay Bhargava"
        ],
        [
         "548570badabfaed7b5fa21c4",
         1003,
         321,
         "Yen-Wei Chen"
        ],
        [
         "53f48da8dabfaea7cd1d39d6",
         8774,
         321,
         "Beng Ooi"
        ],
        [
         "562d579045cedb3398dced35",
         1319,
         321,
         "T. Gulliver"
        ],
        [
         "53f63a9edabfaee8c4c71628",
         2074,
         321,
         "Paul Spirakis"
        ],
        [
         "53f48beedabfaea6f777b5cb",
         8305,
         321,
         "Ramesh Jain"
        ],
        [
         "5440b4f3dabfae805a6e8961",
         10619,
         321,
         "Mark Harman"
        ],
        [
         "54058b3bdabfae450f3b561a",
         809,
         321,
         "Jing Li"
        ],
        [
         "5405aeefdabfae8faa5f2b32",
         2728,
         321,
         "Wanlei Zhou"
        ],
        [
         "53f46a3edabfaee43ed05f08",
         6470,
         320,
         "Jie Tang"
        ],
        [
         "54084640dabfae92b4238961",
         6482,
         320,
         "Jan Mendling"
        ],
        [
         "53f49e92dabfaec18e77b3bb",
         2713,
         320,
         "Wei Wang"
        ],
        [
         "53f4681adabfaee43ecfd3bd",
         1262,
         320,
         "Rui Dinis"
        ],
        [
         "548d4bfddabfae8a11fb4fb6",
         1717,
         320,
         "Reinhard Klette"
        ],
        [
         "54866946dabfaed7b5fa293d",
         2090,
         320,
         "Jaime Lloret"
        ],
        [
         "53f4af5cdabfaee0d9c773c2",
         7971,
         320,
         "Ling Liu"
        ],
        [
         "5484eddfdabfaed7b5fa1d0d",
         1785,
         319,
         "Yusheng Ji"
        ],
        [
         "53f43838dabfaeb22f48248b",
         4105,
         319,
         "Yiran Chen"
        ],
        [
         "548a1876dabfae8a11fb487c",
         2913,
         319,
         "Gareth Jones"
        ],
        [
         "53f48d8edabfaedd74eb3554",
         10105,
         319,
         "José Meseguer"
        ],
        [
         "54850bfddabfae9b40133342",
         8154,
         319,
         "Miodrag Potkonjak"
        ],
        [
         "53f47ebcdabfae9126cc432c",
         17031,
         319,
         "Bing Liu"
        ],
        [
         "54408ee3dabfae7d84b81202",
         3086,
         319,
         "Siwei Ma"
        ],
        [
         "53f45e5cdabfaee2a1d90d8f",
         2264,
         319,
         "Yanchun Zhang"
        ],
        [
         "53f7b658dabfae90ec11669a",
         2382,
         319,
         "Mikko Valkama"
        ],
        [
         "5429ff96dabfae61d494d42b",
         5878,
         319,
         "Yan Zhang"
        ],
        [
         "54093fb6dabfae450f46f763",
         2621,
         318,
         "Sy-Yen Kuo"
        ],
        [
         "53f637c2dabfae57b759c73b",
         3105,
         318,
         "Edward Delp"
        ],
        [
         "54858c0fdabfae9b401337db",
         2831,
         318,
         "Yueh-min Huang"
        ],
        [
         "54409b22dabfae805a6dc284",
         6437,
         318,
         "Ugo Montanari"
        ],
        [
         "53f48bf2dabfaea7cd1cd834",
         2232,
         318,
         "Xiaohua Hu"
        ],
        [
         "54057e98dabfae44f081044b",
         1555,
         318,
         "Xiaowei Li"
        ],
        [
         "53f4954edabfaeb4c077b607",
         6246,
         317,
         "Tsuhan Chen"
        ],
        [
         "53f4754adabfaedf43680281",
         5518,
         317,
         "Ingrid Verbauwhede"
        ],
        [
         "5431089adabfae8dd88ac4f9",
         2962,
         317,
         "Jianfeng Ma"
        ],
        [
         "53f5953cdabfaee41cf8045b",
         7079,
         317,
         "Ricardo Baeza-yates"
        ],
        [
         "53f5bab5dabfae583af8045c",
         2029,
         317,
         "Bin Wang"
        ],
        [
         "53f43deadabfaec09f1b48dd",
         1076,
         317,
         "Paulo Novais"
        ],
        [
         "53f4b3f3dabfaedd74eba2c4",
         12278,
         316,
         "Roberto Cipolla"
        ],
        [
         "5625ab5a45cedb33985e9162",
         2370,
         316,
         "Zhangdui Zhong"
        ],
        [
         "5606e3e045cedb33969857af",
         3630,
         316,
         "Weijia Jia"
        ],
        [
         "54106ae8dabfae44f08a8330",
         1897,
         316,
         "Jan Leimeister"
        ],
        [
         "54480a86dabfae87b7dc9a89",
         6714,
         315,
         "Frank Lewis"
        ],
        [
         "540fe473dabfae450f4b206c",
         3775,
         314,
         "Evangelos Kranakis"
        ],
        [
         "53f452bedabfaee1c0b1ee4a",
         10572,
         314,
         "Joseph Halpern"
        ],
        [
         "53f387e6dabfae4b34a1e407",
         4159,
         314,
         "Mohan Kankanhalli"
        ],
        [
         "56226de645cedb33983c459c",
         2971,
         314,
         "Huadong Ma"
        ],
        [
         "53f4bc9bdabfaedce5653e87",
         7659,
         314,
         "Yaochu Jin"
        ],
        [
         "562c93fa45cedb3398c68524",
         1777,
         314,
         "Dong Wang"
        ],
        [
         "53f43a73dabfaec09f1a3819",
         4542,
         313,
         "Vittorio Murino"
        ],
        [
         "53f557a3dabfae344ff8045b",
         18171,
         313,
         "Bernt Schiele"
        ],
        [
         "53f4b834dabfaed4b577b4df",
         10927,
         313,
         "Yiyu Yao"
        ],
        [
         "540842d8dabfae92b423704c",
         3953,
         312,
         "Norihiro Hagita"
        ],
        [
         "53f4346bdabfaee43ec1cc0a",
         14905,
         312,
         "Thomas Henzinger"
        ],
        [
         "53f63246dabfae7038c71628",
         7829,
         312,
         "Gerd Hirzinger"
        ],
        [
         "53f4a8dcdabfaeb22f575199",
         2242,
         311,
         "Kazuyuki Aihara"
        ],
        [
         "53f566fcdabfae63abf8045b",
         9019,
         311,
         "Yu-Chee Tseng"
        ],
        [
         "5405bc71dabfae91d3007cb2",
         4638,
         311,
         "Oscar Ibarra"
        ],
        [
         "53f3a55edabfae4b34ad5410",
         5810,
         310,
         "Shuzhi Ge"
        ],
        [
         "5434cd17dabfaebba586846b",
         2438,
         310,
         "Longbing Cao"
        ],
        [
         "548c9cf6dabfae8a11fb4c00",
         5170,
         310,
         "Katsushi Ikeuchi"
        ],
        [
         "548cdb3edabfae9b40135516",
         4277,
         309,
         "Quan Sheng"
        ],
        [
         "53f43a15dabfaedd74dc297e",
         4212,
         309,
         "Zhisheng Niu"
        ],
        [
         "53f4bc36dabfaedce56537c7",
         3655,
         309,
         "Majid Sarrafzadeh"
        ],
        [
         "54402413dabfae7f0c7f79ac",
         844,
         309,
         "Jie Zhang"
        ],
        [
         "54069ac5dabfae92b4216ef6",
         5982,
         309,
         "Douglas Schmidt"
        ],
        [
         "5485083fdabfaed7b5fa1eac",
         5189,
         309,
         "Dieter Schmalstieg"
        ],
        [
         "5a28a3b39ed5db70fba3ff6c",
         18528,
         309,
         "Xiao-Gang Wang"
        ],
        [
         "53f63848dabfaebd129bf11f",
         1390,
         309,
         "Ebroul Izquierdo"
        ],
        [
         "540fdd1cdabfae450f4aed4c",
         4053,
         309,
         "Geoffrey Fox"
        ],
        [
         "5444d8b0dabfae87074ea6fe",
         4044,
         309,
         "Hong Mei"
        ],
        [
         "5406010adabfae91d3026c22",
         1654,
         309,
         "Manuel Graña"
        ],
        [
         "562cc59045cedb3398cbbca8",
         3296,
         309,
         "Oscar Castillo"
        ],
        [
         "54083ad6dabfae44f0872eff",
         6644,
         309,
         "Ananthram Swami"
        ],
        [
         "54855038dabfae8a11fb2853",
         6155,
         309,
         "george pappas"
        ],
        [
         "5405dd7edabfae450f3db78c",
         3916,
         308,
         "Halim Yanikomeroglu"
        ],
        [
         "548603cedabfae8a11fb2ea1",
         1599,
         308,
         "Gerd Ascheid"
        ],
        [
         "53f7eefedabfae8faa4c5303",
         5227,
         308,
         "Dong Kim"
        ],
        [
         "53f7adafdabfae90ec113c96",
         6103,
         308,
         "Kurt Mehlhorn"
        ],
        [
         "53f56127dabfae5b74f804ca",
         1775,
         308,
         "Lu Liu"
        ],
        [
         "53f432f3dabfaee4dc75f7e0",
         9843,
         308,
         "Lionel Briand"
        ],
        [
         "542a3fd0dabfae646d544217",
         3548,
         307,
         "Zhenfu Cao"
        ],
        [
         "54850e41dabfaed7b5fa1edb",
         6958,
         307,
         "Chunhua Shen"
        ],
        [
         "53f4514fdabfaee2a1d600e1",
         2058,
         307,
         "Abhijit Chatterjee"
        ],
        [
         "54298b7adabfaec7081904c4",
         4478,
         307,
         "Yueting Zhuang"
        ],
        [
         "53f43868dabfaee0d9b77713",
         5260,
         307,
         "Heng Huang"
        ],
        [
         "54302313dabfaeca69bccc56",
         2511,
         307,
         "Hongbin Zha"
        ],
        [
         "540fe84ddabfae450f4b437b",
         6486,
         307,
         "Petar Popovski"
        ],
        [
         "53f4bbc5dabfaeda9877b436",
         8442,
         307,
         "Shiguang Shan"
        ],
        [
         "53f4d560dabfaef346f81960",
         6139,
         307,
         "Cyrus Shahabi"
        ],
        [
         "54850816dabfaed7b5fa1e9d",
         2488,
         306,
         "Paolo Dario"
        ],
        [
         "542b6d86dabfae2b4e165c44",
         2025,
         306,
         "Yanning Zhang"
        ],
        [
         "5434cf06dabfaebba5869bc4",
         3468,
         306,
         "David Bates"
        ],
        [
         "53f573e1dabfae7bdbf8045b",
         5700,
         306,
         "Peter Brusilovsky"
        ],
        [
         "5489c24cdabfae9b40134d47",
         4962,
         306,
         "Joost-Pieter Katoen"
        ],
        [
         "56192a4345ce1e596427002a",
         2887,
         305,
         "Jiming Liu"
        ],
        [
         "53f4d81bdabfaef65277b7a2",
         5161,
         305,
         "David Lo"
        ],
        [
         "53f42ddddabfaeb2acff091b",
         15017,
         305,
         "M. Hebert"
        ],
        [
         "53f487fbdabfaee4dc8b1e67",
         7272,
         305,
         "Stefano Ceri"
        ],
        [
         "53f4d2d9dabfaeedd4780c89",
         2471,
         305,
         "Kenli Li"
        ],
        [
         "5489f4eedabfaed7b5fa3e81",
         2719,
         305,
         "Marijn Janssen"
        ],
        [
         "53f48b34dabfaee4dc8b28ef",
         2596,
         305,
         "Ning Zhong"
        ],
        [
         "53f43305dabfaeb22f44ed55",
         2572,
         304,
         "Dengguo Feng"
        ],
        [
         "54884472dabfae8a11fb41ba",
         2972,
         304,
         "Jose Principe"
        ],
        [
         "5484e16bdabfae9b401331ef",
         2610,
         304,
         "Alexander Gelbukh"
        ],
        [
         "53f4594bdabfaedd74e39423",
         3977,
         304,
         "Yong Li"
        ],
        [
         "53f43562dabfaee1c0a94d84",
         2745,
         304,
         "Catholijn Jonker"
        ],
        [
         "53f48ca0dabfaea7cd1cf7e0",
         9270,
         304,
         "Jieping Ye"
        ],
        [
         "5485a1cfdabfae9b401338de",
         4469,
         304,
         "Edward Fox"
        ],
        [
         "544572ecdabfae862da1d2ba",
         11545,
         304,
         "Yi Yang"
        ],
        [
         "53f45fcddabfaee0d9c1577c",
         2907,
         304,
         "Shui Yu"
        ],
        [
         "53f44f9edabfaeecd69d11d3",
         2500,
         303,
         "Noel O'Connor"
        ],
        [
         "5434c911dabfaebba58657fe",
         5549,
         303,
         "Michael Beetz"
        ],
        [
         "5429df29dabfaec7081c2a57",
         2671,
         303,
         "Baowen Xu"
        ],
        [
         "53f556d7dabfae963d25e393",
         3630,
         303,
         "Cheng-Zhong Xu"
        ],
        [
         "543468a6dabfaebba585b295",
         2356,
         302,
         "C. Murthy"
        ],
        [
         "53f4abc1dabfaeb22f575ba3",
         5886,
         302,
         "Barry Smyth"
        ],
        [
         "53f4a150dabfaec3ba77b476",
         2725,
         302,
         "Giovanni Semeraro"
        ],
        [
         "5405e5fcdabfae91d301a2eb",
         2572,
         302,
         "Anastasios Tefas"
        ],
        [
         "560b1c2c45cedb3397262f75",
         6233,
         302,
         "Yun Fu"
        ],
        [
         "53f48d29dabfaea7cd1d1775",
         6564,
         302,
         "Mike Thelwall"
        ],
        [
         "548aa163dabfaed7b5fa4285",
         6913,
         301,
         "Shyi-Ming Chen"
        ],
        [
         "5447fe74dabfae87b7dbe013",
         10041,
         301,
         "Narendra Ahuja"
        ],
        [
         "53f556b7dabfaea7cd1d5952",
         4947,
         301,
         "Jimmy Lin"
        ],
        [
         "53f433e7dabfaedd74d87b8a",
         10067,
         301,
         "Michael Wooldridge"
        ],
        [
         "560a5f2a45cedb33970bee2d",
         3028,
         300,
         "Paolo Rosso"
        ],
        [
         "53f556cddabfae963d25c58a",
         14005,
         300,
         "Mani Srivastava"
        ],
        [
         "542e062cdabfae4b91c3ccbe",
         3570,
         300,
         "Xiqi Gao"
        ],
        [
         "53f48816dabfaedf4369082b",
         7227,
         300,
         "Amr Abbadi"
        ],
        [
         "5448a5e2dabfae87b7e58de9",
         2098,
         300,
         "Giancarlo Mauri"
        ],
        [
         "53f436bbdabfaeb2ac055eaa",
         5757,
         300,
         "jan peters"
        ],
        [
         "53f49ab3dabfaee0d9c7556a",
         6995,
         300,
         "Xian-Sheng Hua"
        ],
        [
         "53f4a75bdabfaeb1a7cd346b",
         964,
         299,
         "Yoshitaka Shibata"
        ],
        [
         "53f56759dabfae6433f8045b",
         5176,
         299,
         "James Glass"
        ],
        [
         "53f484fadabfaee0d9c7369a",
         5931,
         299,
         "Pankaj Agarwal"
        ],
        [
         "53f43600dabfaedce552bb22",
         15035,
         299,
         "Michael Stonebraker"
        ],
        [
         "53f49803dabfaeb6c977b76b",
         3363,
         299,
         "Aidong Zhang"
        ],
        [
         "5406e662dabfae450f3f3f5e",
         2726,
         299,
         "Yi Mu"
        ],
        [
         "53f45926dabfaedd74e38ac9",
         3838,
         299,
         "Jinhong Yuan"
        ],
        [
         "54084353dabfae44f08767db",
         3104,
         299,
         "Saket Saurabh"
        ],
        [
         "53f64246dabfaed4cc0f3cc2",
         4798,
         299,
         "Yannis Manolopoulos"
        ],
        [
         "53f48048dabfaefedbbc092a",
         5426,
         298,
         "Franco Zambonelli"
        ],
        [
         "53f4391bdabfaeb1a7c0e10d",
         5548,
         298,
         "Niraj Jha"
        ],
        [
         "5430f2ecdabfae8f2911e064",
         11400,
         298,
         "Onur Mutlu"
        ],
        [
         "53f48dccdabfaea7cd1d4614",
         7579,
         298,
         "Rong Jin"
        ],
        [
         "542a5f39dabfae61d497310f",
         3275,
         298,
         "Yong-Dong Zhang"
        ],
        [
         "544870f6dabfae87b7e24c32",
         1946,
         297,
         "Heinrich Niemann"
        ],
        [
         "54334b36dabfaeb5421848aa",
         2144,
         297,
         "Donatella Sciuto"
        ],
        [
         "53f4a68bdabfaedd74eb7da9",
         2308,
         297,
         "Naren Ramakrishnan"
        ],
        [
         "5433a197dabfaebba581bb6d",
         1845,
         297,
         "Li-Chen Fu"
        ],
        [
         "5429b340dabfaec7081a8fc5",
         2822,
         297,
         "Xinping Guan"
        ],
        [
         "53f469dfdabfaeb22f54c07b",
         9623,
         297,
         "Tim Finin"
        ],
        [
         "5406ab62dabfae44f084d016",
         2556,
         297,
         "Matti Latva-aho"
        ],
        [
         "5484b789dabfae9b40133090",
         3558,
         297,
         "Axel Legay"
        ],
        [
         "53f3ac35dabfae4b34afe8f8",
         3922,
         296,
         "D. Wong"
        ],
        [
         "53f64264dabfae107d9bf155",
         5942,
         296,
         "Qiang Ji"
        ],
        [
         "53f48d67dabfaea7cd1d27f7",
         3433,
         296,
         "Jianer Chen"
        ],
        [
         "53f59ae6dabfaeec23f8045b",
         4765,
         296,
         "Joel Saltz"
        ],
        [
         "548a9c6cdabfaed7b5fa4261",
         1383,
         296,
         "Hung Nguyen"
        ],
        [
         "53f4a126dabfaec3b577b3cb",
         6490,
         295,
         "Krithi Ramamritham"
        ],
        [
         "53f479badabfae8a6845bbc6",
         3715,
         295,
         "Mitsuru Ishizuka"
        ],
        [
         "53f4b7c2dabfaed4b677b3e9",
         3028,
         295,
         "Jian Huang"
        ],
        [
         "53f4432cdabfaeecd69a09ee",
         6537,
         295,
         "Barry Boehm"
        ],
        [
         "54485489dabfae87b7e0c9a4",
         1858,
         295,
         "Jaakko Astola"
        ],
        [
         "53f48d40dabfaea7cd1d1cba",
         7600,
         295,
         "Irwin King"
        ],
        [
         "542a5a2adabfae646d554e92",
         1531,
         295,
         "Z. Zhou"
        ],
        [
         "53f324f8dabfae9a8446bd0a",
         2822,
         295,
         "John Grundy"
        ],
        [
         "5448df88dabfae87b7e89e36",
         5798,
         295,
         "Wang-Chien Lee"
        ],
        [
         "5432704adabfae8eb14d4cb2",
         5219,
         295,
         "Wei Wang"
        ],
        [
         "542aa810dabfae646d57cd3a",
         4317,
         295,
         "Mugen Peng"
        ],
        [
         "53f4358ddabfaeb1a7beca72",
         2469,
         295,
         "Wolfgang Utschick"
        ],
        [
         "53f6362edabfaeac8f9bf11f",
         2695,
         294,
         "Shouyang Wang"
        ],
        [
         "53f59855dabfaee86cf8045b",
         5092,
         294,
         "Michael Ng"
        ],
        [
         "548a3169dabfae9b40134ff7",
         10562,
         294,
         "Azriel Rosenfeld"
        ],
        [
         "53f35ac2dabfae4b3496e251",
         3955,
         294,
         "Venu Govindaraju"
        ],
        [
         "54053d4ddabfae91d3fca8dc",
         5463,
         294,
         "Mary Irwin"
        ],
        [
         "5440980bdabfae805a6d8ffd",
         4090,
         294,
         "Bir Bhanu"
        ],
        [
         "53f4887cdabfaedd74eb2590",
         3808,
         294,
         "Thomas Seidl"
        ],
        [
         "544888e0dabfae87b7e3e18d",
         2165,
         293,
         "Enrico Pontelli"
        ],
        [
         "5485a676dabfae9b40133947",
         2964,
         293,
         "Weiming Shen"
        ],
        [
         "53f42c39dabfaeb1a7b79cd2",
         1742,
         293,
         "Yue Wu"
        ],
        [
         "53f43352dabfaee1c0a7e371",
         6519,
         293,
         "Tao Xie"
        ],
        [
         "5486cdc9dabfaed7b5fa2c44",
         1951,
         293,
         "Timo Hämäläinen"
        ],
        [
         "53f443cedabfaee43ec739d1",
         4862,
         292,
         "Wenwu Zhu"
        ],
        [
         "53f46211dabfaee4dc83c485",
         1950,
         292,
         "Lin-shan Lee"
        ],
        [
         "54487276dabfae87b7e26630",
         2043,
         292,
         "Wentong Cai"
        ],
        [
         "561d5a6a45cedb339806b33f",
         2934,
         292,
         "Houqiang Li"
        ],
        [
         "53f45ddbdabfaeb2ac0e655b",
         5529,
         292,
         "Chunming Qiao"
        ],
        [
         "5485bf9cdabfaed7b5fa24d6",
         2106,
         292,
         "Kaoru Hirota"
        ],
        [
         "54328211dabfaeb4c6a88fec",
         7457,
         292,
         "Ness Shroff"
        ],
        [
         "54883331dabfaed7b5fa35fe",
         4183,
         292,
         "Seong-Whan Lee"
        ],
        [
         "54054188dabfae91d3fcc8f8",
         2352,
         291,
         "Hongke Zhang"
        ],
        [
         "53f44fa3dabfaee1c0b11d32",
         1444,
         291,
         "Michitaka Hirose"
        ],
        [
         "53f4709adabfaedf4366d5a0",
         7068,
         291,
         "Swagatam Das"
        ],
        [
         "53f46ac2dabfaeb22f54fa4a",
         1398,
         291,
         "Satoshi Goto"
        ],
        [
         "53f4bb39dabfaeda9e77b3ba",
         6126,
         290,
         "David Eppstein"
        ],
        [
         "54853abddabfae8a11fb26f8",
         2846,
         290,
         "Hongxun Yao"
        ],
        [
         "53f43004dabfaeb2ac00b01f",
         10749,
         290,
         "Srinivas Devadas"
        ],
        [
         "54891d82dabfae9b401347e8",
         1257,
         290,
         "Pushpak Bhattacharyya"
        ],
        [
         "53f4d06fdabfaeedcf77dce5",
         2305,
         289,
         "Kai Wang"
        ],
        [
         "53f4a1e5dabfaec3bd77b4d9",
         4344,
         289,
         "Christian Jutten"
        ],
        [
         "548e7d34dabfaef989f0944c",
         2286,
         289,
         "Susanne Boll"
        ],
        [
         "53f593fbdabfaee263f8045b",
         939,
         289,
         "Manfred Glesner"
        ],
        [
         "53f446e3dabfaec09f1cb135",
         2922,
         289,
         "Yong Guan"
        ],
        [
         "54454761dabfae862da11218",
         6542,
         289,
         "Cheng-Lin Liu"
        ],
        [
         "548d7413dabfaed7b5fa486e",
         4248,
         289,
         "Jia Xiaohua"
        ],
        [
         "540838eddabfae450f400de1",
         7153,
         288,
         "David Peleg"
        ],
        [
         "54855152dabfae9b401335bc",
         1337,
         288,
         "Chao-Tung Yang"
        ],
        [
         "53f565c8dabfae61fff8045b",
         20945,
         288,
         "Fernando Pereira"
        ],
        [
         "53f7df32dabfae90ec126f66",
         1419,
         288,
         "Sebastian Möller"
        ],
        [
         "5622617845cedb33983bb99c",
         502,
         288,
         "Yang Yang"
        ],
        [
         "5448a94adabfae87b7e5c37d",
         10890,
         288,
         "Kui Ren"
        ],
        [
         "53f49681dabfaeb4c177bb65",
         11351,
         288,
         "H. Jagadish"
        ],
        [
         "53f43060dabfaee0d9b22b7c",
         1992,
         288,
         "Xavier Franch"
        ],
        [
         "53f81dc8dabfae938c7036c2",
         6117,
         288,
         "Guoliang Xue"
        ],
        [
         "5485ba46dabfae9b401339ca",
         1087,
         287,
         "Fuji Ren"
        ],
        [
         "544094d4dabfae7d84b86590",
         2781,
         287,
         "Sébastien Ourselin"
        ],
        [
         "5410449cdabfae44f08918c5",
         3981,
         287,
         "Boi Faltings"
        ],
        [
         "53f45117dabfaee02ad4445e",
         5663,
         287,
         "Antonio Plaza"
        ],
        [
         "53f55878dabfae383df8045b",
         4085,
         287,
         "Jon Mark"
        ],
        [
         "540579cbdabfae450f3b1b88",
         5002,
         287,
         "Derong Liu"
        ],
        [
         "5448134edabfae87b7dd3065",
         1001,
         287,
         "Christos Bouras"
        ],
        [
         "53f48d8bdabfaea7cd1d315a",
         11128,
         287,
         "Eric Horvitz"
        ],
        [
         "5448a9a6dabfae87b7e5c9b3",
         2717,
         287,
         "Shlomi Dolev"
        ],
        [
         "5406a21adabfae92b421a062",
         6388,
         286,
         "Kalle Lyytinen"
        ],
        [
         "53f556d7dabfae963d25e400",
         3713,
         286,
         "Minoru Asada"
        ],
        [
         "542d15f0dabfae489b97ab1f",
         1699,
         286,
         "Liusheng Huang"
        ],
        [
         "5487cc78dabfaed7b5fa32db",
         3041,
         286,
         "Sudip Misra"
        ],
        [
         "53f4806adabfae963d25a0ee",
         46879,
         286,
         "Scott Shenker"
        ],
        [
         "544878c2dabfae87b7e2beb3",
         2606,
         286,
         "Qun Liu"
        ],
        [
         "53f49220dabfaeb22f571d94",
         9984,
         286,
         "Divesh Srivastava"
        ],
        [
         "5448538edabfae87b7e0b201",
         7776,
         285,
         "Tuomas Sandholm"
        ],
        [
         "53f4326ddabfaedf435569b6",
         4656,
         285,
         "Toby Walsh"
        ],
        [
         "53f7bfd4dabfae938c6d77fa",
         2840,
         285,
         "Ana Paiva"
        ],
        [
         "540fcdbfdabfae450f4a6780",
         5620,
         285,
         "P. Sadayappan"
        ],
        [
         "542cdf80dabfae4bbcf811ec",
         644,
         285,
         "Wei Guo"
        ],
        [
         "53f4bcb4dabfaeda9b77b79d",
         7925,
         285,
         "Yishay Mansour"
        ],
        [
         "53f4525cdabfaee02ad49628",
         3930,
         285,
         "Shie Mannor"
        ],
        [
         "53f556d8dabfae963d25e84c",
         8556,
         285,
         "Song Zhu"
        ],
        [
         "54326b4bdabfaeb4ea4efff5",
         2076,
         285,
         "Torsten Braun"
        ],
        [
         "53f44feddabfaee1c0b1303e",
         3569,
         285,
         "Arthur Toga"
        ],
        [
         "53f479c8dabfae8a6845bfe1",
         7852,
         285,
         "Carole Goble"
        ],
        [
         "53f43547dabfaee4dc779466",
         2757,
         284,
         "Nenghai Yu"
        ],
        [
         "5484d882dabfaed7b5fa1c4d",
         4141,
         284,
         "Rongrong Ji"
        ],
        [
         "53f4dd1adabfaef96277b3ba",
         3676,
         284,
         "Tei-Wei Kuo"
        ],
        [
         "544068a0dabfae805a6bad3e",
         3722,
         284,
         "Andreas Holzinger"
        ],
        [
         "53f556d9dabfae963d25e90f",
         4678,
         284,
         "Pascal Hentenryck"
        ],
        [
         "545928f9dabfaeb0fe32e0cb",
         535,
         284,
         "Wei Li"
        ],
        [
         "543322fedabfaeb4c6aa9c7e",
         4258,
         284,
         "Janusz Kacprzyk"
        ],
        [
         "53f49d08dabfaedd74eb63be",
         13194,
         284,
         "Rafail Ostrovsky"
        ],
        [
         "53f42d57dabfaedf43516340",
         2581,
         283,
         "David Bull"
        ],
        [
         "53f432d5dabfaeee22985d77",
         5333,
         283,
         "Howard Siegel"
        ],
        [
         "548c4f2fdabfae8a11fb4b24",
         1125,
         283,
         "Emilio Luque"
        ],
        [
         "5433c965dabfaebba58273ce",
         1743,
         283,
         "Tatsuo Nakajima"
        ],
        [
         "542ce893dabfae216e635dd8",
         10907,
         283,
         "Xing Xie"
        ],
        [
         "54312d0ddabfae8f29134692",
         2520,
         283,
         "Hing-Cheung So"
        ],
        [
         "5448dae2dabfae87b7e8761f",
         11921,
         283,
         "Robert Haralick"
        ],
        [
         "53f42de4dabfaedce54cbd37",
         5304,
         283,
         "D Wang"
        ],
        [
         "5603335a45cedb3396106999",
         1470,
         283,
         "Katsumi Tanaka"
        ],
        [
         "53f64dc0dabfae0633f15b9d",
         2157,
         283,
         "Yang Liu"
        ],
        [
         "53f453dadabfaee4dc807d26",
         1931,
         283,
         "Sahin Albayrak"
        ],
        [
         "53f46c7cdabfaedce55f8829",
         2161,
         283,
         "Ken-Ichi Kawarabayashi"
        ],
        [
         "5434ce33dabfaebba5869126",
         741,
         283,
         "Yvon Savaria"
        ],
        [
         "53f561f3dabfae5c83f8045b",
         10713,
         282,
         "Gene Tsudik"
        ],
        [
         "54876ed1dabfae8a11fb3a21",
         1414,
         282,
         "Bernhard Thalheim"
        ],
        [
         "53f7b59adabfae9467dae41e",
         896,
         282,
         "Timothy Shih"
        ],
        [
         "53f4d068dabfaeeee9f81b87",
         3839,
         282,
         "Magnus Egerstedt"
        ],
        [
         "5432feebdabfaeb4c6aa48af",
         986,
         282,
         "Hee Youn"
        ],
        [
         "53f469b2dabfaee02ada1fc0",
         7655,
         282,
         "Qing-Long Han"
        ],
        [
         "548519e7dabfae9b40133371",
         5052,
         282,
         "Michael Goodrich"
        ],
        [
         "53f42790dabfaec09f0d9153",
         2409,
         282,
         "Lie-liang Yang"
        ],
        [
         "53f49850dabfaeb6d077b89a",
         4732,
         282,
         "Ching Suen"
        ],
        [
         "5484b3eadabfae9b4013302e",
         5258,
         282,
         "Alan Frieze"
        ],
        [
         "5484cee7dabfaed7b5fa1c29",
         6371,
         282,
         "Ahmed Hassan"
        ],
        [
         "53f55e50dabfae5249f8045b",
         3056,
         282,
         "Toru Ishida"
        ],
        [
         "53f488a2dabfaea3a923e72d",
         8082,
         281,
         "Hongyuan Zha"
        ],
        [
         "540915afdabfae450f45f5b0",
         6300,
         281,
         "Jiming Chen"
        ],
        [
         "53f4ab3edabfaee1c0baf7b3",
         3983,
         281,
         "Patrick Valduriez"
        ],
        [
         "544831d4dabfae87b7de36ae",
         3930,
         281,
         "Pin-Han Ho"
        ],
        [
         "548e3768dabfaef989f092af",
         3529,
         281,
         "Muhammad Khan"
        ],
        [
         "53f45934dabfaeecd69f5c66",
         2571,
         281,
         "Manfred Broy"
        ],
        [
         "5440df6cdabfae7d84bc1cf4",
         3488,
         281,
         "Antonio Loureiro"
        ],
        [
         "53f42db2dabfaee2a1c808ca",
         5892,
         281,
         "M. Gales"
        ],
        [
         "53fd93cedabfae8faa5ab47b",
         4189,
         280,
         "Trung Duong"
        ],
        [
         "548623fddabfaed7b5fa2740",
         1487,
         280,
         "Luigi Carro"
        ],
        [
         "53f48cb9dabfaea7cd1cfeae",
         1879,
         280,
         "Donato Malerba"
        ],
        [
         "53f45496dabfaec22baff123",
         1236,
         280,
         "Xiangjian He"
        ],
        [
         "53f48bfbdabfaea6f277b628",
         7348,
         280,
         "Jingyu Yang"
        ],
        [
         "5485e616dabfaed7b5fa263e",
         9346,
         280,
         "Brad Myers"
        ],
        [
         "53f43815dabfaeb2ac062b2a",
         6575,
         280,
         "V. Subrahmanian"
        ],
        [
         "53f58f2adabfaedb04f80463",
         3335,
         280,
         "Tao Jiang"
        ],
        [
         "5405d91bdabfae92b42057b0",
         6808,
         280,
         "Steve Benford"
        ],
        [
         "53f446cadabfaedd74defdc9",
         1186,
         280,
         "Mohamad Sawan"
        ],
        [
         "53f474d2dabfaedce5606176",
         2722,
         280,
         "Nikola Kasabov"
        ],
        [
         "53f48045dabfae963d2592f0",
         15573,
         280,
         "Wei-Ying Ma"
        ],
        [
         "54480c93dabfae87b7dcbb15",
         2905,
         279,
         "Jong-Hwan Kim"
        ],
        [
         "53f42b5cdabfaec09f0f44cc",
         3775,
         279,
         "John Lygeros"
        ],
        [
         "53f4ab53dabfaeb22f575b3c",
         4907,
         279,
         "Timos Sellis"
        ],
        [
         "54333939dabfaeb54217d0a8",
         2971,
         279,
         "Moeness Amin"
        ],
        [
         "53f4dc6cdabfaef7e977bc53",
         10703,
         279,
         "Nancy Lynch"
        ],
        [
         "54301536dabfaeca69bc4dd8",
         2596,
         279,
         "John Baras"
        ],
        [
         "5485b7cfdabfae8a11fb2b5d",
         3719,
         279,
         "Lutz Bornmann"
        ],
        [
         "53f55b3edabfae4d0af8045b",
         1529,
         279,
         "Qinghua Zheng"
        ],
        [
         "548c9d42dabfae8a11fb4c0b",
         5449,
         279,
         "Stephen Brewster"
        ],
        [
         "53f46396dabfaedce55de2cf",
         6727,
         279,
         "Shengyuan Xu"
        ],
        [
         "53f4366bdabfaee0d9b651d0",
         5515,
         279,
         "Touradj Ebrahimi"
        ],
        [
         "542b61dbdabfae2b4e15d6e3",
         3203,
         279,
         "Jianping Fan"
        ],
        [
         "53f49822dabfaeb6ca77b963",
         1949,
         279,
         "Takahiro Hara"
        ],
        [
         "56314fe145cedb3399d7a43d",
         3808,
         279,
         "Sonia Aïssa"
        ],
        [
         "53f4d3d6dabfaef205f81708",
         11022,
         279,
         "Shaogang Gong"
        ],
        [
         "53f568bbdabfae6640f8045b",
         1278,
         279,
         "Jongwon Kim"
        ],
        [
         "54873aa2dabfae8a11fb36eb",
         1588,
         278,
         "Maode Ma"
        ],
        [
         "53f48c99dabfaea7cd1cf668",
         2467,
         278,
         "Hsin-Hsi Chen"
        ],
        [
         "53f44a37dabfaee4dc7e0bee",
         1202,
         278,
         "Junzhou Luo"
        ],
        [
         "542a1156dabfaec7081db563",
         1124,
         278,
         "Yue Wang"
        ],
        [
         "53f79f6bdabfae938c6c81c5",
         5854,
         278,
         "Cheng-Xiang Wang"
        ],
        [
         "53f43a0bdabfaec09f19e86e",
         3715,
         278,
         "Iryna Gurevych"
        ],
        [
         "53f42a9ddabfaeb22f3da334",
         6480,
         278,
         "Jaime Carbonell"
        ],
        [
         "54489754dabfae87b7e4a051",
         8932,
         278,
         "Ming Lin"
        ],
        [
         "54323fcddabfaeb4ea4e7dd7",
         4051,
         277,
         "Yao-Wen Chang"
        ],
        [
         "548954cddabfae9b40134982",
         4567,
         277,
         "D. Hong"
        ],
        [
         "5429bf41dabfaec7081afc84",
         2544,
         277,
         "L. Guo"
        ],
        [
         "543258e3dabfaeb4c6a7fa5f",
         3554,
         277,
         "Kiyohiro SHIKANO"
        ],
        [
         "53f556bbdabfaea7cd1d6214",
         8083,
         277,
         "Boualem Benatallah"
        ],
        [
         "53f7aa19dabfae92b40d3fbb",
         2046,
         277,
         "Umapada Pal"
        ],
        [
         "53f7cdd4dabfae90ec11ee2d",
         3922,
         277,
         "Sherali Zeadally"
        ],
        [
         "548dcdd0dabfaef989f0915a",
         3366,
         277,
         "Kurt Rothermel"
        ],
        [
         "53f4a61adabfaee0d9c76017",
         6076,
         277,
         "Diane Cook"
        ],
        [
         "548f3ccfdabfaef989f0986d",
         2719,
         277,
         "Reihaneh Safavi-naini"
        ],
        [
         "5486383edabfae8a11fb3138",
         3907,
         276,
         "Torsten Schaub"
        ],
        [
         "5432ba72dabfaeb542164bf0",
         2303,
         276,
         "Dong Lee"
        ],
        [
         "56027b1f45cedb3395fb1141",
         4931,
         276,
         "Enrico Motta"
        ],
        [
         "54055740dabfae44f0803fbb",
         601,
         276,
         "Naohiro Ishii"
        ],
        [
         "53f59132dabfaede19f8045b",
         4193,
         276,
         "Josep Domingo-Ferrer"
        ],
        [
         "548f7542dabfaef989f09931",
         7042,
         276,
         "Alan Bovik"
        ],
        [
         "53f430afdabfaec22ba423e8",
         9108,
         276,
         "Ravi Sandhu"
        ],
        [
         "53f31b07dabfae9a84434aa8",
         2034,
         275,
         "Adriano Camps"
        ],
        [
         "53f46840dabfaefedbb90008",
         2033,
         275,
         "Tatsuya Kawahara"
        ],
        [
         "548544d6dabfae9b401334dd",
         2399,
         275,
         "Chunyan Miao"
        ],
        [
         "53f637dedabfae1da79bf23a",
         3232,
         275,
         "Leendert Torre"
        ],
        [
         "54853941dabfae9b401334b2",
         7601,
         275,
         "Robert Brayton"
        ],
        [
         "53f4615fdabfaee4dc839ac6",
         3180,
         275,
         "Daniel Weiskopf"
        ],
        [
         "53f48bc5dabfaea7cd1cce1d",
         5591,
         274,
         "Srinivasan Parthasarathy"
        ],
        [
         "548a2cd9dabfae9b40134f73",
         1319,
         274,
         "Dieter Rautenbach"
        ],
        [
         "54874c92dabfae9b401344ea",
         1083,
         274,
         "Keikichi Hirose"
        ],
        [
         "54302aacdabfaeca69bd0cf8",
         2320,
         274,
         "B. Rajan"
        ],
        [
         "53f45110dabfaee2a1d5efb1",
         2534,
         274,
         "Yi Xu"
        ],
        [
         "544073fddabfae805a6bfc64",
         2819,
         274,
         "Markus Rupp"
        ],
        [
         "53f5629edabfae5d72f8045b",
         2917,
         273,
         "Anton Nijholt"
        ],
        [
         "53f4925fdabfaeb22f571e91",
         2842,
         273,
         "Yuval Elovici"
        ],
        [
         "542e08d6dabfae4b91c3dac5",
         1151,
         273,
         "Xingwei Wang"
        ],
        [
         "54899090dabfae8a11fb4637",
         4895,
         273,
         "Junwei Han"
        ],
        [
         "542ee8c1dabfae4a9e498caf",
         1711,
         273,
         "Pingyi Fan"
        ],
        [
         "53f48525dabfaedf436905bf",
         25058,
         273,
         "Sebastian Thrun"
        ],
        [
         "548790b6dabfaed7b5fa3106",
         2266,
         273,
         "Hamido Fujita"
        ],
        [
         "5448d85ddabfae87b7e85303",
         2031,
         273,
         "Dong-Ho Cho"
        ],
        [
         "53f4a440dabfaec65977b3ba",
         7517,
         273,
         "Weiming Hu"
        ],
        [
         "53f564badabfae607af8045b",
         7057,
         273,
         "Sören Auer"
        ],
        [
         "54299643dabfaec708197003",
         1926,
         273,
         "Jianhua Lu"
        ],
        [
         "542a7b43dabfae646d568371",
         3937,
         273,
         "Xiaofeng Liao"
        ],
        [
         "53f58f74dabfaedb8ef8045b",
         5851,
         273,
         "Ming Zhou"
        ],
        [
         "54873960dabfae9b401343b9",
         861,
         272,
         "Naoyuki Kubota"
        ],
        [
         "53f4546bdabfaee43ecb5633",
         5842,
         272,
         "Sartaj Sahni"
        ],
        [
         "53f46657dabfaedf43645ae5",
         3392,
         272,
         "Jean Vanderdonckt"
        ],
        [
         "5485520cdabfae9b401335d9",
         1186,
         272,
         "Toyoaki Nishida"
        ],
        [
         "542e06e7dabfae4b91c3d126",
         1483,
         272,
         "Guoren Wang"
        ],
        [
         "53f495c3dabfaeb4c277b8bc",
         3459,
         272,
         "Bo Zhang"
        ],
        [
         "53f4550bdabfaee43ecb7bd0",
         2228,
         272,
         "Emilio Corchado"
        ],
        [
         "54407e8edabfae805a6c5cac",
         1198,
         272,
         "Wang Zhiying"
        ],
        [
         "548d75eddabfaed7b5fa48b6",
         5514,
         272,
         "Jerry Prince"
        ],
        [
         "53f48dbfdabfaea7cd1d4389",
         7949,
         272,
         "Hanan Samet"
        ],
        [
         "5448a664dabfae87b7e5994c",
         6346,
         271,
         "Roy Campbell"
        ],
        [
         "560566a545cedb339660b936",
         11377,
         271,
         "Mung Chiang"
        ],
        [
         "53f48bcddabfaea7cd1ccfc4",
         4537,
         271,
         "Carlo Zaniolo"
        ],
        [
         "56319c5045cedb3399e9743b",
         2881,
         271,
         "Yang Xiang"
        ],
        [
         "544114eadabfae805a728701",
         2976,
         271,
         "Eduard Jorswieck"
        ],
        [
         "53f4ad79dabfaeb22f575e0a",
         4628,
         271,
         "Y. Sun"
        ],
        [
         "5448a3dfdabfae87b7e56343",
         1865,
         271,
         "Alagan Anpalagan"
        ],
        [
         "53f429a5dabfaeb22f3d5a9d",
         4009,
         271,
         "Kwang-Cheng Chen"
        ],
        [
         "5448b9eddabfae87b7e6dad2",
         590,
         270,
         "Xin Wang"
        ],
        [
         "5489c5b3dabfae9b40134db8",
         3808,
         270,
         "Iadh Ounis"
        ],
        [
         "53f43882dabfaedd74db4294",
         2010,
         270,
         "Mehdi Tahoori"
        ],
        [
         "53f48cbedabfaea7cd1cffec",
         2457,
         270,
         "David Taniar"
        ],
        [
         "53f42bf1dabfaeb22f3f23ea",
         2525,
         270,
         "Giancarlo Fortino"
        ],
        [
         "54344f4edabfaebba5856790",
         2316,
         270,
         "Danilo Mandic"
        ],
        [
         "53f4928adabfaeb15977b5d7",
         2301,
         270,
         "Shu-Ching Chen"
        ],
        [
         "53f48b9adabfaee4dc8b2abf",
         6020,
         270,
         "Heng Shen"
        ],
        [
         "54854d4edabfae8a11fb2816",
         2849,
         270,
         "Joemon Jose"
        ],
        [
         "53f47eb6dabfae9126cc40d8",
         17093,
         269,
         "Vipin Kumar"
        ],
        [
         "53f4b0badabfaecfaf77b45f",
         3793,
         269,
         "Alfons Kemper"
        ],
        [
         "5440b88ddabfae7f9b34b992",
         318,
         269,
         "Yu Zhang"
        ],
        [
         "53f44570dabfaefedbb10f71",
         2176,
         269,
         "Haiying Shen"
        ],
        [
         "53f7c113dabfae938c6d7f00",
         3042,
         269,
         "King Ngan"
        ],
        [
         "548fa5a9dabfaef989f09aa6",
         14251,
         269,
         "Philip Torr"
        ],
        [
         "53f47c6bdabfaeb22f56e8e0",
         2741,
         269,
         "Wenjun Zhang"
        ],
        [
         "53f592e8dabfaee0d9f8045b",
         2382,
         269,
         "Naofal Al-Dhahir"
        ],
        [
         "543124fbdabfae8f291310ae",
         1402,
         269,
         "Abdul Sattar"
        ],
        [
         "53f4cf51dabfaeedd977cd3c",
         4550,
         269,
         "Panos Pardalos"
        ],
        [
         "53f43742dabfaee2a1cee09c",
         3458,
         268,
         "Tanja Schultz"
        ],
        [
         "54410228dabfae805a71c672",
         968,
         268,
         "Burkhard Stiller"
        ],
        [
         "54484568dabfae87b7dfaece",
         5386,
         268,
         "Osvaldo Simeone"
        ],
        [
         "53f4db3cdabfaef7e077b457",
         22859,
         268,
         "Randy Katz"
        ],
        [
         "56cb18b9c35f4f3c6565e25a",
         2801,
         268,
         "Min Tan"
        ],
        [
         "53f356b0dabfae4b3495ec3a",
         2444,
         268,
         "F.C.M. Lau"
        ],
        [
         "548c8bbcdabfaed7b5fa4413",
         2317,
         268,
         "Kyung Kwak"
        ],
        [
         "53f492a9dabfaeb15b77b5f5",
         34041,
         268,
         "Christopher Manning"
        ],
        [
         "54409f33dabfae7d84b9127f",
         1958,
         268,
         "Hongfang Liu"
        ],
        [
         "53f48495dabfaeb22f570b87",
         14879,
         267,
         "Guillermo Sapiro"
        ],
        [
         "54482271dabfae87b7dde478",
         4862,
         267,
         "Shipeng Li"
        ],
        [
         "548ca214dabfaed7b5fa453b",
         3923,
         267,
         "Robert Kauffman"
        ],
        [
         "53f7ed60dabfae938c6ecad8",
         8815,
         267,
         "Somesh Jha"
        ],
        [
         "562b857945cedb3398a8c714",
         580,
         267,
         "Fan Yang"
        ],
        [
         "53f644c0dabfaec4773fa719",
         1759,
         267,
         "Franz Wotawa"
        ],
        [
         "53f4808ddabfae963d25abed",
         16707,
         267,
         "Christos Papadimitriou"
        ],
        [
         "53f4683bdabfaeb22f545078",
         2614,
         267,
         "Wagner Jr."
        ],
        [
         "53f455a7dabfaee0d9bf1113",
         974,
         267,
         "Tughrul Arslan"
        ],
        [
         "53f48bbadabfaea7cd1ccb54",
         6002,
         267,
         "Luc Raedt"
        ],
        [
         "54084a08dabfae92b4239c0e",
         6048,
         267,
         "A. Raghunathan"
        ],
        [
         "54488419dabfae87b7e38d20",
         9866,
         267,
         "Daniel Cohen-Or"
        ],
        [
         "548805ccdabfaed7b5fa3418",
         2073,
         266,
         "Laurence Yang"
        ],
        [
         "53f48665dabfaeb1a7cd1883",
         15431,
         266,
         "Jürgen Schmidhuber"
        ],
        [
         "5406eddfdabfae92b4229fee",
         2833,
         266,
         "Eduard Ayguadé"
        ],
        [
         "54872548dabfae9b40134291",
         13694,
         266,
         "M Vetterli"
        ],
        [
         "53f45e7edabfaee43ecd9108",
         2006,
         266,
         "Mohamed Cheriet"
        ],
        [
         "5484e46edabfae9b40133209",
         6790,
         266,
         "Sennur Ulukus"
        ],
        [
         "53f6428ddabfaed5100f3cc2",
         3124,
         266,
         "Weili Wu"
        ],
        [
         "53f43396dabfaeecd694319b",
         1439,
         265,
         "Ruimin Hu"
        ],
        [
         "53f49a73dabfaebbd877b767",
         2599,
         265,
         "Gagan Agrawal"
        ],
        [
         "53f436eddabfaee02acceb2e",
         1119,
         265,
         "Hideo Saito"
        ],
        [
         "54408fd5dabfae7d84b82089",
         1573,
         265,
         "B. Oommen"
        ],
        [
         "53f4691adabfaee4dc858fca",
         5943,
         265,
         "Junsong Yuan"
        ],
        [
         "543299d1dabfaeb4c6a91f2e",
         2084,
         265,
         "Juan-Carlos Cano"
        ],
        [
         "5631a58f45cedb3399eb74f5",
         2258,
         265,
         "Jinho Choi"
        ],
        [
         "53f45e08dabfaee43ecd7805",
         3391,
         265,
         "Tomoki Toda"
        ],
        [
         "54087b98dabfae450f41f3f8",
         3138,
         264,
         "Q. Wu"
        ],
        [
         "53f42e0cdabfaec22ba20731",
         2332,
         264,
         "Samarjit Chakraborty"
        ],
        [
         "542ab7c2dabfae646d5822e9",
         2567,
         264,
         "Xianbin Wang"
        ],
        [
         "53f466e1dabfaedd74e6ba87",
         2984,
         263,
         "Marcos Gonçalves"
        ],
        [
         "53f7f8c8dabfae9060aff5df",
         4856,
         263,
         "K. Goldberg"
        ],
        [
         "54862f8ddabfae8a11fb3097",
         2111,
         263,
         "Fabio Crestani"
        ],
        [
         "542c4825dabfae2b4e1fcd5a",
         3617,
         263,
         "Jianmin Wang"
        ],
        [
         "53f49a86dabfaebbd477b7b9",
         4109,
         263,
         "Wei Zhao"
        ],
        [
         "53f43211dabfaeb2ac02596f",
         10249,
         263,
         "S. Muthukrishnan"
        ],
        [
         "5448eb4edabfaea4cf3c09b6",
         2158,
         263,
         "Tianyou Chai"
        ],
        [
         "540944a2dabfae450f471291",
         1143,
         262,
         "Hajime Asama"
        ],
        [
         "53f556d9dabfae963d25e9a9",
         21439,
         262,
         "Edmund Clarke"
        ],
        [
         "542aa81cdabfae646d57cdd8",
         2079,
         262,
         "Jianwei Niu"
        ],
        [
         "56cb1894c35f4f3c65652497",
         5447,
         262,
         "Wangmeng Zuo"
        ],
        [
         "53f48c0fdabfaea7cd1cdf72",
         16974,
         262,
         "J. Ullman"
        ],
        [
         "53f488b5dabfaea3a723e72d",
         2242,
         262,
         "Patrick Gallinari"
        ],
        [
         "53f55e18dabfae5201f8045d",
         3733,
         262,
         "Yuji Matsumoto"
        ],
        [
         "53f4806cdabfae963d25a184",
         38107,
         262,
         "Ion Stoica"
        ],
        [
         "53f56335dabfae5e4af8045b",
         5590,
         262,
         "M. Palaniswami"
        ],
        [
         "5408a9dddabfae450f43462b",
         3272,
         262,
         "Shaojie Tang"
        ],
        [
         "53f4572ddabfaee4dc814f96",
         2130,
         261,
         "Shin'ichi Satoh"
        ],
        [
         "54488fa4dabfae87b7e43870",
         1556,
         261,
         "Andrew Adamatzky"
        ],
        [
         "53f48ccadabfaea7cd1d02a8",
         10247,
         261,
         "Dan Suciu"
        ],
        [
         "53f7e7fddabfae9060af6928",
         1296,
         261,
         "Kee-Young Yoo"
        ],
        [
         "53f43a6bdabfaec09f1a3210",
         4738,
         261,
         "João Gama"
        ],
        [
         "53f4530fdabfaeecd69de9ca",
         2908,
         261,
         "Sven Behnke"
        ],
        [
         "548c7eb4dabfaed7b5fa43c0",
         1526,
         261,
         "Volker Gruhn"
        ],
        [
         "53f48060dabfae963d259c2b",
         2139,
         260,
         "Jian Yang"
        ],
        [
         "542a571ddabfae646d552c77",
         917,
         260,
         "Xiaofeng Tao"
        ],
        [
         "5448d829dabfae87b7e850cf",
         5295,
         260,
         "Andrew Whinston"
        ],
        [
         "548ec09adabfaef989f09601",
         1588,
         260,
         "Markku Juntti"
        ],
        [
         "53f5670ddabfae63c0f8045b",
         2174,
         260,
         "Young-Koo Lee"
        ],
        [
         "5409729bdabfae450f4869cd",
         5431,
         260,
         "Jianwei Huang"
        ],
        [
         "53f471a6dabfaeee22a7d3b8",
         9952,
         260,
         "Max Viergever"
        ],
        [
         "53f49a17dabfaebbd777b7fc",
         2885,
         260,
         "Barbara Hammer"
        ],
        [
         "53f5574edabfae3106f8045b",
         2602,
         260,
         "Helge Ritter"
        ],
        [
         "54899c7ddabfae9b40134bca",
         1426,
         260,
         "Sanguthevar Rajasekaran"
        ],
        [
         "53f4a8b9dabfaeb22f57487a",
         5318,
         259,
         "Jun Wang"
        ],
        [
         "53f43417dabfaeb1a7bddd0d",
         2027,
         259,
         "Nizar Bouguila"
        ],
        [
         "53f44a16dabfaee43ec8c738",
         1593,
         259,
         "Keqiu Li"
        ],
        [
         "5448035edabfae87b7dc2f49",
         2463,
         259,
         "Volker Wulf"
        ],
        [
         "54898a6bdabfaed7b5fa3cda",
         4358,
         259,
         "Petros Maragos"
        ],
        [
         "53f46ba6dabfaeee22a67584",
         955,
         259,
         "Miguel Vega-Rodríguez"
        ],
        [
         "53f4802ddabfaee43ed5592b",
         1944,
         259,
         "K. Teo"
        ],
        [
         "53f4cf8edabfaeeee9f80bb3",
         843,
         258,
         "Yonghong Yan"
        ],
        [
         "54858852dabfae8a11fb2acb",
         2743,
         258,
         "John-Jules Meyer"
        ],
        [
         "53f42c68dabfaeb1a7b7c72b",
         1985,
         258,
         "Frank Allgöwer"
        ],
        [
         "542a4c86dabfae646d54adf5",
         2537,
         258,
         "Yi Pan"
        ],
        [
         "5405c7d3dabfae91d300c0c2",
         1346,
         258,
         "M. Swamy"
        ],
        [
         "53f49805dabfaee0d9c74ba2",
         3014,
         258,
         "Salem Benferhat"
        ],
        [
         "53f44b1ddabfaee2a1d47d4e",
         4303,
         258,
         "Fedor Fomin"
        ],
        [
         "5405dcd6dabfae8faa607330",
         10526,
         258,
         "Tian He"
        ],
        [
         "543274a7dabfaeb5421556ba",
         2121,
         258,
         "Pietro Manzoni"
        ],
        [
         "5433bb77dabfaeb4c6aca13a",
         1056,
         258,
         "M. Ahmad"
        ],
        [
         "53f48e73dabfaedd74eb3aba",
         2142,
         257,
         "C. Jawahar"
        ],
        [
         "53f63f10dabfaea71a9bf121",
         1178,
         257,
         "Kenichi Okada"
        ]
       ],
       "datasetInfos": [],
       "dbfsResultPath": null,
       "isJsonSchema": true,
       "metadata": {},
       "overflow": true,
       "plotOptions": {
        "customPlotOptions": {},
        "displayType": "table",
        "pivotAggregation": null,
        "pivotColumns": null,
        "xColumns": null,
        "yColumns": null
       },
       "removedWidgets": [],
       "schema": [
        {
         "metadata": "{}",
         "name": "Author_ID",
         "type": "\"string\""
        },
        {
         "metadata": "{}",
         "name": "TotalCitations",
         "type": "\"long\""
        },
        {
         "metadata": "{}",
         "name": "PaperCount",
         "type": "\"long\""
        },
        {
         "metadata": "{}",
         "name": "Name",
         "type": "\"string\""
        }
       ],
       "type": "table"
      }
     },
     "output_type": "display_data"
    }
   ],
   "source": [
    "countFrame = joined.groupBy(\"Author_ID\").agg(\n",
    "        F.sum(\"NumberOfCitations\").alias(\"TotalCitations\"), \n",
    "        F.count(\"Publication_ID\").alias(\"PaperCount\"),\n",
    "    ).select(\"Author_ID\", \"TotalCitations\", \"PaperCount\")\n",
    "\n",
    "countFrame = authors.join(countFrame, countFrame.Author_ID == authors._id).withColumn(\"Name\", F.concat(\"FirstName\", F.lit(\" \"), \"LastName\")).drop(\"_id\", \"email\", \"FirstName\", \"MiddleName\", \"LastName\")\n",
    "display(countFrame.orderBy(F.col(\"PaperCount\").desc()))"
   ]
  },
  {
   "cell_type": "code",
   "execution_count": 0,
   "metadata": {
    "application/vnd.databricks.v1+cell": {
     "inputWidgets": {},
     "nuid": "88e7c2d0-e7d4-44d9-8bfa-cb27de6acadd",
     "showTitle": false,
     "title": ""
    }
   },
   "outputs": [
    {
     "data": {
      "text/html": [
       "<style scoped>\n",
       "  .table-result-container {\n",
       "    max-height: 300px;\n",
       "    overflow: auto;\n",
       "  }\n",
       "  table, th, td {\n",
       "    border: 1px solid black;\n",
       "    border-collapse: collapse;\n",
       "  }\n",
       "  th, td {\n",
       "    padding: 5px;\n",
       "  }\n",
       "  th {\n",
       "    text-align: left;\n",
       "  }\n",
       "</style><div class='table-result-container'><table class='table-result'><thead style='background-color: white'><tr><th>Author_ID</th><th>HIndex</th><th>Name</th></tr></thead><tbody><tr><td>53f4cadadabfaee57c780346</td><td>13</td><td>Diane Tang</td></tr><tr><td>53f495f3dabfaeb4c477b931</td><td>13</td><td>Vardy, A.</td></tr><tr><td>53f435bddabfaee0d9b6004b</td><td>13</td><td>Anukool Lakhina</td></tr><tr><td>53f438ccdabfaeecd69758b9</td><td>12</td><td>Raman Sarin</td></tr><tr><td>53f45331dabfaeb22f4f450f</td><td>12</td><td>Ossama Abdel-Hamid</td></tr><tr><td>53f43a43dabfaee0d9b88ae2</td><td>12</td><td>Geoff Hulten</td></tr><tr><td>53f44fe3dabfaee0d9bd9bbf</td><td>12</td><td>Wolf-Dietrich Weber</td></tr><tr><td>54328e2adabfaeb4c6a8cee5</td><td>12</td><td>F. DiCesare</td></tr><tr><td>53f38ef0dabfae4b34a48867</td><td>12</td><td>D.P. Palomar</td></tr><tr><td>53f44fe8dabfaefedbb38737</td><td>11</td><td>Petri Tanskanen</td></tr><tr><td>53f38f20dabfae4b34a49ce3</td><td>11</td><td>jenny finkel</td></tr><tr><td>53f4319ddabfaee0d9b32aa2</td><td>11</td><td>Bernd Freimut</td></tr><tr><td>53f35716dabfae4b34960445</td><td>11</td><td>Sean Quinlan</td></tr><tr><td>53f47e45dabfaee43ed5033d</td><td>11</td><td>Robert Szewczyk</td></tr><tr><td>53f4dbfcdabfaef7e677b518</td><td>11</td><td>Timothy Sohn</td></tr><tr><td>53f43b10dabfaeecd698c5b5</td><td>11</td><td>Sarma Nidumolu</td></tr><tr><td>53f46080dabfaeb22f52543f</td><td>11</td><td>brian babcock</td></tr><tr><td>53f4355cdabfaee2a1cdda92</td><td>11</td><td>Pedro Leon</td></tr><tr><td>5448758bdabfae87b7e28421</td><td>11</td><td>Li Shang</td></tr><tr><td>53f432a6dabfaee0d9b3f93f</td><td>11</td><td>Sergey Brin</td></tr><tr><td>53f32364dabfae9a844633b6</td><td>11</td><td>Jesse Levinson</td></tr><tr><td>53f42e59dabfaee0d9b096ee</td><td>11</td><td>Brian Mitchell</td></tr><tr><td>53f42b4fdabfaedce54a3fe9</td><td>11</td><td>Shaoqing Ren</td></tr><tr><td>53f471e7dabfaee4dc87bb11</td><td>11</td><td>R. Larson</td></tr><tr><td>53f47a2fdabfaee43ed41ad4</td><td>10</td><td>Steven Gianvecchio</td></tr><tr><td>53f45318dabfaedf435fed4f</td><td>10</td><td>Michelle Cartwright</td></tr><tr><td>53f38ef0dabfae4b34a488ab</td><td>10</td><td>D. Gavrila</td></tr><tr><td>53f4438fdabfaee02ad0dd7e</td><td>10</td><td>Atul Singh</td></tr><tr><td>53f43469dabfaeb2ac0401b5</td><td>10</td><td>Taha Elhag</td></tr><tr><td>53f43e87dabfaee02ad040ee</td><td>10</td><td>Konrad Lorincz</td></tr><tr><td>53f45258dabfaee02ad4956d</td><td>10</td><td>Kevin Li</td></tr><tr><td>5440e556dabfae805a706471</td><td>10</td><td>Nick Yee</td></tr><tr><td>53f46c2adabfaec09f256763</td><td>10</td><td>Carolyn Brodie</td></tr><tr><td>54069321dabfae44f084256f</td><td>10</td><td>Susan Horwitz</td></tr><tr><td>53f43058dabfaeb22f42d64a</td><td>10</td><td>Jia-Wei Fang</td></tr><tr><td>563159e445cedb3399da0eaa</td><td>10</td><td>Christopher Mayhew</td></tr><tr><td>53f44541dabfaee43ec7950b</td><td>10</td><td>Christine Pao</td></tr><tr><td>53f482cddabfaec09f2a3dd8</td><td>10</td><td>V. Milanés</td></tr><tr><td>53f4322edabfaedd74d73ed7</td><td>10</td><td>Thanasis Tsantilas</td></tr><tr><td>53f42dc2dabfaee2a1c8150c</td><td>10</td><td>William Landi</td></tr><tr><td>53f477fddabfaee43ed3b2bd</td><td>10</td><td>Benjamin Taskar</td></tr><tr><td>53f49646dabfaeb4c477ba5d</td><td>10</td><td>Patrick Brown</td></tr><tr><td>53f4376cdabfaec09f18651b</td><td>10</td><td>Richard Wang</td></tr><tr><td>53f43a35dabfaec09f1a0936</td><td>10</td><td>R. Touzi</td></tr><tr><td>53f43e56dabfaee43ec68e4a</td><td>10</td><td>Jo Hannay</td></tr><tr><td>53f45bcadabfaeecd69fa8da</td><td>10</td><td>Lin Liao</td></tr><tr><td>53f444dddabfaedf435c68ae</td><td>10</td><td>Reynol Junco</td></tr><tr><td>53f444f3dabfaec22bac2b04</td><td>10</td><td>Martin Farber</td></tr><tr><td>53f431cbdabfaeb1a7bc35cd</td><td>10</td><td>Martin Peralta-Gil</td></tr><tr><td>53f4c2d8dabfaedce565c8b6</td><td>9</td><td>Daniel Robbins</td></tr><tr><td>53f44b4ddabfaeb22f4d4229</td><td>9</td><td>Harish Krishnaswamy</td></tr><tr><td>54059b3cdabfae450f3bc267</td><td>9</td><td>A. Nemirovski</td></tr><tr><td>53f434fedabfaee2a1cd9e38</td><td>9</td><td>Sridhar Balasubramanian</td></tr><tr><td>53f439ebdabfaee2a1d06e9f</td><td>9</td><td>christian kerl</td></tr><tr><td>53f43a4cdabfaeecd698388b</td><td>9</td><td>Chaitanya Chemudugunta</td></tr><tr><td>53f43465dabfaee2a1cd34a6</td><td>9</td><td>William Blume</td></tr><tr><td>53f4354bdabfaee43ec26528</td><td>9</td><td>Johnny Lee</td></tr><tr><td>53f43519dabfaee4dc777ad5</td><td>9</td><td>Douglas Turnbull</td></tr><tr><td>53f42e81dabfaee0d9b0b72f</td><td>9</td><td>Barış Fidan</td></tr><tr><td>53f44c89dabfaee4dc7ea2ad</td><td>9</td><td>Sadaf Zahedi</td></tr><tr><td>53f44b1ddabfaee43ec90bd6</td><td>9</td><td>Eleanor Toye</td></tr><tr><td>53f464e0dabfaeee22a4e003</td><td>9</td><td>Jonathan Binney</td></tr><tr><td>53f43334dabfaeb2ac032e1e</td><td>9</td><td>Juan Tardós</td></tr><tr><td>53f461d7dabfaee43ece499d</td><td>9</td><td>M. Grunes</td></tr><tr><td>53f4693ddabfaeecd6a1810e</td><td>9</td><td>Wei-Kuang Huang</td></tr><tr><td>53f43347dabfaeee2298ab33</td><td>9</td><td>Terry Friesz</td></tr><tr><td>53f4cf65dabfaeeee1f809a4</td><td>9</td><td>Francesco Calabrese</td></tr><tr><td>53f42e95dabfaee43ebd41fe</td><td>9</td><td>Alexander Markowetz</td></tr><tr><td>53f42cbadabfaedf4350d03e</td><td>9</td><td>Ruibin Xu</td></tr><tr><td>53f43066dabfaedce54eb71f</td><td>9</td><td>Aleksey Golovinskiy</td></tr><tr><td>53f43721dabfaec09f183745</td><td>9</td><td>Johnny Accot</td></tr><tr><td>53f43bb9dabfaedf435b2339</td><td>9</td><td>Jeffrey Jestes</td></tr><tr><td>53f46d55dabfaee2a1dca848</td><td>9</td><td>Aaron Edsinger</td></tr><tr><td>54053789dabfae8faa5b4322</td><td>9</td><td>Hyunjoo Kim</td></tr><tr><td>54450cdbdabfae862da014ff</td><td>9</td><td>Yang Xiao</td></tr><tr><td>53f43aa7dabfaefedbaf1727</td><td>9</td><td>S. Tarantola</td></tr><tr><td>53f3985bdabfae4b34a81aac</td><td>9</td><td>Martin Madera</td></tr><tr><td>53f43321dabfaee43ec0de24</td><td>9</td><td>Rafael Lotufo</td></tr><tr><td>53f43084dabfaedd74d5e82b</td><td>9</td><td>Z. Xu</td></tr><tr><td>53f43a2bdabfaeb22f4945a3</td><td>9</td><td>Emil Praun</td></tr><tr><td>53f4335adabfaee1c0a7e938</td><td>9</td><td>Toni Rath</td></tr><tr><td>53f448fedabfaee1c0af7891</td><td>9</td><td>Shiliang Hu</td></tr><tr><td>53f3a047dabfae4b34ab5c6a</td><td>9</td><td>René Koster</td></tr><tr><td>53f42fc9dabfaee2a1c9aed5</td><td>9</td><td>Yougu Yuan</td></tr><tr><td>53f42fd5dabfaee02ac7fae3</td><td>9</td><td>Jiewen Huang</td></tr><tr><td>544835a1dabfae87b7de7f22</td><td>9</td><td>Vimal Singh</td></tr><tr><td>53f42e3bdabfaedd74d41c60</td><td>9</td><td>Jernej Barbič</td></tr><tr><td>53f3823fdabfae4b349fcb52</td><td>9</td><td>E Selkov</td></tr><tr><td>54085ad3dabfae450f4105eb</td><td>9</td><td>Fernando Paganini</td></tr><tr><td>53f434cbdabfaec09f16ea4f</td><td>9</td><td>Toby Sharp</td></tr><tr><td>53f43260dabfaee1c0a74542</td><td>9</td><td>Mario Schlosser</td></tr><tr><td>53f4386edabfaee02acdd680</td><td>9</td><td>Andrew Maimone</td></tr><tr><td>53f43271dabfaedd74d77818</td><td>9</td><td>Raymond Buse</td></tr><tr><td>53f4347cdabfaee02acb8058</td><td>9</td><td>Taeho Kgil</td></tr><tr><td>53f4cf35dabfaeeee1f805a2</td><td>9</td><td>A. Ramli</td></tr><tr><td>53f444b7dabfaedd74de7831</td><td>9</td><td>Elad Shahar</td></tr><tr><td>53f45264dabfaec09f1f787f</td><td>9</td><td>Colleen Shannon</td></tr><tr><td>53f39098dabfae4b34a526b9</td><td>9</td><td>Donald Gennery</td></tr><tr><td>53f43765dabfaedce5538372</td><td>9</td><td>Daniel Marques</td></tr><tr><td>53f42e22dabfaedd74d40677</td><td>8</td><td>T. Cover</td></tr><tr><td>53f45575dabfaec09f203164</td><td>8</td><td>Zhongtang Zhao</td></tr><tr><td>53f475b0dabfaefedbbab1df</td><td>8</td><td>F. Vanderhaegen</td></tr><tr><td>53f474f1dabfaefedbba8074</td><td>8</td><td>Marc Salomon</td></tr><tr><td>53f49a52dabfaedce562563a</td><td>8</td><td>Stephen Prajna</td></tr><tr><td>54450cdcdabfae862da01541</td><td>8</td><td>Yang Xiao</td></tr><tr><td>53f431a3dabfaec22ba4e648</td><td>8</td><td>Carola Catenacci</td></tr><tr><td>53f4357cdabfaeb2ac04b4b4</td><td>8</td><td>Jun Ye</td></tr><tr><td>53f42944dabfaeb22f3d3d7b</td><td>8</td><td>Bas Raadt</td></tr><tr><td>53f44e26dabfaedf435eb10c</td><td>8</td><td>A. Vans</td></tr><tr><td>53f44f4edabfaee0d9bd7640</td><td>8</td><td>Gareth Harries</td></tr><tr><td>5605020145cedb3396520bd6</td><td>8</td><td>Seyed Khansari-Zadeh</td></tr><tr><td>53f44f71dabfaefedbb36b1b</td><td>8</td><td>Cosmin Rusu</td></tr><tr><td>53f435d2dabfaee2a1ce218c</td><td>8</td><td>Omid Shakernia</td></tr><tr><td>562c8ec945cedb3398c5f065</td><td>8</td><td>Kevin Noronha</td></tr><tr><td>53f45ae5dabfaec09f216197</td><td>8</td><td>Paul Gray</td></tr><tr><td>53f43215dabfaee2a1cb8cd7</td><td>8</td><td>F. Mattia</td></tr><tr><td>56319b1a45cedb3399e92753</td><td>8</td><td>Ian Gravagne</td></tr><tr><td>53f43a93dabfaec09f1a4fdc</td><td>8</td><td>H Brooks</td></tr><tr><td>53f43becdabfaee2a1d1a129</td><td>8</td><td>Joseph Murray</td></tr><tr><td>53f454fcdabfaee0d9bee6a2</td><td>8</td><td>Shervin Nouyan</td></tr><tr><td>53f4744cdabfaee43ed2d152</td><td>8</td><td>C. Lemaréchal</td></tr><tr><td>53f431a7dabfaeb2ac01fdcb</td><td>8</td><td>Ping Xia</td></tr><tr><td>5406df1edabfae44f08654b3</td><td>8</td><td>Simon Fischer</td></tr><tr><td>53f44a23dabfaeecd69bbe1c</td><td>8</td><td>Fu Huang</td></tr><tr><td>53f44102dabfaec09f1ba0d1</td><td>8</td><td>James Rogers</td></tr><tr><td>53f42b48dabfaedd74d15bff</td><td>8</td><td>Hartwig Fronthaler</td></tr><tr><td>53f46e93dabfaee43ed17063</td><td>8</td><td>I. Traiger</td></tr><tr><td>53f42d26dabfaee02ac5d9b8</td><td>8</td><td>Andreea Hossmann-Picu</td></tr><tr><td>53f42f3edabfaec09f12c379</td><td>8</td><td>David Andrzejewski</td></tr><tr><td>53f473dbdabfaeee22a85bc1</td><td>8</td><td>Alastair Harrison</td></tr><tr><td>53f42e7bdabfaec09f122af0</td><td>8</td><td>Michael Levin</td></tr><tr><td>53f36404dabfae4b3499269c</td><td>8</td><td>Maia Garau</td></tr><tr><td>53f43730dabfaeb1a7bfae2c</td><td>8</td><td>Ondřej Št'ava</td></tr><tr><td>53f64269dabfaed4c00f3cca</td><td>8</td><td>Robert Cooley</td></tr><tr><td>53f438d8dabfaee02ace1cce</td><td>8</td><td>Adam Baumberg</td></tr><tr><td>53f43188dabfaedd74d6ba1a</td><td>8</td><td>Tyler Harter</td></tr><tr><td>54487e62dabfae87b7e32178</td><td>8</td><td>Xiaoli Ma</td></tr><tr><td>53f435a1dabfaee0d9b5ee12</td><td>8</td><td>Nadine Jarvis</td></tr><tr><td>53f434cadabfaee02acbb661</td><td>8</td><td>john sauter</td></tr><tr><td>53f42c6fdabfaee0d9aeec4e</td><td>8</td><td>Noel Eisley</td></tr><tr><td>53f364a2dabfae4b34994f82</td><td>8</td><td>Ramon Bauza</td></tr><tr><td>53f42e3fdabfaedd74d4211e</td><td>8</td><td>Ben Lynn</td></tr><tr><td>53f43389dabfaee43ec128bf</td><td>8</td><td>H. Farid</td></tr><tr><td>53f430f1dabfaee02ac8de09</td><td>8</td><td>sundeep pattem</td></tr><tr><td>53f4498bdabfaeee22a0406a</td><td>8</td><td>Halvard Skogsrud</td></tr><tr><td>53f45595dabfaedd74e2ac19</td><td>8</td><td>Guande Qi</td></tr><tr><td>53f4359adabfaee2a1cdfa82</td><td>8</td><td>Marco Silva</td></tr><tr><td>53f43a45dabfaedf435a39bb</td><td>8</td><td>S. Ram</td></tr><tr><td>53f438dadabfaee0d9b7c0d6</td><td>8</td><td>Allison Farber</td></tr><tr><td>53f433c8dabfaeee22990a42</td><td>8</td><td>Martin Geisler</td></tr><tr><td>53f44743dabfaee4dc7d474b</td><td>8</td><td>Sujay Parekh</td></tr><tr><td>53f434bbdabfaedd74d91374</td><td>8</td><td>R. Jacoby</td></tr><tr><td>53f599c4dabfaeea74f80465</td><td>8</td><td>Dazhi Wang</td></tr><tr><td>53f457d7dabfaee1c0b331eb</td><td>8</td><td>Abhay Vardhan</td></tr><tr><td>5440fb6bdabfae805a7172c6</td><td>8</td><td>alexander yates</td></tr><tr><td>53f45fbbdabfaee1c0b4f488</td><td>8</td><td>Christoph Paasch</td></tr><tr><td>53f4491cdabfaee4dc7dc20e</td><td>8</td><td>Lawrence Bower</td></tr><tr><td>53f80867dabfae7f97a3dcde</td><td>8</td><td>J. RamíRez</td></tr><tr><td>53f477addabfaee02add9026</td><td>8</td><td>S. Baronti</td></tr><tr><td>53f42c44dabfaee0d9aebfb4</td><td>8</td><td>Michihiro Kuramochi</td></tr><tr><td>5408a066dabfae450f430037</td><td>8</td><td>Luo Nan</td></tr><tr><td>53f4d41bdabfaeedd6781f14</td><td>8</td><td>Frank Niessink</td></tr><tr><td>54327740dabfaeb4ea4f33de</td><td>8</td><td>James Flege</td></tr><tr><td>53f433d4dabfaec09f164069</td><td>8</td><td>Dejan Vranic</td></tr><tr><td>53f4c746dabfaee57877c5ff</td><td>8</td><td>salvatore guarnieri</td></tr><tr><td>53f4361bdabfaeb1a7bf192b</td><td>8</td><td>eric paquet</td></tr><tr><td>53f42d8bdabfaedd74d38efa</td><td>8</td><td>Purvi Saraiya</td></tr><tr><td>53f436fbdabfaedce55347a9</td><td>8</td><td>Yuri Grechkin</td></tr><tr><td>53f430d3dabfaeb22f433da5</td><td>8</td><td>Andrej Mrvar</td></tr><tr><td>5433b645dabfaeb4c6ac89f5</td><td>8</td><td>Carsten Otto</td></tr><tr><td>53f42d95dabfaedf435197f3</td><td>8</td><td>Sébastien Zimmer</td></tr><tr><td>53f433d3dabfaeb1a7bdafe2</td><td>8</td><td>John Maslen</td></tr><tr><td>562c82e045cedb3398c46904</td><td>8</td><td>Kai Kang</td></tr><tr><td>53f439e8dabfaedce554f383</td><td>8</td><td>Guozhang Wang</td></tr><tr><td>53f42d9cdabfaee0d9affd13</td><td>8</td><td>David Ryan</td></tr><tr><td>543377a7dabfaeb542188d39</td><td>8</td><td>Amit Sinha</td></tr><tr><td>53f448bddabfaedf435d5fad</td><td>8</td><td>Lee Suh</td></tr><tr><td>562d9a1245cedb3398e7ae12</td><td>8</td><td>Sammy Omari</td></tr><tr><td>53f36b99dabfae4b349ae03f</td><td>8</td><td>Mechthild Stoer</td></tr><tr><td>53f42f74dabfaedd74d50f5a</td><td>8</td><td>Henry Lucas</td></tr><tr><td>53f43137dabfaeb22f438e8f</td><td>8</td><td>Alexandru Balan</td></tr><tr><td>53f439badabfaeb22f49024b</td><td>8</td><td>S. Damas</td></tr><tr><td>5631bdb345cedb3399f0d16d</td><td>8</td><td>b supinski</td></tr><tr><td>53f433eedabfaee0d9b4d84a</td><td>8</td><td>Magnus Ekman</td></tr><tr><td>53f436addabfaedce55317fd</td><td>8</td><td>Karim Ali</td></tr><tr><td>53f437b3dabfaeb2ac05efac</td><td>8</td><td>B.J. Lageweg</td></tr><tr><td>53f437fcdabfaec09f18bca1</td><td>8</td><td>A. Castelletti</td></tr><tr><td>53f38454dabfae4b34a09424</td><td>8</td><td>David Atkins</td></tr><tr><td>53f37519dabfae4b349ce0df</td><td>8</td><td>Shubhabrata Sengupta</td></tr><tr><td>53f43abfdabfaee2a1d1076b</td><td>8</td><td>Gavin Jancke</td></tr><tr><td>53f43cdbdabfaeecd69947e0</td><td>8</td><td>Keith Hampton</td></tr><tr><td>53f484eedabfaec09f2a7d67</td><td>8</td><td>Alexandros Chaaraoui</td></tr><tr><td>53f44050dabfaee0d9ba1858</td><td>8</td><td>Jiaping Zheng</td></tr><tr><td>53f42ee8dabfaeb1a7b9ef3c</td><td>8</td><td>Zhongliang Yue</td></tr><tr><td>53f44a62dabfaee1c0afd3ac</td><td>8</td><td>Chiao-fe Shu</td></tr><tr><td>53f43a75dabfaec09f1a39b3</td><td>8</td><td>David Menestrina</td></tr><tr><td>53f42ac6dabfaec09f0e853c</td><td>8</td><td>Daoliang Tan</td></tr><tr><td>53f4574adabfaefedbb53be4</td><td>8</td><td>Richard Freling</td></tr><tr><td>53f49c47dabfaebfa377b44f</td><td>8</td><td>Eugene Wong</td></tr><tr><td>53f7c08edabfae8faa4b0361</td><td>8</td><td>Yun Zhang</td></tr><tr><td>53f55e5adabfae5255f8048d</td><td>8</td><td>Jonathan Shapiro</td></tr><tr><td>53f4442cdabfaee4dc7c8360</td><td>8</td><td>Sorabh Gandhi</td></tr><tr><td>53fa0527dabfae8faa59ff93</td><td>8</td><td>Wei Dong</td></tr><tr><td>53f42b30dabfaeb22f3e5013</td><td>8</td><td>Bernd Roechert</td></tr><tr><td>53f47269dabfaee43ed256a4</td><td>8</td><td>Zhenqiang Ye</td></tr><tr><td>53f425d3dabfaeb22f3c1f1c</td><td>8</td><td>Jörg Wegner</td></tr><tr><td>53f4bc5edabfaedce5653aff</td><td>8</td><td>David Landgrebe</td></tr><tr><td>53f42c74dabfaeb1a7b7d2bb</td><td>8</td><td>Ramana Idury</td></tr><tr><td>53f44960dabfaee2a1d40c0d</td><td>8</td><td>N. Leveson</td></tr><tr><td>53f56939dabfae6708f8045b</td><td>8</td><td>Karl Zilles</td></tr><tr><td>53f80f49dabfae9060b0c1c3</td><td>8</td><td>J. Bruck</td></tr><tr><td>53f42ed3dabfaedce54d82e2</td><td>8</td><td>Elizabeth Sanocki</td></tr><tr><td>53f4be21dabfaedce5655f07</td><td>8</td><td>Aleš Ude</td></tr><tr><td>5440b2eedabfae805a6e716a</td><td>8</td><td>Wu Zhou</td></tr><tr><td>53f7a155dabfae9060ad4a4d</td><td>8</td><td>Bo Li</td></tr><tr><td>53f44fd2dabfaee2a1d5a132</td><td>8</td><td>Steve Sheng</td></tr><tr><td>53f4d04cdabfaeedcf77da38</td><td>8</td><td>Ramil, J.F.</td></tr><tr><td>53f42f2ddabfaec22ba2ede7</td><td>8</td><td>Dongyun Jin</td></tr><tr><td>53f4308fdabfaee0d9b2521b</td><td>8</td><td>Ivica Nikolić</td></tr><tr><td>53f3a1c0dabfae4b34abe63a</td><td>8</td><td>Deepak Bhadauria</td></tr><tr><td>53f43121dabfaec22ba47ed5</td><td>8</td><td>Donald II</td></tr><tr><td>53f3a9b0dabfae4b34aef143</td><td>8</td><td>Seán Slattery</td></tr><tr><td>53f437d7dabfaeee229b8398</td><td>8</td><td>Qing Fang</td></tr><tr><td>53f44502dabfaee02ad135c8</td><td>8</td><td>Klaus Kollreider</td></tr><tr><td>53f434ffdabfaee43ec23407</td><td>8</td><td>Gizem Çifçi</td></tr><tr><td>53f439dbdabfaec09f19cbe9</td><td>8</td><td>Enrique Ortiz</td></tr><tr><td>53f43acddabfaeb22f49b808</td><td>8</td><td>Stéphan Jourdan</td></tr><tr><td>53f44f41dabfaee0d9bd7377</td><td>8</td><td>Corin Anderson</td></tr><tr><td>53f44621dabfaeee229f670f</td><td>8</td><td>Arijit Ganguly</td></tr><tr><td>53f45045dabfaefedbb39e4c</td><td>8</td><td>O. Somekh</td></tr><tr><td>53f455f7dabfaedd74e2c473</td><td>8</td><td>Di You</td></tr><tr><td>53f44fb9dabfaedd74e13915</td><td>8</td><td>Bryan Pendleton</td></tr><tr><td>53f45b37dabfaec09f21720b</td><td>8</td><td>E. Upfal</td></tr><tr><td>53f4783cdabfaefedbbb487c</td><td>8</td><td>Peter Bodik</td></tr><tr><td>5448a5dcdabfae87b7e58d88</td><td>8</td><td>G Curio</td></tr><tr><td>53f38225dabfae4b349fc19a</td><td>8</td><td>Ji Zhou</td></tr><tr><td>53f4532cdabfaee4dc8051cf</td><td>8</td><td>Carlos Fonseca</td></tr><tr><td>53f46a5fdabfaee0d9c3e5f5</td><td>8</td><td>S. Shakkottai</td></tr><tr><td>542a477bdabfae61d4962bf7</td><td>8</td><td>Yong Wang</td></tr><tr><td>53f43b00dabfaeecd698b8dd</td><td>8</td><td>Rion Snow</td></tr><tr><td>53f43be7dabfaee02acfe717</td><td>8</td><td>Lucas Kovar</td></tr><tr><td>53f42891dabfaeb22f3d091d</td><td>8</td><td>Jason Howard</td></tr><tr><td>53f438e5dabfaec09f195121</td><td>7</td><td>K. Fujiyoshi</td></tr><tr><td>53f4621adabfaec09f22e9b6</td><td>7</td><td>Jörg Schultz</td></tr><tr><td>53f43726dabfaeb2ac059948</td><td>7</td><td>Zach Wright</td></tr><tr><td>53f4660cdabfaefedbb8749b</td><td>7</td><td>José Bermudez</td></tr><tr><td>53f43264dabfaee02aca05b2</td><td>7</td><td>Miroslav Ponec</td></tr><tr><td>53f78589dabfae92b40c2515</td><td>7</td><td>Su Zhang</td></tr><tr><td>53f4641adabfaedf4363ced0</td><td>7</td><td>J. Pérez</td></tr><tr><td>53f392c2dabfae4b34a5f2c1</td><td>7</td><td>Rui Alves</td></tr><tr><td>53f45ceedabfaeb22f518f46</td><td>7</td><td>A. Redlich</td></tr><tr><td>53f43131dabfaedce54f5eff</td><td>7</td><td>Paul Drielsma</td></tr><tr><td>53f4346cdabfaee02acb73fe</td><td>7</td><td>David Roedl</td></tr><tr><td>53f43ae1dabfaeecd698a372</td><td>7</td><td>Chao-Gan Yan</td></tr><tr><td>53f44586dabfaeecd69a948e</td><td>7</td><td>Eelco Scholte</td></tr><tr><td>53f4d056dabfaeedd777de40</td><td>7</td><td>A. Proutière</td></tr><tr><td>53f465bcdabfaee4dc84b6a2</td><td>7</td><td>Julien Tane</td></tr><tr><td>5630f47045cedb3399c11fc4</td><td>7</td><td>Steven Eppinger</td></tr><tr><td>53f35f80dabfae4b3497fb69</td><td>7</td><td>Anson Tse</td></tr><tr><td>53f4344cdabfaee43ec1b673</td><td>7</td><td>Mei-Qun Jiang</td></tr><tr><td>53f44580dabfaeb22f4bbfd3</td><td>7</td><td>Timothy Dozat</td></tr><tr><td>53f44d27dabfaec09f1e3871</td><td>7</td><td>Stavros Theodorakis</td></tr><tr><td>53f4bdf6dabfaedce5655b8e</td><td>7</td><td>L. Iftode</td></tr><tr><td>53fa13b4dabfae44f07f9dd8</td><td>7</td><td>Michael Elkin</td></tr><tr><td>53f4775fdabfaefedbbb1d52</td><td>7</td><td>Johan Dag</td></tr><tr><td>53f7d1dcdabfae938c6df8a0</td><td>7</td><td>Min Wu</td></tr><tr><td>53f432e1dabfaeb1a7bd0886</td><td>7</td><td>Christine Flood</td></tr><tr><td>53f43139dabfaee1c0a655c6</td><td>7</td><td>Masao Fukushima</td></tr><tr><td>53f4398adabfaee0d9b82208</td><td>7</td><td>Zach Jorgensen</td></tr><tr><td>53f43deddabfaee0d9b9cba8</td><td>7</td><td>V. Bertacco</td></tr><tr><td>53f42d52dabfaee02ac60178</td><td>7</td><td>Michal Etzion</td></tr><tr><td>53f4319adabfaeb2ac01f36f</td><td>7</td><td>Xuchang Zou</td></tr><tr><td>53f45ce4dabfaedf43622c63</td><td>7</td><td>Jennifer Gibbs</td></tr><tr><td>53f46a1fdabfaee4dc85d2c7</td><td>7</td><td>Monique Volman</td></tr><tr><td>5433af2bdabfaebba581ed0c</td><td>7</td><td>Gordon Parker</td></tr><tr><td>53f38324dabfae4b34a02127</td><td>7</td><td>Shariq Rizvi</td></tr><tr><td>53f44c31dabfaedd74e05e23</td><td>7</td><td>Aurélien Grosdidier</td></tr><tr><td>53f42d8cdabfaec22ba1a2f4</td><td>7</td><td>Thomas Willwacher</td></tr><tr><td>53f43138dabfaeb22f438f20</td><td>7</td><td>a ulsoy</td></tr><tr><td>53f43669dabfaee1c0a9d808</td><td>7</td><td>M. Iwen</td></tr><tr><td>53f43b42dabfaee0d9b93fa1</td><td>7</td><td>Fernando Esponda</td></tr><tr><td>53f44a77dabfaec09f1d9498</td><td>7</td><td>Ahmad Ahmad</td></tr><tr><td>53f39a27dabfae4b34a8d59a</td><td>7</td><td>Jeffrey Jackson</td></tr><tr><td>53f44d2ddabfaedf435e7a32</td><td>7</td><td>D. Ji</td></tr><tr><td>53f45447dabfaeee22a2c4da</td><td>7</td><td>Gaurav Banga</td></tr><tr><td>53f45526dabfaec09f201f05</td><td>7</td><td>Greg Semeraro</td></tr><tr><td>54310350dabfae8f29124979</td><td>7</td><td>Tom Buchanan</td></tr><tr><td>5447ecefdabfae87b7daf9bc</td><td>7</td><td>Timothy O'Shea</td></tr><tr><td>53f45da6dabfaedd74e4859f</td><td>7</td><td>Sauli Tiitta</td></tr><tr><td>53f3a63ddabfae4b34adad60</td><td>7</td><td>Ningning Hu</td></tr><tr><td>54055cbddabfae8faa5c7763</td><td>7</td><td>R. Puri</td></tr><tr><td>53f42a9cdabfaeb2acfbc775</td><td>7</td><td>Mohammad Khojastepour</td></tr><tr><td>53f3a1a9dabfae4b34abde0c</td><td>7</td><td>F. Blanchini</td></tr><tr><td>53f35291dabfae4b3494e99d</td><td>7</td><td>Patrik Simons</td></tr><tr><td>53f38c6adabfae4b34a38e7f</td><td>7</td><td>Haohan Li</td></tr><tr><td>53f47aeadabfaeb22f56dd39</td><td>7</td><td>Y. Eisenberg</td></tr><tr><td>53f42c3fdabfaec22ba0648d</td><td>7</td><td>Luc Séméria</td></tr><tr><td>53f455c9dabfaeee22a31f15</td><td>7</td><td>Norman Bauman</td></tr><tr><td>53f42e36dabfaee43ebcf895</td><td>7</td><td>Patrick Min</td></tr><tr><td>53f461ccdabfaec22bb151a3</td><td>7</td><td>R. Freund</td></tr><tr><td>53f46ddddabfaec09f25cf87</td><td>7</td><td>Dragoş Niculescu</td></tr><tr><td>53f43394dabfaedd74d83d95</td><td>7</td><td>Shien Ong</td></tr><tr><td>53f436fbdabfaeb22f476bdd</td><td>7</td><td>Justin Holewinski</td></tr><tr><td>53f42da4dabfaedce54c89e7</td><td>7</td><td>Vikas Deora</td></tr><tr><td>53f44fd4dabfaefedbb382e3</td><td>7</td><td>Tom Edsall</td></tr><tr><td>53f44b4fdabfaee2a1d48952</td><td>7</td><td>Stephan Eichler</td></tr><tr><td>53f4d349dabfaef208f80bcb</td><td>7</td><td>Yuxin Wu</td></tr><tr><td>53f4590fdabfaee4dc81c7e9</td><td>7</td><td>P. Rosenbloom</td></tr><tr><td>54083c24dabfae450f40257a</td><td>7</td><td>Alexander Brodsky</td></tr><tr><td>53f467cbdabfaeee22a58e3e</td><td>7</td><td>daniel koditschek</td></tr><tr><td>53f4340cdabfaedd74d8964c</td><td>7</td><td>Yonatan Sompolinsky</td></tr><tr><td>53f474f0dabfaee4dc887e35</td><td>7</td><td>Brian Rogers</td></tr><tr><td>53f475ffdabfaefedbbac8bc</td><td>7</td><td>Srinath Shankar</td></tr><tr><td>562cadfd45cedb3398c92556</td><td>7</td><td>Noam Aigerman</td></tr><tr><td>53f432acdabfaedf435596a4</td><td>7</td><td>I. Devetak</td></tr><tr><td>53f79630dabfae9467da2b90</td><td>7</td><td>Yuan Yuan</td></tr><tr><td>53f32d0edabfae9a84498927</td><td>7</td><td>florence maraninchi</td></tr><tr><td>53f42deddabfaee0d9b03e8f</td><td>7</td><td>urs wegmuller</td></tr><tr><td>53f42fe3dabfaeb22f427928</td><td>7</td><td>Daniel Leven</td></tr><tr><td>5405608cdabfae91d3fdb81f</td><td>7</td><td>Peter Urban</td></tr><tr><td>54100922dabfae450f4c6f05</td><td>7</td><td>Xiaoyong Liu</td></tr><tr><td>53f43451dabfaeee22996de5</td><td>7</td><td>Yu Tan</td></tr><tr><td>53f449d5dabfaeecd69ba9b1</td><td>7</td><td>Pirkul, H.</td></tr><tr><td>53f434cfdabfaeb2ac0449f2</td><td>7</td><td>Ted Kremenek</td></tr><tr><td>53f44e3bdabfaeee22a15aa8</td><td>7</td><td>Fabien Mourgues</td></tr><tr><td>53f438c9dabfaee2a1cfd317</td><td>7</td><td>Daniel Simson</td></tr><tr><td>53f45d6fdabfaedf43624d4e</td><td>7</td><td>J. Vygen</td></tr><tr><td>53f432cadabfaee02aca4f40</td><td>7</td><td>Jay Kreps</td></tr><tr><td>53f46e54dabfaee02adb4366</td><td>7</td><td>Uri Lerner</td></tr><tr><td>53f475dcdabfaec09f27c5c4</td><td>7</td><td>Reg Willson</td></tr><tr><td>53f4d259dabfaeedd777fe45</td><td>7</td><td>Brian Junker</td></tr><tr><td>5433b967dabfaebba5820ec5</td><td>7</td><td>Bernard Widrow</td></tr><tr><td>53f35710dabfae4b3496030b</td><td>7</td><td>Blaise Arcas</td></tr><tr><td>53f446d7dabfaeb1a7c2e13d</td><td>7</td><td>Viktor Gyuris</td></tr><tr><td>53f4e84ddabfaefe7677b400</td><td>7</td><td>Hong Chen</td></tr><tr><td>53f434fbdabfaec09f1707b0</td><td>7</td><td>Urszula Chajewska</td></tr><tr><td>53f39defdabfae4b34aa6b83</td><td>7</td><td>J. Hudepohl</td></tr><tr><td>53f46774dabfaec09f243f2c</td><td>7</td><td>André Kaup</td></tr><tr><td>544836fadabfae87b7de9967</td><td>7</td><td>Jeffrey Carver</td></tr><tr><td>5444c34bdabfae87074e6276</td><td>7</td><td>Yuan Wang</td></tr><tr><td>53f42ca7dabfaec09f10a0ef</td><td>7</td><td>Yixiu Huang</td></tr><tr><td>53f4346bdabfaedf4356cdc4</td><td>7</td><td>R Baños</td></tr><tr><td>5618af8945ce1e5964102ea3</td><td>7</td><td>Geoffrey Pascoe</td></tr><tr><td>53f43901dabfaedf43599027</td><td>7</td><td>J. Ser</td></tr><tr><td>53f81798dabfae938c6ff18e</td><td>7</td><td>Stefan Gottschalk</td></tr><tr><td>53f479d4dabfaee43ed40992</td><td>7</td><td>Maria Jump</td></tr><tr><td>53f42911dabfaeb2acfb5613</td><td>7</td><td>John Matese</td></tr><tr><td>53f42f98dabfaeb1a7ba7543</td><td>7</td><td>David Dearman</td></tr><tr><td>53f4342ddabfaee02acb488f</td><td>7</td><td>Katrina Panovich</td></tr><tr><td>53f44d77dabfaee4dc7edb73</td><td>7</td><td>Bozhao Tan</td></tr><tr><td>53f44410dabfaee1c0ae3716</td><td>7</td><td>Othmar Staffelbach</td></tr><tr><td>53f43aa4dabfaeb22f499c55</td><td>7</td><td>M Cesarelli</td></tr><tr><td>53f45cbedabfaee0d9c0b1c7</td><td>7</td><td>Sohaib Ghani</td></tr><tr><td>53f4505bdabfaeecd69d4103</td><td>7</td><td>Dániel Fogaras</td></tr><tr><td>53f45b79dabfaee2a1d86e6d</td><td>7</td><td>Jesse Lock</td></tr><tr><td>53f46283dabfaedf436368da</td><td>7</td><td>shay halperin</td></tr><tr><td>53f462f6dabfaeecd69ffac4</td><td>7</td><td>Cheng Ee</td></tr><tr><td>5410cf89dabfae92b42a4bfc</td><td>7</td><td>A. Megretski</td></tr><tr><td>53f45779dabfaedf4360fb87</td><td>7</td><td>Libin Liu</td></tr><tr><td>53f46d62dabfaedd74e85aa1</td><td>7</td><td>Jonathan Cadiz</td></tr><tr><td>53f430b0dabfaee0d9b26e8f</td><td>7</td><td>Mehmet Yildiz</td></tr><tr><td>54297ad0dabfae8832d6eb78</td><td>7</td><td>Tete Xiao</td></tr><tr><td>53f476badabfaee4dc88f60b</td><td>7</td><td>Amy Pavel</td></tr><tr><td>5447fc6ddabfae87b7dbbd20</td><td>7</td><td>Stefan Wolf</td></tr><tr><td>5631a82545cedb3399ec1522</td><td>7</td><td>Antonis Argyros</td></tr><tr><td>53f42864dabfaeb22f3cf9e0</td><td>7</td><td>Qingjia Huang</td></tr><tr><td>53f439b9dabfaeb22f490205</td><td>7</td><td>Martin Gerner</td></tr><tr><td>53f36679dabfae4b3499bd47</td><td>7</td><td>P Bifulco</td></tr><tr><td>53f4383ddabfaee02acdb6a9</td><td>7</td><td>Nathan Levy</td></tr><tr><td>53f433aadabfaedd74d84d77</td><td>7</td><td>saeed chehrazi</td></tr><tr><td>53f43497dabfaeb22f460b83</td><td>7</td><td>Anja Guzzi</td></tr><tr><td>53f7eb11dabfae9060af80f6</td><td>7</td><td>Gang Yao</td></tr><tr><td>53f4387ddabfaeecd697264a</td><td>7</td><td>Abhinandan Das</td></tr><tr><td>53f4822cdabfaee43ed59ce3</td><td>7</td><td>C. Erway</td></tr><tr><td>53f4d339dabfaeedd178081d</td><td>7</td><td>Michael Schachtebeck</td></tr><tr><td>53f42abcdabfaeb22f3db1ad</td><td>7</td><td>Betul Buyukkurt</td></tr><tr><td>54403dd2dabfae7d84b7b249</td><td>7</td><td>Wei Yu</td></tr><tr><td>54055d37dabfae450f3a86d0</td><td>7</td><td>Yi Chen</td></tr><tr><td>53f43e49dabfaeecd6997970</td><td>7</td><td>Davide Barbieri</td></tr><tr><td>53f47ef0dabfae9126cc53eb</td><td>7</td><td>Kenneth Katz</td></tr><tr><td>5631380e45cedb3399d120b9</td><td>7</td><td>Mohammad Faruque</td></tr><tr><td>53f42b3ddabfaec09f0f2248</td><td>7</td><td>John Apostolopoulos</td></tr><tr><td>53f42af1dabfaeb2acfc1df0</td><td>7</td><td>Wangsheng Zhang</td></tr><tr><td>53f43feadabfaee1c0ada605</td><td>7</td><td>Seunghoon Hong</td></tr><tr><td>53f42c09dabfaee02ac4c943</td><td>7</td><td>Frank Losasso</td></tr><tr><td>53f4573edabfaec09f2099d2</td><td>7</td><td>John Hammond</td></tr><tr><td>53f467a5dabfaedce55ed411</td><td>7</td><td>Michael Floyd</td></tr><tr><td>53f48048dabfae963d259479</td><td>7</td><td>Kristie Seymore</td></tr><tr><td>53f48d2cdabfaea7cd1d186c</td><td>7</td><td>Fei Wu</td></tr><tr><td>53f42e39dabfaec09f11f9cf</td><td>7</td><td>Nikolay Shabanov</td></tr><tr><td>53f449e4dabfaee2a1d42b7c</td><td>7</td><td>Gregory Grunwald</td></tr><tr><td>53f4519adabfaefedbb3f1be</td><td>7</td><td>Peter Schmidt</td></tr><tr><td>540583bfdabfae92b41de574</td><td>7</td><td>Anand Srinivasan</td></tr><tr><td>53f42fbadabfaec22ba35b06</td><td>7</td><td>Roland Bunschoten</td></tr><tr><td>53f46446dabfaee02ad8bd0c</td><td>7</td><td>kashi vishwanath</td></tr><tr><td>53f42ec0dabfaedd74d4887e</td><td>7</td><td>Joaquin Ferruz</td></tr><tr><td>53f46b82dabfaec09f253b65</td><td>7</td><td>kyongsok chang</td></tr><tr><td>561356d945cedb33979b7680</td><td>7</td><td>A. Pascual-Iserte</td></tr><tr><td>53f43400dabfaeee22993543</td><td>7</td><td>Emma Hastings</td></tr><tr><td>53f42eb2dabfaee43ebd5894</td><td>7</td><td>Mikyung Jang</td></tr><tr><td>53f31dc6dabfae9a84444282</td><td>7</td><td>Ziqiong Liu</td></tr><tr><td>542a4d12dabfae61d4966fe5</td><td>7</td><td>Ning Hu</td></tr><tr><td>543018a7dabfaeca69bc6b37</td><td>7</td><td>Anthony Chan</td></tr><tr><td>53f45cabdabfaedd74e44e18</td><td>7</td><td>D. Maslov</td></tr><tr><td>53f431e2dabfaec22ba519f5</td><td>7</td><td>Nick Jr.</td></tr><tr><td>53f4725adabfaee43ed25361</td><td>7</td><td>James Diebel</td></tr><tr><td>53f47b2adabfaefedbbbcceb</td><td>7</td><td>Joseph Ho</td></tr><tr><td>54093ffedabfae450f46f98f</td><td>7</td><td>Dennis Brown</td></tr><tr><td>53f431f5dabfaec22ba5279e</td><td>7</td><td>Peter Carbonetto</td></tr><tr><td>53f431e3dabfaee2a1cb6328</td><td>7</td><td>Rodney Douglas</td></tr><tr><td>53f4694bdabfaee4dc859cd7</td><td>7</td><td>Yue Zhuge</td></tr><tr><td>53f3a27fdabfae4b34ac2f9a</td><td>7</td><td>George Uhl</td></tr><tr><td>53f43567dabfaeb22f469254</td><td>7</td><td>Nicholas Kidd</td></tr><tr><td>53f433f1dabfaee0d9b4d9e3</td><td>7</td><td>Soren Lassen</td></tr><tr><td>544052f8dabfae805a6b03e4</td><td>7</td><td>John Grant</td></tr><tr><td>53f43505dabfaec09f170f01</td><td>7</td><td>A. Rauzy</td></tr><tr><td>53f47e6fdabfaec09f299e4f</td><td>7</td><td>Simon Pope</td></tr><tr><td>53f438ccdabfaee4dc799664</td><td>7</td><td>G. Chowdhury</td></tr><tr><td>53f43750dabfaeb2ac05b2c1</td><td>7</td><td>Kishore Reddy</td></tr><tr><td>5487f7d1dabfaed7b5fa33c6</td><td>7</td><td>D. Staelin</td></tr><tr><td>53f43518dabfaeb22f4663ff</td><td>7</td><td>J.C. Principe</td></tr><tr><td>562ca23945cedb3398c7f9df</td><td>7</td><td>Jinjin Li</td></tr><tr><td>5631a44b45cedb3399eb268b</td><td>7</td><td>Mohammad Omidvar</td></tr><tr><td>53f3ab6adabfae4b34af97b8</td><td>7</td><td>Chloë Brown</td></tr><tr><td>53f43603dabfaec22ba7e199</td><td>7</td><td>Deming Yuan</td></tr><tr><td>53f435b6dabfaedce55298ab</td><td>7</td><td>John Teifel</td></tr><tr><td>53f3966fdabfae4b34a751d2</td><td>7</td><td>Michael Moll</td></tr><tr><td>53f3a469dabfae4b34acf5b7</td><td>7</td><td>Alan Shieh</td></tr><tr><td>53f42ceedabfaee1c0a2ce11</td><td>7</td><td>Ariel Jaimovich</td></tr><tr><td>53f4371fdabfaee2a1cecb37</td><td>7</td><td>Darin Blasiar</td></tr><tr><td>53f437b8dabfaeb22f47d989</td><td>7</td><td>Bryan Feldman</td></tr><tr><td>53f42d24dabfaedd74d33135</td><td>7</td><td>Thomas Toth</td></tr><tr><td>53f42e63dabfaec09f1219c7</td><td>7</td><td>George Leih</td></tr><tr><td>53f43280dabfaee4dc75ada3</td><td>7</td><td>Jesus Escudero-Sahuquillo</td></tr><tr><td>53f43630dabfaedf4357e449</td><td>7</td><td>Jonathan Sorg</td></tr><tr><td>53f4686ddabfaee4dc8563d1</td><td>7</td><td>Gazihan Alankus</td></tr><tr><td>53f4377adabfaedf435895bc</td><td>7</td><td>Karen Lochbaum</td></tr><tr><td>53f46132dabfaeee22a409af</td><td>7</td><td>Thomas Messerges</td></tr><tr><td>53f464bfdabfaeee22a4d7d9</td><td>7</td><td>Alexandre Proutiére</td></tr><tr><td>53f43a29dabfaee0d9b876a1</td><td>7</td><td>Daoyuan Zhai</td></tr><tr><td>53f46913dabfaeb22f54883a</td><td>7</td><td>A. Khisti</td></tr><tr><td>53f47232dabfaee4dc87cf6a</td><td>7</td><td>Nathan Wetzler</td></tr><tr><td>53f44470dabfaefedbb0d4af</td><td>7</td><td>Lee Harrison</td></tr><tr><td>53f478cbdabfaec09f286fe1</td><td>7</td><td>Martin Johansen</td></tr><tr><td>53f43960dabfaee2a1d02c35</td><td>7</td><td>Lie Gu</td></tr><tr><td>54353d6cdabfaebba58b8909</td><td>7</td><td>B. Krishnamachari</td></tr><tr><td>5603467e45cedb339612cb4b</td><td>7</td><td>Hiroyuki Kato</td></tr><tr><td>5447feccdabfae87b7dbe7ea</td><td>7</td><td>J. Santamaría</td></tr><tr><td>562cdc8e45cedb3398ce86bf</td><td>7</td><td>Haibo Zeng</td></tr><tr><td>53f43979dabfaedf4359cb18</td><td>7</td><td>Carsten Sapia</td></tr><tr><td>56cb18a9c35f4f3c65659b47</td><td>7</td><td>Xiaolin Wei</td></tr><tr><td>53f32e19dabfae9a8449e4a1</td><td>7</td><td>C Linder</td></tr><tr><td>53f4398edabfaedf4359d2b5</td><td>7</td><td>Michael Biesbrouck</td></tr><tr><td>53f42d43dabfaee02ac5f3cb</td><td>7</td><td>George Viamontes</td></tr><tr><td>53f42f9adabfaeb22f4242c7</td><td>7</td><td>Sergei Lupashin</td></tr><tr><td>53f359c9dabfae4b3496aae3</td><td>7</td><td>Billy Chen</td></tr><tr><td>53f3b165dabfae4b34b1e287</td><td>7</td><td>Mohamed Amer</td></tr><tr><td>53f444aadabfaee0d9bac29e</td><td>7</td><td>Ross Ortega</td></tr><tr><td>53f42f19dabfaee0d9b12baa</td><td>7</td><td>Manuel Román</td></tr><tr><td>53f42e7adabfaee4dc7279ff</td><td>7</td><td>Jiten Bhagat</td></tr><tr><td>53f44b85dabfaedf435e1461</td><td>7</td><td>J. Behren</td></tr><tr><td>53f43115dabfaedf43545820</td><td>7</td><td>Qing Xie</td></tr><tr><td>53f43a85dabfaee4dc7a9aaf</td><td>7</td><td>J Allbeck</td></tr><tr><td>53f4324adabfaee4dc75806b</td><td>7</td><td>Chris Hall</td></tr><tr><td>53f4333adabfaee0d9b45725</td><td>7</td><td>Linfu Xiao</td></tr><tr><td>53f435c5dabfaedf4357ad19</td><td>7</td><td>Ho-Seop Kim</td></tr><tr><td>53f43ae7dabfaee4dc7adf00</td><td>7</td><td>S. Fakoorian</td></tr><tr><td>53f4620cdabfaedf43634bea</td><td>7</td><td>Frances Goosey</td></tr><tr><td>53f43707dabfaee4dc78842f</td><td>7</td><td>Geoffrey Blake</td></tr><tr><td>53f445a4dabfaee4dc7ce016</td><td>7</td><td>Joseph Atick</td></tr><tr><td>53f43957dabfaedce554ae8b</td><td>7</td><td>Eugen Zalinescu</td></tr><tr><td>53f43a5bdabfaee02aceffec</td><td>7</td><td>L. Ulander</td></tr><tr><td>53f42ddcdabfaec09f11adff</td><td>7</td><td>Y. Dutuit</td></tr><tr><td>53f42c85dabfaee0d9af0267</td><td>7</td><td>Nicholas Kong</td></tr><tr><td>53f43a99dabfaedce555767b</td><td>7</td><td>Dag Sjøberg</td></tr><tr><td>53f446e3dabfaee02ad1ad35</td><td>7</td><td>Paul Rosinger</td></tr><tr><td>53f447c1dabfaedf435d1c8d</td><td>7</td><td>Oren Rippel</td></tr><tr><td>53f43b5edabfaeee229dba58</td><td>7</td><td>Amit Sasturkar</td></tr><tr><td>53f4474cdabfaec22bacbb4d</td><td>7</td><td>Yuan Du</td></tr><tr><td>53f42ebcdabfaeb1a7b9cd50</td><td>7</td><td>Elizabeth Belding-Royer</td></tr><tr><td>53f451a0dabfaefedbb3f313</td><td>7</td><td>R. Kessler</td></tr><tr><td>53f44789dabfaeb22f4c45f7</td><td>7</td><td>Jonathan Cadiz</td></tr><tr><td>53f45339dabfaee2a1d67c5a</td><td>7</td><td>M. Akbarzadeh-T</td></tr><tr><td>53f45f8adabfaedd74e4efdd</td><td>7</td><td>Dav Zimak</td></tr><tr><td>53f44c2ddabfaedd74e05d74</td><td>7</td><td>Sidney Davis</td></tr><tr><td>53f45647dabfaec09f2062ce</td><td>7</td><td>Jacob Strauss</td></tr><tr><td>53f455c3dabfaefedbb4e4c3</td><td>7</td><td>Anat Eyal</td></tr><tr><td>53f45444dabfaeecd69e3362</td><td>7</td><td>Hisham Mahmoud</td></tr><tr><td>53f45f61dabfaee02ad792db</td><td>7</td><td>Praveen Jayaraman</td></tr><tr><td>53f458a2dabfaeb22f509b59</td><td>7</td><td>Nir Andelman</td></tr><tr><td>53f44f10dabfaee02ad3c0e7</td><td>7</td><td>Jau-yuen Chen</td></tr><tr><td>53f4552adabfaeb22f4fc3c5</td><td>7</td><td>R. Marlet</td></tr><tr><td>53f45f43dabfaee02ad78ccb</td><td>7</td><td>Erich Stuntebeck</td></tr><tr><td>53f4678ddabfaec09f244514</td><td>7</td><td>karen seto</td></tr><tr><td>53f47625dabfaec09f27d8f9</td><td>7</td><td>Chris Prahacs</td></tr><tr><td>53f466fbdabfaeb22f53fc85</td><td>7</td><td>James Hafner</td></tr><tr><td>53f42fb9dabfaec22ba35a25</td><td>7</td><td>Sven Goossens</td></tr><tr><td>53f46426dabfaee2a1da5f92</td><td>7</td><td>Chun-Wei Tan</td></tr><tr><td>53f46c5bdabfaec22bb3d279</td><td>7</td><td>David Ratner</td></tr><tr><td>53f45996dabfaec09f211edc</td><td>7</td><td>Timothy Jewison</td></tr><tr><td>53f47731dabfaefedbbb14a6</td><td>7</td><td>Pim Tuyls</td></tr><tr><td>53f42f9adabfaee0d9b18f0c</td><td>7</td><td>David Oppenheimer</td></tr><tr><td>53f4737cdabfaeecd6a3f306</td><td>7</td><td>Tuyen Huynh</td></tr><tr><td>53f479cfdabfae8a6845c1c2</td><td>7</td><td>Kebin Xu</td></tr><tr><td>53f47ee2dabfae9126cc50c3</td><td>7</td><td>Erich Schwarz</td></tr><tr><td>53f45af2dabfaee0d9c050ca</td><td>7</td><td>Jiayong Zhang</td></tr><tr><td>53f4d2f2dabfaef204f805b7</td><td>7</td><td>P.K. Varshney</td></tr><tr><td>53f4beb0dabfaedce377b4d0</td><td>7</td><td>Zheng Wang</td></tr><tr><td>53f48d78dabfaea7cd1d2cda</td><td>7</td><td>Julian Gough</td></tr><tr><td>53f4796adabfaefedbbb8179</td><td>7</td><td>R. Henson</td></tr><tr><td>542a8408dabfae61d4989fbd</td><td>7</td><td>Bing Jiang</td></tr><tr><td>542a8340dabfae646d56c2c0</td><td>7</td><td>Yang Huang</td></tr><tr><td>53f43154dabfaee2a1caede6</td><td>7</td><td>Anders Weinstein</td></tr><tr><td>53f36d43dabfae4b349b4205</td><td>7</td><td>Matthias Luber</td></tr><tr><td>544552d8dabfae862da16231</td><td>7</td><td>Hong Wang</td></tr><tr><td>53f47c67dabfaee43ed49718</td><td>7</td><td>Adriaan Moors</td></tr><tr><td>53f39005dabfae4b34a4f49d</td><td>7</td><td>Long Zhu</td></tr><tr><td>54489d61dabfae87b7e501ee</td><td>7</td><td>Nan Li</td></tr><tr><td>53f3adf6dabfae4b34b0971e</td><td>7</td><td>Patrik Berander</td></tr><tr><td>53f42c59dabfaedf43506fb5</td><td>7</td><td>Shu-Yao Chien</td></tr><tr><td>53f42e7cdabfaee0d9b0b34f</td><td>7</td><td>Thierry Denux</td></tr><tr><td>53f789c2dabfae9467d9e6d9</td><td>7</td><td>S. Dubnov</td></tr><tr><td>53f43092dabfaee02ac890f4</td><td>7</td><td>W. Hoek</td></tr><tr><td>53f43108dabfaec22ba46bcf</td><td>7</td><td>Vara Varavithya</td></tr><tr><td>53f43624dabfaee4dc781167</td><td>7</td><td>Shafeeq Sinnamohideen</td></tr><tr><td>53f43528dabfaee2a1cdbc94</td><td>7</td><td>Sylvie Boudet</td></tr><tr><td>53f431c5dabfaedce54fd539</td><td>7</td><td>R. Hoge</td></tr><tr><td>53f48bcfdabfaec09f2b2267</td><td>7</td><td>G. Ulivi</td></tr><tr><td>53f436a7dabfaee43ec32344</td><td>7</td><td>Jacek Ratzinger</td></tr><tr><td>53f4345ddabfaeb22f45e2c3</td><td>7</td><td>T. Eltoft</td></tr><tr><td>53f43604dabfaeb22f46e62b</td><td>7</td><td>P. Dung</td></tr><tr><td>53f439fadabfaec22baa2077</td><td>7</td><td>S. Moheimani</td></tr><tr><td>53f43aa2dabfaedf435a7b93</td><td>7</td><td>Evan Jones</td></tr><tr><td>54055122dabfae92b41c2e9a</td><td>7</td><td>Eric Laurier</td></tr><tr><td>53f43e6edabfaedd74dd91c6</td><td>7</td><td>Yida Wang</td></tr><tr><td>53f43717dabfaeb22f4779d7</td><td>7</td><td>Anne Bracy</td></tr><tr><td>53f43848dabfaee0d9b7643c</td><td>7</td><td>Min-Hong Han</td></tr><tr><td>53f43b73dabfaee02acfcb2c</td><td>7</td><td>Petr Ročkai</td></tr><tr><td>53f44288dabfaedce556c48a</td><td>7</td><td>Carlos Pacheco</td></tr><tr><td>53f43e9adabfaefedbb015f4</td><td>7</td><td>Jeffery, D.R.</td></tr><tr><td>54058b84dabfae91d3fefcd7</td><td>7</td><td>Paul Morris</td></tr><tr><td>53f44783dabfaee43ec82249</td><td>7</td><td>Mourad Zerroug</td></tr><tr><td>53f44a9cdabfaee02ad2a276</td><td>7</td><td>Sergey Zhuravlev</td></tr><tr><td>5434fa45dabfaebba5888990</td><td>7</td><td>fawang liu</td></tr><tr><td>53f47b64dabfaee43ed458f0</td><td>7</td><td>Eisse Mensink</td></tr><tr><td>53f44e69dabfaec09f1e803c</td><td>7</td><td>Charles Krasic</td></tr><tr><td>53f43971dabfaee4dc79f812</td><td>7</td><td>Yi-an Huang</td></tr><tr><td>53f43b54dabfaeee229db34b</td><td>7</td><td>Wei-Jaw Deng</td></tr><tr><td>53f38e82dabfae4b34a45a86</td><td>7</td><td>S. Kucherenko</td></tr><tr><td>53f4ca54dabfaeea68f809f9</td><td>7</td><td>Cansu Kaynak</td></tr><tr><td>53f43a42dabfaeb22f495571</td><td>7</td><td>P. Swain</td></tr><tr><td>54089f96dabfae92b424e048</td><td>7</td><td>S. Bhashyam</td></tr><tr><td>53fa17acdabfae8faa5a5612</td><td>6</td><td>Michael Pucher</td></tr><tr><td>53f4ce8fdabfaeed1cf81ce2</td><td>6</td><td>Hodges, L.F.</td></tr><tr><td>53f43c02dabfaeee229deaf9</td><td>6</td><td>N. Saravanan</td></tr><tr><td>53f31ea0dabfae9a84448bb3</td><td>6</td><td>S Dağtaş</td></tr><tr><td>53f45357dabfaee43ecb1144</td><td>6</td><td>Hui Kong</td></tr><tr><td>53f43682dabfaedf4358073c</td><td>6</td><td>Vacha Dave</td></tr><tr><td>53f38ac4dabfae4b34a2ec93</td><td>6</td><td>Xinxin Mei</td></tr><tr><td>5631ba4b45cedb3399efff78</td><td>6</td><td>Michelle Gong</td></tr><tr><td>53f36d18dabfae4b349b3887</td><td>6</td><td>Timothy Zirkel</td></tr><tr><td>53f434e8dabfaeecd6951f4f</td><td>6</td><td>Rob Fowler</td></tr><tr><td>53f43393dabfaec22ba65181</td><td>6</td><td>Rupert Reif</td></tr><tr><td>562cfd7845cedb3398d20825</td><td>6</td><td>Sergej Dechand</td></tr><tr><td>53f39c03dabfae4b34a99dea</td><td>6</td><td>Mi Zhang</td></tr><tr><td>53f3687edabfae4b349a2c03</td><td>6</td><td>Jeffrey Undercoffer</td></tr><tr><td>53f4ad55dabfaedce563f1c2</td><td>6</td><td>Gilbert Wondracek</td></tr><tr><td>53f4488bdabfaee1c0af567d</td><td>6</td><td>A. Stamoulis</td></tr><tr><td>53f452c3dabfaec09f1f8f44</td><td>6</td><td>P. Frankl</td></tr><tr><td>53f436cfdabfaee4dc786627</td><td>6</td><td>J. Raskin</td></tr><tr><td>53f4328fdabfaee1c0a7681f</td><td>6</td><td>christoph fehn</td></tr><tr><td>53f439e4dabfaedf4359f8d3</td><td>6</td><td>Ibrahim Badr</td></tr><tr><td>53f436a8dabfaee43ec3239a</td><td>6</td><td>Tarik Yardibi</td></tr><tr><td>53f45a23dabfaedf436199da</td><td>6</td><td>Ali Yildiz</td></tr><tr><td>562b8b6845cedb3398aa17db</td><td>6</td><td>Pragnya Maduskar</td></tr><tr><td>53f3958ddabfae4b34a6fc74</td><td>6</td><td>Michael Browne</td></tr><tr><td>53f43451dabfaee1c0a89bd0</td><td>6</td><td>Martin Cooney</td></tr><tr><td>5405917cdabfae8faa5e31db</td><td>6</td><td>Eckart Zitzler</td></tr><tr><td>5408b7d8dabfae450f439f4e</td><td>6</td><td>Carsten Witt</td></tr><tr><td>563409ed45cedb339adc56ad</td><td>6</td><td>Mark Woolrich</td></tr><tr><td>53f437eedabfaee43ec3e48a</td><td>6</td><td>Dieter Debels</td></tr><tr><td>53f44712dabfaedd74df113e</td><td>6</td><td>Richard Baliban</td></tr><tr><td>53f3aae6dabfae4b34af6818</td><td>6</td><td>Jan Rivkin</td></tr><tr><td>53f47535dabfaee43ed30a37</td><td>6</td><td>Richard Enbody</td></tr><tr><td>53f4d0dfdabfaef014f8072f</td><td>6</td><td>Diego Ongaro</td></tr><tr><td>53f45c48dabfaee43ecd1a45</td><td>6</td><td>Heather Roinestad</td></tr><tr><td>53f351bbdabfae4b3494ad98</td><td>6</td><td>Ilya Mazo</td></tr><tr><td>53f369a7dabfae4b349a71e5</td><td>6</td><td>Seng Gan</td></tr><tr><td>53f4326bdabfaedd74d772ef</td><td>6</td><td>Olga Kouropteva</td></tr><tr><td>53f43accdabfaedce5559a6a</td><td>6</td><td>Wajahat Qadeer</td></tr><tr><td>53f43b2edabfaec09f1ab900</td><td>6</td><td>Caroline Villard</td></tr><tr><td>53f4403edabfaedf435bb36d</td><td>6</td><td>Zaher Andraus</td></tr><tr><td>53f43aa0dabfaedf435a7a3a</td><td>6</td><td>André Brodtkorb</td></tr><tr><td>53f43e1adabfaee2a1d1ebc7</td><td>6</td><td>Ben Gilbert</td></tr><tr><td>53f46934dabfaee4dc85967d</td><td>6</td><td>M. Borgeaud</td></tr><tr><td>53f474f9dabfaee02adce4e6</td><td>6</td><td>S Brailsford</td></tr><tr><td>53f476eadabfaedf4368720c</td><td>6</td><td>Dennis Zielstra</td></tr><tr><td>53f38b07dabfae4b34a307d0</td><td>6</td><td>Barbara Purves</td></tr><tr><td>53f39dd2dabfae4b34aa609a</td><td>6</td><td>Sharon Huynh</td></tr><tr><td>53f43226dabfaec22ba54fcc</td><td>6</td><td>Prince Mahajan</td></tr><tr><td>53f433ecdabfaeb1a7bdc016</td><td>6</td><td>Andrew Baker</td></tr><tr><td>53f477a8dabfaedf43689892</td><td>6</td><td>Aleksey Pesterev</td></tr><tr><td>53f477c2dabfaedf43689e05</td><td>6</td><td>R. Scheichl</td></tr><tr><td>54055d8fdabfae92b41ca5ae</td><td>6</td><td>Yu-Ju Chen</td></tr><tr><td>56316ff945cedb3399df835c</td><td>6</td><td>Melanie Zeilinger</td></tr><tr><td>53f5c25bdabfae6c99f8045b</td><td>6</td><td>William Gelbart</td></tr><tr><td>5406b3d8dabfae44f085140e</td><td>6</td><td>Tong Li</td></tr><tr><td>53f43990dabfaeee229c8a75</td><td>6</td><td>Van Tran</td></tr><tr><td>53f42baadabfaedf434fc383</td><td>6</td><td>Marco Barreno</td></tr><tr><td>53f449fadabfaee43ec8c09d</td><td>6</td><td>Simon Jensen</td></tr><tr><td>53f38cdcdabfae4b34a3bdf6</td><td>6</td><td>William III.</td></tr><tr><td>53f45ac8dabfaee0d9c0499d</td><td>6</td><td>Mohamed Nour</td></tr><tr><td>53f45d9ddabfaee43ecd6191</td><td>6</td><td>João Abreu</td></tr><tr><td>53f42c27dabfaee02ac4e704</td><td>6</td><td>Pamela Ludford</td></tr><tr><td>53f475d5dabfaeee22a8d4aa</td><td>6</td><td>David Rodda</td></tr><tr><td>53f4d4f4dabfaef34af810da</td><td>6</td><td>F. Mairesse</td></tr><tr><td>53f4755adabfaeecd6a46392</td><td>6</td><td>A. Bodnarova</td></tr><tr><td>53f4d5a2dabfaef463f8073a</td><td>6</td><td>Lukasz Mazurek</td></tr><tr><td>5405dac4dabfae450f3da775</td><td>6</td><td>Yoram Cohen</td></tr><tr><td>53f436dcdabfaee2a1cea69a</td><td>6</td><td>Radu Zlatanovici</td></tr><tr><td>5631abd945cedb3399ecf2f2</td><td>6</td><td>brandon luders</td></tr><tr><td>53f3af85dabfae4b34b136c3</td><td>6</td><td>Stephen Blythe</td></tr><tr><td>53f43121dabfaee02ac9070d</td><td>6</td><td>Seth Hallem</td></tr><tr><td>53f4396fdabfaee2a1d03481</td><td>6</td><td>John Stevenson</td></tr><tr><td>53f4339ddabfaec09f1617c7</td><td>6</td><td>Anne Ottenbreit-Leftwich</td></tr><tr><td>53f435f5dabfaee2a1ce2a91</td><td>6</td><td>Samir Mahfoud</td></tr><tr><td>53f4372cdabfaee43ec36fb4</td><td>6</td><td>Stefan Staber</td></tr><tr><td>53f43aeadabfaee1c0ac936c</td><td>6</td><td>Peter Ochs</td></tr><tr><td>53f43b7adabfaee1c0acff90</td><td>6</td><td>Laudon, J.</td></tr><tr><td>53f4368adabfaeee229ac4da</td><td>6</td><td>Volker Grabe</td></tr><tr><td>53f4382adabfaec09f18d836</td><td>6</td><td>Jochen Mundinger</td></tr><tr><td>53f438c4dabfaedce5545427</td><td>6</td><td>Brian Bartell</td></tr><tr><td>53f4470fdabfaee43ec8064f</td><td>6</td><td>L. Neumeyer</td></tr><tr><td>53f45621dabfaee2a1d7308d</td><td>6</td><td>Steven Deitz</td></tr><tr><td>53f45a92dabfaee4dc822293</td><td>6</td><td>Madhu Sudan</td></tr><tr><td>53f4687fdabfaee4dc85680a</td><td>6</td><td>N. Hohn</td></tr><tr><td>53f46970dabfaedd74e75e32</td><td>6</td><td>Michael Peshkin</td></tr><tr><td>53f4745cdabfaeecd6a426ff</td><td>6</td><td>Jens-Rainer Ohm</td></tr><tr><td>53f47607dabfaee0d9c6bebb</td><td>6</td><td>Masoud Valafar</td></tr><tr><td>5448bd9cdabfae87b7e728c6</td><td>6</td><td>Nadas, A.</td></tr><tr><td>53f437b6dabfaee43ec3c1ec</td><td>6</td><td>Mu Lin</td></tr><tr><td>53f46ce9dabfaee4dc868187</td><td>6</td><td>A. Lecchini</td></tr><tr><td>53f399fedabfae4b34a8c53c</td><td>6</td><td>A. Yener</td></tr><tr><td>53f42dbadabfaee43ebc9632</td><td>6</td><td>Esa Hyytiä</td></tr><tr><td>54409818dabfae805a6d9051</td><td>6</td><td>Jennifer RYAN</td></tr><tr><td>53f4307edabfaedd74d5e41b</td><td>6</td><td>Mira Belenkiy</td></tr><tr><td>53f4319adabfaedce54fb461</td><td>6</td><td>Adam Ferrari</td></tr><tr><td>53f42d7ddabfaeb2acfebae2</td><td>6</td><td>James Cowling</td></tr><tr><td>53f42f01dabfaee4dc72e20d</td><td>6</td><td>Pierre Trudeau</td></tr><tr><td>53f43636dabfaec22ba804c0</td><td>6</td><td>R.A. Letcher</td></tr><tr><td>53f4be1ddabfaedce877b431</td><td>6</td><td>Li Gong</td></tr><tr><td>53f7e8abdabfae90ec12bc34</td><td>6</td><td>Andreas Schaad</td></tr><tr><td>53f462cfdabfaee4dc83f519</td><td>6</td><td>Yuan Niu</td></tr><tr><td>54410155dabfae805a71b8c6</td><td>6</td><td>Bob Carpenter</td></tr><tr><td>562cad2345cedb3398c90f4c</td><td>6</td><td>darren turner</td></tr><tr><td>53f38f4ddabfae4b34a4afaa</td><td>6</td><td>N. Hill</td></tr><tr><td>53f4371cdabfaee4dc788e32</td><td>6</td><td>Daniel Serra</td></tr><tr><td>53f36ea3dabfae4b349b8f23</td><td>6</td><td>Ramadass Nagarajan</td></tr><tr><td>5405b178dabfae44f0821ef0</td><td>6</td><td>Huan Wang</td></tr><tr><td>53f42e35dabfaedd74d41624</td><td>6</td><td>P. Yianilos</td></tr><tr><td>53f44161dabfaee43ec6e924</td><td>6</td><td>James Bremer</td></tr><tr><td>53f43084dabfaee02ac8858d</td><td>6</td><td>Simchony, T.</td></tr><tr><td>53f44804dabfaefedbb1aaab</td><td>6</td><td>S. Lederman</td></tr><tr><td>53f44975dabfaeecd69b9212</td><td>6</td><td>Jouke Verbree</td></tr><tr><td>53f44cd7dabfaefedbb2d0c5</td><td>6</td><td>Manohar Ayinala</td></tr><tr><td>53f450d6dabfaefedbb3c259</td><td>6</td><td>Chang-Seo Park</td></tr><tr><td>53f45134dabfaeb22f4ec63c</td><td>6</td><td>Pablo Cavalcanti</td></tr><tr><td>53f45884dabfaec09f20e425</td><td>6</td><td>Daniel Gardan</td></tr><tr><td>53f45a45dabfaee4dc82104b</td><td>6</td><td>Jiangong Zhang</td></tr><tr><td>53f45d80dabfaee4dc82c364</td><td>6</td><td>G. Gielen</td></tr><tr><td>53f46135dabfaedf436317d8</td><td>6</td><td>Yu-Wei Sung</td></tr><tr><td>53f42bc9dabfaec22b9fedd3</td><td>6</td><td>Ignacio Llamas</td></tr><tr><td>53f42c08dabfaeb22f3f3b7c</td><td>6</td><td>Dennis Nieuwenhuisen</td></tr><tr><td>53f42f52dabfaeb2ac0028d9</td><td>6</td><td>Gokul Govindu</td></tr><tr><td>53f49e9adabfaec18e77ba1f</td><td>6</td><td>Wei Wang</td></tr><tr><td>53f4d219dabfaef0f7f80c48</td><td>6</td><td>Andres Otero</td></tr><tr><td>53f455d5dabfaefedbb4e90b</td><td>6</td><td>iain werry</td></tr><tr><td>53f47303dabfaefedbba07c9</td><td>6</td><td>Dima Kuzmin</td></tr><tr><td>53f47948dabfaee2a1df8473</td><td>6</td><td>Syed Tanbeer</td></tr><tr><td>53f4ccd2dabfaeebd6f81641</td><td>6</td><td>Rupert Weare</td></tr><tr><td>53f66180dabfae8dcd35b2c1</td><td>6</td><td>Matthew Arnold</td></tr><tr><td>53f7bb90dabfae92b40dcc36</td><td>6</td><td>Lenoski, D.</td></tr><tr><td>53f4309bdabfaee02ac899c8</td><td>6</td><td>Jing Su</td></tr><tr><td>544807b3dabfae87b7dc6818</td><td>6</td><td>Gerd Wagner</td></tr><tr><td>53f43855dabfaec09f18f3b4</td><td>6</td><td>Michael Zinn</td></tr><tr><td>53f374f4dabfae4b349cda53</td><td>6</td><td>Amol Nayate</td></tr><tr><td>53f42ba3dabfaeb1a7b7400f</td><td>6</td><td>Hiroshi Watanabe</td></tr><tr><td>53f42c9cdabfaee1c0a2817c</td><td>6</td><td>Marc Brown</td></tr><tr><td>53f42ebfdabfaee1c0a451f0</td><td>6</td><td>Aniket Pingley</td></tr><tr><td>53f430bcdabfaee02ac8b245</td><td>6</td><td>R. Wallace</td></tr><tr><td>53f4335ddabfaec09f15e70b</td><td>6</td><td>Francisco Ruiz</td></tr><tr><td>53f431d5dabfaec09f14cbb5</td><td>6</td><td>I. Kolmanovsky</td></tr><tr><td>53f438d4dabfaeb2ac06a4a8</td><td>6</td><td>Gang Qiu</td></tr><tr><td>53f43503dabfaeee2299e85e</td><td>6</td><td>Stefaan Decorte</td></tr><tr><td>53f43544dabfaee0d9b5b930</td><td>6</td><td>Chillarege, R.</td></tr><tr><td>53f436badabfaee43ec32e48</td><td>6</td><td>Xiaohong Sheng</td></tr><tr><td>53f43725dabfaee4dc7893b1</td><td>6</td><td>Stefan Schoenmackers</td></tr><tr><td>53f439b6dabfaee4dc7a16a0</td><td>6</td><td>D. Petriu</td></tr><tr><td>53f437b4dabfaedd74dac921</td><td>6</td><td>Grenander, U.</td></tr><tr><td>53f43ee8dabfaee43ec6a30b</td><td>6</td><td>Waszkowycz, B.</td></tr><tr><td>53f43cc6dabfaee2a1d1bf0b</td><td>6</td><td>T. Simeon</td></tr><tr><td>53f43b10dabfaee02acf8247</td><td>6</td><td>N Willems</td></tr><tr><td>53f44daddabfaeecd69c99f3</td><td>6</td><td>Jochen Bercken</td></tr><tr><td>53f4388ddabfaedf43593cd7</td><td>6</td><td>Yau-Ren Shiau</td></tr><tr><td>53f4406edabfaee02ad07dfc</td><td>6</td><td>R. Mántaras</td></tr><tr><td>53f43eecdabfaee1c0ad869c</td><td>6</td><td>David Daniel</td></tr><tr><td>53f4395adabfaefedbae49e2</td><td>6</td><td>Yana Yankova</td></tr><tr><td>53f44aa7dabfaedf435ddf30</td><td>6</td><td>Haiqi Liang</td></tr><tr><td>53f44ceadabfaeee22a10e95</td><td>6</td><td>Ilya Shlyakhter</td></tr><tr><td>53f4513adabfaee1c0b18a41</td><td>6</td><td>Wei-Je Huang</td></tr><tr><td>53f454eddabfaee4dc80c2ab</td><td>6</td><td>Andrea Frome</td></tr><tr><td>53f4533adabfaee43ecb0a6e</td><td>6</td><td>Kenneth Herndon</td></tr><tr><td>53f45ef5dabfaee4dc831304</td><td>6</td><td>Douglas Burman</td></tr><tr><td>53f460a6dabfaee43ece032e</td><td>6</td><td>Tsung-Lieh Lin</td></tr><tr><td>53f467c4dabfaee4dc85397b</td><td>6</td><td>R. Shin</td></tr><tr><td>53f44d41dabfaeee22a12356</td><td>6</td><td>Naoya Asamura</td></tr><tr><td>53f46a57dabfaedd74e79a02</td><td>6</td><td>Niels Jacobsen</td></tr><tr><td>53f461fddabfaee0d9c1d5f2</td><td>6</td><td>Jamie Davies</td></tr><tr><td>53f46d85dabfaee2a1dcb3e9</td><td>6</td><td>S. Gottschlich</td></tr><tr><td>53f4a82bdabfaedce5637d71</td><td>6</td><td>Caixue Lin</td></tr><tr><td>5405787ddabfae91d3fe729f</td><td>6</td><td>Zhi Zhong</td></tr><tr><td>54409b19dabfae805a6dc236</td><td>6</td><td>Florian Block</td></tr><tr><td>53f46e11dabfaee43ed151cf</td><td>6</td><td>T. Abhayapala</td></tr><tr><td>53f3278ddabfae9a8447a151</td><td>6</td><td>D. Svyatskiy</td></tr><tr><td>53f42982dabfaeb2acfb76e7</td><td>6</td><td>Lynne Blair</td></tr><tr><td>53f4571cdabfaee0d9bf6f0c</td><td>6</td><td>Irene Langkilde</td></tr><tr><td>53f39777dabfae4b34a7baba</td><td>6</td><td>Aniruddha Udipi</td></tr><tr><td>53f45946dabfaeb22f50c16f</td><td>6</td><td>Mikkel Krøigaard</td></tr><tr><td>53f4730edabfaee02adc6865</td><td>6</td><td>Senqiang Zhou</td></tr><tr><td>53f42c0adabfaedce54b0a97</td><td>6</td><td>Petr Felkel</td></tr><tr><td>53f47631dabfaefedbbad627</td><td>6</td><td>Jeff Hughes</td></tr><tr><td>53f31fc6dabfae9a8444f0e1</td><td>6</td><td>Tong Wen</td></tr><tr><td>53f4d1dfdabfaeedd777f582</td><td>6</td><td>P. Kauff</td></tr><tr><td>53f43108dabfaeb22f4369b0</td><td>6</td><td>Eitan Sharon</td></tr><tr><td>53f65029dabfae70d0a7dfcb</td><td>6</td><td>P. Burillo</td></tr><tr><td>53f4311bdabfaedd74d6650f</td><td>6</td><td>U. Clarenz</td></tr><tr><td>53f45bbbdabfaefedbb62fb6</td><td>6</td><td>Todd Wilkens</td></tr><tr><td>543418b9dabfaebba58404a5</td><td>6</td><td>Thomas Nussbaumer</td></tr><tr><td>54409ad8dabfae7d84b8c2d6</td><td>6</td><td>Robert Brown</td></tr><tr><td>53f43491dabfaeee22999a84</td><td>6</td><td>Maurizio Pittà</td></tr><tr><td>53f43553dabfaee43ec268ef</td><td>6</td><td>Alan Sussman</td></tr><tr><td>53f390fddabfae4b34a54c94</td><td>6</td><td>S.K. Parui</td></tr><tr><td>53f42e5ddabfaeb22f4151e1</td><td>6</td><td>Peter Koopmans</td></tr><tr><td>53f4804adabfae963d2594a2</td><td>6</td><td>Yi Lin</td></tr><tr><td>53f42f5adabfaedce54de827</td><td>6</td><td>Chuanpeng Li</td></tr><tr><td>53f7c84fdabfae938c6db3a2</td><td>6</td><td>Saraclar, M.</td></tr><tr><td>540698f2dabfae92b4216154</td><td>6</td><td>Michael Godau</td></tr><tr><td>548d5f4cdabfae8a11fb4fdd</td><td>6</td><td>Lide Zhang</td></tr><tr><td>53f4316ddabfaedd74d6a447</td><td>6</td><td>Z. Farkas</td></tr><tr><td>53f4320ddabfaec22ba53b77</td><td>6</td><td>Julien Carme</td></tr><tr><td>53f3550adabfae4b34958f51</td><td>6</td><td>F. Heart</td></tr><tr><td>562f1ecd45cedb339953c304</td><td>6</td><td>Ayman Naguib</td></tr><tr><td>53f36667dabfae4b3499b945</td><td>6</td><td>Sebastián Valenzuela</td></tr><tr><td>53f4364bdabfaee1c0a9d40a</td><td>6</td><td>Jonathan Yaniv</td></tr><tr><td>53f437dcdabfaec09f18aaa1</td><td>6</td><td>Ester Broekhoven</td></tr><tr><td>53f42e24dabfaee0d9b06b65</td><td>6</td><td>Nikil Mehta</td></tr><tr><td>53f43a1cdabfaee2a1d08fea</td><td>6</td><td>Hadi Gökçen</td></tr><tr><td>53f43a96dabfaefedbaf0ca1</td><td>6</td><td>Goss Nuzzo-Jones</td></tr><tr><td>542a3b92dabfae61d495d6dc</td><td>6</td><td>Gang Lu</td></tr><tr><td>53f43b40dabfaeee229da37e</td><td>6</td><td>Claudia Kuster</td></tr><tr><td>53f44631dabfaeb22f4bebf0</td><td>6</td><td>Mathieu Ramona</td></tr><tr><td>562f393945cedb33995a7395</td><td>6</td><td>Bruce Weide</td></tr><tr><td>53f4306ddabfaedf4353cf85</td><td>6</td><td>Josh Wills</td></tr><tr><td>53f44c22dabfaee4dc7e8af7</td><td>6</td><td>David Prescott</td></tr><tr><td>53f44e23dabfaeb22f4df988</td><td>6</td><td>Norbert Ascheuer</td></tr><tr><td>53f384fedabfae4b34a0d1ed</td><td>6</td><td>Jörg Hansen</td></tr><tr><td>53f430a5dabfaedd74d60418</td><td>6</td><td>Mainkar, V.</td></tr><tr><td>53f450e1dabfaedd74e18360</td><td>6</td><td>Christine Mol</td></tr><tr><td>53f457b1dabfaeb22f50608f</td><td>6</td><td>Slava Katz</td></tr><tr><td>53f42c50dabfaec09f104819</td><td>6</td><td>Richard Wolniewicz</td></tr><tr><td>53f458d8dabfaeecd69f475c</td><td>6</td><td>Arnab Chakrabarti</td></tr><tr><td>53f3b3c5dabfae4b34b2c14b</td><td>6</td><td>S. Baruah</td></tr><tr><td>53f45baddabfaedd74e4175e</td><td>6</td><td>Davide Canali</td></tr><tr><td>53f3b3f3dabfae4b34b2d60f</td><td>6</td><td>I. Ipsen</td></tr><tr><td>53f45db7dabfaedf43625bad</td><td>6</td><td>Mina Askari</td></tr><tr><td>53f4279edabfaeb22f3cbb97</td><td>6</td><td>Seung Kwon</td></tr><tr><td>53f461f1dabfaedd74e5791f</td><td>6</td><td>Nikunj Mehta</td></tr><tr><td>53f46a54dabfaeb22f54dfdf</td><td>6</td><td>Martin Wollmer</td></tr><tr><td>53f42ec8dabfaee0d9b0f060</td><td>6</td><td>Marcin Eichner</td></tr><tr><td>53f4713adabfaec09f269946</td><td>6</td><td>Yongin Kwon</td></tr><tr><td>53f4828ddabfaec09f2a352a</td><td>6</td><td>Robert Rentzsch</td></tr><tr><td>53f43158dabfaee4dc74bcc7</td><td>6</td><td>Benjamin Blankertz</td></tr><tr><td>53f42c7edabfaeb2acfdcfa2</td><td>6</td><td>Hemayet Hossain</td></tr><tr><td>53f4325edabfaee1c0a7438d</td><td>6</td><td>Abdel-Mottaleb, M.</td></tr><tr><td>53f4d408dabfaeedd9781c09</td><td>6</td><td>Michał Woniak</td></tr><tr><td>53f44efddabfaee4dc7f3b78</td><td>6</td><td>S Chu</td></tr><tr><td>53f42f54dabfaee2a1c9503a</td><td>6</td><td>W. Crowther</td></tr><tr><td>53f46804dabfaeecd6a13503</td><td>6</td><td>Congxia Dai</td></tr><tr><td>53f47388dabfaefedbba2a0d</td><td>6</td><td>Raj Vaswani</td></tr><tr><td>53f47d40dabfaee4dc8a51a4</td><td>6</td><td>Gabriele Musillo</td></tr><tr><td>53f48576dabfaec09f2a8dad</td><td>6</td><td>André Neumann</td></tr><tr><td>53f49a16dabfaebe73f80461</td><td>6</td><td>Xiaoli Li</td></tr><tr><td>53f4309bdabfaee1c0a5cfe4</td><td>6</td><td>M. Hochberg</td></tr><tr><td>53f4de9ddabfaef96177b490</td><td>6</td><td>S. Hua</td></tr><tr><td>53f436d3dabfaeb2ac056b46</td><td>6</td><td>James Kirby</td></tr><tr><td>53f63277dabfae7c833fa719</td><td>6</td><td>L. Clarke</td></tr><tr><td>5410d736dabfae44f08e7ad4</td><td>6</td><td>Y. Cho</td></tr><tr><td>542db01ddabfae11fc493892</td><td>6</td><td>Ying Peng</td></tr><tr><td>562e631f45cedb33991eb951</td><td>6</td><td>Westerink, P.H.</td></tr><tr><td>5631be9e45cedb3399f10f3d</td><td>6</td><td>M.K. Arti</td></tr><tr><td>544859cddabfae87b7e108b4</td><td>6</td><td>Kate Ehrlich</td></tr><tr><td>53f37274dabfae4b349c58d9</td><td>6</td><td>U. Manber</td></tr><tr><td>53f4312edabfaedce54f5d15</td><td>6</td><td>Sergiy Garbuzynskiy</td></tr><tr><td>53f42c3adabfaec22ba06020</td><td>6</td><td>Olivier Juan</td></tr><tr><td>53f42c7fdabfaedce54b7ee0</td><td>6</td><td>Renato Monteiro</td></tr><tr><td>53f42d48dabfaec22ba166c6</td><td>6</td><td>Yui-Wah Lee</td></tr><tr><td>53f4301edabfaec09f136f3c</td><td>6</td><td>Haining Yao</td></tr><tr><td>53f438eadabfaeb2ac06b3b1</td><td>6</td><td>Jesper Henriksen</td></tr><tr><td>53f42f39dabfaeb1a7ba2d5f</td><td>6</td><td>Benoit Triquet</td></tr><tr><td>53f43149dabfaee4dc74b172</td><td>6</td><td>Craig Stewart</td></tr><tr><td>53f4320ddabfaee2a1cb8699</td><td>6</td><td>Nagendra Modadugu</td></tr><tr><td>53f43304dabfaedd74d7d9a1</td><td>6</td><td>Marcel Germann</td></tr><tr><td>53f4366cdabfaeecd695f395</td><td>6</td><td>John Greenwood</td></tr><tr><td>53f434cfdabfaeb22f4631c7</td><td>6</td><td>Zhulei Tang</td></tr><tr><td>53f43a3cdabfaee2a1d0a814</td><td>6</td><td>Nancy Cheever</td></tr><tr><td>53f43a90dabfaee0d9b8c046</td><td>6</td><td>Giuseppe Persiano</td></tr><tr><td>53f43775dabfaec22ba8ae26</td><td>6</td><td>David Tyler</td></tr><tr><td>53f43a26dabfaee4dc7a548d</td><td>6</td><td>Christoph Burnikel</td></tr><tr><td>53f43689dabfaee43ec311cf</td><td>6</td><td>Mirjana Štrboja</td></tr><tr><td>53f436c2dabfaec09f180462</td><td>6</td><td>Eddy Greef</td></tr><tr><td>53f438fcdabfaee0d9b7d864</td><td>6</td><td>L. Margara</td></tr><tr><td>53f438c8dabfaedd74db6e84</td><td>6</td><td>Claude Kirchner</td></tr><tr><td>53f439ccdabfaee1c0abcb0f</td><td>6</td><td>Andrei Khodakovsky</td></tr><tr><td>53f43b70dabfaee2a1d183fb</td><td>6</td><td>Devroye, N.</td></tr><tr><td>53f43b0bdabfaee2a1d138e3</td><td>6</td><td>Petter Kristiansen</td></tr><tr><td>53f449cadabfaeecd69ba738</td><td>6</td><td>Alexey Malishevsky</td></tr><tr><td>53f43a79dabfaeb22f497e61</td><td>6</td><td>Jason Blome</td></tr><tr><td>53f43787dabfaedf43589c73</td><td>6</td><td>Chrisikos, G.</td></tr><tr><td>53f437cedabfaedce553c190</td><td>6</td><td>Fereydoon Kianfar</td></tr><tr><td>53f43db5dabfaee0d9b9c484</td><td>6</td><td>Chun-Lang Chang</td></tr><tr><td>53f44053dabfaee0d9ba18b0</td><td>6</td><td>Saeed Kaviani</td></tr><tr><td>53f445b8dabfaee2a1d31aff</td><td>6</td><td>Jeyun Lee</td></tr><tr><td>53f4391bdabfaedd74dba6c6</td><td>6</td><td>Victor Simossis</td></tr><tr><td>53f4459fdabfaec22bac52d3</td><td>6</td><td>James Bruce</td></tr><tr><td>53f43b34dabfaedce555de8e</td><td>6</td><td>D. Hocevar</td></tr><tr><td>53f4444bdabfaeb22f4b72b7</td><td>6</td><td>Rowan Davies</td></tr><tr><td>53f44198dabfaedd74ddf386</td><td>6</td><td>Clint Gibler</td></tr><tr><td>53f4502adabfaee4dc7f8adc</td><td>6</td><td>Pete Faraday</td></tr><tr><td>53f4487bdabfaee43ec8607e</td><td>6</td><td>Jiang Gao</td></tr><tr><td>53f44149dabfaee02ad09702</td><td>6</td><td>Mehmet Ergezer</td></tr><tr><td>53f4516fdabfaedd74e1a588</td><td>6</td><td>Thomas Bäck</td></tr><tr><td>53f452bcdabfaedd74e1f7d4</td><td>6</td><td>Robert II</td></tr><tr><td>53f44af9dabfaec09f1db49d</td><td>6</td><td>Kevin Howe</td></tr><tr><td>53f45af2dabfaedd74e3f0a5</td><td>6</td><td>Brent Reeves</td></tr><tr><td>53f4673bdabfaee4dc8518b8</td><td>6</td><td>Tyler Bletsch</td></tr><tr><td>53f45702dabfaec09f208c90</td><td>6</td><td>Dror Lapidot</td></tr><tr><td>53f467e0dabfaefedbb8e773</td><td>6</td><td>Yuandong Yang</td></tr><tr><td>53f45a51dabfaee0d9c02e8f</td><td>6</td><td>Stephen Barley</td></tr><tr><td>53f44f70dabfaee1c0b11012</td><td>6</td><td>Jiaqing Du</td></tr><tr><td>53f46d6adabfaedd74e85c69</td><td>6</td><td>N. Karnik</td></tr><tr><td>53f46c52dabfaee43ed0e320</td><td>6</td><td>Haseem Ashraf</td></tr><tr><td>53f47062dabfaee02adbbe42</td><td>6</td><td>Myungsin Chae</td></tr><tr><td>53f4516adabfaee43eca9727</td><td>6</td><td>Jason Davis</td></tr><tr><td>53f4cfd2dabfaeeee2f81127</td><td>6</td><td>F. Luthon</td></tr><tr><td>53f45552dabfaee0d9befd43</td><td>6</td><td>eran gazit</td></tr><tr><td>5405e260dabfae450f3dd717</td><td>6</td><td>Bin Liu</td></tr><tr><td>54095f90dabfae450f47cbaa</td><td>6</td><td>Wentao Huang</td></tr><tr><td>53f37e38dabfae4b349ed544</td><td>6</td><td>Andrei Petcherski</td></tr><tr><td>53f366a7dabfae4b3499c6f8</td><td>6</td><td>Timothy Callahan</td></tr><tr><td>562d02b045cedb3398d2aa23</td><td>6</td><td>john cioffi</td></tr><tr><td>53f36a06dabfae4b349a870a</td><td>6</td><td>J. KöNemann</td></tr><tr><td>53f45677dabfaefedbb50be6</td><td>6</td><td>Daniel Gardner</td></tr><tr><td>53f466d1dabfaedd74e6b6b3</td><td>6</td><td>Regina Estkowski</td></tr><tr><td>53f3a05bdabfae4b34ab6529</td><td>6</td><td>Zhuoqin Jiang</td></tr><tr><td>53f46e2bdabfaedf436642bf</td><td>6</td><td>Stan Park</td></tr><tr><td>53f47268dabfaee4dc87dc51</td><td>6</td><td>Jia-Min Ren</td></tr><tr><td>53f42b30dabfaec09f0f148a</td><td>6</td><td>R. Škrekovski</td></tr><tr><td>53f42cd0dabfaec09f10c59a</td><td>6</td><td>Brynjar Gretarsson</td></tr><tr><td>53f42d65dabfaee1c0a33a67</td><td>6</td><td>D. Zogas</td></tr><tr><td>53f45b00dabfaec09f216737</td><td>6</td><td>Jeffery Hansen</td></tr><tr><td>53f42e87dabfaec09f123518</td><td>6</td><td>Christian Suttner</td></tr><tr><td>53f42fb0dabfaee02ac7ddbf</td><td>6</td><td>Tal Shaked</td></tr><tr><td>53f42b31dabfaedd74d14330</td><td>6</td><td>Alessandro Nava</td></tr><tr><td>53f430f1dabfaee1c0a61840</td><td>6</td><td>C. Eijk</td></tr><tr><td>53f64ed7dabfae0633f16588</td><td>6</td><td>Peng Xu</td></tr><tr><td>53f42df1dabfaec22ba1f16c</td><td>6</td><td>Adam Kramer</td></tr><tr><td>53f45bb5dabfaedd74e418f1</td><td>6</td><td>xunyu pan</td></tr><tr><td>53f320badabfae9a844546c4</td><td>6</td><td>J.M. Sigarreta</td></tr><tr><td>5405bbb1dabfae8faa5f9f95</td><td>6</td><td>N. Mandayam</td></tr><tr><td>53f4322bdabfaedf435531ea</td><td>6</td><td>R. Marik</td></tr><tr><td>542a4b28dabfae61d49655e9</td><td>6</td><td>Zhe Chen</td></tr><tr><td>53f43241dabfaee2a1cbb15a</td><td>6</td><td>Lloyd Clarke</td></tr><tr><td>53f42e81dabfaee1c0a41e79</td><td>6</td><td>M. Antuono</td></tr><tr><td>53f434f8dabfaeb1a7be7396</td><td>6</td><td>William Garvey</td></tr><tr><td>5440a3e0dabfae7d84b975c6</td><td>6</td><td>R. Mukundan</td></tr><tr><td>544812fbdabfae87b7dd29f5</td><td>6</td><td>David Roberts</td></tr><tr><td>53f435f5dabfaee02acc63f1</td><td>6</td><td>Moosung Kim</td></tr><tr><td>53f45f12dabfaee43ecdb092</td><td>6</td><td>Li-Chang Hsu</td></tr><tr><td>53f43641dabfaee43ec2f565</td><td>6</td><td>Khaled Restom</td></tr><tr><td>53f42cc8dabfaee2a1c72beb</td><td>6</td><td>Niklas Jakob</td></tr><tr><td>53f4621edabfaedd74e58461</td><td>6</td><td>Pim Vullers</td></tr><tr><td>53f47d51dabfaee43ed4cc95</td><td>6</td><td>Michael Lush</td></tr><tr><td>53f46229dabfaee2a1d9ddf9</td><td>6</td><td>Andrea Rodriguez</td></tr><tr><td>53f4d328dabfaeedd0780b05</td><td>6</td><td>david ryan</td></tr><tr><td>53f64304dabfaed4d20f3d26</td><td>6</td><td>Yongxing Chen</td></tr><tr><td>5405a4f1dabfae8faa5ed2f8</td><td>6</td><td>Joshua Goodman</td></tr><tr><td>5405d145dabfae450f3d5c2e</td><td>6</td><td>Jie Hu</td></tr><tr><td>560ba86645cedb3397390738</td><td>6</td><td>Daniel Thalmann</td></tr><tr><td>53f46459dabfaefedbb80f20</td><td>6</td><td>Rishi Amrit</td></tr><tr><td>53f46470dabfaeee22a4c4df</td><td>6</td><td>Peisen Huang</td></tr><tr><td>562f22df45cedb339954b4da</td><td>6</td><td>M. Sturm</td></tr><tr><td>53f42e16dabfaeb2acff359f</td><td>6</td><td>Wojciech Boejko</td></tr><tr><td>53f36999dabfae4b349a6e3c</td><td>6</td><td>Jaakko Vihriälä</td></tr><tr><td>53f38558dabfae4b34a0f392</td><td>6</td><td>Isabela Siqueira</td></tr><tr><td>53f42b24dabfaec22b9f38ea</td><td>6</td><td>Jolene Galegher</td></tr><tr><td>53f37e55dabfae4b349edbbe</td><td>6</td><td>Michael Achtelik</td></tr><tr><td>54083fdfdabfae8faa637ace</td><td>6</td><td>K. Ramamurthy</td></tr><tr><td>54480b81dabfae87b7dca7dd</td><td>6</td><td>r blair</td></tr><tr><td>53f43024dabfaeb1a7bae397</td><td>6</td><td>Paul Blaer</td></tr><tr><td>53f42b90dabfaec22b9faeff</td><td>6</td><td>Mark Mendell</td></tr><tr><td>5630f42b45cedb3399c10ae3</td><td>6</td><td>Mukai, Ryo</td></tr><tr><td>56312e2145cedb3399cec6e4</td><td>6</td><td>Jojic, Nebojsa</td></tr><tr><td>53f327d4dabfae9a8447b993</td><td>6</td><td>M. Padberg</td></tr><tr><td>53f31b34dabfae9a844359e6</td><td>6</td><td>J. Novovičová</td></tr><tr><td>53f4539ddabfaec09f1fc2ba</td><td>6</td><td>Stephan Eisenschenk</td></tr><tr><td>53f42e11dabfaee2a1c853ab</td><td>6</td><td>Johan Suykens</td></tr><tr><td>53f3211adabfae9a84456739</td><td>6</td><td>Robert Hierons</td></tr><tr><td>53f320fadabfae9a84455c1f</td><td>6</td><td>Zhenyu Gu</td></tr><tr><td>53f430b3dabfaeb2ac013c80</td><td>6</td><td>dima stopel</td></tr><tr><td>53f43155dabfaee1c0a670b8</td><td>6</td><td>andrzej tarlecki</td></tr><tr><td>53f42edddabfaedd74d49ed5</td><td>6</td><td>O. Egeland</td></tr><tr><td>53f46131dabfaefedbb74cd7</td><td>6</td><td>Egon Börger</td></tr><tr><td>53f42ea2dabfaeb1a7b9b875</td><td>6</td><td>G. Dedene</td></tr><tr><td>53f47004dabfaedd74e8fa1c</td><td>6</td><td>Leo Porter</td></tr><tr><td>53f47950dabfaefedbbb7d2e</td><td>6</td><td>Petra Langendijk-Genevaux</td></tr><tr><td>53f42c59dabfaedce54b5908</td><td>6</td><td>Lasse Nielsen</td></tr><tr><td>53f42e2cdabfaee4dc723df7</td><td>6</td><td>C.N. Potts</td></tr><tr><td>53f4d08edabfaeedd377df2c</td><td>6</td><td>Begoña Gutiérrez-Nieto</td></tr><tr><td>53f42f83dabfaee1c0a4ecad</td><td>6</td><td>Amelie Stein</td></tr><tr><td>53f42f9bdabfaedd74d52cb2</td><td>6</td><td>Kevin Tang</td></tr><tr><td>53f45151dabfaeecd69d8054</td><td>6</td><td>H. Ridder</td></tr><tr><td>53f43039dabfaee0d9b20c0e</td><td>6</td><td>andrzej glowinski</td></tr><tr><td>53f43394dabfaeee2298e4e2</td><td>6</td><td>B. Verma</td></tr><tr><td>53f42fd9dabfaee43ebe4a86</td><td>6</td><td>Roger Longbotham</td></tr><tr><td>53f556d7dabfae963d25e4f5</td><td>6</td><td>Rui Zhang</td></tr><tr><td>54084d40dabfae8faa63e628</td><td>6</td><td>Alok Aggarwal</td></tr><tr><td>53f438b7dabfaec09f193062</td><td>6</td><td>John Pinkston</td></tr><tr><td>53f430e1dabfaee43ebf23da</td><td>6</td><td>Barış Sertkaya</td></tr><tr><td>53f42b9ddabfaedce54a96b4</td><td>6</td><td>Kiran Fernandes</td></tr><tr><td>53f4316cdabfaeb2ac01cea1</td><td>6</td><td>Emmanuel Turquin</td></tr><tr><td>53f432b9dabfaee2a1cc0a57</td><td>6</td><td>I. Stanoi</td></tr><tr><td>53f4319bdabfaec09f149e4d</td><td>6</td><td>Laxman Sahasrabuddhe</td></tr><tr><td>53f43267dabfaeb2ac02a0ea</td><td>6</td><td>Ujjwal Das</td></tr><tr><td>53f4373bdabfaeb22f478e83</td><td>6</td><td>Katrin Amunts</td></tr><tr><td>53f43989dabfaeee229c874e</td><td>6</td><td>Bret Hull</td></tr><tr><td>53f43903dabfaee0d9b7df04</td><td>6</td><td>T. Pietrzykowski</td></tr><tr><td>53f43cd2dabfaedce55647eb</td><td>6</td><td>Georgescu, B.</td></tr><tr><td>53f44111dabfaedf435bcb7a</td><td>6</td><td>Timothy Behrens</td></tr><tr><td>53f4469adabfaec09f1c9f3f</td><td>6</td><td>A. Crespi</td></tr><tr><td>53f44ad2dabfaec09f1daaf7</td><td>6</td><td>F. Vecchi</td></tr><tr><td>53f43a39dabfaedd74dc44f2</td><td>6</td><td>Yangchi Chen</td></tr><tr><td>53f44ea0dabfaeecd69cd505</td><td>6</td><td>Benjamin Culpepper</td></tr><tr><td>53f45ae6dabfaee0d9c04e7e</td><td>6</td><td>Carlos Jara</td></tr><tr><td>53f44bf6dabfaeb22f4d6d86</td><td>6</td><td>Antony Quinn</td></tr><tr><td>53f45706dabfaefedbb52c0f</td><td>6</td><td>Jim Jones</td></tr><tr><td>53f45e72dabfaee43ecd8dc1</td><td>6</td><td>Goran Doychev</td></tr><tr><td>53f45f17dabfaee0d9c12f54</td><td>6</td><td>V. Kumar</td></tr><tr><td>53f45f90dabfaec09f225b94</td><td>6</td><td>Songping Wu</td></tr><tr><td>53f46ae9dabfaedf4365799f</td><td>6</td><td>Nuzhet Atay</td></tr><tr><td>53f4625adabfaeee22a44b81</td><td>6</td><td>D. Tsang</td></tr><tr><td>53f472f1dabfaeee22a821f2</td><td>6</td><td>Marina Fridin</td></tr><tr><td>53f47d4fdabfaec09f295ddc</td><td>6</td><td>L. Carrier</td></tr><tr><td>53f4ce75dabfaeedd777bcc3</td><td>6</td><td>Nina Valkanova</td></tr><tr><td>53f7a74ddabfae90ec110df8</td><td>6</td><td>Andrew Dillon</td></tr><tr><td>540596fbdabfae8faa5e647b</td><td>6</td><td>Daniel Schober</td></tr><tr><td>53f37c05dabfae4b349e5ab8</td><td>6</td><td>Andreas Ostermeier</td></tr><tr><td>540fdd04dabfae450f4aed1d</td><td>6</td><td>barry lawson</td></tr><tr><td>53f457cedabfaee1c0b32fa7</td><td>6</td><td>Guo-Shi Li</td></tr><tr><td>53f43258dabfaeb2ac02940b</td><td>6</td><td>Christian Heath</td></tr><tr><td>53f31be5dabfae9a844397ed</td><td>6</td><td>Taylor Randall</td></tr><tr><td>53f39a0cdabfae4b34a8cb69</td><td>6</td><td>Craig Chase</td></tr><tr><td>53f46906dabfaee43ed011a9</td><td>6</td><td>Dorine Andrews</td></tr><tr><td>53f39bf9dabfae4b34a998a1</td><td>6</td><td>Josef Lankes</td></tr><tr><td>53f46fa3dabfaedd74e8e40f</td><td>6</td><td>Lawton Verner</td></tr><tr><td>53f4272adabfaec09f0d7553</td><td>6</td><td>Lvdi Wang</td></tr><tr><td>53f474a9dabfaee02adcd0f9</td><td>6</td><td>George Copeland</td></tr><tr><td>53f473dadabfaee02adc9f36</td><td>6</td><td>Yang Ni</td></tr><tr><td>53f45a93dabfaeb22f510d94</td><td>6</td><td>Vigdis Kampenes</td></tr><tr><td>53f4767bdabfaec09f27f1b5</td><td>6</td><td>Hazim Almuhimedi</td></tr><tr><td>53f3aaffdabfae4b34af7117</td><td>6</td><td>Monique Jansen-Vullers</td></tr><tr><td>53f477cbdabfaedf43689fac</td><td>6</td><td>Kleanthis-Nikolaos Kontonasios</td></tr><tr><td>53f479e7dabfae8a6845c97e</td><td>6</td><td>Jason Bau</td></tr><tr><td>53f47ef0dabfae9126cc53f0</td><td>6</td><td>Igor Antoshechkin</td></tr><tr><td>53f4299adabfaeb22f3d56e3</td><td>6</td><td>Mayank Saksena</td></tr><tr><td>53f4a2e8dabfaee0d9c75d0b</td><td>6</td><td>Chun Zhang</td></tr><tr><td>53f4d0e1dabfaef010f80933</td><td>6</td><td>Li Jiang</td></tr><tr><td>53f4d350dabfaeedd878117f</td><td>6</td><td>Vincent Montreuil</td></tr><tr><td>53f42cd3dabfaee2a1c7359b</td><td>6</td><td>Harry Kornilakis</td></tr><tr><td>542a67eedabfae61d4977ff2</td><td>6</td><td>Haibing Li</td></tr><tr><td>53f43236dabfaec09f1518c5</td><td>6</td><td>Charles Jacobs</td></tr><tr><td>53f45f95dabfaee0d9c14b09</td><td>6</td><td>L. Harnefors</td></tr><tr><td>53f37ec1dabfae4b349ef4e0</td><td>6</td><td>Nariman Mirzaei</td></tr><tr><td>562f4fce45cedb3399604745</td><td>6</td><td>Hordley, S.D.</td></tr><tr><td>53f42e83dabfaeb2acff8bc5</td><td>6</td><td>Howard David</td></tr><tr><td>5631b01845cedb3399edf32e</td><td>6</td><td>Ioan Sucan</td></tr><tr><td>53f42f9fdabfaec09f130cc1</td><td>6</td><td>Siyad Ma</td></tr><tr><td>53f42f48dabfaee02ac78e74</td><td>6</td><td>Julia Pettine</td></tr><tr><td>53f4305bdabfaee2a1ca24b0</td><td>6</td><td>L. Amodeo</td></tr><tr><td>53f4d4f2dabfaef34bf80f31</td><td>6</td><td>Ching-Hsien Chang</td></tr><tr><td>53f46444dabfaec09f23725b</td><td>6</td><td>Wilburt Labio</td></tr></tbody></table>Showing the first 1000 rows.</div>"
      ]
     },
     "metadata": {
      "application/vnd.databricks.v1+output": {
       "addedWidgets": {},
       "aggData": [],
       "aggError": "",
       "aggOverflow": false,
       "aggSchema": [],
       "aggSeriesLimitReached": false,
       "aggType": "",
       "arguments": {},
       "columnCustomDisplayInfos": {},
       "data": [
        [
         "53f4cadadabfaee57c780346",
         13,
         "Diane Tang"
        ],
        [
         "53f495f3dabfaeb4c477b931",
         13,
         "Vardy, A."
        ],
        [
         "53f435bddabfaee0d9b6004b",
         13,
         "Anukool Lakhina"
        ],
        [
         "53f438ccdabfaeecd69758b9",
         12,
         "Raman Sarin"
        ],
        [
         "53f45331dabfaeb22f4f450f",
         12,
         "Ossama Abdel-Hamid"
        ],
        [
         "53f43a43dabfaee0d9b88ae2",
         12,
         "Geoff Hulten"
        ],
        [
         "53f44fe3dabfaee0d9bd9bbf",
         12,
         "Wolf-Dietrich Weber"
        ],
        [
         "54328e2adabfaeb4c6a8cee5",
         12,
         "F. DiCesare"
        ],
        [
         "53f38ef0dabfae4b34a48867",
         12,
         "D.P. Palomar"
        ],
        [
         "53f44fe8dabfaefedbb38737",
         11,
         "Petri Tanskanen"
        ],
        [
         "53f38f20dabfae4b34a49ce3",
         11,
         "jenny finkel"
        ],
        [
         "53f4319ddabfaee0d9b32aa2",
         11,
         "Bernd Freimut"
        ],
        [
         "53f35716dabfae4b34960445",
         11,
         "Sean Quinlan"
        ],
        [
         "53f47e45dabfaee43ed5033d",
         11,
         "Robert Szewczyk"
        ],
        [
         "53f4dbfcdabfaef7e677b518",
         11,
         "Timothy Sohn"
        ],
        [
         "53f43b10dabfaeecd698c5b5",
         11,
         "Sarma Nidumolu"
        ],
        [
         "53f46080dabfaeb22f52543f",
         11,
         "brian babcock"
        ],
        [
         "53f4355cdabfaee2a1cdda92",
         11,
         "Pedro Leon"
        ],
        [
         "5448758bdabfae87b7e28421",
         11,
         "Li Shang"
        ],
        [
         "53f432a6dabfaee0d9b3f93f",
         11,
         "Sergey Brin"
        ],
        [
         "53f32364dabfae9a844633b6",
         11,
         "Jesse Levinson"
        ],
        [
         "53f42e59dabfaee0d9b096ee",
         11,
         "Brian Mitchell"
        ],
        [
         "53f42b4fdabfaedce54a3fe9",
         11,
         "Shaoqing Ren"
        ],
        [
         "53f471e7dabfaee4dc87bb11",
         11,
         "R. Larson"
        ],
        [
         "53f47a2fdabfaee43ed41ad4",
         10,
         "Steven Gianvecchio"
        ],
        [
         "53f45318dabfaedf435fed4f",
         10,
         "Michelle Cartwright"
        ],
        [
         "53f38ef0dabfae4b34a488ab",
         10,
         "D. Gavrila"
        ],
        [
         "53f4438fdabfaee02ad0dd7e",
         10,
         "Atul Singh"
        ],
        [
         "53f43469dabfaeb2ac0401b5",
         10,
         "Taha Elhag"
        ],
        [
         "53f43e87dabfaee02ad040ee",
         10,
         "Konrad Lorincz"
        ],
        [
         "53f45258dabfaee02ad4956d",
         10,
         "Kevin Li"
        ],
        [
         "5440e556dabfae805a706471",
         10,
         "Nick Yee"
        ],
        [
         "53f46c2adabfaec09f256763",
         10,
         "Carolyn Brodie"
        ],
        [
         "54069321dabfae44f084256f",
         10,
         "Susan Horwitz"
        ],
        [
         "53f43058dabfaeb22f42d64a",
         10,
         "Jia-Wei Fang"
        ],
        [
         "563159e445cedb3399da0eaa",
         10,
         "Christopher Mayhew"
        ],
        [
         "53f44541dabfaee43ec7950b",
         10,
         "Christine Pao"
        ],
        [
         "53f482cddabfaec09f2a3dd8",
         10,
         "V. Milanés"
        ],
        [
         "53f4322edabfaedd74d73ed7",
         10,
         "Thanasis Tsantilas"
        ],
        [
         "53f42dc2dabfaee2a1c8150c",
         10,
         "William Landi"
        ],
        [
         "53f477fddabfaee43ed3b2bd",
         10,
         "Benjamin Taskar"
        ],
        [
         "53f49646dabfaeb4c477ba5d",
         10,
         "Patrick Brown"
        ],
        [
         "53f4376cdabfaec09f18651b",
         10,
         "Richard Wang"
        ],
        [
         "53f43a35dabfaec09f1a0936",
         10,
         "R. Touzi"
        ],
        [
         "53f43e56dabfaee43ec68e4a",
         10,
         "Jo Hannay"
        ],
        [
         "53f45bcadabfaeecd69fa8da",
         10,
         "Lin Liao"
        ],
        [
         "53f444dddabfaedf435c68ae",
         10,
         "Reynol Junco"
        ],
        [
         "53f444f3dabfaec22bac2b04",
         10,
         "Martin Farber"
        ],
        [
         "53f431cbdabfaeb1a7bc35cd",
         10,
         "Martin Peralta-Gil"
        ],
        [
         "53f4c2d8dabfaedce565c8b6",
         9,
         "Daniel Robbins"
        ],
        [
         "53f44b4ddabfaeb22f4d4229",
         9,
         "Harish Krishnaswamy"
        ],
        [
         "54059b3cdabfae450f3bc267",
         9,
         "A. Nemirovski"
        ],
        [
         "53f434fedabfaee2a1cd9e38",
         9,
         "Sridhar Balasubramanian"
        ],
        [
         "53f439ebdabfaee2a1d06e9f",
         9,
         "christian kerl"
        ],
        [
         "53f43a4cdabfaeecd698388b",
         9,
         "Chaitanya Chemudugunta"
        ],
        [
         "53f43465dabfaee2a1cd34a6",
         9,
         "William Blume"
        ],
        [
         "53f4354bdabfaee43ec26528",
         9,
         "Johnny Lee"
        ],
        [
         "53f43519dabfaee4dc777ad5",
         9,
         "Douglas Turnbull"
        ],
        [
         "53f42e81dabfaee0d9b0b72f",
         9,
         "Barış Fidan"
        ],
        [
         "53f44c89dabfaee4dc7ea2ad",
         9,
         "Sadaf Zahedi"
        ],
        [
         "53f44b1ddabfaee43ec90bd6",
         9,
         "Eleanor Toye"
        ],
        [
         "53f464e0dabfaeee22a4e003",
         9,
         "Jonathan Binney"
        ],
        [
         "53f43334dabfaeb2ac032e1e",
         9,
         "Juan Tardós"
        ],
        [
         "53f461d7dabfaee43ece499d",
         9,
         "M. Grunes"
        ],
        [
         "53f4693ddabfaeecd6a1810e",
         9,
         "Wei-Kuang Huang"
        ],
        [
         "53f43347dabfaeee2298ab33",
         9,
         "Terry Friesz"
        ],
        [
         "53f4cf65dabfaeeee1f809a4",
         9,
         "Francesco Calabrese"
        ],
        [
         "53f42e95dabfaee43ebd41fe",
         9,
         "Alexander Markowetz"
        ],
        [
         "53f42cbadabfaedf4350d03e",
         9,
         "Ruibin Xu"
        ],
        [
         "53f43066dabfaedce54eb71f",
         9,
         "Aleksey Golovinskiy"
        ],
        [
         "53f43721dabfaec09f183745",
         9,
         "Johnny Accot"
        ],
        [
         "53f43bb9dabfaedf435b2339",
         9,
         "Jeffrey Jestes"
        ],
        [
         "53f46d55dabfaee2a1dca848",
         9,
         "Aaron Edsinger"
        ],
        [
         "54053789dabfae8faa5b4322",
         9,
         "Hyunjoo Kim"
        ],
        [
         "54450cdbdabfae862da014ff",
         9,
         "Yang Xiao"
        ],
        [
         "53f43aa7dabfaefedbaf1727",
         9,
         "S. Tarantola"
        ],
        [
         "53f3985bdabfae4b34a81aac",
         9,
         "Martin Madera"
        ],
        [
         "53f43321dabfaee43ec0de24",
         9,
         "Rafael Lotufo"
        ],
        [
         "53f43084dabfaedd74d5e82b",
         9,
         "Z. Xu"
        ],
        [
         "53f43a2bdabfaeb22f4945a3",
         9,
         "Emil Praun"
        ],
        [
         "53f4335adabfaee1c0a7e938",
         9,
         "Toni Rath"
        ],
        [
         "53f448fedabfaee1c0af7891",
         9,
         "Shiliang Hu"
        ],
        [
         "53f3a047dabfae4b34ab5c6a",
         9,
         "René Koster"
        ],
        [
         "53f42fc9dabfaee2a1c9aed5",
         9,
         "Yougu Yuan"
        ],
        [
         "53f42fd5dabfaee02ac7fae3",
         9,
         "Jiewen Huang"
        ],
        [
         "544835a1dabfae87b7de7f22",
         9,
         "Vimal Singh"
        ],
        [
         "53f42e3bdabfaedd74d41c60",
         9,
         "Jernej Barbič"
        ],
        [
         "53f3823fdabfae4b349fcb52",
         9,
         "E Selkov"
        ],
        [
         "54085ad3dabfae450f4105eb",
         9,
         "Fernando Paganini"
        ],
        [
         "53f434cbdabfaec09f16ea4f",
         9,
         "Toby Sharp"
        ],
        [
         "53f43260dabfaee1c0a74542",
         9,
         "Mario Schlosser"
        ],
        [
         "53f4386edabfaee02acdd680",
         9,
         "Andrew Maimone"
        ],
        [
         "53f43271dabfaedd74d77818",
         9,
         "Raymond Buse"
        ],
        [
         "53f4347cdabfaee02acb8058",
         9,
         "Taeho Kgil"
        ],
        [
         "53f4cf35dabfaeeee1f805a2",
         9,
         "A. Ramli"
        ],
        [
         "53f444b7dabfaedd74de7831",
         9,
         "Elad Shahar"
        ],
        [
         "53f45264dabfaec09f1f787f",
         9,
         "Colleen Shannon"
        ],
        [
         "53f39098dabfae4b34a526b9",
         9,
         "Donald Gennery"
        ],
        [
         "53f43765dabfaedce5538372",
         9,
         "Daniel Marques"
        ],
        [
         "53f42e22dabfaedd74d40677",
         8,
         "T. Cover"
        ],
        [
         "53f45575dabfaec09f203164",
         8,
         "Zhongtang Zhao"
        ],
        [
         "53f475b0dabfaefedbbab1df",
         8,
         "F. Vanderhaegen"
        ],
        [
         "53f474f1dabfaefedbba8074",
         8,
         "Marc Salomon"
        ],
        [
         "53f49a52dabfaedce562563a",
         8,
         "Stephen Prajna"
        ],
        [
         "54450cdcdabfae862da01541",
         8,
         "Yang Xiao"
        ],
        [
         "53f431a3dabfaec22ba4e648",
         8,
         "Carola Catenacci"
        ],
        [
         "53f4357cdabfaeb2ac04b4b4",
         8,
         "Jun Ye"
        ],
        [
         "53f42944dabfaeb22f3d3d7b",
         8,
         "Bas Raadt"
        ],
        [
         "53f44e26dabfaedf435eb10c",
         8,
         "A. Vans"
        ],
        [
         "53f44f4edabfaee0d9bd7640",
         8,
         "Gareth Harries"
        ],
        [
         "5605020145cedb3396520bd6",
         8,
         "Seyed Khansari-Zadeh"
        ],
        [
         "53f44f71dabfaefedbb36b1b",
         8,
         "Cosmin Rusu"
        ],
        [
         "53f435d2dabfaee2a1ce218c",
         8,
         "Omid Shakernia"
        ],
        [
         "562c8ec945cedb3398c5f065",
         8,
         "Kevin Noronha"
        ],
        [
         "53f45ae5dabfaec09f216197",
         8,
         "Paul Gray"
        ],
        [
         "53f43215dabfaee2a1cb8cd7",
         8,
         "F. Mattia"
        ],
        [
         "56319b1a45cedb3399e92753",
         8,
         "Ian Gravagne"
        ],
        [
         "53f43a93dabfaec09f1a4fdc",
         8,
         "H Brooks"
        ],
        [
         "53f43becdabfaee2a1d1a129",
         8,
         "Joseph Murray"
        ],
        [
         "53f454fcdabfaee0d9bee6a2",
         8,
         "Shervin Nouyan"
        ],
        [
         "53f4744cdabfaee43ed2d152",
         8,
         "C. Lemaréchal"
        ],
        [
         "53f431a7dabfaeb2ac01fdcb",
         8,
         "Ping Xia"
        ],
        [
         "5406df1edabfae44f08654b3",
         8,
         "Simon Fischer"
        ],
        [
         "53f44a23dabfaeecd69bbe1c",
         8,
         "Fu Huang"
        ],
        [
         "53f44102dabfaec09f1ba0d1",
         8,
         "James Rogers"
        ],
        [
         "53f42b48dabfaedd74d15bff",
         8,
         "Hartwig Fronthaler"
        ],
        [
         "53f46e93dabfaee43ed17063",
         8,
         "I. Traiger"
        ],
        [
         "53f42d26dabfaee02ac5d9b8",
         8,
         "Andreea Hossmann-Picu"
        ],
        [
         "53f42f3edabfaec09f12c379",
         8,
         "David Andrzejewski"
        ],
        [
         "53f473dbdabfaeee22a85bc1",
         8,
         "Alastair Harrison"
        ],
        [
         "53f42e7bdabfaec09f122af0",
         8,
         "Michael Levin"
        ],
        [
         "53f36404dabfae4b3499269c",
         8,
         "Maia Garau"
        ],
        [
         "53f43730dabfaeb1a7bfae2c",
         8,
         "Ondřej Št'ava"
        ],
        [
         "53f64269dabfaed4c00f3cca",
         8,
         "Robert Cooley"
        ],
        [
         "53f438d8dabfaee02ace1cce",
         8,
         "Adam Baumberg"
        ],
        [
         "53f43188dabfaedd74d6ba1a",
         8,
         "Tyler Harter"
        ],
        [
         "54487e62dabfae87b7e32178",
         8,
         "Xiaoli Ma"
        ],
        [
         "53f435a1dabfaee0d9b5ee12",
         8,
         "Nadine Jarvis"
        ],
        [
         "53f434cadabfaee02acbb661",
         8,
         "john sauter"
        ],
        [
         "53f42c6fdabfaee0d9aeec4e",
         8,
         "Noel Eisley"
        ],
        [
         "53f364a2dabfae4b34994f82",
         8,
         "Ramon Bauza"
        ],
        [
         "53f42e3fdabfaedd74d4211e",
         8,
         "Ben Lynn"
        ],
        [
         "53f43389dabfaee43ec128bf",
         8,
         "H. Farid"
        ],
        [
         "53f430f1dabfaee02ac8de09",
         8,
         "sundeep pattem"
        ],
        [
         "53f4498bdabfaeee22a0406a",
         8,
         "Halvard Skogsrud"
        ],
        [
         "53f45595dabfaedd74e2ac19",
         8,
         "Guande Qi"
        ],
        [
         "53f4359adabfaee2a1cdfa82",
         8,
         "Marco Silva"
        ],
        [
         "53f43a45dabfaedf435a39bb",
         8,
         "S. Ram"
        ],
        [
         "53f438dadabfaee0d9b7c0d6",
         8,
         "Allison Farber"
        ],
        [
         "53f433c8dabfaeee22990a42",
         8,
         "Martin Geisler"
        ],
        [
         "53f44743dabfaee4dc7d474b",
         8,
         "Sujay Parekh"
        ],
        [
         "53f434bbdabfaedd74d91374",
         8,
         "R. Jacoby"
        ],
        [
         "53f599c4dabfaeea74f80465",
         8,
         "Dazhi Wang"
        ],
        [
         "53f457d7dabfaee1c0b331eb",
         8,
         "Abhay Vardhan"
        ],
        [
         "5440fb6bdabfae805a7172c6",
         8,
         "alexander yates"
        ],
        [
         "53f45fbbdabfaee1c0b4f488",
         8,
         "Christoph Paasch"
        ],
        [
         "53f4491cdabfaee4dc7dc20e",
         8,
         "Lawrence Bower"
        ],
        [
         "53f80867dabfae7f97a3dcde",
         8,
         "J. RamíRez"
        ],
        [
         "53f477addabfaee02add9026",
         8,
         "S. Baronti"
        ],
        [
         "53f42c44dabfaee0d9aebfb4",
         8,
         "Michihiro Kuramochi"
        ],
        [
         "5408a066dabfae450f430037",
         8,
         "Luo Nan"
        ],
        [
         "53f4d41bdabfaeedd6781f14",
         8,
         "Frank Niessink"
        ],
        [
         "54327740dabfaeb4ea4f33de",
         8,
         "James Flege"
        ],
        [
         "53f433d4dabfaec09f164069",
         8,
         "Dejan Vranic"
        ],
        [
         "53f4c746dabfaee57877c5ff",
         8,
         "salvatore guarnieri"
        ],
        [
         "53f4361bdabfaeb1a7bf192b",
         8,
         "eric paquet"
        ],
        [
         "53f42d8bdabfaedd74d38efa",
         8,
         "Purvi Saraiya"
        ],
        [
         "53f436fbdabfaedce55347a9",
         8,
         "Yuri Grechkin"
        ],
        [
         "53f430d3dabfaeb22f433da5",
         8,
         "Andrej Mrvar"
        ],
        [
         "5433b645dabfaeb4c6ac89f5",
         8,
         "Carsten Otto"
        ],
        [
         "53f42d95dabfaedf435197f3",
         8,
         "Sébastien Zimmer"
        ],
        [
         "53f433d3dabfaeb1a7bdafe2",
         8,
         "John Maslen"
        ],
        [
         "562c82e045cedb3398c46904",
         8,
         "Kai Kang"
        ],
        [
         "53f439e8dabfaedce554f383",
         8,
         "Guozhang Wang"
        ],
        [
         "53f42d9cdabfaee0d9affd13",
         8,
         "David Ryan"
        ],
        [
         "543377a7dabfaeb542188d39",
         8,
         "Amit Sinha"
        ],
        [
         "53f448bddabfaedf435d5fad",
         8,
         "Lee Suh"
        ],
        [
         "562d9a1245cedb3398e7ae12",
         8,
         "Sammy Omari"
        ],
        [
         "53f36b99dabfae4b349ae03f",
         8,
         "Mechthild Stoer"
        ],
        [
         "53f42f74dabfaedd74d50f5a",
         8,
         "Henry Lucas"
        ],
        [
         "53f43137dabfaeb22f438e8f",
         8,
         "Alexandru Balan"
        ],
        [
         "53f439badabfaeb22f49024b",
         8,
         "S. Damas"
        ],
        [
         "5631bdb345cedb3399f0d16d",
         8,
         "b supinski"
        ],
        [
         "53f433eedabfaee0d9b4d84a",
         8,
         "Magnus Ekman"
        ],
        [
         "53f436addabfaedce55317fd",
         8,
         "Karim Ali"
        ],
        [
         "53f437b3dabfaeb2ac05efac",
         8,
         "B.J. Lageweg"
        ],
        [
         "53f437fcdabfaec09f18bca1",
         8,
         "A. Castelletti"
        ],
        [
         "53f38454dabfae4b34a09424",
         8,
         "David Atkins"
        ],
        [
         "53f37519dabfae4b349ce0df",
         8,
         "Shubhabrata Sengupta"
        ],
        [
         "53f43abfdabfaee2a1d1076b",
         8,
         "Gavin Jancke"
        ],
        [
         "53f43cdbdabfaeecd69947e0",
         8,
         "Keith Hampton"
        ],
        [
         "53f484eedabfaec09f2a7d67",
         8,
         "Alexandros Chaaraoui"
        ],
        [
         "53f44050dabfaee0d9ba1858",
         8,
         "Jiaping Zheng"
        ],
        [
         "53f42ee8dabfaeb1a7b9ef3c",
         8,
         "Zhongliang Yue"
        ],
        [
         "53f44a62dabfaee1c0afd3ac",
         8,
         "Chiao-fe Shu"
        ],
        [
         "53f43a75dabfaec09f1a39b3",
         8,
         "David Menestrina"
        ],
        [
         "53f42ac6dabfaec09f0e853c",
         8,
         "Daoliang Tan"
        ],
        [
         "53f4574adabfaefedbb53be4",
         8,
         "Richard Freling"
        ],
        [
         "53f49c47dabfaebfa377b44f",
         8,
         "Eugene Wong"
        ],
        [
         "53f7c08edabfae8faa4b0361",
         8,
         "Yun Zhang"
        ],
        [
         "53f55e5adabfae5255f8048d",
         8,
         "Jonathan Shapiro"
        ],
        [
         "53f4442cdabfaee4dc7c8360",
         8,
         "Sorabh Gandhi"
        ],
        [
         "53fa0527dabfae8faa59ff93",
         8,
         "Wei Dong"
        ],
        [
         "53f42b30dabfaeb22f3e5013",
         8,
         "Bernd Roechert"
        ],
        [
         "53f47269dabfaee43ed256a4",
         8,
         "Zhenqiang Ye"
        ],
        [
         "53f425d3dabfaeb22f3c1f1c",
         8,
         "Jörg Wegner"
        ],
        [
         "53f4bc5edabfaedce5653aff",
         8,
         "David Landgrebe"
        ],
        [
         "53f42c74dabfaeb1a7b7d2bb",
         8,
         "Ramana Idury"
        ],
        [
         "53f44960dabfaee2a1d40c0d",
         8,
         "N. Leveson"
        ],
        [
         "53f56939dabfae6708f8045b",
         8,
         "Karl Zilles"
        ],
        [
         "53f80f49dabfae9060b0c1c3",
         8,
         "J. Bruck"
        ],
        [
         "53f42ed3dabfaedce54d82e2",
         8,
         "Elizabeth Sanocki"
        ],
        [
         "53f4be21dabfaedce5655f07",
         8,
         "Aleš Ude"
        ],
        [
         "5440b2eedabfae805a6e716a",
         8,
         "Wu Zhou"
        ],
        [
         "53f7a155dabfae9060ad4a4d",
         8,
         "Bo Li"
        ],
        [
         "53f44fd2dabfaee2a1d5a132",
         8,
         "Steve Sheng"
        ],
        [
         "53f4d04cdabfaeedcf77da38",
         8,
         "Ramil, J.F."
        ],
        [
         "53f42f2ddabfaec22ba2ede7",
         8,
         "Dongyun Jin"
        ],
        [
         "53f4308fdabfaee0d9b2521b",
         8,
         "Ivica Nikolić"
        ],
        [
         "53f3a1c0dabfae4b34abe63a",
         8,
         "Deepak Bhadauria"
        ],
        [
         "53f43121dabfaec22ba47ed5",
         8,
         "Donald II"
        ],
        [
         "53f3a9b0dabfae4b34aef143",
         8,
         "Seán Slattery"
        ],
        [
         "53f437d7dabfaeee229b8398",
         8,
         "Qing Fang"
        ],
        [
         "53f44502dabfaee02ad135c8",
         8,
         "Klaus Kollreider"
        ],
        [
         "53f434ffdabfaee43ec23407",
         8,
         "Gizem Çifçi"
        ],
        [
         "53f439dbdabfaec09f19cbe9",
         8,
         "Enrique Ortiz"
        ],
        [
         "53f43acddabfaeb22f49b808",
         8,
         "Stéphan Jourdan"
        ],
        [
         "53f44f41dabfaee0d9bd7377",
         8,
         "Corin Anderson"
        ],
        [
         "53f44621dabfaeee229f670f",
         8,
         "Arijit Ganguly"
        ],
        [
         "53f45045dabfaefedbb39e4c",
         8,
         "O. Somekh"
        ],
        [
         "53f455f7dabfaedd74e2c473",
         8,
         "Di You"
        ],
        [
         "53f44fb9dabfaedd74e13915",
         8,
         "Bryan Pendleton"
        ],
        [
         "53f45b37dabfaec09f21720b",
         8,
         "E. Upfal"
        ],
        [
         "53f4783cdabfaefedbbb487c",
         8,
         "Peter Bodik"
        ],
        [
         "5448a5dcdabfae87b7e58d88",
         8,
         "G Curio"
        ],
        [
         "53f38225dabfae4b349fc19a",
         8,
         "Ji Zhou"
        ],
        [
         "53f4532cdabfaee4dc8051cf",
         8,
         "Carlos Fonseca"
        ],
        [
         "53f46a5fdabfaee0d9c3e5f5",
         8,
         "S. Shakkottai"
        ],
        [
         "542a477bdabfae61d4962bf7",
         8,
         "Yong Wang"
        ],
        [
         "53f43b00dabfaeecd698b8dd",
         8,
         "Rion Snow"
        ],
        [
         "53f43be7dabfaee02acfe717",
         8,
         "Lucas Kovar"
        ],
        [
         "53f42891dabfaeb22f3d091d",
         8,
         "Jason Howard"
        ],
        [
         "53f438e5dabfaec09f195121",
         7,
         "K. Fujiyoshi"
        ],
        [
         "53f4621adabfaec09f22e9b6",
         7,
         "Jörg Schultz"
        ],
        [
         "53f43726dabfaeb2ac059948",
         7,
         "Zach Wright"
        ],
        [
         "53f4660cdabfaefedbb8749b",
         7,
         "José Bermudez"
        ],
        [
         "53f43264dabfaee02aca05b2",
         7,
         "Miroslav Ponec"
        ],
        [
         "53f78589dabfae92b40c2515",
         7,
         "Su Zhang"
        ],
        [
         "53f4641adabfaedf4363ced0",
         7,
         "J. Pérez"
        ],
        [
         "53f392c2dabfae4b34a5f2c1",
         7,
         "Rui Alves"
        ],
        [
         "53f45ceedabfaeb22f518f46",
         7,
         "A. Redlich"
        ],
        [
         "53f43131dabfaedce54f5eff",
         7,
         "Paul Drielsma"
        ],
        [
         "53f4346cdabfaee02acb73fe",
         7,
         "David Roedl"
        ],
        [
         "53f43ae1dabfaeecd698a372",
         7,
         "Chao-Gan Yan"
        ],
        [
         "53f44586dabfaeecd69a948e",
         7,
         "Eelco Scholte"
        ],
        [
         "53f4d056dabfaeedd777de40",
         7,
         "A. Proutière"
        ],
        [
         "53f465bcdabfaee4dc84b6a2",
         7,
         "Julien Tane"
        ],
        [
         "5630f47045cedb3399c11fc4",
         7,
         "Steven Eppinger"
        ],
        [
         "53f35f80dabfae4b3497fb69",
         7,
         "Anson Tse"
        ],
        [
         "53f4344cdabfaee43ec1b673",
         7,
         "Mei-Qun Jiang"
        ],
        [
         "53f44580dabfaeb22f4bbfd3",
         7,
         "Timothy Dozat"
        ],
        [
         "53f44d27dabfaec09f1e3871",
         7,
         "Stavros Theodorakis"
        ],
        [
         "53f4bdf6dabfaedce5655b8e",
         7,
         "L. Iftode"
        ],
        [
         "53fa13b4dabfae44f07f9dd8",
         7,
         "Michael Elkin"
        ],
        [
         "53f4775fdabfaefedbbb1d52",
         7,
         "Johan Dag"
        ],
        [
         "53f7d1dcdabfae938c6df8a0",
         7,
         "Min Wu"
        ],
        [
         "53f432e1dabfaeb1a7bd0886",
         7,
         "Christine Flood"
        ],
        [
         "53f43139dabfaee1c0a655c6",
         7,
         "Masao Fukushima"
        ],
        [
         "53f4398adabfaee0d9b82208",
         7,
         "Zach Jorgensen"
        ],
        [
         "53f43deddabfaee0d9b9cba8",
         7,
         "V. Bertacco"
        ],
        [
         "53f42d52dabfaee02ac60178",
         7,
         "Michal Etzion"
        ],
        [
         "53f4319adabfaeb2ac01f36f",
         7,
         "Xuchang Zou"
        ],
        [
         "53f45ce4dabfaedf43622c63",
         7,
         "Jennifer Gibbs"
        ],
        [
         "53f46a1fdabfaee4dc85d2c7",
         7,
         "Monique Volman"
        ],
        [
         "5433af2bdabfaebba581ed0c",
         7,
         "Gordon Parker"
        ],
        [
         "53f38324dabfae4b34a02127",
         7,
         "Shariq Rizvi"
        ],
        [
         "53f44c31dabfaedd74e05e23",
         7,
         "Aurélien Grosdidier"
        ],
        [
         "53f42d8cdabfaec22ba1a2f4",
         7,
         "Thomas Willwacher"
        ],
        [
         "53f43138dabfaeb22f438f20",
         7,
         "a ulsoy"
        ],
        [
         "53f43669dabfaee1c0a9d808",
         7,
         "M. Iwen"
        ],
        [
         "53f43b42dabfaee0d9b93fa1",
         7,
         "Fernando Esponda"
        ],
        [
         "53f44a77dabfaec09f1d9498",
         7,
         "Ahmad Ahmad"
        ],
        [
         "53f39a27dabfae4b34a8d59a",
         7,
         "Jeffrey Jackson"
        ],
        [
         "53f44d2ddabfaedf435e7a32",
         7,
         "D. Ji"
        ],
        [
         "53f45447dabfaeee22a2c4da",
         7,
         "Gaurav Banga"
        ],
        [
         "53f45526dabfaec09f201f05",
         7,
         "Greg Semeraro"
        ],
        [
         "54310350dabfae8f29124979",
         7,
         "Tom Buchanan"
        ],
        [
         "5447ecefdabfae87b7daf9bc",
         7,
         "Timothy O'Shea"
        ],
        [
         "53f45da6dabfaedd74e4859f",
         7,
         "Sauli Tiitta"
        ],
        [
         "53f3a63ddabfae4b34adad60",
         7,
         "Ningning Hu"
        ],
        [
         "54055cbddabfae8faa5c7763",
         7,
         "R. Puri"
        ],
        [
         "53f42a9cdabfaeb2acfbc775",
         7,
         "Mohammad Khojastepour"
        ],
        [
         "53f3a1a9dabfae4b34abde0c",
         7,
         "F. Blanchini"
        ],
        [
         "53f35291dabfae4b3494e99d",
         7,
         "Patrik Simons"
        ],
        [
         "53f38c6adabfae4b34a38e7f",
         7,
         "Haohan Li"
        ],
        [
         "53f47aeadabfaeb22f56dd39",
         7,
         "Y. Eisenberg"
        ],
        [
         "53f42c3fdabfaec22ba0648d",
         7,
         "Luc Séméria"
        ],
        [
         "53f455c9dabfaeee22a31f15",
         7,
         "Norman Bauman"
        ],
        [
         "53f42e36dabfaee43ebcf895",
         7,
         "Patrick Min"
        ],
        [
         "53f461ccdabfaec22bb151a3",
         7,
         "R. Freund"
        ],
        [
         "53f46ddddabfaec09f25cf87",
         7,
         "Dragoş Niculescu"
        ],
        [
         "53f43394dabfaedd74d83d95",
         7,
         "Shien Ong"
        ],
        [
         "53f436fbdabfaeb22f476bdd",
         7,
         "Justin Holewinski"
        ],
        [
         "53f42da4dabfaedce54c89e7",
         7,
         "Vikas Deora"
        ],
        [
         "53f44fd4dabfaefedbb382e3",
         7,
         "Tom Edsall"
        ],
        [
         "53f44b4fdabfaee2a1d48952",
         7,
         "Stephan Eichler"
        ],
        [
         "53f4d349dabfaef208f80bcb",
         7,
         "Yuxin Wu"
        ],
        [
         "53f4590fdabfaee4dc81c7e9",
         7,
         "P. Rosenbloom"
        ],
        [
         "54083c24dabfae450f40257a",
         7,
         "Alexander Brodsky"
        ],
        [
         "53f467cbdabfaeee22a58e3e",
         7,
         "daniel koditschek"
        ],
        [
         "53f4340cdabfaedd74d8964c",
         7,
         "Yonatan Sompolinsky"
        ],
        [
         "53f474f0dabfaee4dc887e35",
         7,
         "Brian Rogers"
        ],
        [
         "53f475ffdabfaefedbbac8bc",
         7,
         "Srinath Shankar"
        ],
        [
         "562cadfd45cedb3398c92556",
         7,
         "Noam Aigerman"
        ],
        [
         "53f432acdabfaedf435596a4",
         7,
         "I. Devetak"
        ],
        [
         "53f79630dabfae9467da2b90",
         7,
         "Yuan Yuan"
        ],
        [
         "53f32d0edabfae9a84498927",
         7,
         "florence maraninchi"
        ],
        [
         "53f42deddabfaee0d9b03e8f",
         7,
         "urs wegmuller"
        ],
        [
         "53f42fe3dabfaeb22f427928",
         7,
         "Daniel Leven"
        ],
        [
         "5405608cdabfae91d3fdb81f",
         7,
         "Peter Urban"
        ],
        [
         "54100922dabfae450f4c6f05",
         7,
         "Xiaoyong Liu"
        ],
        [
         "53f43451dabfaeee22996de5",
         7,
         "Yu Tan"
        ],
        [
         "53f449d5dabfaeecd69ba9b1",
         7,
         "Pirkul, H."
        ],
        [
         "53f434cfdabfaeb2ac0449f2",
         7,
         "Ted Kremenek"
        ],
        [
         "53f44e3bdabfaeee22a15aa8",
         7,
         "Fabien Mourgues"
        ],
        [
         "53f438c9dabfaee2a1cfd317",
         7,
         "Daniel Simson"
        ],
        [
         "53f45d6fdabfaedf43624d4e",
         7,
         "J. Vygen"
        ],
        [
         "53f432cadabfaee02aca4f40",
         7,
         "Jay Kreps"
        ],
        [
         "53f46e54dabfaee02adb4366",
         7,
         "Uri Lerner"
        ],
        [
         "53f475dcdabfaec09f27c5c4",
         7,
         "Reg Willson"
        ],
        [
         "53f4d259dabfaeedd777fe45",
         7,
         "Brian Junker"
        ],
        [
         "5433b967dabfaebba5820ec5",
         7,
         "Bernard Widrow"
        ],
        [
         "53f35710dabfae4b3496030b",
         7,
         "Blaise Arcas"
        ],
        [
         "53f446d7dabfaeb1a7c2e13d",
         7,
         "Viktor Gyuris"
        ],
        [
         "53f4e84ddabfaefe7677b400",
         7,
         "Hong Chen"
        ],
        [
         "53f434fbdabfaec09f1707b0",
         7,
         "Urszula Chajewska"
        ],
        [
         "53f39defdabfae4b34aa6b83",
         7,
         "J. Hudepohl"
        ],
        [
         "53f46774dabfaec09f243f2c",
         7,
         "André Kaup"
        ],
        [
         "544836fadabfae87b7de9967",
         7,
         "Jeffrey Carver"
        ],
        [
         "5444c34bdabfae87074e6276",
         7,
         "Yuan Wang"
        ],
        [
         "53f42ca7dabfaec09f10a0ef",
         7,
         "Yixiu Huang"
        ],
        [
         "53f4346bdabfaedf4356cdc4",
         7,
         "R Baños"
        ],
        [
         "5618af8945ce1e5964102ea3",
         7,
         "Geoffrey Pascoe"
        ],
        [
         "53f43901dabfaedf43599027",
         7,
         "J. Ser"
        ],
        [
         "53f81798dabfae938c6ff18e",
         7,
         "Stefan Gottschalk"
        ],
        [
         "53f479d4dabfaee43ed40992",
         7,
         "Maria Jump"
        ],
        [
         "53f42911dabfaeb2acfb5613",
         7,
         "John Matese"
        ],
        [
         "53f42f98dabfaeb1a7ba7543",
         7,
         "David Dearman"
        ],
        [
         "53f4342ddabfaee02acb488f",
         7,
         "Katrina Panovich"
        ],
        [
         "53f44d77dabfaee4dc7edb73",
         7,
         "Bozhao Tan"
        ],
        [
         "53f44410dabfaee1c0ae3716",
         7,
         "Othmar Staffelbach"
        ],
        [
         "53f43aa4dabfaeb22f499c55",
         7,
         "M Cesarelli"
        ],
        [
         "53f45cbedabfaee0d9c0b1c7",
         7,
         "Sohaib Ghani"
        ],
        [
         "53f4505bdabfaeecd69d4103",
         7,
         "Dániel Fogaras"
        ],
        [
         "53f45b79dabfaee2a1d86e6d",
         7,
         "Jesse Lock"
        ],
        [
         "53f46283dabfaedf436368da",
         7,
         "shay halperin"
        ],
        [
         "53f462f6dabfaeecd69ffac4",
         7,
         "Cheng Ee"
        ],
        [
         "5410cf89dabfae92b42a4bfc",
         7,
         "A. Megretski"
        ],
        [
         "53f45779dabfaedf4360fb87",
         7,
         "Libin Liu"
        ],
        [
         "53f46d62dabfaedd74e85aa1",
         7,
         "Jonathan Cadiz"
        ],
        [
         "53f430b0dabfaee0d9b26e8f",
         7,
         "Mehmet Yildiz"
        ],
        [
         "54297ad0dabfae8832d6eb78",
         7,
         "Tete Xiao"
        ],
        [
         "53f476badabfaee4dc88f60b",
         7,
         "Amy Pavel"
        ],
        [
         "5447fc6ddabfae87b7dbbd20",
         7,
         "Stefan Wolf"
        ],
        [
         "5631a82545cedb3399ec1522",
         7,
         "Antonis Argyros"
        ],
        [
         "53f42864dabfaeb22f3cf9e0",
         7,
         "Qingjia Huang"
        ],
        [
         "53f439b9dabfaeb22f490205",
         7,
         "Martin Gerner"
        ],
        [
         "53f36679dabfae4b3499bd47",
         7,
         "P Bifulco"
        ],
        [
         "53f4383ddabfaee02acdb6a9",
         7,
         "Nathan Levy"
        ],
        [
         "53f433aadabfaedd74d84d77",
         7,
         "saeed chehrazi"
        ],
        [
         "53f43497dabfaeb22f460b83",
         7,
         "Anja Guzzi"
        ],
        [
         "53f7eb11dabfae9060af80f6",
         7,
         "Gang Yao"
        ],
        [
         "53f4387ddabfaeecd697264a",
         7,
         "Abhinandan Das"
        ],
        [
         "53f4822cdabfaee43ed59ce3",
         7,
         "C. Erway"
        ],
        [
         "53f4d339dabfaeedd178081d",
         7,
         "Michael Schachtebeck"
        ],
        [
         "53f42abcdabfaeb22f3db1ad",
         7,
         "Betul Buyukkurt"
        ],
        [
         "54403dd2dabfae7d84b7b249",
         7,
         "Wei Yu"
        ],
        [
         "54055d37dabfae450f3a86d0",
         7,
         "Yi Chen"
        ],
        [
         "53f43e49dabfaeecd6997970",
         7,
         "Davide Barbieri"
        ],
        [
         "53f47ef0dabfae9126cc53eb",
         7,
         "Kenneth Katz"
        ],
        [
         "5631380e45cedb3399d120b9",
         7,
         "Mohammad Faruque"
        ],
        [
         "53f42b3ddabfaec09f0f2248",
         7,
         "John Apostolopoulos"
        ],
        [
         "53f42af1dabfaeb2acfc1df0",
         7,
         "Wangsheng Zhang"
        ],
        [
         "53f43feadabfaee1c0ada605",
         7,
         "Seunghoon Hong"
        ],
        [
         "53f42c09dabfaee02ac4c943",
         7,
         "Frank Losasso"
        ],
        [
         "53f4573edabfaec09f2099d2",
         7,
         "John Hammond"
        ],
        [
         "53f467a5dabfaedce55ed411",
         7,
         "Michael Floyd"
        ],
        [
         "53f48048dabfae963d259479",
         7,
         "Kristie Seymore"
        ],
        [
         "53f48d2cdabfaea7cd1d186c",
         7,
         "Fei Wu"
        ],
        [
         "53f42e39dabfaec09f11f9cf",
         7,
         "Nikolay Shabanov"
        ],
        [
         "53f449e4dabfaee2a1d42b7c",
         7,
         "Gregory Grunwald"
        ],
        [
         "53f4519adabfaefedbb3f1be",
         7,
         "Peter Schmidt"
        ],
        [
         "540583bfdabfae92b41de574",
         7,
         "Anand Srinivasan"
        ],
        [
         "53f42fbadabfaec22ba35b06",
         7,
         "Roland Bunschoten"
        ],
        [
         "53f46446dabfaee02ad8bd0c",
         7,
         "kashi vishwanath"
        ],
        [
         "53f42ec0dabfaedd74d4887e",
         7,
         "Joaquin Ferruz"
        ],
        [
         "53f46b82dabfaec09f253b65",
         7,
         "kyongsok chang"
        ],
        [
         "561356d945cedb33979b7680",
         7,
         "A. Pascual-Iserte"
        ],
        [
         "53f43400dabfaeee22993543",
         7,
         "Emma Hastings"
        ],
        [
         "53f42eb2dabfaee43ebd5894",
         7,
         "Mikyung Jang"
        ],
        [
         "53f31dc6dabfae9a84444282",
         7,
         "Ziqiong Liu"
        ],
        [
         "542a4d12dabfae61d4966fe5",
         7,
         "Ning Hu"
        ],
        [
         "543018a7dabfaeca69bc6b37",
         7,
         "Anthony Chan"
        ],
        [
         "53f45cabdabfaedd74e44e18",
         7,
         "D. Maslov"
        ],
        [
         "53f431e2dabfaec22ba519f5",
         7,
         "Nick Jr."
        ],
        [
         "53f4725adabfaee43ed25361",
         7,
         "James Diebel"
        ],
        [
         "53f47b2adabfaefedbbbcceb",
         7,
         "Joseph Ho"
        ],
        [
         "54093ffedabfae450f46f98f",
         7,
         "Dennis Brown"
        ],
        [
         "53f431f5dabfaec22ba5279e",
         7,
         "Peter Carbonetto"
        ],
        [
         "53f431e3dabfaee2a1cb6328",
         7,
         "Rodney Douglas"
        ],
        [
         "53f4694bdabfaee4dc859cd7",
         7,
         "Yue Zhuge"
        ],
        [
         "53f3a27fdabfae4b34ac2f9a",
         7,
         "George Uhl"
        ],
        [
         "53f43567dabfaeb22f469254",
         7,
         "Nicholas Kidd"
        ],
        [
         "53f433f1dabfaee0d9b4d9e3",
         7,
         "Soren Lassen"
        ],
        [
         "544052f8dabfae805a6b03e4",
         7,
         "John Grant"
        ],
        [
         "53f43505dabfaec09f170f01",
         7,
         "A. Rauzy"
        ],
        [
         "53f47e6fdabfaec09f299e4f",
         7,
         "Simon Pope"
        ],
        [
         "53f438ccdabfaee4dc799664",
         7,
         "G. Chowdhury"
        ],
        [
         "53f43750dabfaeb2ac05b2c1",
         7,
         "Kishore Reddy"
        ],
        [
         "5487f7d1dabfaed7b5fa33c6",
         7,
         "D. Staelin"
        ],
        [
         "53f43518dabfaeb22f4663ff",
         7,
         "J.C. Principe"
        ],
        [
         "562ca23945cedb3398c7f9df",
         7,
         "Jinjin Li"
        ],
        [
         "5631a44b45cedb3399eb268b",
         7,
         "Mohammad Omidvar"
        ],
        [
         "53f3ab6adabfae4b34af97b8",
         7,
         "Chloë Brown"
        ],
        [
         "53f43603dabfaec22ba7e199",
         7,
         "Deming Yuan"
        ],
        [
         "53f435b6dabfaedce55298ab",
         7,
         "John Teifel"
        ],
        [
         "53f3966fdabfae4b34a751d2",
         7,
         "Michael Moll"
        ],
        [
         "53f3a469dabfae4b34acf5b7",
         7,
         "Alan Shieh"
        ],
        [
         "53f42ceedabfaee1c0a2ce11",
         7,
         "Ariel Jaimovich"
        ],
        [
         "53f4371fdabfaee2a1cecb37",
         7,
         "Darin Blasiar"
        ],
        [
         "53f437b8dabfaeb22f47d989",
         7,
         "Bryan Feldman"
        ],
        [
         "53f42d24dabfaedd74d33135",
         7,
         "Thomas Toth"
        ],
        [
         "53f42e63dabfaec09f1219c7",
         7,
         "George Leih"
        ],
        [
         "53f43280dabfaee4dc75ada3",
         7,
         "Jesus Escudero-Sahuquillo"
        ],
        [
         "53f43630dabfaedf4357e449",
         7,
         "Jonathan Sorg"
        ],
        [
         "53f4686ddabfaee4dc8563d1",
         7,
         "Gazihan Alankus"
        ],
        [
         "53f4377adabfaedf435895bc",
         7,
         "Karen Lochbaum"
        ],
        [
         "53f46132dabfaeee22a409af",
         7,
         "Thomas Messerges"
        ],
        [
         "53f464bfdabfaeee22a4d7d9",
         7,
         "Alexandre Proutiére"
        ],
        [
         "53f43a29dabfaee0d9b876a1",
         7,
         "Daoyuan Zhai"
        ],
        [
         "53f46913dabfaeb22f54883a",
         7,
         "A. Khisti"
        ],
        [
         "53f47232dabfaee4dc87cf6a",
         7,
         "Nathan Wetzler"
        ],
        [
         "53f44470dabfaefedbb0d4af",
         7,
         "Lee Harrison"
        ],
        [
         "53f478cbdabfaec09f286fe1",
         7,
         "Martin Johansen"
        ],
        [
         "53f43960dabfaee2a1d02c35",
         7,
         "Lie Gu"
        ],
        [
         "54353d6cdabfaebba58b8909",
         7,
         "B. Krishnamachari"
        ],
        [
         "5603467e45cedb339612cb4b",
         7,
         "Hiroyuki Kato"
        ],
        [
         "5447feccdabfae87b7dbe7ea",
         7,
         "J. Santamaría"
        ],
        [
         "562cdc8e45cedb3398ce86bf",
         7,
         "Haibo Zeng"
        ],
        [
         "53f43979dabfaedf4359cb18",
         7,
         "Carsten Sapia"
        ],
        [
         "56cb18a9c35f4f3c65659b47",
         7,
         "Xiaolin Wei"
        ],
        [
         "53f32e19dabfae9a8449e4a1",
         7,
         "C Linder"
        ],
        [
         "53f4398edabfaedf4359d2b5",
         7,
         "Michael Biesbrouck"
        ],
        [
         "53f42d43dabfaee02ac5f3cb",
         7,
         "George Viamontes"
        ],
        [
         "53f42f9adabfaeb22f4242c7",
         7,
         "Sergei Lupashin"
        ],
        [
         "53f359c9dabfae4b3496aae3",
         7,
         "Billy Chen"
        ],
        [
         "53f3b165dabfae4b34b1e287",
         7,
         "Mohamed Amer"
        ],
        [
         "53f444aadabfaee0d9bac29e",
         7,
         "Ross Ortega"
        ],
        [
         "53f42f19dabfaee0d9b12baa",
         7,
         "Manuel Román"
        ],
        [
         "53f42e7adabfaee4dc7279ff",
         7,
         "Jiten Bhagat"
        ],
        [
         "53f44b85dabfaedf435e1461",
         7,
         "J. Behren"
        ],
        [
         "53f43115dabfaedf43545820",
         7,
         "Qing Xie"
        ],
        [
         "53f43a85dabfaee4dc7a9aaf",
         7,
         "J Allbeck"
        ],
        [
         "53f4324adabfaee4dc75806b",
         7,
         "Chris Hall"
        ],
        [
         "53f4333adabfaee0d9b45725",
         7,
         "Linfu Xiao"
        ],
        [
         "53f435c5dabfaedf4357ad19",
         7,
         "Ho-Seop Kim"
        ],
        [
         "53f43ae7dabfaee4dc7adf00",
         7,
         "S. Fakoorian"
        ],
        [
         "53f4620cdabfaedf43634bea",
         7,
         "Frances Goosey"
        ],
        [
         "53f43707dabfaee4dc78842f",
         7,
         "Geoffrey Blake"
        ],
        [
         "53f445a4dabfaee4dc7ce016",
         7,
         "Joseph Atick"
        ],
        [
         "53f43957dabfaedce554ae8b",
         7,
         "Eugen Zalinescu"
        ],
        [
         "53f43a5bdabfaee02aceffec",
         7,
         "L. Ulander"
        ],
        [
         "53f42ddcdabfaec09f11adff",
         7,
         "Y. Dutuit"
        ],
        [
         "53f42c85dabfaee0d9af0267",
         7,
         "Nicholas Kong"
        ],
        [
         "53f43a99dabfaedce555767b",
         7,
         "Dag Sjøberg"
        ],
        [
         "53f446e3dabfaee02ad1ad35",
         7,
         "Paul Rosinger"
        ],
        [
         "53f447c1dabfaedf435d1c8d",
         7,
         "Oren Rippel"
        ],
        [
         "53f43b5edabfaeee229dba58",
         7,
         "Amit Sasturkar"
        ],
        [
         "53f4474cdabfaec22bacbb4d",
         7,
         "Yuan Du"
        ],
        [
         "53f42ebcdabfaeb1a7b9cd50",
         7,
         "Elizabeth Belding-Royer"
        ],
        [
         "53f451a0dabfaefedbb3f313",
         7,
         "R. Kessler"
        ],
        [
         "53f44789dabfaeb22f4c45f7",
         7,
         "Jonathan Cadiz"
        ],
        [
         "53f45339dabfaee2a1d67c5a",
         7,
         "M. Akbarzadeh-T"
        ],
        [
         "53f45f8adabfaedd74e4efdd",
         7,
         "Dav Zimak"
        ],
        [
         "53f44c2ddabfaedd74e05d74",
         7,
         "Sidney Davis"
        ],
        [
         "53f45647dabfaec09f2062ce",
         7,
         "Jacob Strauss"
        ],
        [
         "53f455c3dabfaefedbb4e4c3",
         7,
         "Anat Eyal"
        ],
        [
         "53f45444dabfaeecd69e3362",
         7,
         "Hisham Mahmoud"
        ],
        [
         "53f45f61dabfaee02ad792db",
         7,
         "Praveen Jayaraman"
        ],
        [
         "53f458a2dabfaeb22f509b59",
         7,
         "Nir Andelman"
        ],
        [
         "53f44f10dabfaee02ad3c0e7",
         7,
         "Jau-yuen Chen"
        ],
        [
         "53f4552adabfaeb22f4fc3c5",
         7,
         "R. Marlet"
        ],
        [
         "53f45f43dabfaee02ad78ccb",
         7,
         "Erich Stuntebeck"
        ],
        [
         "53f4678ddabfaec09f244514",
         7,
         "karen seto"
        ],
        [
         "53f47625dabfaec09f27d8f9",
         7,
         "Chris Prahacs"
        ],
        [
         "53f466fbdabfaeb22f53fc85",
         7,
         "James Hafner"
        ],
        [
         "53f42fb9dabfaec22ba35a25",
         7,
         "Sven Goossens"
        ],
        [
         "53f46426dabfaee2a1da5f92",
         7,
         "Chun-Wei Tan"
        ],
        [
         "53f46c5bdabfaec22bb3d279",
         7,
         "David Ratner"
        ],
        [
         "53f45996dabfaec09f211edc",
         7,
         "Timothy Jewison"
        ],
        [
         "53f47731dabfaefedbbb14a6",
         7,
         "Pim Tuyls"
        ],
        [
         "53f42f9adabfaee0d9b18f0c",
         7,
         "David Oppenheimer"
        ],
        [
         "53f4737cdabfaeecd6a3f306",
         7,
         "Tuyen Huynh"
        ],
        [
         "53f479cfdabfae8a6845c1c2",
         7,
         "Kebin Xu"
        ],
        [
         "53f47ee2dabfae9126cc50c3",
         7,
         "Erich Schwarz"
        ],
        [
         "53f45af2dabfaee0d9c050ca",
         7,
         "Jiayong Zhang"
        ],
        [
         "53f4d2f2dabfaef204f805b7",
         7,
         "P.K. Varshney"
        ],
        [
         "53f4beb0dabfaedce377b4d0",
         7,
         "Zheng Wang"
        ],
        [
         "53f48d78dabfaea7cd1d2cda",
         7,
         "Julian Gough"
        ],
        [
         "53f4796adabfaefedbbb8179",
         7,
         "R. Henson"
        ],
        [
         "542a8408dabfae61d4989fbd",
         7,
         "Bing Jiang"
        ],
        [
         "542a8340dabfae646d56c2c0",
         7,
         "Yang Huang"
        ],
        [
         "53f43154dabfaee2a1caede6",
         7,
         "Anders Weinstein"
        ],
        [
         "53f36d43dabfae4b349b4205",
         7,
         "Matthias Luber"
        ],
        [
         "544552d8dabfae862da16231",
         7,
         "Hong Wang"
        ],
        [
         "53f47c67dabfaee43ed49718",
         7,
         "Adriaan Moors"
        ],
        [
         "53f39005dabfae4b34a4f49d",
         7,
         "Long Zhu"
        ],
        [
         "54489d61dabfae87b7e501ee",
         7,
         "Nan Li"
        ],
        [
         "53f3adf6dabfae4b34b0971e",
         7,
         "Patrik Berander"
        ],
        [
         "53f42c59dabfaedf43506fb5",
         7,
         "Shu-Yao Chien"
        ],
        [
         "53f42e7cdabfaee0d9b0b34f",
         7,
         "Thierry Denux"
        ],
        [
         "53f789c2dabfae9467d9e6d9",
         7,
         "S. Dubnov"
        ],
        [
         "53f43092dabfaee02ac890f4",
         7,
         "W. Hoek"
        ],
        [
         "53f43108dabfaec22ba46bcf",
         7,
         "Vara Varavithya"
        ],
        [
         "53f43624dabfaee4dc781167",
         7,
         "Shafeeq Sinnamohideen"
        ],
        [
         "53f43528dabfaee2a1cdbc94",
         7,
         "Sylvie Boudet"
        ],
        [
         "53f431c5dabfaedce54fd539",
         7,
         "R. Hoge"
        ],
        [
         "53f48bcfdabfaec09f2b2267",
         7,
         "G. Ulivi"
        ],
        [
         "53f436a7dabfaee43ec32344",
         7,
         "Jacek Ratzinger"
        ],
        [
         "53f4345ddabfaeb22f45e2c3",
         7,
         "T. Eltoft"
        ],
        [
         "53f43604dabfaeb22f46e62b",
         7,
         "P. Dung"
        ],
        [
         "53f439fadabfaec22baa2077",
         7,
         "S. Moheimani"
        ],
        [
         "53f43aa2dabfaedf435a7b93",
         7,
         "Evan Jones"
        ],
        [
         "54055122dabfae92b41c2e9a",
         7,
         "Eric Laurier"
        ],
        [
         "53f43e6edabfaedd74dd91c6",
         7,
         "Yida Wang"
        ],
        [
         "53f43717dabfaeb22f4779d7",
         7,
         "Anne Bracy"
        ],
        [
         "53f43848dabfaee0d9b7643c",
         7,
         "Min-Hong Han"
        ],
        [
         "53f43b73dabfaee02acfcb2c",
         7,
         "Petr Ročkai"
        ],
        [
         "53f44288dabfaedce556c48a",
         7,
         "Carlos Pacheco"
        ],
        [
         "53f43e9adabfaefedbb015f4",
         7,
         "Jeffery, D.R."
        ],
        [
         "54058b84dabfae91d3fefcd7",
         7,
         "Paul Morris"
        ],
        [
         "53f44783dabfaee43ec82249",
         7,
         "Mourad Zerroug"
        ],
        [
         "53f44a9cdabfaee02ad2a276",
         7,
         "Sergey Zhuravlev"
        ],
        [
         "5434fa45dabfaebba5888990",
         7,
         "fawang liu"
        ],
        [
         "53f47b64dabfaee43ed458f0",
         7,
         "Eisse Mensink"
        ],
        [
         "53f44e69dabfaec09f1e803c",
         7,
         "Charles Krasic"
        ],
        [
         "53f43971dabfaee4dc79f812",
         7,
         "Yi-an Huang"
        ],
        [
         "53f43b54dabfaeee229db34b",
         7,
         "Wei-Jaw Deng"
        ],
        [
         "53f38e82dabfae4b34a45a86",
         7,
         "S. Kucherenko"
        ],
        [
         "53f4ca54dabfaeea68f809f9",
         7,
         "Cansu Kaynak"
        ],
        [
         "53f43a42dabfaeb22f495571",
         7,
         "P. Swain"
        ],
        [
         "54089f96dabfae92b424e048",
         7,
         "S. Bhashyam"
        ],
        [
         "53fa17acdabfae8faa5a5612",
         6,
         "Michael Pucher"
        ],
        [
         "53f4ce8fdabfaeed1cf81ce2",
         6,
         "Hodges, L.F."
        ],
        [
         "53f43c02dabfaeee229deaf9",
         6,
         "N. Saravanan"
        ],
        [
         "53f31ea0dabfae9a84448bb3",
         6,
         "S Dağtaş"
        ],
        [
         "53f45357dabfaee43ecb1144",
         6,
         "Hui Kong"
        ],
        [
         "53f43682dabfaedf4358073c",
         6,
         "Vacha Dave"
        ],
        [
         "53f38ac4dabfae4b34a2ec93",
         6,
         "Xinxin Mei"
        ],
        [
         "5631ba4b45cedb3399efff78",
         6,
         "Michelle Gong"
        ],
        [
         "53f36d18dabfae4b349b3887",
         6,
         "Timothy Zirkel"
        ],
        [
         "53f434e8dabfaeecd6951f4f",
         6,
         "Rob Fowler"
        ],
        [
         "53f43393dabfaec22ba65181",
         6,
         "Rupert Reif"
        ],
        [
         "562cfd7845cedb3398d20825",
         6,
         "Sergej Dechand"
        ],
        [
         "53f39c03dabfae4b34a99dea",
         6,
         "Mi Zhang"
        ],
        [
         "53f3687edabfae4b349a2c03",
         6,
         "Jeffrey Undercoffer"
        ],
        [
         "53f4ad55dabfaedce563f1c2",
         6,
         "Gilbert Wondracek"
        ],
        [
         "53f4488bdabfaee1c0af567d",
         6,
         "A. Stamoulis"
        ],
        [
         "53f452c3dabfaec09f1f8f44",
         6,
         "P. Frankl"
        ],
        [
         "53f436cfdabfaee4dc786627",
         6,
         "J. Raskin"
        ],
        [
         "53f4328fdabfaee1c0a7681f",
         6,
         "christoph fehn"
        ],
        [
         "53f439e4dabfaedf4359f8d3",
         6,
         "Ibrahim Badr"
        ],
        [
         "53f436a8dabfaee43ec3239a",
         6,
         "Tarik Yardibi"
        ],
        [
         "53f45a23dabfaedf436199da",
         6,
         "Ali Yildiz"
        ],
        [
         "562b8b6845cedb3398aa17db",
         6,
         "Pragnya Maduskar"
        ],
        [
         "53f3958ddabfae4b34a6fc74",
         6,
         "Michael Browne"
        ],
        [
         "53f43451dabfaee1c0a89bd0",
         6,
         "Martin Cooney"
        ],
        [
         "5405917cdabfae8faa5e31db",
         6,
         "Eckart Zitzler"
        ],
        [
         "5408b7d8dabfae450f439f4e",
         6,
         "Carsten Witt"
        ],
        [
         "563409ed45cedb339adc56ad",
         6,
         "Mark Woolrich"
        ],
        [
         "53f437eedabfaee43ec3e48a",
         6,
         "Dieter Debels"
        ],
        [
         "53f44712dabfaedd74df113e",
         6,
         "Richard Baliban"
        ],
        [
         "53f3aae6dabfae4b34af6818",
         6,
         "Jan Rivkin"
        ],
        [
         "53f47535dabfaee43ed30a37",
         6,
         "Richard Enbody"
        ],
        [
         "53f4d0dfdabfaef014f8072f",
         6,
         "Diego Ongaro"
        ],
        [
         "53f45c48dabfaee43ecd1a45",
         6,
         "Heather Roinestad"
        ],
        [
         "53f351bbdabfae4b3494ad98",
         6,
         "Ilya Mazo"
        ],
        [
         "53f369a7dabfae4b349a71e5",
         6,
         "Seng Gan"
        ],
        [
         "53f4326bdabfaedd74d772ef",
         6,
         "Olga Kouropteva"
        ],
        [
         "53f43accdabfaedce5559a6a",
         6,
         "Wajahat Qadeer"
        ],
        [
         "53f43b2edabfaec09f1ab900",
         6,
         "Caroline Villard"
        ],
        [
         "53f4403edabfaedf435bb36d",
         6,
         "Zaher Andraus"
        ],
        [
         "53f43aa0dabfaedf435a7a3a",
         6,
         "André Brodtkorb"
        ],
        [
         "53f43e1adabfaee2a1d1ebc7",
         6,
         "Ben Gilbert"
        ],
        [
         "53f46934dabfaee4dc85967d",
         6,
         "M. Borgeaud"
        ],
        [
         "53f474f9dabfaee02adce4e6",
         6,
         "S Brailsford"
        ],
        [
         "53f476eadabfaedf4368720c",
         6,
         "Dennis Zielstra"
        ],
        [
         "53f38b07dabfae4b34a307d0",
         6,
         "Barbara Purves"
        ],
        [
         "53f39dd2dabfae4b34aa609a",
         6,
         "Sharon Huynh"
        ],
        [
         "53f43226dabfaec22ba54fcc",
         6,
         "Prince Mahajan"
        ],
        [
         "53f433ecdabfaeb1a7bdc016",
         6,
         "Andrew Baker"
        ],
        [
         "53f477a8dabfaedf43689892",
         6,
         "Aleksey Pesterev"
        ],
        [
         "53f477c2dabfaedf43689e05",
         6,
         "R. Scheichl"
        ],
        [
         "54055d8fdabfae92b41ca5ae",
         6,
         "Yu-Ju Chen"
        ],
        [
         "56316ff945cedb3399df835c",
         6,
         "Melanie Zeilinger"
        ],
        [
         "53f5c25bdabfae6c99f8045b",
         6,
         "William Gelbart"
        ],
        [
         "5406b3d8dabfae44f085140e",
         6,
         "Tong Li"
        ],
        [
         "53f43990dabfaeee229c8a75",
         6,
         "Van Tran"
        ],
        [
         "53f42baadabfaedf434fc383",
         6,
         "Marco Barreno"
        ],
        [
         "53f449fadabfaee43ec8c09d",
         6,
         "Simon Jensen"
        ],
        [
         "53f38cdcdabfae4b34a3bdf6",
         6,
         "William III."
        ],
        [
         "53f45ac8dabfaee0d9c0499d",
         6,
         "Mohamed Nour"
        ],
        [
         "53f45d9ddabfaee43ecd6191",
         6,
         "João Abreu"
        ],
        [
         "53f42c27dabfaee02ac4e704",
         6,
         "Pamela Ludford"
        ],
        [
         "53f475d5dabfaeee22a8d4aa",
         6,
         "David Rodda"
        ],
        [
         "53f4d4f4dabfaef34af810da",
         6,
         "F. Mairesse"
        ],
        [
         "53f4755adabfaeecd6a46392",
         6,
         "A. Bodnarova"
        ],
        [
         "53f4d5a2dabfaef463f8073a",
         6,
         "Lukasz Mazurek"
        ],
        [
         "5405dac4dabfae450f3da775",
         6,
         "Yoram Cohen"
        ],
        [
         "53f436dcdabfaee2a1cea69a",
         6,
         "Radu Zlatanovici"
        ],
        [
         "5631abd945cedb3399ecf2f2",
         6,
         "brandon luders"
        ],
        [
         "53f3af85dabfae4b34b136c3",
         6,
         "Stephen Blythe"
        ],
        [
         "53f43121dabfaee02ac9070d",
         6,
         "Seth Hallem"
        ],
        [
         "53f4396fdabfaee2a1d03481",
         6,
         "John Stevenson"
        ],
        [
         "53f4339ddabfaec09f1617c7",
         6,
         "Anne Ottenbreit-Leftwich"
        ],
        [
         "53f435f5dabfaee2a1ce2a91",
         6,
         "Samir Mahfoud"
        ],
        [
         "53f4372cdabfaee43ec36fb4",
         6,
         "Stefan Staber"
        ],
        [
         "53f43aeadabfaee1c0ac936c",
         6,
         "Peter Ochs"
        ],
        [
         "53f43b7adabfaee1c0acff90",
         6,
         "Laudon, J."
        ],
        [
         "53f4368adabfaeee229ac4da",
         6,
         "Volker Grabe"
        ],
        [
         "53f4382adabfaec09f18d836",
         6,
         "Jochen Mundinger"
        ],
        [
         "53f438c4dabfaedce5545427",
         6,
         "Brian Bartell"
        ],
        [
         "53f4470fdabfaee43ec8064f",
         6,
         "L. Neumeyer"
        ],
        [
         "53f45621dabfaee2a1d7308d",
         6,
         "Steven Deitz"
        ],
        [
         "53f45a92dabfaee4dc822293",
         6,
         "Madhu Sudan"
        ],
        [
         "53f4687fdabfaee4dc85680a",
         6,
         "N. Hohn"
        ],
        [
         "53f46970dabfaedd74e75e32",
         6,
         "Michael Peshkin"
        ],
        [
         "53f4745cdabfaeecd6a426ff",
         6,
         "Jens-Rainer Ohm"
        ],
        [
         "53f47607dabfaee0d9c6bebb",
         6,
         "Masoud Valafar"
        ],
        [
         "5448bd9cdabfae87b7e728c6",
         6,
         "Nadas, A."
        ],
        [
         "53f437b6dabfaee43ec3c1ec",
         6,
         "Mu Lin"
        ],
        [
         "53f46ce9dabfaee4dc868187",
         6,
         "A. Lecchini"
        ],
        [
         "53f399fedabfae4b34a8c53c",
         6,
         "A. Yener"
        ],
        [
         "53f42dbadabfaee43ebc9632",
         6,
         "Esa Hyytiä"
        ],
        [
         "54409818dabfae805a6d9051",
         6,
         "Jennifer RYAN"
        ],
        [
         "53f4307edabfaedd74d5e41b",
         6,
         "Mira Belenkiy"
        ],
        [
         "53f4319adabfaedce54fb461",
         6,
         "Adam Ferrari"
        ],
        [
         "53f42d7ddabfaeb2acfebae2",
         6,
         "James Cowling"
        ],
        [
         "53f42f01dabfaee4dc72e20d",
         6,
         "Pierre Trudeau"
        ],
        [
         "53f43636dabfaec22ba804c0",
         6,
         "R.A. Letcher"
        ],
        [
         "53f4be1ddabfaedce877b431",
         6,
         "Li Gong"
        ],
        [
         "53f7e8abdabfae90ec12bc34",
         6,
         "Andreas Schaad"
        ],
        [
         "53f462cfdabfaee4dc83f519",
         6,
         "Yuan Niu"
        ],
        [
         "54410155dabfae805a71b8c6",
         6,
         "Bob Carpenter"
        ],
        [
         "562cad2345cedb3398c90f4c",
         6,
         "darren turner"
        ],
        [
         "53f38f4ddabfae4b34a4afaa",
         6,
         "N. Hill"
        ],
        [
         "53f4371cdabfaee4dc788e32",
         6,
         "Daniel Serra"
        ],
        [
         "53f36ea3dabfae4b349b8f23",
         6,
         "Ramadass Nagarajan"
        ],
        [
         "5405b178dabfae44f0821ef0",
         6,
         "Huan Wang"
        ],
        [
         "53f42e35dabfaedd74d41624",
         6,
         "P. Yianilos"
        ],
        [
         "53f44161dabfaee43ec6e924",
         6,
         "James Bremer"
        ],
        [
         "53f43084dabfaee02ac8858d",
         6,
         "Simchony, T."
        ],
        [
         "53f44804dabfaefedbb1aaab",
         6,
         "S. Lederman"
        ],
        [
         "53f44975dabfaeecd69b9212",
         6,
         "Jouke Verbree"
        ],
        [
         "53f44cd7dabfaefedbb2d0c5",
         6,
         "Manohar Ayinala"
        ],
        [
         "53f450d6dabfaefedbb3c259",
         6,
         "Chang-Seo Park"
        ],
        [
         "53f45134dabfaeb22f4ec63c",
         6,
         "Pablo Cavalcanti"
        ],
        [
         "53f45884dabfaec09f20e425",
         6,
         "Daniel Gardan"
        ],
        [
         "53f45a45dabfaee4dc82104b",
         6,
         "Jiangong Zhang"
        ],
        [
         "53f45d80dabfaee4dc82c364",
         6,
         "G. Gielen"
        ],
        [
         "53f46135dabfaedf436317d8",
         6,
         "Yu-Wei Sung"
        ],
        [
         "53f42bc9dabfaec22b9fedd3",
         6,
         "Ignacio Llamas"
        ],
        [
         "53f42c08dabfaeb22f3f3b7c",
         6,
         "Dennis Nieuwenhuisen"
        ],
        [
         "53f42f52dabfaeb2ac0028d9",
         6,
         "Gokul Govindu"
        ],
        [
         "53f49e9adabfaec18e77ba1f",
         6,
         "Wei Wang"
        ],
        [
         "53f4d219dabfaef0f7f80c48",
         6,
         "Andres Otero"
        ],
        [
         "53f455d5dabfaefedbb4e90b",
         6,
         "iain werry"
        ],
        [
         "53f47303dabfaefedbba07c9",
         6,
         "Dima Kuzmin"
        ],
        [
         "53f47948dabfaee2a1df8473",
         6,
         "Syed Tanbeer"
        ],
        [
         "53f4ccd2dabfaeebd6f81641",
         6,
         "Rupert Weare"
        ],
        [
         "53f66180dabfae8dcd35b2c1",
         6,
         "Matthew Arnold"
        ],
        [
         "53f7bb90dabfae92b40dcc36",
         6,
         "Lenoski, D."
        ],
        [
         "53f4309bdabfaee02ac899c8",
         6,
         "Jing Su"
        ],
        [
         "544807b3dabfae87b7dc6818",
         6,
         "Gerd Wagner"
        ],
        [
         "53f43855dabfaec09f18f3b4",
         6,
         "Michael Zinn"
        ],
        [
         "53f374f4dabfae4b349cda53",
         6,
         "Amol Nayate"
        ],
        [
         "53f42ba3dabfaeb1a7b7400f",
         6,
         "Hiroshi Watanabe"
        ],
        [
         "53f42c9cdabfaee1c0a2817c",
         6,
         "Marc Brown"
        ],
        [
         "53f42ebfdabfaee1c0a451f0",
         6,
         "Aniket Pingley"
        ],
        [
         "53f430bcdabfaee02ac8b245",
         6,
         "R. Wallace"
        ],
        [
         "53f4335ddabfaec09f15e70b",
         6,
         "Francisco Ruiz"
        ],
        [
         "53f431d5dabfaec09f14cbb5",
         6,
         "I. Kolmanovsky"
        ],
        [
         "53f438d4dabfaeb2ac06a4a8",
         6,
         "Gang Qiu"
        ],
        [
         "53f43503dabfaeee2299e85e",
         6,
         "Stefaan Decorte"
        ],
        [
         "53f43544dabfaee0d9b5b930",
         6,
         "Chillarege, R."
        ],
        [
         "53f436badabfaee43ec32e48",
         6,
         "Xiaohong Sheng"
        ],
        [
         "53f43725dabfaee4dc7893b1",
         6,
         "Stefan Schoenmackers"
        ],
        [
         "53f439b6dabfaee4dc7a16a0",
         6,
         "D. Petriu"
        ],
        [
         "53f437b4dabfaedd74dac921",
         6,
         "Grenander, U."
        ],
        [
         "53f43ee8dabfaee43ec6a30b",
         6,
         "Waszkowycz, B."
        ],
        [
         "53f43cc6dabfaee2a1d1bf0b",
         6,
         "T. Simeon"
        ],
        [
         "53f43b10dabfaee02acf8247",
         6,
         "N Willems"
        ],
        [
         "53f44daddabfaeecd69c99f3",
         6,
         "Jochen Bercken"
        ],
        [
         "53f4388ddabfaedf43593cd7",
         6,
         "Yau-Ren Shiau"
        ],
        [
         "53f4406edabfaee02ad07dfc",
         6,
         "R. Mántaras"
        ],
        [
         "53f43eecdabfaee1c0ad869c",
         6,
         "David Daniel"
        ],
        [
         "53f4395adabfaefedbae49e2",
         6,
         "Yana Yankova"
        ],
        [
         "53f44aa7dabfaedf435ddf30",
         6,
         "Haiqi Liang"
        ],
        [
         "53f44ceadabfaeee22a10e95",
         6,
         "Ilya Shlyakhter"
        ],
        [
         "53f4513adabfaee1c0b18a41",
         6,
         "Wei-Je Huang"
        ],
        [
         "53f454eddabfaee4dc80c2ab",
         6,
         "Andrea Frome"
        ],
        [
         "53f4533adabfaee43ecb0a6e",
         6,
         "Kenneth Herndon"
        ],
        [
         "53f45ef5dabfaee4dc831304",
         6,
         "Douglas Burman"
        ],
        [
         "53f460a6dabfaee43ece032e",
         6,
         "Tsung-Lieh Lin"
        ],
        [
         "53f467c4dabfaee4dc85397b",
         6,
         "R. Shin"
        ],
        [
         "53f44d41dabfaeee22a12356",
         6,
         "Naoya Asamura"
        ],
        [
         "53f46a57dabfaedd74e79a02",
         6,
         "Niels Jacobsen"
        ],
        [
         "53f461fddabfaee0d9c1d5f2",
         6,
         "Jamie Davies"
        ],
        [
         "53f46d85dabfaee2a1dcb3e9",
         6,
         "S. Gottschlich"
        ],
        [
         "53f4a82bdabfaedce5637d71",
         6,
         "Caixue Lin"
        ],
        [
         "5405787ddabfae91d3fe729f",
         6,
         "Zhi Zhong"
        ],
        [
         "54409b19dabfae805a6dc236",
         6,
         "Florian Block"
        ],
        [
         "53f46e11dabfaee43ed151cf",
         6,
         "T. Abhayapala"
        ],
        [
         "53f3278ddabfae9a8447a151",
         6,
         "D. Svyatskiy"
        ],
        [
         "53f42982dabfaeb2acfb76e7",
         6,
         "Lynne Blair"
        ],
        [
         "53f4571cdabfaee0d9bf6f0c",
         6,
         "Irene Langkilde"
        ],
        [
         "53f39777dabfae4b34a7baba",
         6,
         "Aniruddha Udipi"
        ],
        [
         "53f45946dabfaeb22f50c16f",
         6,
         "Mikkel Krøigaard"
        ],
        [
         "53f4730edabfaee02adc6865",
         6,
         "Senqiang Zhou"
        ],
        [
         "53f42c0adabfaedce54b0a97",
         6,
         "Petr Felkel"
        ],
        [
         "53f47631dabfaefedbbad627",
         6,
         "Jeff Hughes"
        ],
        [
         "53f31fc6dabfae9a8444f0e1",
         6,
         "Tong Wen"
        ],
        [
         "53f4d1dfdabfaeedd777f582",
         6,
         "P. Kauff"
        ],
        [
         "53f43108dabfaeb22f4369b0",
         6,
         "Eitan Sharon"
        ],
        [
         "53f65029dabfae70d0a7dfcb",
         6,
         "P. Burillo"
        ],
        [
         "53f4311bdabfaedd74d6650f",
         6,
         "U. Clarenz"
        ],
        [
         "53f45bbbdabfaefedbb62fb6",
         6,
         "Todd Wilkens"
        ],
        [
         "543418b9dabfaebba58404a5",
         6,
         "Thomas Nussbaumer"
        ],
        [
         "54409ad8dabfae7d84b8c2d6",
         6,
         "Robert Brown"
        ],
        [
         "53f43491dabfaeee22999a84",
         6,
         "Maurizio Pittà"
        ],
        [
         "53f43553dabfaee43ec268ef",
         6,
         "Alan Sussman"
        ],
        [
         "53f390fddabfae4b34a54c94",
         6,
         "S.K. Parui"
        ],
        [
         "53f42e5ddabfaeb22f4151e1",
         6,
         "Peter Koopmans"
        ],
        [
         "53f4804adabfae963d2594a2",
         6,
         "Yi Lin"
        ],
        [
         "53f42f5adabfaedce54de827",
         6,
         "Chuanpeng Li"
        ],
        [
         "53f7c84fdabfae938c6db3a2",
         6,
         "Saraclar, M."
        ],
        [
         "540698f2dabfae92b4216154",
         6,
         "Michael Godau"
        ],
        [
         "548d5f4cdabfae8a11fb4fdd",
         6,
         "Lide Zhang"
        ],
        [
         "53f4316ddabfaedd74d6a447",
         6,
         "Z. Farkas"
        ],
        [
         "53f4320ddabfaec22ba53b77",
         6,
         "Julien Carme"
        ],
        [
         "53f3550adabfae4b34958f51",
         6,
         "F. Heart"
        ],
        [
         "562f1ecd45cedb339953c304",
         6,
         "Ayman Naguib"
        ],
        [
         "53f36667dabfae4b3499b945",
         6,
         "Sebastián Valenzuela"
        ],
        [
         "53f4364bdabfaee1c0a9d40a",
         6,
         "Jonathan Yaniv"
        ],
        [
         "53f437dcdabfaec09f18aaa1",
         6,
         "Ester Broekhoven"
        ],
        [
         "53f42e24dabfaee0d9b06b65",
         6,
         "Nikil Mehta"
        ],
        [
         "53f43a1cdabfaee2a1d08fea",
         6,
         "Hadi Gökçen"
        ],
        [
         "53f43a96dabfaefedbaf0ca1",
         6,
         "Goss Nuzzo-Jones"
        ],
        [
         "542a3b92dabfae61d495d6dc",
         6,
         "Gang Lu"
        ],
        [
         "53f43b40dabfaeee229da37e",
         6,
         "Claudia Kuster"
        ],
        [
         "53f44631dabfaeb22f4bebf0",
         6,
         "Mathieu Ramona"
        ],
        [
         "562f393945cedb33995a7395",
         6,
         "Bruce Weide"
        ],
        [
         "53f4306ddabfaedf4353cf85",
         6,
         "Josh Wills"
        ],
        [
         "53f44c22dabfaee4dc7e8af7",
         6,
         "David Prescott"
        ],
        [
         "53f44e23dabfaeb22f4df988",
         6,
         "Norbert Ascheuer"
        ],
        [
         "53f384fedabfae4b34a0d1ed",
         6,
         "Jörg Hansen"
        ],
        [
         "53f430a5dabfaedd74d60418",
         6,
         "Mainkar, V."
        ],
        [
         "53f450e1dabfaedd74e18360",
         6,
         "Christine Mol"
        ],
        [
         "53f457b1dabfaeb22f50608f",
         6,
         "Slava Katz"
        ],
        [
         "53f42c50dabfaec09f104819",
         6,
         "Richard Wolniewicz"
        ],
        [
         "53f458d8dabfaeecd69f475c",
         6,
         "Arnab Chakrabarti"
        ],
        [
         "53f3b3c5dabfae4b34b2c14b",
         6,
         "S. Baruah"
        ],
        [
         "53f45baddabfaedd74e4175e",
         6,
         "Davide Canali"
        ],
        [
         "53f3b3f3dabfae4b34b2d60f",
         6,
         "I. Ipsen"
        ],
        [
         "53f45db7dabfaedf43625bad",
         6,
         "Mina Askari"
        ],
        [
         "53f4279edabfaeb22f3cbb97",
         6,
         "Seung Kwon"
        ],
        [
         "53f461f1dabfaedd74e5791f",
         6,
         "Nikunj Mehta"
        ],
        [
         "53f46a54dabfaeb22f54dfdf",
         6,
         "Martin Wollmer"
        ],
        [
         "53f42ec8dabfaee0d9b0f060",
         6,
         "Marcin Eichner"
        ],
        [
         "53f4713adabfaec09f269946",
         6,
         "Yongin Kwon"
        ],
        [
         "53f4828ddabfaec09f2a352a",
         6,
         "Robert Rentzsch"
        ],
        [
         "53f43158dabfaee4dc74bcc7",
         6,
         "Benjamin Blankertz"
        ],
        [
         "53f42c7edabfaeb2acfdcfa2",
         6,
         "Hemayet Hossain"
        ],
        [
         "53f4325edabfaee1c0a7438d",
         6,
         "Abdel-Mottaleb, M."
        ],
        [
         "53f4d408dabfaeedd9781c09",
         6,
         "Michał Woniak"
        ],
        [
         "53f44efddabfaee4dc7f3b78",
         6,
         "S Chu"
        ],
        [
         "53f42f54dabfaee2a1c9503a",
         6,
         "W. Crowther"
        ],
        [
         "53f46804dabfaeecd6a13503",
         6,
         "Congxia Dai"
        ],
        [
         "53f47388dabfaefedbba2a0d",
         6,
         "Raj Vaswani"
        ],
        [
         "53f47d40dabfaee4dc8a51a4",
         6,
         "Gabriele Musillo"
        ],
        [
         "53f48576dabfaec09f2a8dad",
         6,
         "André Neumann"
        ],
        [
         "53f49a16dabfaebe73f80461",
         6,
         "Xiaoli Li"
        ],
        [
         "53f4309bdabfaee1c0a5cfe4",
         6,
         "M. Hochberg"
        ],
        [
         "53f4de9ddabfaef96177b490",
         6,
         "S. Hua"
        ],
        [
         "53f436d3dabfaeb2ac056b46",
         6,
         "James Kirby"
        ],
        [
         "53f63277dabfae7c833fa719",
         6,
         "L. Clarke"
        ],
        [
         "5410d736dabfae44f08e7ad4",
         6,
         "Y. Cho"
        ],
        [
         "542db01ddabfae11fc493892",
         6,
         "Ying Peng"
        ],
        [
         "562e631f45cedb33991eb951",
         6,
         "Westerink, P.H."
        ],
        [
         "5631be9e45cedb3399f10f3d",
         6,
         "M.K. Arti"
        ],
        [
         "544859cddabfae87b7e108b4",
         6,
         "Kate Ehrlich"
        ],
        [
         "53f37274dabfae4b349c58d9",
         6,
         "U. Manber"
        ],
        [
         "53f4312edabfaedce54f5d15",
         6,
         "Sergiy Garbuzynskiy"
        ],
        [
         "53f42c3adabfaec22ba06020",
         6,
         "Olivier Juan"
        ],
        [
         "53f42c7fdabfaedce54b7ee0",
         6,
         "Renato Monteiro"
        ],
        [
         "53f42d48dabfaec22ba166c6",
         6,
         "Yui-Wah Lee"
        ],
        [
         "53f4301edabfaec09f136f3c",
         6,
         "Haining Yao"
        ],
        [
         "53f438eadabfaeb2ac06b3b1",
         6,
         "Jesper Henriksen"
        ],
        [
         "53f42f39dabfaeb1a7ba2d5f",
         6,
         "Benoit Triquet"
        ],
        [
         "53f43149dabfaee4dc74b172",
         6,
         "Craig Stewart"
        ],
        [
         "53f4320ddabfaee2a1cb8699",
         6,
         "Nagendra Modadugu"
        ],
        [
         "53f43304dabfaedd74d7d9a1",
         6,
         "Marcel Germann"
        ],
        [
         "53f4366cdabfaeecd695f395",
         6,
         "John Greenwood"
        ],
        [
         "53f434cfdabfaeb22f4631c7",
         6,
         "Zhulei Tang"
        ],
        [
         "53f43a3cdabfaee2a1d0a814",
         6,
         "Nancy Cheever"
        ],
        [
         "53f43a90dabfaee0d9b8c046",
         6,
         "Giuseppe Persiano"
        ],
        [
         "53f43775dabfaec22ba8ae26",
         6,
         "David Tyler"
        ],
        [
         "53f43a26dabfaee4dc7a548d",
         6,
         "Christoph Burnikel"
        ],
        [
         "53f43689dabfaee43ec311cf",
         6,
         "Mirjana Štrboja"
        ],
        [
         "53f436c2dabfaec09f180462",
         6,
         "Eddy Greef"
        ],
        [
         "53f438fcdabfaee0d9b7d864",
         6,
         "L. Margara"
        ],
        [
         "53f438c8dabfaedd74db6e84",
         6,
         "Claude Kirchner"
        ],
        [
         "53f439ccdabfaee1c0abcb0f",
         6,
         "Andrei Khodakovsky"
        ],
        [
         "53f43b70dabfaee2a1d183fb",
         6,
         "Devroye, N."
        ],
        [
         "53f43b0bdabfaee2a1d138e3",
         6,
         "Petter Kristiansen"
        ],
        [
         "53f449cadabfaeecd69ba738",
         6,
         "Alexey Malishevsky"
        ],
        [
         "53f43a79dabfaeb22f497e61",
         6,
         "Jason Blome"
        ],
        [
         "53f43787dabfaedf43589c73",
         6,
         "Chrisikos, G."
        ],
        [
         "53f437cedabfaedce553c190",
         6,
         "Fereydoon Kianfar"
        ],
        [
         "53f43db5dabfaee0d9b9c484",
         6,
         "Chun-Lang Chang"
        ],
        [
         "53f44053dabfaee0d9ba18b0",
         6,
         "Saeed Kaviani"
        ],
        [
         "53f445b8dabfaee2a1d31aff",
         6,
         "Jeyun Lee"
        ],
        [
         "53f4391bdabfaedd74dba6c6",
         6,
         "Victor Simossis"
        ],
        [
         "53f4459fdabfaec22bac52d3",
         6,
         "James Bruce"
        ],
        [
         "53f43b34dabfaedce555de8e",
         6,
         "D. Hocevar"
        ],
        [
         "53f4444bdabfaeb22f4b72b7",
         6,
         "Rowan Davies"
        ],
        [
         "53f44198dabfaedd74ddf386",
         6,
         "Clint Gibler"
        ],
        [
         "53f4502adabfaee4dc7f8adc",
         6,
         "Pete Faraday"
        ],
        [
         "53f4487bdabfaee43ec8607e",
         6,
         "Jiang Gao"
        ],
        [
         "53f44149dabfaee02ad09702",
         6,
         "Mehmet Ergezer"
        ],
        [
         "53f4516fdabfaedd74e1a588",
         6,
         "Thomas Bäck"
        ],
        [
         "53f452bcdabfaedd74e1f7d4",
         6,
         "Robert II"
        ],
        [
         "53f44af9dabfaec09f1db49d",
         6,
         "Kevin Howe"
        ],
        [
         "53f45af2dabfaedd74e3f0a5",
         6,
         "Brent Reeves"
        ],
        [
         "53f4673bdabfaee4dc8518b8",
         6,
         "Tyler Bletsch"
        ],
        [
         "53f45702dabfaec09f208c90",
         6,
         "Dror Lapidot"
        ],
        [
         "53f467e0dabfaefedbb8e773",
         6,
         "Yuandong Yang"
        ],
        [
         "53f45a51dabfaee0d9c02e8f",
         6,
         "Stephen Barley"
        ],
        [
         "53f44f70dabfaee1c0b11012",
         6,
         "Jiaqing Du"
        ],
        [
         "53f46d6adabfaedd74e85c69",
         6,
         "N. Karnik"
        ],
        [
         "53f46c52dabfaee43ed0e320",
         6,
         "Haseem Ashraf"
        ],
        [
         "53f47062dabfaee02adbbe42",
         6,
         "Myungsin Chae"
        ],
        [
         "53f4516adabfaee43eca9727",
         6,
         "Jason Davis"
        ],
        [
         "53f4cfd2dabfaeeee2f81127",
         6,
         "F. Luthon"
        ],
        [
         "53f45552dabfaee0d9befd43",
         6,
         "eran gazit"
        ],
        [
         "5405e260dabfae450f3dd717",
         6,
         "Bin Liu"
        ],
        [
         "54095f90dabfae450f47cbaa",
         6,
         "Wentao Huang"
        ],
        [
         "53f37e38dabfae4b349ed544",
         6,
         "Andrei Petcherski"
        ],
        [
         "53f366a7dabfae4b3499c6f8",
         6,
         "Timothy Callahan"
        ],
        [
         "562d02b045cedb3398d2aa23",
         6,
         "john cioffi"
        ],
        [
         "53f36a06dabfae4b349a870a",
         6,
         "J. KöNemann"
        ],
        [
         "53f45677dabfaefedbb50be6",
         6,
         "Daniel Gardner"
        ],
        [
         "53f466d1dabfaedd74e6b6b3",
         6,
         "Regina Estkowski"
        ],
        [
         "53f3a05bdabfae4b34ab6529",
         6,
         "Zhuoqin Jiang"
        ],
        [
         "53f46e2bdabfaedf436642bf",
         6,
         "Stan Park"
        ],
        [
         "53f47268dabfaee4dc87dc51",
         6,
         "Jia-Min Ren"
        ],
        [
         "53f42b30dabfaec09f0f148a",
         6,
         "R. Škrekovski"
        ],
        [
         "53f42cd0dabfaec09f10c59a",
         6,
         "Brynjar Gretarsson"
        ],
        [
         "53f42d65dabfaee1c0a33a67",
         6,
         "D. Zogas"
        ],
        [
         "53f45b00dabfaec09f216737",
         6,
         "Jeffery Hansen"
        ],
        [
         "53f42e87dabfaec09f123518",
         6,
         "Christian Suttner"
        ],
        [
         "53f42fb0dabfaee02ac7ddbf",
         6,
         "Tal Shaked"
        ],
        [
         "53f42b31dabfaedd74d14330",
         6,
         "Alessandro Nava"
        ],
        [
         "53f430f1dabfaee1c0a61840",
         6,
         "C. Eijk"
        ],
        [
         "53f64ed7dabfae0633f16588",
         6,
         "Peng Xu"
        ],
        [
         "53f42df1dabfaec22ba1f16c",
         6,
         "Adam Kramer"
        ],
        [
         "53f45bb5dabfaedd74e418f1",
         6,
         "xunyu pan"
        ],
        [
         "53f320badabfae9a844546c4",
         6,
         "J.M. Sigarreta"
        ],
        [
         "5405bbb1dabfae8faa5f9f95",
         6,
         "N. Mandayam"
        ],
        [
         "53f4322bdabfaedf435531ea",
         6,
         "R. Marik"
        ],
        [
         "542a4b28dabfae61d49655e9",
         6,
         "Zhe Chen"
        ],
        [
         "53f43241dabfaee2a1cbb15a",
         6,
         "Lloyd Clarke"
        ],
        [
         "53f42e81dabfaee1c0a41e79",
         6,
         "M. Antuono"
        ],
        [
         "53f434f8dabfaeb1a7be7396",
         6,
         "William Garvey"
        ],
        [
         "5440a3e0dabfae7d84b975c6",
         6,
         "R. Mukundan"
        ],
        [
         "544812fbdabfae87b7dd29f5",
         6,
         "David Roberts"
        ],
        [
         "53f435f5dabfaee02acc63f1",
         6,
         "Moosung Kim"
        ],
        [
         "53f45f12dabfaee43ecdb092",
         6,
         "Li-Chang Hsu"
        ],
        [
         "53f43641dabfaee43ec2f565",
         6,
         "Khaled Restom"
        ],
        [
         "53f42cc8dabfaee2a1c72beb",
         6,
         "Niklas Jakob"
        ],
        [
         "53f4621edabfaedd74e58461",
         6,
         "Pim Vullers"
        ],
        [
         "53f47d51dabfaee43ed4cc95",
         6,
         "Michael Lush"
        ],
        [
         "53f46229dabfaee2a1d9ddf9",
         6,
         "Andrea Rodriguez"
        ],
        [
         "53f4d328dabfaeedd0780b05",
         6,
         "david ryan"
        ],
        [
         "53f64304dabfaed4d20f3d26",
         6,
         "Yongxing Chen"
        ],
        [
         "5405a4f1dabfae8faa5ed2f8",
         6,
         "Joshua Goodman"
        ],
        [
         "5405d145dabfae450f3d5c2e",
         6,
         "Jie Hu"
        ],
        [
         "560ba86645cedb3397390738",
         6,
         "Daniel Thalmann"
        ],
        [
         "53f46459dabfaefedbb80f20",
         6,
         "Rishi Amrit"
        ],
        [
         "53f46470dabfaeee22a4c4df",
         6,
         "Peisen Huang"
        ],
        [
         "562f22df45cedb339954b4da",
         6,
         "M. Sturm"
        ],
        [
         "53f42e16dabfaeb2acff359f",
         6,
         "Wojciech Boejko"
        ],
        [
         "53f36999dabfae4b349a6e3c",
         6,
         "Jaakko Vihriälä"
        ],
        [
         "53f38558dabfae4b34a0f392",
         6,
         "Isabela Siqueira"
        ],
        [
         "53f42b24dabfaec22b9f38ea",
         6,
         "Jolene Galegher"
        ],
        [
         "53f37e55dabfae4b349edbbe",
         6,
         "Michael Achtelik"
        ],
        [
         "54083fdfdabfae8faa637ace",
         6,
         "K. Ramamurthy"
        ],
        [
         "54480b81dabfae87b7dca7dd",
         6,
         "r blair"
        ],
        [
         "53f43024dabfaeb1a7bae397",
         6,
         "Paul Blaer"
        ],
        [
         "53f42b90dabfaec22b9faeff",
         6,
         "Mark Mendell"
        ],
        [
         "5630f42b45cedb3399c10ae3",
         6,
         "Mukai, Ryo"
        ],
        [
         "56312e2145cedb3399cec6e4",
         6,
         "Jojic, Nebojsa"
        ],
        [
         "53f327d4dabfae9a8447b993",
         6,
         "M. Padberg"
        ],
        [
         "53f31b34dabfae9a844359e6",
         6,
         "J. Novovičová"
        ],
        [
         "53f4539ddabfaec09f1fc2ba",
         6,
         "Stephan Eisenschenk"
        ],
        [
         "53f42e11dabfaee2a1c853ab",
         6,
         "Johan Suykens"
        ],
        [
         "53f3211adabfae9a84456739",
         6,
         "Robert Hierons"
        ],
        [
         "53f320fadabfae9a84455c1f",
         6,
         "Zhenyu Gu"
        ],
        [
         "53f430b3dabfaeb2ac013c80",
         6,
         "dima stopel"
        ],
        [
         "53f43155dabfaee1c0a670b8",
         6,
         "andrzej tarlecki"
        ],
        [
         "53f42edddabfaedd74d49ed5",
         6,
         "O. Egeland"
        ],
        [
         "53f46131dabfaefedbb74cd7",
         6,
         "Egon Börger"
        ],
        [
         "53f42ea2dabfaeb1a7b9b875",
         6,
         "G. Dedene"
        ],
        [
         "53f47004dabfaedd74e8fa1c",
         6,
         "Leo Porter"
        ],
        [
         "53f47950dabfaefedbbb7d2e",
         6,
         "Petra Langendijk-Genevaux"
        ],
        [
         "53f42c59dabfaedce54b5908",
         6,
         "Lasse Nielsen"
        ],
        [
         "53f42e2cdabfaee4dc723df7",
         6,
         "C.N. Potts"
        ],
        [
         "53f4d08edabfaeedd377df2c",
         6,
         "Begoña Gutiérrez-Nieto"
        ],
        [
         "53f42f83dabfaee1c0a4ecad",
         6,
         "Amelie Stein"
        ],
        [
         "53f42f9bdabfaedd74d52cb2",
         6,
         "Kevin Tang"
        ],
        [
         "53f45151dabfaeecd69d8054",
         6,
         "H. Ridder"
        ],
        [
         "53f43039dabfaee0d9b20c0e",
         6,
         "andrzej glowinski"
        ],
        [
         "53f43394dabfaeee2298e4e2",
         6,
         "B. Verma"
        ],
        [
         "53f42fd9dabfaee43ebe4a86",
         6,
         "Roger Longbotham"
        ],
        [
         "53f556d7dabfae963d25e4f5",
         6,
         "Rui Zhang"
        ],
        [
         "54084d40dabfae8faa63e628",
         6,
         "Alok Aggarwal"
        ],
        [
         "53f438b7dabfaec09f193062",
         6,
         "John Pinkston"
        ],
        [
         "53f430e1dabfaee43ebf23da",
         6,
         "Barış Sertkaya"
        ],
        [
         "53f42b9ddabfaedce54a96b4",
         6,
         "Kiran Fernandes"
        ],
        [
         "53f4316cdabfaeb2ac01cea1",
         6,
         "Emmanuel Turquin"
        ],
        [
         "53f432b9dabfaee2a1cc0a57",
         6,
         "I. Stanoi"
        ],
        [
         "53f4319bdabfaec09f149e4d",
         6,
         "Laxman Sahasrabuddhe"
        ],
        [
         "53f43267dabfaeb2ac02a0ea",
         6,
         "Ujjwal Das"
        ],
        [
         "53f4373bdabfaeb22f478e83",
         6,
         "Katrin Amunts"
        ],
        [
         "53f43989dabfaeee229c874e",
         6,
         "Bret Hull"
        ],
        [
         "53f43903dabfaee0d9b7df04",
         6,
         "T. Pietrzykowski"
        ],
        [
         "53f43cd2dabfaedce55647eb",
         6,
         "Georgescu, B."
        ],
        [
         "53f44111dabfaedf435bcb7a",
         6,
         "Timothy Behrens"
        ],
        [
         "53f4469adabfaec09f1c9f3f",
         6,
         "A. Crespi"
        ],
        [
         "53f44ad2dabfaec09f1daaf7",
         6,
         "F. Vecchi"
        ],
        [
         "53f43a39dabfaedd74dc44f2",
         6,
         "Yangchi Chen"
        ],
        [
         "53f44ea0dabfaeecd69cd505",
         6,
         "Benjamin Culpepper"
        ],
        [
         "53f45ae6dabfaee0d9c04e7e",
         6,
         "Carlos Jara"
        ],
        [
         "53f44bf6dabfaeb22f4d6d86",
         6,
         "Antony Quinn"
        ],
        [
         "53f45706dabfaefedbb52c0f",
         6,
         "Jim Jones"
        ],
        [
         "53f45e72dabfaee43ecd8dc1",
         6,
         "Goran Doychev"
        ],
        [
         "53f45f17dabfaee0d9c12f54",
         6,
         "V. Kumar"
        ],
        [
         "53f45f90dabfaec09f225b94",
         6,
         "Songping Wu"
        ],
        [
         "53f46ae9dabfaedf4365799f",
         6,
         "Nuzhet Atay"
        ],
        [
         "53f4625adabfaeee22a44b81",
         6,
         "D. Tsang"
        ],
        [
         "53f472f1dabfaeee22a821f2",
         6,
         "Marina Fridin"
        ],
        [
         "53f47d4fdabfaec09f295ddc",
         6,
         "L. Carrier"
        ],
        [
         "53f4ce75dabfaeedd777bcc3",
         6,
         "Nina Valkanova"
        ],
        [
         "53f7a74ddabfae90ec110df8",
         6,
         "Andrew Dillon"
        ],
        [
         "540596fbdabfae8faa5e647b",
         6,
         "Daniel Schober"
        ],
        [
         "53f37c05dabfae4b349e5ab8",
         6,
         "Andreas Ostermeier"
        ],
        [
         "540fdd04dabfae450f4aed1d",
         6,
         "barry lawson"
        ],
        [
         "53f457cedabfaee1c0b32fa7",
         6,
         "Guo-Shi Li"
        ],
        [
         "53f43258dabfaeb2ac02940b",
         6,
         "Christian Heath"
        ],
        [
         "53f31be5dabfae9a844397ed",
         6,
         "Taylor Randall"
        ],
        [
         "53f39a0cdabfae4b34a8cb69",
         6,
         "Craig Chase"
        ],
        [
         "53f46906dabfaee43ed011a9",
         6,
         "Dorine Andrews"
        ],
        [
         "53f39bf9dabfae4b34a998a1",
         6,
         "Josef Lankes"
        ],
        [
         "53f46fa3dabfaedd74e8e40f",
         6,
         "Lawton Verner"
        ],
        [
         "53f4272adabfaec09f0d7553",
         6,
         "Lvdi Wang"
        ],
        [
         "53f474a9dabfaee02adcd0f9",
         6,
         "George Copeland"
        ],
        [
         "53f473dadabfaee02adc9f36",
         6,
         "Yang Ni"
        ],
        [
         "53f45a93dabfaeb22f510d94",
         6,
         "Vigdis Kampenes"
        ],
        [
         "53f4767bdabfaec09f27f1b5",
         6,
         "Hazim Almuhimedi"
        ],
        [
         "53f3aaffdabfae4b34af7117",
         6,
         "Monique Jansen-Vullers"
        ],
        [
         "53f477cbdabfaedf43689fac",
         6,
         "Kleanthis-Nikolaos Kontonasios"
        ],
        [
         "53f479e7dabfae8a6845c97e",
         6,
         "Jason Bau"
        ],
        [
         "53f47ef0dabfae9126cc53f0",
         6,
         "Igor Antoshechkin"
        ],
        [
         "53f4299adabfaeb22f3d56e3",
         6,
         "Mayank Saksena"
        ],
        [
         "53f4a2e8dabfaee0d9c75d0b",
         6,
         "Chun Zhang"
        ],
        [
         "53f4d0e1dabfaef010f80933",
         6,
         "Li Jiang"
        ],
        [
         "53f4d350dabfaeedd878117f",
         6,
         "Vincent Montreuil"
        ],
        [
         "53f42cd3dabfaee2a1c7359b",
         6,
         "Harry Kornilakis"
        ],
        [
         "542a67eedabfae61d4977ff2",
         6,
         "Haibing Li"
        ],
        [
         "53f43236dabfaec09f1518c5",
         6,
         "Charles Jacobs"
        ],
        [
         "53f45f95dabfaee0d9c14b09",
         6,
         "L. Harnefors"
        ],
        [
         "53f37ec1dabfae4b349ef4e0",
         6,
         "Nariman Mirzaei"
        ],
        [
         "562f4fce45cedb3399604745",
         6,
         "Hordley, S.D."
        ],
        [
         "53f42e83dabfaeb2acff8bc5",
         6,
         "Howard David"
        ],
        [
         "5631b01845cedb3399edf32e",
         6,
         "Ioan Sucan"
        ],
        [
         "53f42f9fdabfaec09f130cc1",
         6,
         "Siyad Ma"
        ],
        [
         "53f42f48dabfaee02ac78e74",
         6,
         "Julia Pettine"
        ],
        [
         "53f4305bdabfaee2a1ca24b0",
         6,
         "L. Amodeo"
        ],
        [
         "53f4d4f2dabfaef34bf80f31",
         6,
         "Ching-Hsien Chang"
        ],
        [
         "53f46444dabfaec09f23725b",
         6,
         "Wilburt Labio"
        ]
       ],
       "datasetInfos": [],
       "dbfsResultPath": null,
       "isJsonSchema": true,
       "metadata": {},
       "overflow": true,
       "plotOptions": {
        "customPlotOptions": {},
        "displayType": "table",
        "pivotAggregation": null,
        "pivotColumns": null,
        "xColumns": null,
        "yColumns": null
       },
       "removedWidgets": [],
       "schema": [
        {
         "metadata": "{}",
         "name": "Author_ID",
         "type": "\"string\""
        },
        {
         "metadata": "{}",
         "name": "HIndex",
         "type": "\"long\""
        },
        {
         "metadata": "{}",
         "name": "Name",
         "type": "\"string\""
        }
       ],
       "type": "table"
      }
     },
     "output_type": "display_data"
    }
   ],
   "source": [
    "h_index_frame = joined.join(countFrame, joined.Author_ID == joined.Author_ID).drop(joined.Author_ID)\n",
    "h_index_frame = h_index_frame.groupBy(\"Author_ID\").agg(\n",
    "        F.min(F.when(h_index_frame.NumberOfCitations >= h_index_frame.PaperCount, h_index_frame.PaperCount).otherwise(0)).alias('HIndex')\n",
    ")\n",
    "h_index_frame = authors.join(h_index_frame, h_index_frame.Author_ID == authors._id).withColumn(\"Name\", F.concat(\"FirstName\", F.lit(\" \"), \"LastName\")).drop(\"_id\", \"email\", \"FirstName\", \"MiddleName\", \"LastName\")\n",
    "display(h_index_frame.orderBy(F.col(\"HIndex\").desc()))"
   ]
  },
  {
   "cell_type": "code",
   "execution_count": 0,
   "metadata": {
    "application/vnd.databricks.v1+cell": {
     "inputWidgets": {},
     "nuid": "e7ed129f-2cb7-438d-b292-89ccce4c1537",
     "showTitle": false,
     "title": ""
    }
   },
   "outputs": [
    {
     "data": {
      "text/html": [
       "<style scoped>\n",
       "  .table-result-container {\n",
       "    max-height: 300px;\n",
       "    overflow: auto;\n",
       "  }\n",
       "  table, th, td {\n",
       "    border: 1px solid black;\n",
       "    border-collapse: collapse;\n",
       "  }\n",
       "  th, td {\n",
       "    padding: 5px;\n",
       "  }\n",
       "  th {\n",
       "    text-align: left;\n",
       "  }\n",
       "</style><div class='table-result-container'><table class='table-result'><thead style='background-color: white'><tr><th>publication_ID</th><th>Author_ID</th><th>NumberOfCitations</th></tr></thead><tbody><tr><td>53e9a84eb7602d9703196d26</td><td>53f4cadadabfaee57c780346</td><td>22</td></tr><tr><td>53e9aca1b7602d970367f5cd</td><td>53f4cadadabfaee57c780346</td><td>17</td></tr><tr><td>53e9b016b7602d9703a6d933</td><td>53f4cadadabfaee57c780346</td><td>46</td></tr><tr><td>53e9b91eb7602d9704502769</td><td>53f4cadadabfaee57c780346</td><td>222</td></tr><tr><td>53e99e71b7602d970273518b</td><td>53f4cadadabfaee57c780346</td><td>297</td></tr><tr><td>53e9bba1b7602d97047ea322</td><td>53f4cadadabfaee57c780346</td><td>13</td></tr><tr><td>53e9a5a8b7602d9702ed419e</td><td>53f4cadadabfaee57c780346</td><td>93</td></tr><tr><td>53e9a67bb7602d9702fac039</td><td>53f4cadadabfaee57c780346</td><td>46</td></tr><tr><td>53e99f94b7602d97028665cf</td><td>53f4cadadabfaee57c780346</td><td>39</td></tr><tr><td>53e9a3c1b7602d9702cd1e6b</td><td>53f4cadadabfaee57c780346</td><td>56</td></tr><tr><td>53e9b839b7602d97043f7ad7</td><td>53f4cadadabfaee57c780346</td><td>94</td></tr><tr><td>5736973c6e3b12023e62ba2a</td><td>53f4cadadabfaee57c780346</td><td>26</td></tr><tr><td>53e99eb5b7602d970278079f</td><td>53f4cadadabfaee57c780346</td><td>16</td></tr></tbody></table></div>"
      ]
     },
     "metadata": {
      "application/vnd.databricks.v1+output": {
       "addedWidgets": {},
       "aggData": [],
       "aggError": "",
       "aggOverflow": false,
       "aggSchema": [],
       "aggSeriesLimitReached": false,
       "aggType": "",
       "arguments": {},
       "columnCustomDisplayInfos": {},
       "data": [
        [
         "53e9a84eb7602d9703196d26",
         "53f4cadadabfaee57c780346",
         22
        ],
        [
         "53e9aca1b7602d970367f5cd",
         "53f4cadadabfaee57c780346",
         17
        ],
        [
         "53e9b016b7602d9703a6d933",
         "53f4cadadabfaee57c780346",
         46
        ],
        [
         "53e9b91eb7602d9704502769",
         "53f4cadadabfaee57c780346",
         222
        ],
        [
         "53e99e71b7602d970273518b",
         "53f4cadadabfaee57c780346",
         297
        ],
        [
         "53e9bba1b7602d97047ea322",
         "53f4cadadabfaee57c780346",
         13
        ],
        [
         "53e9a5a8b7602d9702ed419e",
         "53f4cadadabfaee57c780346",
         93
        ],
        [
         "53e9a67bb7602d9702fac039",
         "53f4cadadabfaee57c780346",
         46
        ],
        [
         "53e99f94b7602d97028665cf",
         "53f4cadadabfaee57c780346",
         39
        ],
        [
         "53e9a3c1b7602d9702cd1e6b",
         "53f4cadadabfaee57c780346",
         56
        ],
        [
         "53e9b839b7602d97043f7ad7",
         "53f4cadadabfaee57c780346",
         94
        ],
        [
         "5736973c6e3b12023e62ba2a",
         "53f4cadadabfaee57c780346",
         26
        ],
        [
         "53e99eb5b7602d970278079f",
         "53f4cadadabfaee57c780346",
         16
        ]
       ],
       "datasetInfos": [],
       "dbfsResultPath": null,
       "isJsonSchema": true,
       "metadata": {},
       "overflow": false,
       "plotOptions": {
        "customPlotOptions": {},
        "displayType": "table",
        "pivotAggregation": null,
        "pivotColumns": null,
        "xColumns": null,
        "yColumns": null
       },
       "removedWidgets": [],
       "schema": [
        {
         "metadata": "{}",
         "name": "publication_ID",
         "type": "\"string\""
        },
        {
         "metadata": "{}",
         "name": "Author_ID",
         "type": "\"string\""
        },
        {
         "metadata": "{}",
         "name": "NumberOfCitations",
         "type": "\"integer\""
        }
       ],
       "type": "table"
      }
     },
     "output_type": "display_data"
    }
   ],
   "source": [
    "# Checking output correctness for Author 'Diane Tang' with ID: 53f4cadadabfaee57c780346\n",
    "display(joined.filter(F.col('Author_ID') == '53f4cadadabfaee57c780346').select(\"publication_ID\", \"Author_ID\", \"NumberOfCitations\"))"
   ]
  },
  {
   "cell_type": "code",
   "execution_count": 0,
   "metadata": {
    "application/vnd.databricks.v1+cell": {
     "inputWidgets": {},
     "nuid": "42d178ad-1300-48d0-a678-43d983e96119",
     "showTitle": false,
     "title": ""
    }
   },
   "outputs": [],
   "source": []
  }
 ],
 "metadata": {
  "accelerator": "TPU",
  "application/vnd.databricks.v1+notebook": {
   "dashboards": [],
   "language": "python",
   "notebookMetadata": {
    "pythonIndentUnit": 4
   },
   "notebookName": "Project 1",
   "notebookOrigID": 2835494419911001,
   "widgets": {}
  },
  "colab": {
   "collapsed_sections": [],
   "name": "Proj 1.ipynb",
   "provenance": []
  },
  "kernelspec": {
   "display_name": "Python 3 (ipykernel)",
   "language": "python",
   "name": "python3"
  },
  "language_info": {
   "codemirror_mode": {
    "name": "ipython",
    "version": 3
   },
   "file_extension": ".py",
   "mimetype": "text/x-python",
   "name": "python",
   "nbconvert_exporter": "python",
   "pygments_lexer": "ipython3",
   "version": "3.8.10"
  }
 },
 "nbformat": 4,
 "nbformat_minor": 1
}
